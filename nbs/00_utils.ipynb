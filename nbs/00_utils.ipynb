{
 "cells": [
  {
   "cell_type": "code",
   "execution_count": 1,
   "metadata": {
    "ExecuteTime": {
     "end_time": "2022-02-03T10:41:16.197468Z",
     "start_time": "2022-02-03T10:41:16.195687Z"
    }
   },
   "outputs": [],
   "source": [
    "#default_exp utils"
   ]
  },
  {
   "cell_type": "markdown",
   "metadata": {},
   "source": [
    "# utils\n",
    "\n",
    "> Common, useful functions to use in several places."
   ]
  },
  {
   "cell_type": "code",
   "execution_count": null,
   "metadata": {},
   "outputs": [],
   "source": [
    "#hide\n",
    "from nbdev.showdoc import *"
   ]
  },
  {
   "cell_type": "code",
   "execution_count": null,
   "metadata": {},
   "outputs": [],
   "source": [
    "#export\n",
    "\n",
    "from drone_detector.imports import *"
   ]
  },
  {
   "cell_type": "markdown",
   "metadata": {},
   "source": [
    "## Utilities"
   ]
  },
  {
   "cell_type": "code",
   "execution_count": null,
   "metadata": {},
   "outputs": [],
   "source": [
    "#export\n",
    "\n",
    "def rangeof(iterable):\n",
    "    \"Equivalent for range(len(iterable))\"\n",
    "    return range(len(iterable))"
   ]
  },
  {
   "cell_type": "code",
   "execution_count": null,
   "metadata": {},
   "outputs": [],
   "source": [
    "#export\n",
    "\n",
    "import shapely\n",
    "def fix_multipolys(multipoly:shapely.geometry.MultiPolygon):\n",
    "    \"\"\"Convert MultiPolygon to a single Polygon. \n",
    "    The resulting Polygon has the exterior boundaries of the largest geometry of the MultiPolygon\"\"\"\n",
    "    temp_poly = None\n",
    "    max_area = 0\n",
    "    for geom in multipoly.geoms:\n",
    "        area = geom.area\n",
    "        if area > max_area:\n",
    "            max_area = area\n",
    "            temp_poly = geom\n",
    "    return shapely.geometry.Polygon(temp_poly.exterior)"
   ]
  },
  {
   "cell_type": "markdown",
   "metadata": {},
   "source": [
    "## Math formulae (for fallen deadwood volume estimation)"
   ]
  },
  {
   "cell_type": "code",
   "execution_count": null,
   "metadata": {},
   "outputs": [],
   "source": [
    "# export\n",
    "\n",
    "def cone_v(r:float, h:float) -> float:\n",
    "    \"V = (Ah)/3\"\n",
    "    A = np.pi * r**2\n",
    "    V = (A * h) / 3\n",
    "    return V\n",
    "\n",
    "def cut_cone_v(r_1:float, r_2:float, h:float):\n",
    "    \"V = (h(A + sqrt(A*A') + A))/3\"\n",
    "    A_1 = np.pi * r_1**2\n",
    "    A_2 = np.pi * r_2**2\n",
    "    V = (h*(A_1 + np.sqrt(A_1 * A_2) + A_2))/3\n",
    "    return V\n"
   ]
  },
  {
   "cell_type": "code",
   "execution_count": 1,
   "metadata": {
    "ExecuteTime": {
     "end_time": "2022-02-14T07:50:39.896532Z",
     "start_time": "2022-02-14T07:50:36.303560Z"
    }
   },
   "outputs": [
    {
     "name": "stdout",
     "output_type": "stream",
     "text": [
      "Converted 00_utils.ipynb.\n",
      "Converted 01_metrics.ipynb.\n",
      "Converted 10_processing.tiling.ipynb.\n",
      "Converted 11_processing.coordinates.ipynb.\n",
      "Converted 12_processing.coco.ipynb.\n",
      "Converted 13_processing.postprocessing.ipynb.\n",
      "Converted 20_engines.icevision.models.ipynb.\n",
      "Converted 21_engines.icevision.predict.ipynb.\n",
      "Converted 30_engines.fastai.data.ipynb.\n",
      "Converted 31_engines.fastai.losses.ipynb.\n",
      "Converted 32_engines.fastai.augmentations.ipynb.\n",
      "Converted 33_engines.fastai.predict.ipynb.\n",
      "Converted 40_engines.detectron2.predict.ipynb.\n",
      "Converted 41_engines.detectron2.training.ipynb.\n",
      "Converted 42_engines.detectron2.augmentations.ipynb.\n",
      "Converted 43_engines.detectron2.tta.ipynb.\n",
      "Converted examples.fastai.segmentation.ipynb.\n",
      "Converted examples.tiling.ipynb.\n",
      "Converted index.ipynb.\n",
      "Converted overview.engines.ipynb.\n",
      "No notebooks were modified\n",
      "converting /scratch/deadwood/drone_detector/nbs/index.ipynb to README.md\n"
     ]
    }
   ],
   "source": [
    "# hide\n",
    "\n",
    "from nbdev.export import notebook2script\n",
    "notebook2script()\n",
    "!nbdev_build_docs"
   ]
  },
  {
   "cell_type": "code",
   "execution_count": null,
   "metadata": {},
   "outputs": [],
   "source": []
  }
 ],
 "metadata": {
  "kernelspec": {
   "display_name": "Python 3",
   "language": "python",
   "name": "python3"
  },
  "language_info": {
   "codemirror_mode": {
    "name": "ipython",
    "version": 3
   },
   "file_extension": ".py",
   "mimetype": "text/x-python",
   "name": "python",
   "nbconvert_exporter": "python",
   "pygments_lexer": "ipython3",
   "version": "3.9.10"
  },
  "latex_envs": {
   "LaTeX_envs_menu_present": true,
   "autoclose": false,
   "autocomplete": true,
   "bibliofile": "biblio.bib",
   "cite_by": "apalike",
   "current_citInitial": 1,
   "eqLabelWithNumbers": true,
   "eqNumInitial": 1,
   "hotkeys": {
    "equation": "Ctrl-E",
    "itemize": "Ctrl-I"
   },
   "labels_anchors": false,
   "latex_user_defs": false,
   "report_style_numbering": false,
   "user_envs_cfg": false
  },
  "toc": {
   "base_numbering": 1,
   "nav_menu": {},
   "number_sections": true,
   "sideBar": true,
   "skip_h1_title": false,
   "title_cell": "Table of Contents",
   "title_sidebar": "Contents",
   "toc_cell": false,
   "toc_position": {},
   "toc_section_display": true,
   "toc_window_display": false
  }
 },
 "nbformat": 4,
 "nbformat_minor": 2
}

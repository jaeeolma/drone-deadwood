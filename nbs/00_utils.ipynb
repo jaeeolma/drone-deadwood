{
 "cells": [
  {
   "cell_type": "code",
   "execution_count": null,
   "metadata": {},
   "outputs": [],
   "source": [
    "#default_exp utils"
   ]
  },
  {
   "cell_type": "markdown",
   "metadata": {},
   "source": [
    "# utils\n",
    "\n",
    "> Common, useful functions to use in several places."
   ]
  },
  {
   "cell_type": "code",
   "execution_count": null,
   "metadata": {},
   "outputs": [],
   "source": [
    "#hide\n",
    "from nbdev.showdoc import *"
   ]
  },
  {
   "cell_type": "code",
   "execution_count": null,
   "metadata": {},
   "outputs": [],
   "source": [
    "#export\n",
    "\n",
    "from drone_detector.imports import *\n"
   ]
  },
  {
   "cell_type": "markdown",
   "metadata": {},
   "source": [
    "## Utilities"
   ]
  },
  {
   "cell_type": "code",
   "execution_count": null,
   "metadata": {},
   "outputs": [],
   "source": [
    "#export\n",
    "\n",
    "def rangeof(iterable):\n",
    "    \"Equivalent for range(len(iterable))\"\n",
    "    return range(len(iterable))"
   ]
  },
  {
   "cell_type": "markdown",
   "metadata": {},
   "source": [
    "## Non-max suppression for shapefile bounding boxes"
   ]
  },
  {
   "cell_type": "code",
   "execution_count": null,
   "metadata": {},
   "outputs": [],
   "source": [
    "# export\n",
    " \n",
    "# Malisiewicz et al.\n",
    "def non_max_suppression_fast(boxes, scores, overlap_thresh:float, sort_criterion:str='score'):\n",
    "    \"Right now sorts by scores, another possibility is to sort by area\"\n",
    "    \n",
    "    # if there are no boxes, return an empty list\n",
    "    if len(boxes) == 0:\n",
    "        return []\n",
    " \n",
    "    # if the bounding boxes integers, convert them to floats --\n",
    "    # this is important since we'll be doing a bunch of divisions\n",
    "    if boxes.dtype.kind == \"i\":\n",
    "        boxes = boxes.astype(\"float\")\n",
    " \n",
    "    # sort prediction by scores, \n",
    "\n",
    "    # initialize the list of picked indexes    \n",
    "    pick = []\n",
    " \n",
    "    # grab the coordinates of the bounding boxes\n",
    "    x1 = boxes[:,0]\n",
    "    y1 = boxes[:,1]\n",
    "    x2 = boxes[:,2]\n",
    "    y2 = boxes[:,3]\n",
    " \n",
    "    # compute the area of the bounding boxes and sort the bounding\n",
    "    # boxes by the bottom-right y-coordinate of the bounding box\n",
    "    area = (x2 - x1 + 1) * (y2 - y1 + 1)\n",
    "    if sort_criterion == 'score':\n",
    "        idxs = np.argsort(scores)\n",
    "    elif sort_criterion == 'area':\n",
    "        idxs = np.argsort(area)\n",
    "    else:\n",
    "        print('Unknown sort criteria, reverting to \"score\"')\n",
    "        idxs = np.argsort(scores)\n",
    "\n",
    "    # keep looping while some indexes still remain in the indexes\n",
    "    # list\n",
    "    while len(idxs) > 0:\n",
    "        # grab the last index in the indexes list and add the\n",
    "        # index value to the list of picked indexes\n",
    "        last = len(idxs) - 1\n",
    "        i = idxs[last]\n",
    "        pick.append(i)\n",
    " \n",
    "        # find the largest (x, y) coordinates for the start of\n",
    "        # the bounding box and the smallest (x, y) coordinates\n",
    "        # for the end of the bounding box\n",
    "        xx1 = np.maximum(x1[i], x1[idxs[:last]])\n",
    "        yy1 = np.maximum(y1[i], y1[idxs[:last]])\n",
    "        xx2 = np.minimum(x2[i], x2[idxs[:last]])\n",
    "        yy2 = np.minimum(y2[i], y2[idxs[:last]])\n",
    " \n",
    "        # compute the width and height of the bounding box\n",
    "        w = np.maximum(0, xx2 - xx1 + 1)\n",
    "        h = np.maximum(0, yy2 - yy1 + 1)\n",
    " \n",
    "        # compute the ratio of overlap\n",
    "        overlap = (w * h) / area[idxs[:last]]\n",
    " \n",
    "        # delete all indexes from the index list that have\n",
    "        idxs = np.delete(idxs, np.concatenate(([last],\n",
    "                         np.where(overlap > overlap_thresh)[0])))\n",
    " \n",
    "    # return indices for selected bounding boxes\n",
    "    return pick\n",
    "    #return boxes[pick].astype(\"int\")"
   ]
  },
  {
   "cell_type": "markdown",
   "metadata": {},
   "source": [
    "## Math formulae (for fallen deadwood volume estimation)"
   ]
  },
  {
   "cell_type": "code",
   "execution_count": null,
   "metadata": {},
   "outputs": [],
   "source": [
    "# export\n",
    "\n",
    "def cone_v(r:float, h:float) -> float:\n",
    "    \"V = (Ah)/3\"\n",
    "    A = np.pi * r**2\n",
    "    V = (A * h) / 3\n",
    "    return V\n",
    "\n",
    "def cut_cone_v(r_1:float, r_2:float, h:float):\n",
    "    \"V = (h(A + sqrt(A*A') + A))/3\"\n",
    "    A_1 = np.pi * r_1**2\n",
    "    A_2 = np.pi * r_2**2\n",
    "    V = (h*(A_1 + np.sqrt(A_1 * A_2) + A_2))/3\n",
    "    return V\n"
   ]
  },
  {
   "cell_type": "code",
   "execution_count": null,
   "metadata": {},
   "outputs": [
    {
     "name": "stdout",
     "output_type": "stream",
     "text": [
      "Converted 00_utils.ipynb.\n",
      "Converted 01_tiling.ipynb.\n",
      "Converted 02_coordinates.ipynb.\n",
      "Converted 03_coco.ipynb.\n",
      "Converted 04_postprocessing.ipynb.\n",
      "Converted 05_visualizations.ipynb.\n",
      "Converted 08_predict.ipynb.\n",
      "Converted 09_augmentations.ipynb.\n",
      "Converted 10_metrics.ipynb.\n",
      "Converted 11_data.ipynb.\n",
      "Converted 12_losses.ipynb.\n",
      "Converted index.ipynb.\n"
     ]
    }
   ],
   "source": [
    "# hide\n",
    "\n",
    "from nbdev.export import notebook2script\n",
    "notebook2script()\n",
    "#!nbdev_build_docs"
   ]
  }
 ],
 "metadata": {
  "kernelspec": {
   "display_name": "Python 3",
   "language": "python",
   "name": "python3"
  }
 },
 "nbformat": 4,
 "nbformat_minor": 2
}

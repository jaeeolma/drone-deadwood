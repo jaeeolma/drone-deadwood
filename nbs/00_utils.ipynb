{
 "cells": [
  {
   "cell_type": "code",
   "execution_count": null,
   "metadata": {},
   "outputs": [],
   "source": [
    "#| default_exp utils"
   ]
  },
  {
   "cell_type": "markdown",
   "metadata": {},
   "source": [
    "# utils\n",
    "\n",
    "> Common, useful functions to use in several places."
   ]
  },
  {
   "cell_type": "code",
   "execution_count": null,
   "metadata": {},
   "outputs": [],
   "source": [
    "#| hide\n",
    "from nbdev.showdoc import *"
   ]
  },
  {
   "cell_type": "code",
   "execution_count": null,
   "metadata": {},
   "outputs": [],
   "source": [
    "#| export\n",
    "from drone_detector.imports import *"
   ]
  },
  {
   "cell_type": "markdown",
   "metadata": {},
   "source": [
    "## Utilities"
   ]
  },
  {
   "cell_type": "code",
   "execution_count": null,
   "metadata": {},
   "outputs": [],
   "source": [
    "#| export\n",
    "\n",
    "def rangeof(iterable):\n",
    "    \"Equivalent for range(len(iterable))\"\n",
    "    return range(len(iterable))"
   ]
  },
  {
   "cell_type": "code",
   "execution_count": null,
   "metadata": {},
   "outputs": [],
   "source": [
    "#| export\n",
    "\n",
    "def fix_multipolys(multipoly:shapely.geometry.MultiPolygon):\n",
    "    \"\"\"Convert MultiPolygon to a single Polygon. \n",
    "    The resulting Polygon has the exterior boundaries of the largest geometry of the MultiPolygon\"\"\"\n",
    "    temp_poly = None\n",
    "    max_area = 0\n",
    "    for geom in multipoly.geoms:\n",
    "        area = geom.area\n",
    "        if area > max_area:\n",
    "            max_area = area\n",
    "            temp_poly = geom\n",
    "    return shapely.geometry.Polygon(temp_poly.exterior)"
   ]
  },
  {
   "cell_type": "markdown",
   "metadata": {},
   "source": [
    "## Math formulae (for fallen deadwood volume estimation)"
   ]
  },
  {
   "cell_type": "code",
   "execution_count": null,
   "metadata": {},
   "outputs": [],
   "source": [
    "#| export\n",
    "\n",
    "def cone_v(r:float, h:float) -> float:\n",
    "    \"V = (Ah)/3\"\n",
    "    A = np.pi * r**2\n",
    "    V = (A * h) / 3\n",
    "    return V\n",
    "\n",
    "def cut_cone_v(r_1:float, r_2:float, h:float):\n",
    "    \"V = (h(A + sqrt(A*A') + A))/3\"\n",
    "    A_1 = np.pi * r_1**2\n",
    "    A_2 = np.pi * r_2**2\n",
    "    V = (h*(A_1 + np.sqrt(A_1 * A_2) + A_2))/3\n",
    "    return V\n"
   ]
  },
  {
   "cell_type": "code",
   "execution_count": null,
   "metadata": {},
   "outputs": [
    {
     "name": "stdout",
     "output_type": "stream",
     "text": [
      "Converted 00_utils.ipynb.\n",
      "Converted 01_metrics.ipynb.\n",
      "Converted 10_processing.tiling.ipynb.\n",
      "Converted 11_processing.coordinates.ipynb.\n",
      "Converted 12_processing.coco.ipynb.\n",
      "Converted 13_processing.postprocessing.ipynb.\n",
      "Converted 30_engines.fastai.data.ipynb.\n",
      "Converted 31_engines.fastai.losses.ipynb.\n",
      "Converted 32_engines.fastai.augmentations.ipynb.\n",
      "Converted 33_engines.fastai.predict.ipynb.\n",
      "Converted 40_engines.detectron2.predict.ipynb.\n",
      "Converted 41_engines.detectron2.training.ipynb.\n",
      "Converted 42_engines.detectron2.augmentations.ipynb.\n",
      "Converted 43_engines.detectron2.tta.ipynb.\n",
      "Converted examples.fastai.segmentation.ipynb.\n",
      "Converted examples.tiling.ipynb.\n",
      "Converted index.ipynb.\n",
      "Converted overview.engines.ipynb.\n",
      "converting: /scratch/deadwood/drone_detector/nbs/10_processing.tiling.ipynb\n",
      "converting: /scratch/deadwood/drone_detector/nbs/12_processing.coco.ipynb\n",
      "converting /scratch/deadwood/drone_detector/nbs/index.ipynb to README.md\n"
     ]
    }
   ],
   "source": [
    "#| hide\n",
    "\n",
    "from nbdev import nbdev_export\n",
    "nbdev_export()"
   ]
  }
 ],
 "metadata": {
  "kernelspec": {
   "display_name": "Python 3",
   "language": "python",
   "name": "python3"
  }
 },
 "nbformat": 4,
 "nbformat_minor": 2
}

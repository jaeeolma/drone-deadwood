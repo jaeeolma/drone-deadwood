{
 "cells": [
  {
   "cell_type": "code",
   "execution_count": null,
   "metadata": {},
   "outputs": [],
   "source": [
    "#| default_exp utils"
   ]
  },
  {
   "cell_type": "markdown",
   "metadata": {},
   "source": [
    "# utils\n",
    "\n",
    "> Common, useful functions to use in several places."
   ]
  },
  {
   "cell_type": "code",
   "execution_count": null,
   "metadata": {},
   "outputs": [],
   "source": [
    "#| hide\n",
    "from nbdev.showdoc import *"
   ]
  },
  {
   "cell_type": "code",
   "execution_count": null,
   "metadata": {},
   "outputs": [],
   "source": [
    "#| export\n",
    "from drone_detector.imports import *"
   ]
  },
  {
   "cell_type": "markdown",
   "metadata": {},
   "source": [
    "## Utilities"
   ]
  },
  {
   "cell_type": "code",
   "execution_count": null,
   "metadata": {},
   "outputs": [],
   "source": [
    "#| export\n",
    "\n",
    "def rangeof(iterable):\n",
    "    \"Equivalent for range(len(iterable))\"\n",
    "    return range(len(iterable))"
   ]
  },
  {
   "cell_type": "code",
   "execution_count": null,
   "metadata": {},
   "outputs": [],
   "source": [
    "#| export\n",
    "\n",
    "def fix_multipolys(multipoly:shapely.geometry.MultiPolygon):\n",
    "    \"\"\"Convert MultiPolygon to a single Polygon. \n",
    "    The resulting Polygon has the exterior boundaries of the largest geometry of the MultiPolygon\"\"\"\n",
    "    temp_poly = None\n",
    "    max_area = 0\n",
    "    for geom in multipoly.geoms:\n",
    "        area = geom.area\n",
    "        if area > max_area:\n",
    "            max_area = area\n",
    "            temp_poly = geom\n",
    "    return shapely.geometry.Polygon(temp_poly.exterior)"
   ]
  },
  {
   "cell_type": "markdown",
   "metadata": {},
   "source": [
    "## Math formulae (for fallen deadwood volume estimation)"
   ]
  },
  {
   "cell_type": "code",
   "execution_count": null,
   "metadata": {},
   "outputs": [],
   "source": [
    "#| export\n",
    "\n",
    "def cone_v(r:float, h:float) -> float:\n",
    "    \"V = (Ah)/3\"\n",
    "    A = np.pi * r**2\n",
    "    V = (A * h) / 3\n",
    "    return V\n",
    "\n",
    "def cut_cone_v(r_1:float, r_2:float, h:float):\n",
    "    \"V = (h(A + sqrt(A*A') + A))/3\"\n",
    "    A_1 = np.pi * r_1**2\n",
    "    A_2 = np.pi * r_2**2\n",
    "    V = (h*(A_1 + np.sqrt(A_1 * A_2) + A_2))/3\n",
    "    return V\n"
   ]
  },
  {
   "cell_type": "code",
   "execution_count": null,
   "metadata": {},
   "outputs": [],
   "source": [
    "#| hide\n",
    "\n",
    "from nbdev import nbdev_export\n",
    "nbdev_export()"
   ]
  }
 ],
 "metadata": {
  "kernelspec": {
   "display_name": "conda-env-ml-env-py",
   "language": "python",
   "name": "conda-env-ml-env-py"
  }
 },
 "nbformat": 4,
 "nbformat_minor": 4
}

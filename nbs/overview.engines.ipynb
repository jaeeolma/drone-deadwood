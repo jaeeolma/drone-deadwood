{
 "cells": [
  {
   "cell_type": "markdown",
   "id": "85d38be9",
   "metadata": {},
   "source": [
    "# Deep learning engines and helpers"
   ]
  },
  {
   "cell_type": "markdown",
   "id": "b68fcc7e",
   "metadata": {},
   "source": [
    "This project contains helpers, scripts and classes for three different engines: [fastai](https://docs.fast.ai/), [icevision](https://airctic.com/0.11.0/) and [detectron2](https://detectron2.readthedocs.io/en/latest/). fastai is a good choice for semantic segmentation, classification and regression tasks, whereas icevision and detectron2 are good options for object detection and instance segmentation."
   ]
  },
  {
   "cell_type": "markdown",
   "id": "c81eb951",
   "metadata": {},
   "source": [
    "## fastai"
   ]
  },
  {
   "cell_type": "markdown",
   "id": "2f988d61",
   "metadata": {},
   "source": [
    "* `drone_detector.engines.fastai.data` contains helpers for working with:\n",
    "  * geotiff files\n",
    "  * multichannel images \n",
    "  * semantic segmentation where the target mask is contiunuous\n",
    "  * Time series of (multichannel) images\n",
    "* `drone_detector.engines.fastai.losses` contains some custom losses to use for semantic segmentation\n",
    "* `drone_detector.engines.fastai.augmentations` contains helpers for using [Albumentations](https://albumentations.ai) with fastai models\n",
    "* CLI utilities for inference"
   ]
  },
  {
   "cell_type": "markdown",
   "id": "98d66ebc",
   "metadata": {},
   "source": [
    "## detectron2"
   ]
  },
  {
   "cell_type": "markdown",
   "id": "e896fea0",
   "metadata": {},
   "source": [
    "So far contains CLI utilities for batch inference"
   ]
  }
 ],
 "metadata": {
  "kernelspec": {
   "display_name": "Python 3",
   "language": "python",
   "name": "python3"
  }
 },
 "nbformat": 4,
 "nbformat_minor": 5
}

{
 "cells": [
  {
   "cell_type": "code",
   "execution_count": 1,
   "id": "5e5fedaa",
   "metadata": {
    "ExecuteTime": {
     "end_time": "2022-02-03T07:46:28.631246Z",
     "start_time": "2022-02-03T07:46:28.629047Z"
    }
   },
   "outputs": [],
   "source": [
    "#default_exp engines.detectron2.augmentations"
   ]
  },
  {
   "cell_type": "markdown",
   "id": "4fda4d3f",
   "metadata": {},
   "source": [
    "# Data augmentation for detectron2 models"
   ]
  },
  {
   "cell_type": "code",
   "execution_count": 5,
   "id": "d9e95ebb",
   "metadata": {
    "ExecuteTime": {
     "end_time": "2022-02-03T07:53:20.809459Z",
     "start_time": "2022-02-03T07:53:20.807243Z"
    }
   },
   "outputs": [],
   "source": [
    "#export\n",
    "from drone_detector.imports import *\n",
    "from drone_detector.utils import *\n",
    "\n",
    "import detectron2\n",
    "from detectron2.data import transforms as T"
   ]
  },
  {
   "cell_type": "code",
   "execution_count": 13,
   "id": "04f09e35",
   "metadata": {
    "ExecuteTime": {
     "end_time": "2022-02-03T08:04:51.374319Z",
     "start_time": "2022-02-03T08:04:51.369820Z"
    }
   },
   "outputs": [],
   "source": [
    "# export\n",
    "\n",
    "def build_aug_transforms(cfg:detectron2.config.CfgNode, flip_horiz:bool=True, flip_vert:bool=False, max_rotate:int=10,\n",
    "                         brightness_limits:Tuple[int,int]=(0.8,1.4), contrast_limits:Tuple[int,int]=(0.8,1.4), \n",
    "                         saturation_limits:Tuple[int,int]=(0.8,1.4), p_lighting:float=0.75\n",
    "                         ) -> detectron2.data.transforms.AugmentationList:\n",
    "    \"Build a list of detectron2 augmentations\"\n",
    "    augs = []\n",
    "    augs.append(T.ResizeShortestEdge(cfg.INPUT.MIN_SIZE_TRAIN, \n",
    "                                     cfg.INPUT.MAX_SIZE_TRAIN, \n",
    "                                     cfg.INPUT.MIN_SIZE_TRAIN_SAMPLING))\n",
    "    if flip_horiz: augs.append(T.RandomFlip(prob=0.5, horizontal=True, vertical=False))\n",
    "    if flip_vert: augs.append(T.RandomFlip(prob=0.5, horizontal=False, vertical=True))\n",
    "    if max_rotate: augs.append(T.RandomRotation(angle=[-max_rotate, max_rotate], expand=False))\n",
    "    if brightness_limits: augs.append(T.RandomApply(prob=p_lighting, tfm_or_aug=T.RandomBrightness(*brightness_limits)))\n",
    "    if contrast_limits: augs.append(T.RandomApply(prob=p_lighting, tfm_or_aug=T.RandomContrast(*contrast_limits)))\n",
    "    if saturation_limits: augs.append(T.RandomApply(prob=p_lighting, tfm_or_aug=T.RandomSaturation(*saturation_limits)))\n",
    "    \n",
    "    return augs"
   ]
  }
 ],
 "metadata": {
  "kernelspec": {
   "display_name": "Python 3",
   "language": "python",
   "name": "python3"
  },
  "language_info": {
   "codemirror_mode": {
    "name": "ipython",
    "version": 3
   },
   "file_extension": ".py",
   "mimetype": "text/x-python",
   "name": "python",
   "nbconvert_exporter": "python",
   "pygments_lexer": "ipython3",
   "version": "3.9.10"
  },
  "latex_envs": {
   "LaTeX_envs_menu_present": true,
   "autoclose": false,
   "autocomplete": true,
   "bibliofile": "biblio.bib",
   "cite_by": "apalike",
   "current_citInitial": 1,
   "eqLabelWithNumbers": true,
   "eqNumInitial": 1,
   "hotkeys": {
    "equation": "Ctrl-E",
    "itemize": "Ctrl-I"
   },
   "labels_anchors": false,
   "latex_user_defs": false,
   "report_style_numbering": false,
   "user_envs_cfg": false
  },
  "toc": {
   "base_numbering": 1,
   "nav_menu": {},
   "number_sections": true,
   "sideBar": true,
   "skip_h1_title": false,
   "title_cell": "Table of Contents",
   "title_sidebar": "Contents",
   "toc_cell": false,
   "toc_position": {},
   "toc_section_display": true,
   "toc_window_display": false
  }
 },
 "nbformat": 4,
 "nbformat_minor": 5
}

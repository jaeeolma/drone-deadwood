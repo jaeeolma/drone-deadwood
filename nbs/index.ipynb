{
 "cells": [
  {
   "cell_type": "markdown",
   "metadata": {},
   "source": [
    "# GIS-data and deep learning "
   ]
  },
  {
   "cell_type": "markdown",
   "metadata": {},
   "source": [
    "`drone_detector` was originally a python package for automatic deadwood detection or segmentation from RGB UAV imagery. It contains functions and helpers to use various GIS data with fastai and detectron2."
   ]
  },
  {
   "cell_type": "markdown",
   "metadata": {},
   "source": [
    "## Installation"
   ]
  },
  {
   "cell_type": "markdown",
   "metadata": {},
   "source": [
    "### Installing locally"
   ]
  },
  {
   "cell_type": "markdown",
   "metadata": {},
   "source": [
    "Installing the required packages is fairly tricky, because some of them are easiest to install via conda (`geopandas` and `GDAL`), some via pip (`pytorch`) and for `detectron2` it is ofrequired to specify which prebuilt package to use. \n",
    "\n",
    "Repository contains two installation scripts, one for development environment which contains packages that are often needed and other for generating the deploy-environment. \n",
    "\n",
    "Install miniconda and run `bash -i install_dev_env.sh` for dev environment and `bash -i install_run_env.sh` for deploy-env. Both scripts install all dependencies, create an editable install for this package and test all relevant code aside from examples."
   ]
  },
  {
   "cell_type": "markdown",
   "metadata": {},
   "source": [
    "### Running with Apptainer/Singularity\n",
    "  \n",
    "Use provided `dronecontainer.def` definition file to build Singularity container. Follow instructions on [https://cloud.sylabs.io/builder](https://cloud.sylabs.io/builder) and build the image with\n",
    " \n",
    "```\n",
    "singularity build --remote dronecontainer.sif dronecontainer.def\n",
    "```"
   ]
  },
  {
   "cell_type": "markdown",
   "metadata": {},
   "source": [
    "## CLI Usage"
   ]
  },
  {
   "cell_type": "markdown",
   "metadata": {},
   "source": [
    "### fastai"
   ]
  },
  {
   "cell_type": "markdown",
   "metadata": {},
   "source": [
    "`predict_segmentation_fastai` runs pretrained U-Net model for larger image. So far we support only models saved with `learner.export()`."
   ]
  },
  {
   "cell_type": "markdown",
   "metadata": {},
   "source": [
    "### Detectron2"
   ]
  },
  {
   "cell_type": "markdown",
   "metadata": {},
   "source": [
    "`predict_bboxes_detectron2` and `predict_instance_masks_detectron2` can be used to run batch-predictions on new images."
   ]
  },
  {
   "cell_type": "markdown",
   "metadata": {},
   "source": [
    "# Citations"
   ]
  },
  {
   "cell_type": "markdown",
   "metadata": {},
   "source": [
    "## Publications using this repository\n",
    "\n",
    "* [Deadwood detection from RGB UAV imagery using Mask R-CNN](https://github.com/mayrajeo/maskrcnn-deadwood), manuscript almost ready"
   ]
  },
  {
   "cell_type": "markdown",
   "metadata": {},
   "source": [
    "## Other people's work applied in this repository\n",
    "\n",
    "This repository contains parts from \n",
    "\n",
    "* [Solaris](https://github.com/CosmiQ/solaris) by CosmiQ Works\n",
    "* [pycococreator](https://github.com/waspinator/pycococreator) by waspinator, [https://doi.org/10.5281/zenodo.4627206](https://doi.org/10.5281/zenodo.4627206)"
   ]
  }
 ],
 "metadata": {
  "kernelspec": {
   "display_name": "python3",
   "language": "python",
   "name": "python3"
  }
 },
 "nbformat": 4,
 "nbformat_minor": 2
}

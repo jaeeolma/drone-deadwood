{
 "cells": [
  {
   "cell_type": "markdown",
   "metadata": {},
   "source": [
    "# Automatic deadwood detection from RGB UAV imagery\n",
    "\n"
   ]
  },
  {
   "cell_type": "markdown",
   "metadata": {},
   "source": [
    "`drone_detector` was originally a python package for automatic deadwood detection or segmentation from RGB UAV imagery. It utilizes [IceVision](https://airctic.com) for object detection and instance segmentation, and [fastai](https://docs.fast.ai) for semantic segmentation. It has started to morph into general library for fastai with remote sensing tasks."
   ]
  },
  {
   "cell_type": "markdown",
   "metadata": {},
   "source": [
    "## Installation"
   ]
  },
  {
   "cell_type": "markdown",
   "metadata": {},
   "source": [
    "Use `conda` to create environment from `environment.yml` with\n",
    "\n",
    "```\n",
    "conda env create -f environment.yml\n",
    "```\n",
    "\n",
    "This will install all otherwise difficult to install dependencies like gdal. If `geopandas` and `rtree` won't work properly , it might be because `rtree` conda installation at some point didn't work properly with python 3.8 or newer. \n",
    "\n",
    "After that change directory to `drone_detector` and run `pip install -e .` to get CLI commands to work."
   ]
  },
  {
   "cell_type": "markdown",
   "metadata": {},
   "source": [
    " ### Running with Singularity\n",
    " \n",
    " Use provided `dronecontainer.def` definition file to build Singularity container. Follow instructions on [https://cloud.sylabs.io/builder](https://cloud.sylabs.io/builder) and build the image with\n",
    " \n",
    " ```\n",
    " singularity build --remote dronecontainer.sif dronecontainer.der\n",
    " ```"
   ]
  },
  {
   "cell_type": "markdown",
   "metadata": {},
   "source": [
    "### Running with Docker\n",
    "\n",
    "TODO"
   ]
  },
  {
   "cell_type": "markdown",
   "metadata": {},
   "source": [
    "## Usage"
   ]
  },
  {
   "cell_type": "markdown",
   "metadata": {},
   "source": [
    "`drone_detector` provides several utilities, like tiling raster and vector files into smaller patches with overlap, and untiling them back to a larger tiles.\n",
    "\n",
    "CLI commands `predict_bboxes`, `predict_instance_masks` and `predict_segmentation` work similarly, with `--path_to_model`, `--path_to_image`, `--outfile`, `--processing_dir`, `--tile_size` and `--tile_overlap` flags. `predict_bboxes` and `predict_instance_masks` have additional flag `--num_classes`.\n",
    "\n",
    "`predict_bboxes` and `predict_instance_masks` utilize IceVision for Faster RCNN and Mask RCNN, whereas `predict_segmentation` utilizes fast.ai U-Net. "
   ]
  },
  {
   "cell_type": "markdown",
   "metadata": {},
   "source": [
    "# Citations"
   ]
  },
  {
   "cell_type": "markdown",
   "metadata": {},
   "source": [
    "## Publications using this repository\n",
    "\n",
    "Nothing so far, but soon!"
   ]
  },
  {
   "cell_type": "markdown",
   "metadata": {},
   "source": [
    "## Other people's work applied in this repository\n",
    "\n",
    "This repository contains parts from \n",
    "\n",
    "* [Solaris](https://github.com/CosmiQ/solaris) by CosmiQ Works\n",
    "* [pycococreator](https://github.com/waspinator/pycococreator) by waspinator, [https://doi.org/10.5281/zenodo.4627206]"
   ]
  }
 ],
 "metadata": {
  "kernelspec": {
   "display_name": "Python 3",
   "language": "python",
   "name": "python3"
  }
 },
 "nbformat": 4,
 "nbformat_minor": 2
}

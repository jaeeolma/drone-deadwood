{
 "cells": [
  {
   "cell_type": "markdown",
   "metadata": {},
   "source": [
    "# Automatic deadwood detection from RGB UAV imagery\n",
    "\n"
   ]
  },
  {
   "cell_type": "markdown",
   "metadata": {},
   "source": [
    "`drone_detector` was originally a python package for automatic deadwood detection or segmentation from RGB UAV imagery. It contains functions and helpers to use various GIS data with fastai, icevision and Detectron2."
   ]
  },
  {
   "cell_type": "markdown",
   "metadata": {},
   "source": [
    "## Installation"
   ]
  },
  {
   "cell_type": "markdown",
   "metadata": {},
   "source": [
    "NEEDS UPDATING\n",
    "\n",
    "Use `conda` to create environment from `environment.yml` with\n",
    "\n",
    "```\n",
    "conda env create -f environment.yml\n",
    "```\n",
    "\n",
    "After that change directory to `drone_detector` and run `pip install -e .` to get CLI commands to work."
   ]
  },
  {
   "cell_type": "markdown",
   "metadata": {},
   "source": [
    "### Running with Singularity\n",
    " \n",
    "NEEDS UPDATING\n",
    " \n",
    "Use provided `dronecontainer.def` definition file to build Singularity container. Follow instructions on [https://cloud.sylabs.io/builder](https://cloud.sylabs.io/builder) and build the image with\n",
    " \n",
    "```\n",
    "singularity build --remote dronecontainer.sif dronecontainer.der\n",
    "```"
   ]
  },
  {
   "cell_type": "markdown",
   "metadata": {},
   "source": [
    "### Running with Docker\n",
    "\n",
    "TODO"
   ]
  },
  {
   "cell_type": "markdown",
   "metadata": {},
   "source": [
    "## CLI Usage"
   ]
  },
  {
   "cell_type": "markdown",
   "metadata": {},
   "source": [
    "### icevision"
   ]
  },
  {
   "cell_type": "markdown",
   "metadata": {},
   "source": [
    "`predict_bboxes_icevision` and `predict_instance_masks_icevision` process large image, tile them to `--tile_size` sized patches with `--tile_overlap` pixel overlap. The parameters for the models are read from config files described in `drone_detector.engines.icevision.models`."
   ]
  },
  {
   "cell_type": "markdown",
   "metadata": {},
   "source": [
    "### fastai"
   ]
  },
  {
   "cell_type": "markdown",
   "metadata": {},
   "source": [
    "`predict_segmentation_fastai` runs pretrained U-Net model for larger image. So far we support only models saved with `learner.export()`."
   ]
  },
  {
   "cell_type": "markdown",
   "metadata": {},
   "source": [
    "### Detectron2"
   ]
  },
  {
   "cell_type": "markdown",
   "metadata": {},
   "source": [
    "`predict_bboxes_detectron2` and `predict_instance_masks_detectron2` work identically with icevision CLI commands, but use Detectron2 instead. "
   ]
  },
  {
   "cell_type": "markdown",
   "metadata": {},
   "source": [
    "# Citations"
   ]
  },
  {
   "cell_type": "markdown",
   "metadata": {},
   "source": [
    "## Publications using this repository\n",
    "\n",
    "Nothing so far, but soon!"
   ]
  },
  {
   "cell_type": "markdown",
   "metadata": {},
   "source": [
    "## Other people's work applied in this repository\n",
    "\n",
    "This repository contains parts from \n",
    "\n",
    "* [Solaris](https://github.com/CosmiQ/solaris) by CosmiQ Works\n",
    "* [pycococreator](https://github.com/waspinator/pycococreator) by waspinator, [https://doi.org/10.5281/zenodo.4627206]"
   ]
  }
 ],
 "metadata": {
  "kernelspec": {
   "display_name": "Python 3",
   "language": "python",
   "name": "python3"
  }
 },
 "nbformat": 4,
 "nbformat_minor": 2
}

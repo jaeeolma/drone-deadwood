{
 "cells": [
  {
   "cell_type": "code",
   "execution_count": null,
   "metadata": {},
   "outputs": [],
   "source": [
    "# default_exp tiling"
   ]
  },
  {
   "cell_type": "markdown",
   "metadata": {},
   "source": [
    "# Tiling\n",
    "\n",
    "> Tiling for both raster and vector data"
   ]
  },
  {
   "cell_type": "code",
   "execution_count": null,
   "metadata": {},
   "outputs": [],
   "source": [
    "#hide\n",
    "from nbdev.showdoc import *\n"
   ]
  },
  {
   "cell_type": "code",
   "execution_count": null,
   "metadata": {},
   "outputs": [],
   "source": [
    "#export\n",
    "\n",
    "from drone_detector.imports import *\n",
    "from drone_detector.utils import *"
   ]
  },
  {
   "cell_type": "code",
   "execution_count": null,
   "metadata": {},
   "outputs": [],
   "source": [
    "#export\n",
    "\n",
    "def make_grid(path, gridsize_x:int=640, gridsize_y:int=480, \n",
    "              overlap:Tuple[int, int]=(100,100)) -> gpd.GeoDataFrame:\n",
    "    \"\"\"Creates a grid template with `gridsize_x` times `gridsize_y` cells, with `overlap` pixels of overlap\n",
    "    based on geotiff file in `path`. Returns a gpd.GeoDataFrame with `RyyCxx` identifier for each geometry \n",
    "    \"\"\"\n",
    "    ds = gdal.Open(path)\n",
    "    ulx, xres, xskew, uly, yskew, yres = ds.GetGeoTransform()\n",
    "    lrx = ulx + (ds.RasterXSize * xres)\n",
    "    lry = uly + (ds.RasterYSize * yres)\n",
    "    # number of output cells is calculated like conv output\n",
    "    ncols = int(np.floor((np.floor((lrx - ulx) / xres)) - gridsize_x) / (gridsize_x - overlap[0]) + 1)\n",
    "    nrows = int(np.floor((np.floor((lry - uly) / yres)) - gridsize_y) / (gridsize_y - overlap[1]) + 1)\n",
    "    polys = []\n",
    "    names = []\n",
    "    for col, row in (itertools.product(range(ncols), range(nrows))):\n",
    "        ytop = lry - row * (yres * (gridsize_y - overlap[1]))\n",
    "        ybot = ytop - (yres * gridsize_y)\n",
    "        xleft = ulx + col * (xres * (gridsize_x - overlap[0]))\n",
    "        xright = xleft + (xres * gridsize_x)\n",
    "        polys.append(Polygon([(xleft,ytop), (xright,ytop), (xright,ybot), (xleft,ybot)]))\n",
    "        names.append(f'R{row}C{col}')\n",
    "    grid = gpd.GeoDataFrame({'cell': names, 'geometry':polys})\n",
    "    ds = None\n",
    "    return grid"
   ]
  },
  {
   "cell_type": "code",
   "execution_count": null,
   "metadata": {},
   "outputs": [],
   "source": [
    "# export\n",
    "\n",
    "class Tiler():\n",
    "    \"Similar functions than ´solaris.tile.raster_tile' but with more recent dependencies\"\n",
    "    def __init__(self, outpath, gridsize_x:int=400, gridsize_y:int=400, \n",
    "                 overlap:Tuple[int, int]=(100, 100)):\n",
    "        store_attr()\n",
    "        self.grid = None\n",
    "        if not os.path.exists(outpath): os.makedirs(outpath)\n",
    "            \n",
    "        self.raster_path = f'{self.outpath}/raster_tiles'\n",
    "        self.vector_path = f'{self.outpath}/vector_tiles'\n",
    "        self.rasterized_vector_path = f'{self.outpath}/rasterized_vector_tiles'\n",
    "        \n",
    "    def tile_raster(self, path_to_raster:str) -> None:\n",
    "        self.grid = make_grid(str(path_to_raster), gridsize_x=self.gridsize_x,\n",
    "                              gridsize_y=self.gridsize_y, overlap=self.overlap)\n",
    "        raster = gdal.Open(path_to_raster)\n",
    "        if not os.path.exists(self.raster_path): os.makedirs(self.raster_path)\n",
    "        for row in tqdm(self.grid.itertuples()):\n",
    "            tempraster = gdal.Translate(f'{self.raster_path}/{row.cell}.tif', raster,\n",
    "                                        projWin=[row.geometry.bounds[0], row.geometry.bounds[3], \n",
    "                                                 row.geometry.bounds[2], row.geometry.bounds[1]]\n",
    "                                       )\n",
    "            tempraster = None\n",
    "        return\n",
    "    \n",
    "    \n",
    "    def tile_vector(self, path_to_vector:str) -> None:\n",
    "        if self.grid is None:\n",
    "            print('No raster grid specified, use Tiler.tile_raster to determine grid limits')\n",
    "            return\n",
    "        \n",
    "        if not os.path.exists(self.vector_path): os.makedirs(self.vector_path)\n",
    "        vector = gpd.read_file(path_to_vector)\n",
    "        # God bless spatial index\n",
    "        sindex = vector.sindex\n",
    "        for row in tqdm(self.grid.itertuples()):\n",
    "            possible_matches_index = list(sindex.intersection(row.geometry.bounds))\n",
    "            tempvector = vector.iloc[possible_matches_index].copy()\n",
    "            tempvector = gpd.clip(tempvector, row.geometry, keep_geom_type=True)\n",
    "            # No annotations -> no shapefile\n",
    "            if len(tempvector) == 0: continue\n",
    "            \n",
    "            # Filter too small geometries TODO\n",
    "            tempvector.to_file(f'{self.vector_path}/{row.cell}.shp')\n",
    "        return\n",
    "    \n",
    "    def tile_and_rasterize_vector(self, column:str) -> None:\n",
    "        \"\"\"Rasterizes vectors based on tiled rasters. \n",
    "        Requires that shapefile has numeric data in `column`\"\"\"\n",
    "        if not os.path.exists(self.rasterized_vector_path):\n",
    "            os.makedirs(self.rasterized_vector_path)\n",
    "        \n",
    "        vector_files = [f for f in os.listdir(self.vector_path) if f.endswith('.shp')]\n",
    "        raster_files = [f'{f[:-4]}.tif' for f in vector_files]\n",
    "        for r, v in tqdm(zip(raster_files, vector_files)):\n",
    "            source_raster = gdal.Open(f'{self.raster_path}/{r}', gdal.GA_ReadOnly)\n",
    "            source_vector = ogr.Open(f'{self.vector_path}/{v}')\n",
    "            source_vector_layer = source_vector.GetLayer()\n",
    "            \n",
    "            output_raster = gdal.GetDriverByName('gtiff').Create(f'{self.rasterized_vector_path}/{r}',\n",
    "                                                                 source_raster.RasterXSize,\n",
    "                                                                 source_raster.RasterYSize,\n",
    "                                                                 1,\n",
    "                                                                 gdal.GDT_Int16)\n",
    "            output_raster.SetProjection(source_raster.GetProjectionRef())\n",
    "            output_raster.SetGeoTransform(source_raster.GetGeoTransform())\n",
    "            band = output_raster.GetRasterBand(1)\n",
    "            band.SetNoDataValue(0)\n",
    "            gdal.RasterizeLayer(output_raster, [1], source_vector_layer, options=[f'ATTRIBUTE={column}'])\n",
    "            \n",
    "            band = None\n",
    "            source_vector = None\n",
    "            source_raster = None\n",
    "            output_raster = None        \n",
    "            \n",
    "        return \n",
    "    \n",
    "def untile_raster(path_to_targets:str, outfile:str):\n",
    "    \"\"\"Create a single raster file from a directory of predicted rasters, based on the grid generated in \n",
    "    `self.tile_raster`\"\"\"\n",
    "\n",
    "    rasters = [f'{path_to_targets}/{f}' for f in os.listdir(path_to_targets) if f.endswith('.tif')]\n",
    "    \n",
    "    files_to_mosaic = []\n",
    "    \n",
    "    for f in rasters:\n",
    "        src = rio.open(f)\n",
    "        files_to_mosaic.append(src)\n",
    "    \n",
    "    mosaic, out_tfm = rio_merge(files_to_mosaic)\n",
    "    \n",
    "    out_meta = src.meta.copy()\n",
    "    out_meta.update({'driver': 'GTiff',\n",
    "                     'height': mosaic.shape[1],\n",
    "                     'width': mosaic.shape[2],\n",
    "                     'transform': out_tfm,\n",
    "                     'crs': src.crs})\n",
    "    \n",
    "    with rio.open(outfile, 'w', **out_meta) as dest: dest.write(mosaic)\n",
    "    \n",
    "    \n",
    "def untile_vector(path_to_targets:str, outpath:str, non_max_suppression_thresh:float=0.0):\n",
    "    \"Create single shapefile from a directory of predicted shapefiles\"\n",
    "    pred_files = [f for f in os.listdir(path_to_targets) if f.endswith('.shp')]\n",
    "    gdf = None\n",
    "    for p in tqdm(pred_files):\n",
    "        temp_gdf = gpd.read_file(f'{path_to_targets}/{p}')\n",
    "        if gdf is None: gdf = temp_gdf\n",
    "        else: gdf = gdf.append(temp_gdf)\n",
    "    print(f'{len(gdf)} polygons before non-max suppression')\n",
    "    if non_max_suppression_thresh != 0:\n",
    "        np_bounding_boxes = np.array([b.bounds for b in gdf.geometry])\n",
    "        idxs = non_max_suppression_fast(np_bounding_boxes, overlap_thresh = non_max_suppression_thresh)\n",
    "        gdf = gdf.iloc[idxs]\n",
    "    print(f'{len(gdf)} polygons after non-max suppression')\n",
    "    gdf.to_file(outpath)\n",
    "    return\n"
   ]
  },
  {
   "cell_type": "code",
   "execution_count": null,
   "metadata": {},
   "outputs": [],
   "source": [
    "f = gpd.read_file('example_data/R70C21.shp')\n",
    "f.head()\n",
    "f['label_id'] = f.apply(lambda row: 2 if row.label == 'Standing' else 1, axis=1)\n",
    "f.to_file('example_data/R70C21.shp')"
   ]
  },
  {
   "cell_type": "code",
   "execution_count": null,
   "metadata": {},
   "outputs": [],
   "source": [
    "tiler = Tiler(outpath='example_data/tiles', gridsize_x=120, gridsize_y=120, overlap=(40,40))"
   ]
  },
  {
   "cell_type": "code",
   "execution_count": null,
   "metadata": {},
   "outputs": [
    {
     "data": {
      "application/vnd.jupyter.widget-view+json": {
       "model_id": "69f5c587ef7e479b88545bdfb163224a",
       "version_major": 2,
       "version_minor": 0
      },
      "text/plain": [
       "0it [00:00, ?it/s]"
      ]
     },
     "metadata": {},
     "output_type": "display_data"
    }
   ],
   "source": [
    "tiler.tile_raster('example_data/R70C21.tif')"
   ]
  },
  {
   "cell_type": "code",
   "execution_count": null,
   "metadata": {},
   "outputs": [
    {
     "data": {
      "text/plain": [
       "<AxesSubplot:>"
      ]
     },
     "execution_count": null,
     "metadata": {},
     "output_type": "execute_result"
    },
    {
     "data": {
      "image/png": "[encoded data removed]",
      "text/plain": [
       "<Figure size 432x288 with 1 Axes>"
      ]
     },
     "metadata": {
      "needs_background": "light"
     },
     "output_type": "display_data"
    }
   ],
   "source": [
    "tiler.grid.plot(facecolor='none', edgecolor='black', lw=0.7)"
   ]
  },
  {
   "cell_type": "code",
   "execution_count": null,
   "metadata": {},
   "outputs": [
    {
     "data": {
      "application/vnd.jupyter.widget-view+json": {
       "model_id": "904fdab49ce44c5d9bb8575dfa2f2b72",
       "version_major": 2,
       "version_minor": 0
      },
      "text/plain": [
       "0it [00:00, ?it/s]"
      ]
     },
     "metadata": {},
     "output_type": "display_data"
    }
   ],
   "source": [
    "tiler.tile_vector('example_data/R70C21.shp')"
   ]
  },
  {
   "cell_type": "code",
   "execution_count": null,
   "metadata": {},
   "outputs": [
    {
     "data": {
      "application/vnd.jupyter.widget-view+json": {
       "model_id": "3f6e19c18c454909a4fe7d3a8241284e",
       "version_major": 2,
       "version_minor": 0
      },
      "text/plain": [
       "0it [00:00, ?it/s]"
      ]
     },
     "metadata": {},
     "output_type": "display_data"
    }
   ],
   "source": [
    "tiler.tile_and_rasterize_vector(column='label_id')"
   ]
  },
  {
   "cell_type": "code",
   "execution_count": null,
   "metadata": {},
   "outputs": [],
   "source": [
    "with rio.open('example_data/tiles/rasterized_vector_tiles/R1C6.tif') as i: im = i.read()"
   ]
  },
  {
   "cell_type": "code",
   "execution_count": null,
   "metadata": {},
   "outputs": [
    {
     "data": {
      "text/plain": [
       "<matplotlib.image.AxesImage at 0x7fa9229ec850>"
      ]
     },
     "execution_count": null,
     "metadata": {},
     "output_type": "execute_result"
    },
    {
     "data": {
      "image/png": "[encoded data removed]",
      "text/plain": [
       "<Figure size 432x288 with 1 Axes>"
      ]
     },
     "metadata": {
      "needs_background": "light"
     },
     "output_type": "display_data"
    }
   ],
   "source": [
    "import matplotlib.pyplot as plt\n",
    "plt.imshow(im[0])"
   ]
  },
  {
   "cell_type": "markdown",
   "metadata": {},
   "source": [
    "Grid starts from lower left, so it excludes top and right if full sized tiles can't be extracted."
   ]
  },
  {
   "cell_type": "markdown",
   "metadata": {},
   "source": [
    "`untile_raster` can be used to mosaic all patches into one."
   ]
  },
  {
   "cell_type": "code",
   "execution_count": null,
   "metadata": {},
   "outputs": [],
   "source": [
    "untile_raster('example_data/tiles/rasterized_vector_tiles/', 'example_data/tiles/rasterized_vector_tiles/mosaic.tif')"
   ]
  },
  {
   "cell_type": "code",
   "execution_count": null,
   "metadata": {},
   "outputs": [
    {
     "data": {
      "text/plain": [
       "<matplotlib.image.AxesImage at 0x7fa9228f7410>"
      ]
     },
     "execution_count": null,
     "metadata": {},
     "output_type": "execute_result"
    },
    {
     "data": {
      "image/png": "[encoded data removed]",
      "text/plain": [
       "<Figure size 432x288 with 1 Axes>"
      ]
     },
     "metadata": {
      "needs_background": "light"
     },
     "output_type": "display_data"
    }
   ],
   "source": [
    "with rio.open('example_data/tiles/rasterized_vector_tiles/mosaic.tif') as mos: mosaic = mos.read()\n",
    "plt.imshow(mosaic[0])"
   ]
  },
  {
   "cell_type": "code",
   "execution_count": null,
   "metadata": {},
   "outputs": [
    {
     "name": "stdout",
     "output_type": "stream",
     "text": [
      "Converted 00_utils.ipynb.\n",
      "Converted 01_tiling.ipynb.\n",
      "Converted 02_coordinates.ipynb.\n",
      "Converted 03_coco.ipynb.\n",
      "Converted 04_postprocessing.ipynb.\n",
      "Converted 05_visualizations.ipynb.\n",
      "Converted 08_predict.ipynb.\n",
      "Converted 09_augmentations.ipynb.\n",
      "Converted 10_metrics.ipynb.\n",
      "Converted 11_data.ipynb.\n",
      "Converted index.ipynb.\n",
      "converting: /mnt/d/Users/E1005164/drone_detector/nbs/01_tiling.ipynb\n",
      "converting: /mnt/d/Users/E1005164/drone_detector/nbs/09_augmentations.ipynb\n",
      "converting /mnt/d/Users/E1005164/drone_detector/nbs/index.ipynb to README.md\n"
     ]
    }
   ],
   "source": [
    "# hide\n",
    "\n",
    "from nbdev.export import notebook2script\n",
    "notebook2script()\n",
    "!nbdev_build_docs"
   ]
  },
  {
   "cell_type": "code",
   "execution_count": null,
   "metadata": {},
   "outputs": [],
   "source": []
  }
 ],
 "metadata": {
  "kernelspec": {
   "display_name": "Python 3",
   "language": "python",
   "name": "python3"
  }
 },
 "nbformat": 4,
 "nbformat_minor": 4
}

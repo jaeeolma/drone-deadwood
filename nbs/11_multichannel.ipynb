{
 "cells": [
  {
   "cell_type": "code",
   "execution_count": null,
   "id": "expired-lender",
   "metadata": {},
   "outputs": [],
   "source": [
    "#default_exp multichannel"
   ]
  },
  {
   "cell_type": "code",
   "execution_count": null,
   "id": "demanding-granny",
   "metadata": {},
   "outputs": [
    {
     "name": "stderr",
     "output_type": "stream",
     "text": [
      "/home/mayrajeo/miniconda3/envs/dronedetector/lib/python3.7/site-packages/torch/cuda/__init__.py:52: UserWarning: CUDA initialization: Found no NVIDIA driver on your system. Please check that you have an NVIDIA GPU and installed a driver from http://www.nvidia.com/Download/index.aspx (Triggered internally at  /opt/conda/conda-bld/pytorch_1603729047590/work/c10/cuda/CUDAFunctions.cpp:100.)\n",
      "  return torch._C._cuda_getDeviceCount() > 0\n"
     ]
    }
   ],
   "source": [
    "# export\n",
    "\n",
    "from fastcore.dispatch import *\n",
    "from fastai.data.all import *\n",
    "from fastai.vision.all import *\n",
    "from drone_detector.imports import *\n",
    "from drone_detector.segmentation import *\n",
    "from drone_detector.visualizations import *"
   ]
  },
  {
   "cell_type": "code",
   "execution_count": null,
   "id": "coordinated-estate",
   "metadata": {},
   "outputs": [],
   "source": [
    "#hide\n",
    "from nbdev.showdoc import *"
   ]
  },
  {
   "cell_type": "markdown",
   "id": "aggressive-provision",
   "metadata": {},
   "source": [
    "# Multichannel extensions for fastai image classification tasks"
   ]
  },
  {
   "cell_type": "markdown",
   "id": "leading-stockholm",
   "metadata": {},
   "source": [
    "## MultiChannelTensorImage and such"
   ]
  },
  {
   "cell_type": "code",
   "execution_count": null,
   "id": "comprehensive-subscriber",
   "metadata": {},
   "outputs": [],
   "source": [
    "# export\n",
    "def open_npy(fn, chans=None):\n",
    "    im = torch.from_numpy(np.load(str(fn)))\n",
    "    if chans is not None: im = im[chans]\n",
    "    return im\n",
    "\n",
    "def open_geotiff(fn, chans=None):\n",
    "    with rio.open(str(fn)) as f:\n",
    "        data = f.read()\n",
    "        data = data.astype(np.float32)\n",
    "    im = torch.from_numpy(data)\n",
    "    if chans is not None: im = im[chans]\n",
    "    return im"
   ]
  },
  {
   "cell_type": "code",
   "execution_count": null,
   "id": "successful-comfort",
   "metadata": {},
   "outputs": [],
   "source": [
    "# export \n",
    "\n",
    "class MultiChannelTensorImage(TensorImage):\n",
    "    _show_args = ArrayImageBase._show_args\n",
    "    def show(self, channels=[0], ctx=None, vmin=None, vmax=None, **kwargs):\n",
    "        \"These need refactoring maybe\"\n",
    "        if channels == 'spectra':\n",
    "            return show_mean_spectra(self, ctx=ctx,  **kwargs)\n",
    "        if len(channels) == 3: \n",
    "            return show_composite(self, channels=channels, ctx=ctx, vmin=vmin, vmax=vmax,\n",
    "                                  **{**self._show_args, **kwargs})\n",
    "        if len(channels) == 2:\n",
    "            return show_normalized_spectral_index(self, channels=channels, ctx=ctx,\n",
    "                                                  **{**self._show_args, **kwargs})\n",
    "        elif len(channels) == 1: \n",
    "            return show_single_channel(self, channel=channels[0], ctx=ctx, \n",
    "                                       **{**self._show_args, **kwargs})\n",
    "        \n",
    "    @classmethod\n",
    "    def create(cls, fn:(Path,str,ndarray), chans=None,  **kwargs) ->None:\n",
    "        if isinstance(fn, Tensor): fn = fn.numpy()\n",
    "        if isinstance(fn, ndarray): \n",
    "            im = torch.from_numpy(fn)\n",
    "            if chans is not None: im = im[chans]\n",
    "            return cls(im)\n",
    "        if isinstance(fn, Path) or isinstance(fn, str):\n",
    "            if str(fn).endswith('npy'): return cls(open_npy(fn=fn, chans=chans))\n",
    "            elif str(fn).endswith('.tif'): return cls(open_geotiff(fn=fn, chans=chans))\n",
    "        \n",
    "    def __repr__(self): return f'{self.__class__.__name__} size={\"x\".join([str(d) for d in self.shape])}'\n",
    "    \n",
    "MultiChannelTensorImage.create = Transform(MultiChannelTensorImage.create) \n"
   ]
  },
  {
   "cell_type": "code",
   "execution_count": null,
   "id": "powerful-vinyl",
   "metadata": {},
   "outputs": [],
   "source": [
    "# export\n",
    "\n",
    "def show_composite(img, channels, ax=None, figsize=(3,3), title=None, scale=True,\n",
    "                   ctx=None, vmin=None, vmax=None, scale_axis=(0,1), **kwargs)->plt.Axes:\n",
    "    \"Show three channel composite so that channels correspond to R, G and B\"\n",
    "    ax = ifnone(ax, ctx)\n",
    "    if ax is None: _, ax = plt.subplots(figsize=figsize)    \n",
    "    r, g, b = channels\n",
    "    tempim = img.data.cpu().numpy()\n",
    "    im = np.zeros((tempim.shape[1], tempim.shape[2], 3))\n",
    "    im[...,0] = tempim[r]\n",
    "    im[...,1] = tempim[g]\n",
    "    im[...,2] = tempim[b]\n",
    "\n",
    "    if scale: im = norm(im, vmin, vmax, scale_axis)\n",
    "    ax.imshow(im, **kwargs)\n",
    "    ax.axis('off')\n",
    "    if title is not None: ax.set_title(title)\n",
    "    return ax\n",
    "\n",
    "def show_single_channel(img, channel, ax=None, figsize=(3,3), ctx=None, \n",
    "                        title=None, **kwargs) -> plt.Axes:\n",
    "    ax = ifnone(ax, ctx)\n",
    "    if ax is None: _, ax = plt.subplots(figsize=figsize)    \n",
    "    tempim = img.data.cpu().numpy()\n",
    "    ax.imshow(norm(tempim[channel], vmin=tempim[channel].min(), vmax=tempim[channel].max()), **kwargs)\n",
    "    ax.axis('off')\n",
    "    if title is not None: ax.set_title(title)\n",
    "    return ax\n",
    "\n",
    "def show_normalized_spectral_index(img, channels, ax=None, figsize=(3,3), ctx=None,\n",
    "                                   title=None, **kwargs) -> plt.Axes:\n",
    "    \"Show normalized spectral index such as NDVI\"\n",
    "    ax = ifnone(ax, ctx)\n",
    "    if ax is None: _, ax = plt.subplots(figsize=figsize)\n",
    "    b_0, b_1 = channels\n",
    "    tempim = img.data.cpu().numpy()\n",
    "    im = (tempim[b_0] - tempim[b_1])/(tempim[b_0] + tempim[b_1])\n",
    "    ax.imshow(im, vmin=-1, vmax=1, **kwargs)\n",
    "    ax.axis('off')\n",
    "    if title is not None: ax.set_title(title)\n",
    "    return ax\n",
    "\n",
    "def show_mean_spectra(img, ax=None, figsize=(3,3), ctx=None, title=None, **kwargs) -> plt.Axes:\n",
    "    \"Show average spectra graph\"\n",
    "    ax = ifnone(ax, ctx)\n",
    "    if ax is None: _, ax = plt.subplots(figsize=figsize)\n",
    "    tempim = img.data.cpu().numpy()\n",
    "    means = np.nanmean(tempim, axis=(-2, -1))\n",
    "    ax.plot(means, **kwargs)\n",
    "    ax.grid(True)\n",
    "    if title is not None: ax.set_title(title)\n",
    "    return ax\n",
    "        \n",
    "def norm(vals, vmin=None, vmax=None, axis=(0,1)):\n",
    "    \"\"\"\n",
    "    For visualization purposes scale image with `(vals-vmin)/(vmax-vmin), \n",
    "    with vmin and vmax either specified or within 0.01 and 0.99 quantiles of all values\n",
    "    \"\"\"\n",
    "    vmin = ifnone(vmin, np.quantile(vals, 0.01, axis=axis))\n",
    "    vmax = ifnone(vmax, np.quantile(vals, 0.99, axis=axis))\n",
    "    ret_im = (vals - vmin)/(vmax-vmin)\n",
    "    ret_im[ret_im < 0] = 0\n",
    "    ret_im[ret_im > 1] = 1\n",
    "    return ret_im"
   ]
  },
  {
   "cell_type": "code",
   "execution_count": null,
   "id": "super-network",
   "metadata": {},
   "outputs": [],
   "source": [
    "#export\n",
    "def MultiChannelImageBlock(cls=MultiChannelTensorImage, chans=None): \n",
    "    \"Default behaviour: use all channels\"\n",
    "    return TransformBlock(partial(cls.create, chans=chans))"
   ]
  },
  {
   "cell_type": "code",
   "execution_count": null,
   "id": "closed-claim",
   "metadata": {},
   "outputs": [],
   "source": [
    "#export\n",
    "def _using_attr(f, attr, x):\n",
    "    return f(getattr(x,attr))\n",
    "\n",
    "def using_attr(f, attr):\n",
    "    \"Change function `f` to operate on `attr`\"\n",
    "    return partial(_using_attr, f, attr)"
   ]
  },
  {
   "cell_type": "code",
   "execution_count": null,
   "id": "backed-unknown",
   "metadata": {},
   "outputs": [],
   "source": [
    "#export\n",
    "class MultiChannelImageDataLoaders(DataLoaders):\n",
    "    @classmethod\n",
    "    @delegates(DataLoaders.from_dblock)\n",
    "    def from_folder(cls, path, chans=None, extensions=['.tif'], \n",
    "                    train='train', valid='valid', valid_pct=None, seed=None, \n",
    "                    vocab=None, item_tfms=None, batch_tfms=None, **kwargs):\n",
    "        \"\"\"Create from imagenet style dataset in `path` with `train`, `valid`, `test` subfolders (or provide `valid_pct`).\n",
    "        Optionally list the channels to use.\"\"\"\n",
    "        splitter = GrandparentSplitter(train_name=train, valid_name=valid) if valid_pct is None else RandomSplitter(valid_pct, seed=seed)\n",
    "        dblock = DataBlock(blocks=(MultiChannelImageBlock(chans=chans), CategoryBlock(vocab=vocab)),\n",
    "                           get_items=partial(get_files, extensions=extensions),\n",
    "                           splitter=splitter,\n",
    "                           get_y=parent_label,\n",
    "                           item_tfms=item_tfms,\n",
    "                           batch_tfms=batch_tfms)\n",
    "        return cls.from_dblock(dblock, path, path=path, **kwargs)\n",
    "\n",
    "    @classmethod\n",
    "    @delegates(DataLoaders.from_dblock)\n",
    "    def from_path_func(cls, path, fnames, label_func,chans=None, extensions=['.tif'], \n",
    "                       valid_pct=0.2, seed=None, item_tfms=None, batch_tfms=None, **kwargs):\n",
    "        \"\"\"Create from list of `fnames` in `path`s with `label_func`.   \n",
    "        Optionally list the channels to use.\"\"\"\n",
    "\n",
    "        dblock = DataBlock(blocks=(MultiChannelImageBlock(chans=chans), CategoryBlock(vocab=vocab)),\n",
    "                           splitter=RandomSplitter(valid_pct, seed=seed),\n",
    "                           get_y=label_func,\n",
    "                           item_tfms=item_tfms,\n",
    "                           batch_tfms=batch_tfms)\n",
    "        return cls.from_dblock(dblock, path, path=path, **kwargs)\n",
    "    \n",
    "    @classmethod\n",
    "    def from_name_func(cls, path, fnames, label_func, \n",
    "                       chans=None, extensions=['.tif'], **kwargs):\n",
    "        \"\"\"Create from name attrs in list of `fnames` in `path`s with `label_func`.\n",
    "        Optionally list the channels to use.\"\"\"\n",
    "        f = using_attr(label_func, 'name')\n",
    "        return cls.from_path_func(path, fnames, f, chans=chans, **kwargs)\n",
    "\n",
    "    @classmethod\n",
    "    def from_path_re(cls, path, fnames, pat, chans=None, extensions=['.tif'], **kwargs):\n",
    "        \"\"\"Create from list of `fnames` in `path`s with re expression `pat`.\n",
    "           Optionally list the channels to use.\"\"\"\n",
    "        return cls.from_path_func(path, fnames, RegexLabeller(pat), chans=chans, **kwargs)\n",
    "\n",
    "    @classmethod\n",
    "    @delegates(DataLoaders.from_dblock)\n",
    "    def from_name_re(cls, path, fnames, pat, chans=None, extensions=['.tif'],**kwargs):\n",
    "        \"\"\"Create from name attrs in list of `fnames` in `path`s with re expression `pat`.\n",
    "           Optionally list the channels to use\"\"\"\n",
    "        return cls.from_name_func(path, fnames, RegexLabeller(pat), chans=chans, **kwargs)\n",
    "\n",
    "    @classmethod\n",
    "    @delegates(DataLoaders.from_dblock)\n",
    "    def from_df(cls, df, path='.', chans=None, valid_pct=0.2, seed=None, \n",
    "                fn_col=0, folder=None, suff='', label_col=1, label_delim=None,\n",
    "                y_block=None, valid_col=None, item_tfms=None, batch_tfms=None, **kwargs):\n",
    "        pref = f'{Path(path) if folder is None else Path(path)/folder}{os.path.sep}'\n",
    "        if y_block is None:\n",
    "            is_multi = (is_listy(label_col) and len(label_col) > 1) or label_delim is not None\n",
    "            y_block = MultiCategoryBlock if is_multi else CategoryBlock\n",
    "        splitter = RandomSplitter(valid_pct, seed=seed) if valid_col is None else ColSplitter(valid_col)\n",
    "        dblock = DataBlock(blocks=(MultiChannelImageBlock(chans=chans), y_block),\n",
    "                           get_x=ColReader(fn_col, pref=pref, suff=suff),\n",
    "                           get_y=ColReader(label_col, label_delim=label_delim),\n",
    "                           splitter=splitter,\n",
    "                           item_tfms=item_tfms, \n",
    "                           batch_tfms=batch_tfms)\n",
    "        return cls.from_dblock(dblock, df, path=path, **kwargs)\n",
    "\n",
    "    @classmethod\n",
    "    def from_shapefile(cls, path, chans=None, shp_fname='labels.shp', **kwargs):\n",
    "        \"\"\"Create from shapefile `shp_fname` in `path` readable with geopandas.\n",
    "        Optionally list the channels to use.\"\"\"\n",
    "        df = gpd.read_file(str(Path(path)/shp_fname))\n",
    "        # Shapefiles don't support boolean columns\n",
    "        if 'valid_col' in kwargs.keys(): df[kwargs['valid_col']] = df[kwargs['valid_col']].astype(bool)\n",
    "        return cls.from_df(df, path=path, chans=chans, **kwargs)\n",
    "    \n",
    "    @classmethod\n",
    "    def from_csv(cls, path,  chans=None, csv_fname='labels.csv', \n",
    "                 header='infer', delimiter=None, **kwargs):\n",
    "        df = pd.read_csv(Path(path)/csv_fname, header=header, delimiter=delimiter)\n",
    "        return cls.from_df(df, path=path, chans=chans, **kwargs)\n",
    "\n",
    "    @classmethod\n",
    "    @delegates(DataLoaders.from_dblock)\n",
    "    def from_lists(cls, path, fnames, labels,chans=None, valid_pct=0.2, \n",
    "                   seed:int=None, y_block=None, item_tfms=None, batch_tfms=None,\n",
    "                   **kwargs):\n",
    "        \"\"\"Create from list of `fnames` in `path`.\n",
    "        Optionally list the channels to use.\"\"\"\n",
    "        if y_block is None:\n",
    "            y_block = MultiCategoryBlock if is_listy(labels[0]) and len(labels[0]) > 1 else (\n",
    "                RegressionBlock if isinstance(labels[0], float) else CategoryBlock)\n",
    "        dblock = DataBlock(blocks=(MultiChannelImageBlock(chans=chans), y_block),\n",
    "                           splitter=RandomSplitter(valid_pct, seed=seed),\n",
    "                           item_tfms=item_tfms, \n",
    "                           batch_tfms=batch_tfms)\n",
    "        return cls.from_dblock(dblock, (fnames, labels), path=path, **kwargs)\n",
    "    \n",
    "MultiChannelImageDataLoaders.from_csv = delegates(to=MultiChannelImageDataLoaders.from_df)(MultiChannelImageDataLoaders.from_csv)\n",
    "MultiChannelImageDataLoaders.from_shapefile = delegates(to=MultiChannelImageDataLoaders.from_df)(MultiChannelImageDataLoaders.from_shapefile)\n",
    "MultiChannelImageDataLoaders.from_name_func = delegates(to=MultiChannelImageDataLoaders.from_path_func)(MultiChannelImageDataLoaders.from_name_func)\n",
    "MultiChannelImageDataLoaders.from_path_re = delegates(to=MultiChannelImageDataLoaders.from_path_func)(MultiChannelImageDataLoaders.from_path_re)\n",
    "MultiChannelImageDataLoaders.from_name_re = delegates(to=MultiChannelImageDataLoaders.from_name_func)(MultiChannelImageDataLoaders.from_name_re)"
   ]
  },
  {
   "cell_type": "code",
   "execution_count": null,
   "id": "municipal-folder",
   "metadata": {},
   "outputs": [
    {
     "data": {
      "text/markdown": [
       "<h4 id=\"MultiChannelImageDataLoaders.from_folder\" class=\"doc_header\"><code>MultiChannelImageDataLoaders.from_folder</code><a href=\"__main__.py#L3\" class=\"source_link\" style=\"float:right\">[source]</a></h4>\n",
       "\n",
       "> <code>MultiChannelImageDataLoaders.from_folder</code>(**`path`**, **`chans`**=*`None`*, **`extensions`**=*`['.tif']`*, **`train`**=*`'train'`*, **`valid`**=*`'valid'`*, **`valid_pct`**=*`None`*, **`seed`**=*`None`*, **`vocab`**=*`None`*, **`item_tfms`**=*`None`*, **`batch_tfms`**=*`None`*, **`bs`**=*`64`*, **`val_bs`**=*`None`*, **`shuffle_train`**=*`True`*, **`device`**=*`None`*)\n",
       "\n",
       "Create from imagenet style dataset in `path` with `train`, `valid`, `test` subfolders (or provide `valid_pct`).\n",
       "Optionally list the channels to use."
      ],
      "text/plain": [
       "<IPython.core.display.Markdown object>"
      ]
     },
     "metadata": {},
     "output_type": "display_data"
    }
   ],
   "source": [
    "show_doc(MultiChannelImageDataLoaders.from_folder)"
   ]
  },
  {
   "cell_type": "code",
   "execution_count": null,
   "id": "swedish-combination",
   "metadata": {},
   "outputs": [
    {
     "data": {
      "text/markdown": [
       "<h4 id=\"MultiChannelImageDataLoaders.from_path_func\" class=\"doc_header\"><code>MultiChannelImageDataLoaders.from_path_func</code><a href=\"__main__.py#L19\" class=\"source_link\" style=\"float:right\">[source]</a></h4>\n",
       "\n",
       "> <code>MultiChannelImageDataLoaders.from_path_func</code>(**`path`**, **`fnames`**, **`label_func`**, **`chans`**=*`None`*, **`extensions`**=*`['.tif']`*, **`valid_pct`**=*`0.2`*, **`seed`**=*`None`*, **`item_tfms`**=*`None`*, **`batch_tfms`**=*`None`*, **`bs`**=*`64`*, **`val_bs`**=*`None`*, **`shuffle_train`**=*`True`*, **`device`**=*`None`*)\n",
       "\n",
       "Create from list of `fnames` in `path`s with `label_func`.   \n",
       "Optionally list the channels to use."
      ],
      "text/plain": [
       "<IPython.core.display.Markdown object>"
      ]
     },
     "metadata": {},
     "output_type": "display_data"
    }
   ],
   "source": [
    "show_doc(MultiChannelImageDataLoaders.from_path_func)"
   ]
  },
  {
   "cell_type": "code",
   "execution_count": null,
   "id": "floating-accounting",
   "metadata": {},
   "outputs": [
    {
     "data": {
      "text/markdown": [
       "<h4 id=\"MultiChannelImageDataLoaders.from_name_func\" class=\"doc_header\"><code>MultiChannelImageDataLoaders.from_name_func</code><a href=\"__main__.py#L33\" class=\"source_link\" style=\"float:right\">[source]</a></h4>\n",
       "\n",
       "> <code>MultiChannelImageDataLoaders.from_name_func</code>(**`path`**, **`fnames`**, **`label_func`**, **`chans`**=*`None`*, **`extensions`**=*`['.tif']`*, **`valid_pct`**=*`0.2`*, **`seed`**=*`None`*, **`item_tfms`**=*`None`*, **`batch_tfms`**=*`None`*, **`bs`**=*`64`*, **`val_bs`**=*`None`*, **`shuffle_train`**=*`True`*, **`device`**=*`None`*)\n",
       "\n",
       "Create from name attrs in list of `fnames` in `path`s with `label_func`.\n",
       "Optionally list the channels to use."
      ],
      "text/plain": [
       "<IPython.core.display.Markdown object>"
      ]
     },
     "metadata": {},
     "output_type": "display_data"
    }
   ],
   "source": [
    "show_doc(MultiChannelImageDataLoaders.from_name_func)"
   ]
  },
  {
   "cell_type": "code",
   "execution_count": null,
   "id": "becoming-transportation",
   "metadata": {},
   "outputs": [
    {
     "data": {
      "text/markdown": [
       "<h4 id=\"MultiChannelImageDataLoaders.from_shapefile\" class=\"doc_header\"><code>MultiChannelImageDataLoaders.from_shapefile</code><a href=\"__main__.py#L72\" class=\"source_link\" style=\"float:right\">[source]</a></h4>\n",
       "\n",
       "> <code>MultiChannelImageDataLoaders.from_shapefile</code>(**`path`**, **`chans`**=*`None`*, **`shp_fname`**=*`'labels.shp'`*, **`valid_pct`**=*`0.2`*, **`seed`**=*`None`*, **`fn_col`**=*`0`*, **`folder`**=*`None`*, **`suff`**=*`''`*, **`label_col`**=*`1`*, **`label_delim`**=*`None`*, **`y_block`**=*`None`*, **`valid_col`**=*`None`*, **`item_tfms`**=*`None`*, **`batch_tfms`**=*`None`*, **`bs`**=*`64`*, **`val_bs`**=*`None`*, **`shuffle_train`**=*`True`*, **`device`**=*`None`*)\n",
       "\n",
       "Create from shapefile `shp_fname` in `path` readable with geopandas.\n",
       "Optionally list the channels to use."
      ],
      "text/plain": [
       "<IPython.core.display.Markdown object>"
      ]
     },
     "metadata": {},
     "output_type": "display_data"
    }
   ],
   "source": [
    "show_doc(MultiChannelImageDataLoaders.from_shapefile)"
   ]
  },
  {
   "cell_type": "code",
   "execution_count": null,
   "id": "golden-induction",
   "metadata": {},
   "outputs": [
    {
     "data": {
      "text/markdown": [
       "<h4 id=\"MultiChannelImageDataLoaders.from_lists\" class=\"doc_header\"><code>MultiChannelImageDataLoaders.from_lists</code><a href=\"__main__.py#L87\" class=\"source_link\" style=\"float:right\">[source]</a></h4>\n",
       "\n",
       "> <code>MultiChannelImageDataLoaders.from_lists</code>(**`path`**, **`fnames`**, **`labels`**, **`chans`**=*`None`*, **`valid_pct`**=*`0.2`*, **`seed`**:`int`=*`None`*, **`y_block`**=*`None`*, **`item_tfms`**=*`None`*, **`batch_tfms`**=*`None`*, **`bs`**=*`64`*, **`val_bs`**=*`None`*, **`shuffle_train`**=*`True`*, **`device`**=*`None`*)\n",
       "\n",
       "Create from list of `fnames` in `path`.\n",
       "Optionally list the channels to use."
      ],
      "text/plain": [
       "<IPython.core.display.Markdown object>"
      ]
     },
     "metadata": {},
     "output_type": "display_data"
    }
   ],
   "source": [
    "show_doc(MultiChannelImageDataLoaders.from_lists)"
   ]
  },
  {
   "cell_type": "markdown",
   "id": "alive-muscle",
   "metadata": {},
   "source": [
    "## Segmentation"
   ]
  },
  {
   "cell_type": "code",
   "execution_count": null,
   "id": "signal-people",
   "metadata": {},
   "outputs": [],
   "source": [
    "#export\n",
    "class TifSegmentationDataLoaders(DataLoaders):\n",
    "    \"Needs a better name\"\n",
    "    @classmethod\n",
    "    @delegates(DataLoaders.from_dblock)\n",
    "    def from_label_func(cls, path, fnames, label_func, y_block=MaskBlock, chans=None, \n",
    "                         extensions=['.tif'], valid_pct=0.2, seed=None, \n",
    "                         codes=None, item_tfms=None, batch_tfms=None, **kwargs):\n",
    "        \"Create from list of `fnames` in `path`s with `label_func`.\"\n",
    "        dblock = DataBlock(blocks=(MultiChannelImageBlock(chans=chans), \n",
    "                                   y_block(codes=codes)),\n",
    "                           splitter=RandomSplitter(valid_pct, seed=seed),\n",
    "                           get_y=label_func,\n",
    "                           item_tfms=item_tfms,\n",
    "                           batch_tfms=batch_tfms)\n",
    "        res = cls.from_dblock(dblock, fnames, path=path, **kwargs)\n",
    "        return res"
   ]
  },
  {
   "cell_type": "code",
   "execution_count": null,
   "id": "split-overview",
   "metadata": {},
   "outputs": [],
   "source": [
    "#export\n",
    "\n",
    "@typedispatch\n",
    "def show_batch(x:TensorImage, y:TensorMask, samples, ctxs=None, max_n=6, nrows=None, ncols=2, figsize=None, **kwargs):\n",
    "    if figsize is None: figsize = (ncols*6, max_n//ncols * 3)\n",
    "    if ctxs is None: ctxs = get_grid(min(len(samples*2), max_n), nrows=nrows, ncols=ncols, add_vert=1, figsize=figsize,\n",
    "                                     double=False, title='Image/Target')        \n",
    "        \n",
    "    for i in range(2):\n",
    "        ctxs[::2] = [b.show(ctx=c, **kwargs) for b,c,_ in zip(samples.itemgot(0), ctxs[::2],range(2*max_n))]\n",
    "        ctxs[1::2] = [b.show(ctx=c, **kwargs) for b,c,_ in zip(samples.itemgot(i), ctxs[1::2],range(2*max_n))]\n",
    "\n",
    "    return ctxs"
   ]
  },
  {
   "cell_type": "code",
   "execution_count": null,
   "id": "postal-lyric",
   "metadata": {},
   "outputs": [],
   "source": [
    "#export\n",
    "\n",
    "class RegressionMask(TensorMask):\n",
    "    _show_args = ArrayImage._show_args\n",
    "    \n",
    "    def show(self, ctx=None, **kwargs):\n",
    "        if 'channels' in kwargs.keys(): kwargs.pop('channels')\n",
    "        return super().show(ctx=ctx, **kwargs)\n",
    "    \n",
    "    @classmethod\n",
    "    def create(cls, fn:(Path,str,ndarray), chans=None,  **kwargs) ->None:\n",
    "        if isinstance(fn, Tensor): fn = fn.numpy()\n",
    "        if isinstance(fn, ndarray): \n",
    "            im = torch.from_numpy(fn)\n",
    "            if chans is not None: im = im[chans]\n",
    "            return cls(im)\n",
    "        if isinstance(fn, Path) or isinstance(fn, str):\n",
    "            if str(fn).endswith('npy'): return cls(open_npy(fn=fn, chans=chans))\n",
    "            elif str(fn).endswith('.tif'): return cls(open_geotiff(fn=fn, chans=chans))\n",
    "\n",
    "RegressionMask.create = Transform(RegressionMask.create) \n",
    "\n",
    "def RegressionMaskBlock(cls=RegressionMask, **kwargs): \n",
    "    \"Default behaviour: use all channels\"\n",
    "    return TransformBlock(partial(cls.create))"
   ]
  }
 ],
 "metadata": {
  "kernelspec": {
   "display_name": "Python 3",
   "language": "python",
   "name": "python3"
  }
 },
 "nbformat": 4,
 "nbformat_minor": 5
}

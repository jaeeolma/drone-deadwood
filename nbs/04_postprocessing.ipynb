{
 "cells": [
  {
   "cell_type": "code",
   "execution_count": null,
   "metadata": {},
   "outputs": [],
   "source": [
    "#default_exp postproc"
   ]
  },
  {
   "cell_type": "markdown",
   "metadata": {},
   "source": [
    "# Postprocessing\n",
    "\n",
    "> Smoothing, combining etc."
   ]
  },
  {
   "cell_type": "code",
   "execution_count": null,
   "metadata": {},
   "outputs": [],
   "source": [
    "#hide\n",
    "from nbdev.showdoc import *"
   ]
  },
  {
   "cell_type": "code",
   "execution_count": null,
   "metadata": {},
   "outputs": [],
   "source": [
    "#export\n",
    "from drone_detector.imports import *\n",
    "from drone_detector.utils import *\n",
    "\n",
    "\n",
    "from skimage.morphology import erosion, dilation\n",
    "from scipy.ndimage.morphology import binary_fill_holes"
   ]
  },
  {
   "cell_type": "markdown",
   "metadata": {},
   "source": [
    "## Non-maximum suppression"
   ]
  },
  {
   "cell_type": "markdown",
   "metadata": {},
   "source": [
    "First the commonly used NMS with bounding boxes, that prioritizes either confidence score (default) or bounding box area."
   ]
  },
  {
   "cell_type": "code",
   "execution_count": null,
   "metadata": {},
   "outputs": [],
   "source": [
    "# export\n",
    " \n",
    "# Malisiewicz et al.\n",
    "def non_max_suppression_fast(boxes, scores, overlap_thresh:float, sort_criterion:str='score'):\n",
    "    \"Possibility to sort boxes by score (default) or area\"\n",
    "    \n",
    "    # if there are no boxes, return an empty list\n",
    "    if len(boxes) == 0:\n",
    "        return []\n",
    " \n",
    "    # if the bounding boxes integers, convert them to floats --\n",
    "    # this is important since we'll be doing a bunch of divisions\n",
    "    if boxes.dtype.kind == \"i\":\n",
    "        boxes = boxes.astype(\"float\")\n",
    " \n",
    "    # sort prediction by scores, \n",
    "\n",
    "    # initialize the list of picked indexes    \n",
    "    pick = []\n",
    " \n",
    "    # grab the coordinates of the bounding boxes\n",
    "    x1 = boxes[:,0]\n",
    "    y1 = boxes[:,1]\n",
    "    x2 = boxes[:,2]\n",
    "    y2 = boxes[:,3]\n",
    " \n",
    "    # compute the area of the bounding boxes and sort the bounding\n",
    "    # boxes by the bottom-right y-coordinate of the bounding box\n",
    "    area = (x2 - x1 + 1) * (y2 - y1 + 1)\n",
    "    if sort_criterion == 'score':\n",
    "        idxs = np.argsort(scores)\n",
    "    elif sort_criterion == 'area':\n",
    "        idxs = np.argsort(area)\n",
    "    else:\n",
    "        print('Unknown sort criteria, reverting to \"score\"')\n",
    "        idxs = np.argsort(scores)\n",
    "\n",
    "    # keep looping while some indexes still remain in the indexes\n",
    "    # list\n",
    "    while len(idxs) > 0:\n",
    "        # grab the last index in the indexes list and add the\n",
    "        # index value to the list of picked indexes\n",
    "        last = len(idxs) - 1\n",
    "        i = idxs[last]\n",
    "        pick.append(i)\n",
    " \n",
    "        # find the largest (x, y) coordinates for the start of\n",
    "        # the bounding box and the smallest (x, y) coordinates\n",
    "        # for the end of the bounding box\n",
    "        xx1 = np.maximum(x1[i], x1[idxs[:last]])\n",
    "        yy1 = np.maximum(y1[i], y1[idxs[:last]])\n",
    "        xx2 = np.minimum(x2[i], x2[idxs[:last]])\n",
    "        yy2 = np.minimum(y2[i], y2[idxs[:last]])\n",
    " \n",
    "        # compute the width and height of the bounding box\n",
    "        w = np.maximum(0, xx2 - xx1 + 1)\n",
    "        h = np.maximum(0, yy2 - yy1 + 1)\n",
    " \n",
    "        # compute the ratio of overlap\n",
    "        overlap = (w * h) / area[idxs[:last]]\n",
    " \n",
    "        # delete all indexes from the index list that have\n",
    "        idxs = np.delete(idxs, np.concatenate(([last],\n",
    "                         np.where(overlap > overlap_thresh)[0])))\n",
    " \n",
    "    # return indices for selected bounding boxes\n",
    "    return pick\n",
    "    #return boxes[pick].astype(\"int\")"
   ]
  },
  {
   "cell_type": "markdown",
   "metadata": {},
   "source": [
    "Non-max suppression can in theory be applied also on polygons, but it hasn't been used in any publications as far as I know.\n",
    "\n",
    "If `non_max_suppression_poly` is used to eliminate polygons, threshold might need to be smaller than typical value of 0.7 that is used."
   ]
  },
  {
   "cell_type": "code",
   "execution_count": null,
   "metadata": {},
   "outputs": [],
   "source": [
    "# export\n",
    "\n",
    "from drone_detector.metrics import poly_IoU\n",
    "\n",
    "def non_max_suppression_poly(geoms, scores, overlap_thresh:float, sort_criterion:str='score'):\n",
    "    \"Possibility to sort geoms by score (default) or area\"\n",
    "    \n",
    "    # if there are no geoms, return an empty list\n",
    "    if len(geoms) == 0:\n",
    "        return []\n",
    " \n",
    " \n",
    "    # sort prediction by scores, \n",
    "\n",
    "    # initialize the list of picked indexes    \n",
    "    pick = []\n",
    " \n",
    "    # compute the area of the bounding geoms and sort the bounding\n",
    "    # geoms by the bottom-right y-coordinate of the bounding box\n",
    "    area = np.array([geom.area for geom in geoms])\n",
    "    if sort_criterion == 'score':\n",
    "        idxs = np.argsort(scores)\n",
    "    elif sort_criterion == 'area':\n",
    "        idxs = np.argsort(area)\n",
    "    else:\n",
    "        print('Unknown sort criteria, reverting to \"score\"')\n",
    "        idxs = np.argsort(scores)\n",
    "\n",
    "    # keep looping while some indexes still remain in the indexes\n",
    "    # list\n",
    "    while len(idxs) > 0:\n",
    "        # grab the last index in the indexes list and add the\n",
    "        # index value to the list of picked indexes\n",
    "        last = len(idxs) - 1\n",
    "        i = idxs[last]\n",
    "        pick.append(i)\n",
    " \n",
    "        # compute the ratio of overlap with all other polygons\n",
    "        overlap = np.array([poly_IoU(geoms[i], geoms[k]) for k in idxs[:last]])\n",
    "        # delete all indexes from the index list that have\n",
    "        # overlap larger than overlap_thresh\n",
    "        idxs = np.delete(idxs, np.concatenate(([last],\n",
    "                         np.where(overlap > overlap_thresh)[0])))\n",
    "         \n",
    "    # return indices for selected bounding geoms\n",
    "    return pick"
   ]
  },
  {
   "cell_type": "markdown",
   "metadata": {},
   "source": [
    "Some utils to run above functions to `GeoDataFrames`"
   ]
  },
  {
   "cell_type": "code",
   "execution_count": null,
   "metadata": {},
   "outputs": [],
   "source": [
    "# export\n",
    "\n",
    "def do_nms(gdf:gpd.GeoDataFrame, nms_thresh=0.7, crit='score'):\n",
    "    gdf = gdf.copy()\n",
    "    np_bboxes = np.array([b.bounds for b in gdf.geometry])\n",
    "    scores = gdf.score.values\n",
    "    idxs = non_max_suppression_fast(np_bboxes, scores, nms_thresh, crit)\n",
    "    gdf = gdf.iloc[idxs]\n",
    "    return gdf\n",
    "\n",
    "def do_poly_nms(gdf:gpd.GeoDataFrame, nms_thresh=0.1, crit='score'):\n",
    "    gdf = gdf.copy()\n",
    "    scores = gdf.score.values\n",
    "    idxs = non_max_suppression_poly(gdf.geometry.values, scores, nms_thresh, crit)\n",
    "    gdf = gdf.iloc[idxs]\n",
    "    return gdf"
   ]
  },
  {
   "cell_type": "markdown",
   "metadata": {},
   "source": [
    "## Smoothing and filling holes"
   ]
  },
  {
   "cell_type": "markdown",
   "metadata": {},
   "source": [
    "Below functions are run before converting IceVision preds to COCO or shapefile format."
   ]
  },
  {
   "cell_type": "code",
   "execution_count": null,
   "metadata": {},
   "outputs": [],
   "source": [
    "# export\n",
    "\n",
    "def fill_holes(preds:list) -> list:\n",
    "    \"Run `binary_fill_holes` to predicted binary masks\"\n",
    "    for i, p in tqdm(enumerate(preds)):\n",
    "        for j in rangeof(p.pred.detection.label_ids):\n",
    "            p_mask = p.pred.detection.mask_array.to_mask(p.height, p.width).data[j]\n",
    "            p.pred.detection.mask_array.data[j] = binary_fill_holes(p_mask).astype(np.int8)\n",
    "    return preds\n",
    "    \n",
    "def dilate_erode(preds:list) -> list:\n",
    "    \"Run dilation followed by erosion in order to smooth masks\"\n",
    "    for i, p in tqdm(enumerate(preds)):\n",
    "        for j in rangeof(p.pred.detection.label_ids):\n",
    "            p_mask = p.pred.detection.mask_array.to_mask(p.height, p.width).data[j]\n",
    "            p.pred.detection.mask_array.data[j] = erosion(dilation(p_mask))\n",
    "    return preds"
   ]
  }
 ],
 "metadata": {
  "kernelspec": {
   "display_name": "Python 3",
   "language": "python",
   "name": "python3"
  }
 },
 "nbformat": 4,
 "nbformat_minor": 4
}

{
 "cells": [
  {
   "cell_type": "code",
   "execution_count": null,
   "metadata": {},
   "outputs": [],
   "source": [
    "#default_exp postproc"
   ]
  },
  {
   "cell_type": "markdown",
   "metadata": {},
   "source": [
    "# Postprocessing\n",
    "\n",
    "> Smoothing, combining etc."
   ]
  },
  {
   "cell_type": "code",
   "execution_count": null,
   "metadata": {},
   "outputs": [],
   "source": [
    "#hide\n",
    "from nbdev.showdoc import *"
   ]
  },
  {
   "cell_type": "code",
   "execution_count": null,
   "metadata": {},
   "outputs": [],
   "source": [
    "#export\n",
    "from pathlib import Path\n",
    "import os\n",
    "import geopandas as gpd\n",
    "import pandas as pd\n",
    "import shapely\n",
    "from shapely.geometry import Point, Polygon, box, shape\n",
    "import numpy as np\n",
    "from itertools import product\n",
    "from typing import Tuple\n",
    "from tqdm import tqdm\n",
    "import matplotlib.pyplot as plt"
   ]
  },
  {
   "cell_type": "markdown",
   "metadata": {},
   "source": [
    "## Math"
   ]
  },
  {
   "cell_type": "code",
   "execution_count": null,
   "metadata": {},
   "outputs": [],
   "source": [
    "# export\n",
    "\n",
    "def poly_IoU(poly_1:Polygon, poly_2:Polygon) -> float:\n",
    "    \"IoU for polygons\"\n",
    "    area_intersection = poly_1.intersection(poly_2).area\n",
    "    area_union = poly_1.union(poly_2).area\n",
    "    iou = area_intersection / area_union\n",
    "    return iou\n",
    "\n",
    "def poly_intersection_over_area(poly_1:Polygon, poly_2:Polygon) -> float:\n",
    "    \"How much of smaller polygon is contained within larger\"\n",
    "    if poly_1.area > poly_2.area: \n",
    "        smaller = poly_2\n",
    "        larger = poly_1\n",
    "    else: \n",
    "        smaller = poly_1\n",
    "        larger = poly_2\n",
    "    area_intersection = larger.intersection(smaller).area\n",
    "    intersection_over_area = area_intersection / smaller.area\n",
    "    return intersection_over_area"
   ]
  },
  {
   "cell_type": "code",
   "execution_count": null,
   "metadata": {},
   "outputs": [],
   "source": [
    "test_data = gpd.read_file('../../drone-tree-detection/test_preds.shp')"
   ]
  },
  {
   "cell_type": "code",
   "execution_count": null,
   "metadata": {},
   "outputs": [],
   "source": [
    "fallen = test_data[test_data.label == 2]\n",
    "fallen.reset_index(inplace=True)"
   ]
  },
  {
   "cell_type": "code",
   "execution_count": null,
   "metadata": {},
   "outputs": [],
   "source": [
    "inters_dict = {}\n",
    "for i, row in fallen.iterrows():\n",
    "    if any(fallen.geometry.intersects(row.geometry)): \n",
    "        inters_dict[i] = fallen[fallen.geometry.intersects(row.geometry)].index.tolist()\n",
    "        inters_dict[i].remove(i)\n",
    "    "
   ]
  },
  {
   "cell_type": "code",
   "execution_count": null,
   "metadata": {},
   "outputs": [
    {
     "data": {
      "text/plain": [
       "[506, 508, 524, 656, 657]"
      ]
     },
     "execution_count": null,
     "metadata": {},
     "output_type": "execute_result"
    }
   ],
   "source": [
    "fallen[fallen.geometry.intersects(row.geometry)].index.tolist()"
   ]
  },
  {
   "cell_type": "code",
   "execution_count": null,
   "metadata": {},
   "outputs": [
    {
     "data": {
      "text/plain": [
       "0.8055883510503123"
      ]
     },
     "execution_count": null,
     "metadata": {},
     "output_type": "execute_result"
    }
   ],
   "source": [
    "poly_IoU(fallen.iloc[1].geometry, fallen.iloc[33].geometry)"
   ]
  },
  {
   "cell_type": "code",
   "execution_count": null,
   "metadata": {},
   "outputs": [
    {
     "data": {
      "text/plain": [
       "0.9420156465508968"
      ]
     },
     "execution_count": null,
     "metadata": {},
     "output_type": "execute_result"
    }
   ],
   "source": [
    "poly_intersection_over_area(fallen.iloc[33].geometry, fallen.iloc[1].geometry)"
   ]
  },
  {
   "cell_type": "code",
   "execution_count": null,
   "metadata": {},
   "outputs": [
    {
     "data": {
      "text/plain": [
       "<AxesSubplot:>"
      ]
     },
     "execution_count": null,
     "metadata": {},
     "output_type": "execute_result"
    },
    {
     "data": {
      "image/png": "[encoded data removed]",
      "text/plain": [
       "<Figure size 432x288 with 1 Axes>"
      ]
     },
     "metadata": {
      "needs_background": "light"
     },
     "output_type": "display_data"
    }
   ],
   "source": [
    "fallen.iloc[[28,11,32,37,38,39,40]].plot(facecolor='none', edgecolor='black', lw=0.7)"
   ]
  },
  {
   "cell_type": "code",
   "execution_count": null,
   "metadata": {},
   "outputs": [
    {
     "data": {
      "text/plain": [
       "True"
      ]
     },
     "execution_count": null,
     "metadata": {},
     "output_type": "execute_result"
    }
   ],
   "source": [
    "fallen.iloc[44].geometry.intersects(fallen.iloc[0].geometry)"
   ]
  },
  {
   "cell_type": "code",
   "execution_count": null,
   "metadata": {},
   "outputs": [
    {
     "data": {
      "text/plain": [
       "{0: [44, 45],\n",
       " 1: [33],\n",
       " 2: [43, 528, 551],\n",
       " 3: [23],\n",
       " 4: [43],\n",
       " 5: [34, 43],\n",
       " 6: [14, 35, 36, 43],\n",
       " 7: [553, 555],\n",
       " 8: [],\n",
       " 9: [46],\n",
       " 10: [18, 24, 29, 30],\n",
       " 11: [27, 28, 32, 37],\n",
       " 12: [],\n",
       " 13: [],\n",
       " 14: [6, 35, 36],\n",
       " 15: [],\n",
       " 16: [],\n",
       " 17: [],\n",
       " 18: [10, 24],\n",
       " 19: [],\n",
       " 20: [41],\n",
       " 21: [42],\n",
       " 22: [41, 42],\n",
       " 23: [3],\n",
       " 24: [10, 18, 29, 30],\n",
       " 25: [],\n",
       " 26: [],\n",
       " 27: [11, 32],\n",
       " 28: [11, 32, 37, 38, 39, 40],\n",
       " 29: [10, 24],\n",
       " 30: [10, 24],\n",
       " 31: [],\n",
       " 32: [11, 27, 28, 37],\n",
       " 33: [1],\n",
       " 34: [5, 43],\n",
       " 35: [6, 14],\n",
       " 36: [6, 14],\n",
       " 37: [11, 28, 32],\n",
       " 38: [28],\n",
       " 39: [28],\n",
       " 40: [28],\n",
       " 41: [20, 22],\n",
       " 42: [21, 22],\n",
       " 43: [2, 4, 5, 6, 34, 528, 551],\n",
       " 44: [0],\n",
       " 45: [0],\n",
       " 46: [9],\n",
       " 47: [],\n",
       " 48: [],\n",
       " 49: [],\n",
       " 50: [56, 61, 63, 64, 69, 113],\n",
       " 51: [62, 112],\n",
       " 52: [110, 115],\n",
       " 53: [66, 69],\n",
       " 54: [70],\n",
       " 55: [],\n",
       " 56: [50, 61, 63, 64, 69, 113],\n",
       " 57: [60, 68],\n",
       " 58: [60, 68],\n",
       " 59: [],\n",
       " 60: [57, 58, 68],\n",
       " 61: [50, 56],\n",
       " 62: [51, 112],\n",
       " 63: [50, 56, 113],\n",
       " 64: [50, 56, 69, 113],\n",
       " 65: [69],\n",
       " 66: [53, 69],\n",
       " 67: [],\n",
       " 68: [57, 58, 60],\n",
       " 69: [50, 53, 56, 64, 65, 66],\n",
       " 70: [54],\n",
       " 71: [76],\n",
       " 72: [74, 615, 622],\n",
       " 73: [],\n",
       " 74: [72, 615, 622],\n",
       " 75: [],\n",
       " 76: [71],\n",
       " 77: [],\n",
       " 78: [],\n",
       " 79: [86],\n",
       " 80: [87],\n",
       " 81: [],\n",
       " 82: [88],\n",
       " 83: [],\n",
       " 84: [],\n",
       " 85: [87],\n",
       " 86: [79],\n",
       " 87: [80, 85],\n",
       " 88: [82],\n",
       " 89: [],\n",
       " 90: [98],\n",
       " 91: [],\n",
       " 92: [93, 96, 97],\n",
       " 93: [92, 96, 97],\n",
       " 94: [],\n",
       " 95: [336, 339, 360],\n",
       " 96: [92, 93],\n",
       " 97: [92, 93],\n",
       " 98: [90],\n",
       " 99: [],\n",
       " 100: [355],\n",
       " 101: [],\n",
       " 102: [109],\n",
       " 103: [],\n",
       " 104: [],\n",
       " 105: [],\n",
       " 106: [],\n",
       " 107: [],\n",
       " 108: [],\n",
       " 109: [102],\n",
       " 110: [52, 115],\n",
       " 111: [116],\n",
       " 112: [51, 62],\n",
       " 113: [50, 56, 63, 64],\n",
       " 114: [],\n",
       " 115: [52, 110],\n",
       " 116: [111],\n",
       " 117: [],\n",
       " 118: [],\n",
       " 119: [],\n",
       " 120: [],\n",
       " 121: [129],\n",
       " 122: [],\n",
       " 123: [128],\n",
       " 124: [505],\n",
       " 125: [],\n",
       " 126: [],\n",
       " 127: [],\n",
       " 128: [123],\n",
       " 129: [121],\n",
       " 130: [133],\n",
       " 131: [132],\n",
       " 132: [131],\n",
       " 133: [130],\n",
       " 134: [142],\n",
       " 135: [138, 141],\n",
       " 136: [],\n",
       " 137: [140],\n",
       " 138: [135],\n",
       " 139: [],\n",
       " 140: [137],\n",
       " 141: [135],\n",
       " 142: [134],\n",
       " 143: [149, 317],\n",
       " 144: [],\n",
       " 145: [146, 147, 149],\n",
       " 146: [145, 147, 149],\n",
       " 147: [145, 146, 149],\n",
       " 148: [149],\n",
       " 149: [143, 145, 146, 147, 148],\n",
       " 150: [152, 155],\n",
       " 151: [],\n",
       " 152: [150, 154, 155],\n",
       " 153: [],\n",
       " 154: [152, 155],\n",
       " 155: [150, 152, 154],\n",
       " 156: [],\n",
       " 157: [],\n",
       " 158: [161],\n",
       " 159: [],\n",
       " 160: [487, 492],\n",
       " 161: [158],\n",
       " 162: [],\n",
       " 163: [],\n",
       " 164: [374],\n",
       " 165: [],\n",
       " 166: [],\n",
       " 167: [],\n",
       " 168: [],\n",
       " 169: [],\n",
       " 170: [],\n",
       " 171: [],\n",
       " 172: [],\n",
       " 173: [],\n",
       " 174: [],\n",
       " 175: [179],\n",
       " 176: [],\n",
       " 177: [],\n",
       " 178: [],\n",
       " 179: [175],\n",
       " 180: [181],\n",
       " 181: [180],\n",
       " 182: [],\n",
       " 183: [],\n",
       " 184: [232],\n",
       " 185: [],\n",
       " 186: [],\n",
       " 187: [],\n",
       " 188: [],\n",
       " 189: [],\n",
       " 190: [],\n",
       " 191: [],\n",
       " 192: [204, 205, 216, 217, 225, 226, 228, 229],\n",
       " 193: [],\n",
       " 194: [228],\n",
       " 195: [228],\n",
       " 196: [227, 228],\n",
       " 197: [205],\n",
       " 198: [219, 220],\n",
       " 199: [206, 218],\n",
       " 200: [],\n",
       " 201: [],\n",
       " 202: [],\n",
       " 203: [207, 213, 224],\n",
       " 204: [192, 205, 217, 229],\n",
       " 205: [192, 197, 204, 216, 217, 225, 226, 228, 229],\n",
       " 206: [199, 218],\n",
       " 207: [203, 210, 211, 212, 222],\n",
       " 208: [],\n",
       " 209: [],\n",
       " 210: [207, 222],\n",
       " 211: [207, 222],\n",
       " 212: [207, 222],\n",
       " 213: [203],\n",
       " 214: [],\n",
       " 215: [230],\n",
       " 216: [192, 205, 226],\n",
       " 217: [192, 204, 205, 229],\n",
       " 218: [199, 206],\n",
       " 219: [198],\n",
       " 220: [198],\n",
       " 221: [],\n",
       " 222: [207, 210, 211, 212],\n",
       " 223: [],\n",
       " 224: [203],\n",
       " 225: [192, 205, 228],\n",
       " 226: [192, 205, 216],\n",
       " 227: [196, 228],\n",
       " 228: [192, 194, 195, 196, 205, 225, 227],\n",
       " 229: [192, 204, 205, 217],\n",
       " 230: [215],\n",
       " 231: [],\n",
       " 232: [184],\n",
       " 233: [],\n",
       " 234: [235],\n",
       " 235: [234],\n",
       " 236: [],\n",
       " 237: [238],\n",
       " 238: [237],\n",
       " 239: [],\n",
       " 240: [],\n",
       " 241: [243, 245],\n",
       " 242: [247],\n",
       " 243: [241, 245],\n",
       " 244: [246],\n",
       " 245: [241, 243],\n",
       " 246: [244],\n",
       " 247: [242],\n",
       " 248: [258, 259, 260, 287],\n",
       " 249: [264, 383, 384, 391],\n",
       " 250: [277, 281],\n",
       " 251: [293, 429],\n",
       " 252: [439, 441],\n",
       " 253: [],\n",
       " 254: [282, 286, 288],\n",
       " 255: [261],\n",
       " 256: [299],\n",
       " 257: [275, 284],\n",
       " 258: [248, 287],\n",
       " 259: [248],\n",
       " 260: [248],\n",
       " 261: [255],\n",
       " 262: [283, 300],\n",
       " 263: [306, 385, 417, 462],\n",
       " 264: [249, 383, 384, 390, 391],\n",
       " 265: [276, 295, 296, 302],\n",
       " 266: [298],\n",
       " 267: [274],\n",
       " 268: [274],\n",
       " 269: [294],\n",
       " 270: [278, 279, 280, 289, 290, 291, 292, 294, 301],\n",
       " 271: [],\n",
       " 272: [],\n",
       " 273: [],\n",
       " 274: [267, 268],\n",
       " 275: [257, 284],\n",
       " 276: [265, 295, 296, 302],\n",
       " 277: [250, 281],\n",
       " 278: [270, 294],\n",
       " 279: [270, 294],\n",
       " 280: [270, 291, 294, 301],\n",
       " 281: [250, 277],\n",
       " 282: [254, 286, 288],\n",
       " 283: [262, 300],\n",
       " 284: [257, 275],\n",
       " 285: [],\n",
       " 286: [254, 282],\n",
       " 287: [248, 258],\n",
       " 288: [254, 282],\n",
       " 289: [270, 294],\n",
       " 290: [270, 294, 301],\n",
       " 291: [270, 280, 294, 301],\n",
       " 292: [270],\n",
       " 293: [251, 429],\n",
       " 294: [269, 270, 278, 279, 280, 289, 290, 291, 301],\n",
       " 295: [265, 276],\n",
       " 296: [265, 276],\n",
       " 297: [],\n",
       " 298: [266],\n",
       " 299: [256],\n",
       " 300: [262, 283],\n",
       " 301: [270, 280, 290, 291, 294],\n",
       " 302: [265, 276],\n",
       " 303: [],\n",
       " 304: [461],\n",
       " 305: [],\n",
       " 306: [263, 385, 417, 462],\n",
       " 307: [308],\n",
       " 308: [307],\n",
       " 309: [],\n",
       " 310: [],\n",
       " 311: [],\n",
       " 312: [],\n",
       " 313: [371],\n",
       " 314: [369, 372],\n",
       " 315: [316],\n",
       " 316: [315],\n",
       " 317: [143],\n",
       " 318: [340],\n",
       " 319: [323, 356],\n",
       " 320: [],\n",
       " 321: [],\n",
       " 322: [357],\n",
       " 323: [319, 356],\n",
       " 324: [356],\n",
       " 325: [349, 356],\n",
       " 326: [350],\n",
       " 327: [351, 352],\n",
       " 328: [341, 353, 358],\n",
       " 329: [341, 353, 358],\n",
       " 330: [],\n",
       " 331: [],\n",
       " 332: [347, 354],\n",
       " 333: [],\n",
       " 334: [],\n",
       " 335: [345],\n",
       " 336: [95, 339, 360],\n",
       " 337: [338],\n",
       " 338: [337],\n",
       " 339: [95, 336, 360],\n",
       " 340: [318],\n",
       " 341: [328, 329, 353, 358],\n",
       " 342: [],\n",
       " 343: [],\n",
       " 344: [],\n",
       " 345: [335],\n",
       " 346: [],\n",
       " 347: [332, 354],\n",
       " 348: [],\n",
       " 349: [325, 356],\n",
       " 350: [326],\n",
       " 351: [327],\n",
       " 352: [327],\n",
       " 353: [328, 329, 341, 358],\n",
       " 354: [332, 347],\n",
       " 355: [100],\n",
       " 356: [319, 323, 324, 325, 349],\n",
       " 357: [322],\n",
       " 358: [328, 329, 341, 353],\n",
       " 359: [],\n",
       " 360: [95, 336, 339],\n",
       " 361: [],\n",
       " 362: [],\n",
       " 363: [],\n",
       " 364: [],\n",
       " 365: [367],\n",
       " 366: [368],\n",
       " 367: [365],\n",
       " 368: [366],\n",
       " 369: [314, 372],\n",
       " 370: [],\n",
       " 371: [313],\n",
       " 372: [314, 369],\n",
       " 373: [],\n",
       " 374: [164],\n",
       " 375: [379, 382],\n",
       " 376: [378, 382],\n",
       " 377: [],\n",
       " 378: [376, 382],\n",
       " 379: [375, 382],\n",
       " 380: [382],\n",
       " 381: [],\n",
       " 382: [375, 376, 378, 379, 380],\n",
       " 383: [249, 264, 384, 390, 391],\n",
       " 384: [249, 264, 383, 391],\n",
       " 385: [263, 306, 417, 462],\n",
       " 386: [389, 395],\n",
       " 387: [],\n",
       " 388: [394, 395],\n",
       " 389: [386, 395, 399],\n",
       " 390: [264, 383],\n",
       " 391: [249, 264, 383, 384],\n",
       " 392: [396, 397],\n",
       " 393: [],\n",
       " 394: [388],\n",
       " 395: [386, 388, 389, 399],\n",
       " 396: [392],\n",
       " 397: [392],\n",
       " 398: [],\n",
       " 399: [389, 395],\n",
       " 400: [],\n",
       " 401: [],\n",
       " 402: [],\n",
       " 403: [409],\n",
       " 404: [408],\n",
       " 405: [407],\n",
       " 406: [],\n",
       " 407: [405],\n",
       " 408: [404],\n",
       " 409: [403],\n",
       " 410: [],\n",
       " 411: [],\n",
       " 412: [],\n",
       " 413: [],\n",
       " 414: [],\n",
       " 415: [416],\n",
       " 416: [415],\n",
       " 417: [263, 306, 385, 462],\n",
       " 418: [473],\n",
       " 419: [],\n",
       " 420: [461],\n",
       " 421: [646],\n",
       " 422: [443, 444, 445, 459, 460, 468, 469, 470],\n",
       " 423: [],\n",
       " 424: [],\n",
       " 425: [431, 463],\n",
       " 426: [],\n",
       " 427: [442],\n",
       " 428: [],\n",
       " 429: [251, 293],\n",
       " 430: [],\n",
       " 431: [425, 463],\n",
       " 432: [],\n",
       " 433: [],\n",
       " 434: [456],\n",
       " 435: [],\n",
       " 436: [456],\n",
       " 437: [443, 457, 458, 459, 468],\n",
       " 438: [],\n",
       " 439: [252, 441],\n",
       " 440: [],\n",
       " 441: [252, 439],\n",
       " 442: [427],\n",
       " 443: [422, 437, 459, 468, 469, 470],\n",
       " 444: [422, 459, 460, 470],\n",
       " 445: [422],\n",
       " 446: [],\n",
       " 447: [],\n",
       " 448: [],\n",
       " 449: [],\n",
       " 450: [],\n",
       " 451: [464, 465, 467, 471],\n",
       " 452: [471],\n",
       " 453: [471],\n",
       " 454: [471],\n",
       " 455: [471],\n",
       " 456: [434, 436],\n",
       " 457: [437],\n",
       " 458: [437],\n",
       " 459: [422, 437, 443, 444, 468, 469, 470],\n",
       " 460: [422, 444, 470],\n",
       " 461: [304, 420],\n",
       " 462: [263, 306, 385, 417],\n",
       " 463: [425, 431],\n",
       " 464: [451, 465, 466],\n",
       " 465: [451, 464],\n",
       " 466: [464],\n",
       " 467: [451, 471],\n",
       " 468: [422, 437, 443, 459],\n",
       " 469: [422, 443, 459],\n",
       " 470: [422, 443, 444, 459, 460],\n",
       " 471: [451, 452, 453, 454, 455, 467],\n",
       " 472: [],\n",
       " 473: [418],\n",
       " 474: [475],\n",
       " 475: [474],\n",
       " 476: [],\n",
       " 477: [511],\n",
       " 478: [485],\n",
       " 479: [],\n",
       " 480: [484, 510, 512],\n",
       " 481: [483],\n",
       " 482: [],\n",
       " 483: [481],\n",
       " 484: [480, 510, 512],\n",
       " 485: [478],\n",
       " 486: [],\n",
       " 487: [160, 492],\n",
       " 488: [],\n",
       " 489: [],\n",
       " 490: [494],\n",
       " 491: [],\n",
       " 492: [160, 487],\n",
       " 493: [],\n",
       " 494: [490],\n",
       " 495: [],\n",
       " 496: [499],\n",
       " 497: [],\n",
       " 498: [],\n",
       " 499: [496],\n",
       " 500: [501, 502],\n",
       " 501: [500, 502],\n",
       " 502: [500, 501],\n",
       " 503: [507],\n",
       " 504: [],\n",
       " 505: [124],\n",
       " 506: [508, 524, 656, 657],\n",
       " 507: [503],\n",
       " 508: [506, 524, 656, 657],\n",
       " 509: [],\n",
       " 510: [480, 484, 512],\n",
       " 511: [477],\n",
       " 512: [480, 484, 510],\n",
       " 513: [514],\n",
       " 514: [513],\n",
       " 515: [517],\n",
       " 516: [518],\n",
       " 517: [515],\n",
       " 518: [516],\n",
       " 519: [],\n",
       " 520: [],\n",
       " 521: [],\n",
       " 522: [523],\n",
       " 523: [522],\n",
       " 524: [506, 508, 656, 657],\n",
       " 525: [558, 559],\n",
       " 526: [],\n",
       " 527: [539],\n",
       " 528: [2, 43, 551, 552, 555],\n",
       " 529: [],\n",
       " 530: [543],\n",
       " 531: [557, 561],\n",
       " 532: [547],\n",
       " 533: [],\n",
       " 534: [],\n",
       " 535: [573, 574, 575],\n",
       " 536: [],\n",
       " 537: [540, 541, 542],\n",
       " 538: [],\n",
       " 539: [527],\n",
       " 540: [537],\n",
       " 541: [537],\n",
       " 542: [537],\n",
       " 543: [530],\n",
       " 544: [],\n",
       " 545: [],\n",
       " 546: [547, 563, 564],\n",
       " 547: [532, 546, 564, 565],\n",
       " 548: [],\n",
       " 549: [567, 568, 576, 577],\n",
       " 550: [560],\n",
       " 551: [2, 43, 528],\n",
       " 552: [528, 555],\n",
       " 553: [7, 555],\n",
       " 554: [],\n",
       " 555: [7, 528, 552, 553],\n",
       " 556: [586, 587, 588, 589],\n",
       " 557: [531, 561],\n",
       " 558: [525],\n",
       " 559: [525],\n",
       " 560: [550],\n",
       " 561: [531, 557],\n",
       " 562: [],\n",
       " 563: [546],\n",
       " 564: [546, 547],\n",
       " 565: [547],\n",
       " 566: [],\n",
       " 567: [549, 576, 577],\n",
       " 568: [549, 577],\n",
       " 569: [580],\n",
       " 570: [581],\n",
       " 571: [],\n",
       " 572: [],\n",
       " 573: [535, 595],\n",
       " 574: [535],\n",
       " 575: [535],\n",
       " 576: [549, 567],\n",
       " 577: [549, 567, 568],\n",
       " 578: [],\n",
       " 579: [],\n",
       " 580: [569],\n",
       " 581: [570],\n",
       " 582: [],\n",
       " 583: [],\n",
       " 584: [],\n",
       " 585: [],\n",
       " 586: [556],\n",
       " 587: [556],\n",
       " 588: [556],\n",
       " 589: [556],\n",
       " 590: [],\n",
       " 591: [],\n",
       " 592: [],\n",
       " 593: [],\n",
       " 594: [],\n",
       " 595: [573],\n",
       " 596: [601, 618],\n",
       " 597: [599, 600, 608, 611],\n",
       " 598: [600, 608, 609, 612, 616, 619, 623],\n",
       " 599: [597, 600, 608, 611],\n",
       " 600: [597, 598, 599, 608, 609, 612, 616, 619, 623],\n",
       " 601: [596, 618],\n",
       " 602: [617],\n",
       " 603: [605, 606, 607, 613, 614, 615, 621],\n",
       " 604: [],\n",
       " 605: [603, 606, 607, 613, 614, 615, 621],\n",
       " 606: [603, 605, 610, 613, 620],\n",
       " 607: [603, 605],\n",
       " 608: [597, 598, 599, 600, 609, 611, 612, 619, 623],\n",
       " 609: [598, 600, 608, 612, 616, 623],\n",
       " 610: [606, 620],\n",
       " 611: [597, 599, 608],\n",
       " 612: [598, 600, 608, 609],\n",
       " 613: [603, 605, 606],\n",
       " 614: [603, 605],\n",
       " 615: [72, 74, 603, 605, 621, 622],\n",
       " 616: [598, 600, 609, 623],\n",
       " 617: [602],\n",
       " 618: [596, 601],\n",
       " 619: [598, 600, 608],\n",
       " 620: [606, 610],\n",
       " 621: [603, 605, 615],\n",
       " 622: [72, 74, 615],\n",
       " 623: [598, 600, 608, 609, 616],\n",
       " 624: [625],\n",
       " 625: [624],\n",
       " 626: [],\n",
       " 627: [628],\n",
       " 628: [627],\n",
       " 629: [],\n",
       " 630: [],\n",
       " 631: [633, 635, 636],\n",
       " 632: [],\n",
       " 633: [631],\n",
       " 634: [636],\n",
       " 635: [631, 636],\n",
       " 636: [631, 634, 635],\n",
       " 637: [],\n",
       " 638: [],\n",
       " 639: [650],\n",
       " 640: [648],\n",
       " 641: [648],\n",
       " 642: [649],\n",
       " 643: [],\n",
       " 644: [651],\n",
       " 645: [],\n",
       " 646: [421],\n",
       " 647: [652],\n",
       " 648: [640, 641],\n",
       " 649: [642],\n",
       " 650: [639],\n",
       " 651: [644],\n",
       " 652: [647],\n",
       " 653: [],\n",
       " 654: [],\n",
       " 655: [],\n",
       " 656: [506, 508, 524, 657],\n",
       " 657: [506, 508, 524, 656]}"
      ]
     },
     "execution_count": null,
     "metadata": {},
     "output_type": "execute_result"
    }
   ],
   "source": [
    "inters_dict"
   ]
  },
  {
   "cell_type": "markdown",
   "metadata": {},
   "source": [
    "# Vector shapefile postprocessing"
   ]
  },
  {
   "cell_type": "markdown",
   "metadata": {},
   "source": [
    "Steps in postprocessing:\n",
    "1. Drop all polygons that are within another polygon of a same class\n",
    "2. Merge all polygons of a same class that have IoU / IoA larger than (p1.union(p2))"
   ]
  },
  {
   "cell_type": "code",
   "execution_count": null,
   "metadata": {},
   "outputs": [],
   "source": [
    "iswithin = []\n",
    "for i, row in fallen.iterrows():\n",
    "    within = fallen[fallen.geometry.contains(row.geometry)].index.tolist()\n",
    "    within.remove(i)\n",
    "    if len(within) > 0: iswithin.append(1)\n",
    "    else: iswithin.append(0)"
   ]
  },
  {
   "cell_type": "code",
   "execution_count": null,
   "metadata": {},
   "outputs": [
    {
     "name": "stderr",
     "output_type": "stream",
     "text": [
      "/home/mayrajeo/miniconda3/envs/enveco/lib/python3.8/site-packages/geopandas/geodataframe.py:853: SettingWithCopyWarning: \n",
      "A value is trying to be set on a copy of a slice from a DataFrame.\n",
      "Try using .loc[row_indexer,col_indexer] = value instead\n",
      "\n",
      "See the caveats in the documentation: https://pandas.pydata.org/pandas-docs/stable/user_guide/indexing.html#returning-a-view-versus-a-copy\n",
      "  super(GeoDataFrame, self).__setitem__(key, value)\n"
     ]
    }
   ],
   "source": [
    "fallen['is_within'] = iswithin"
   ]
  },
  {
   "cell_type": "code",
   "execution_count": null,
   "metadata": {},
   "outputs": [
    {
     "data": {
      "text/plain": [
       "0    574\n",
       "1     84\n",
       "Name: is_within, dtype: int64"
      ]
     },
     "execution_count": null,
     "metadata": {},
     "output_type": "execute_result"
    }
   ],
   "source": [
    "fallen.is_within.value_counts()"
   ]
  },
  {
   "cell_type": "code",
   "execution_count": null,
   "metadata": {},
   "outputs": [],
   "source": [
    "fallen = fallen[fallen.is_within == 0]\n",
    "fallen.reset_index(inplace=True, drop=True)"
   ]
  },
  {
   "cell_type": "code",
   "execution_count": null,
   "metadata": {},
   "outputs": [],
   "source": [
    "fallen.to_file('../../drone-tree-detection/within_removed.shp')"
   ]
  },
  {
   "cell_type": "code",
   "execution_count": null,
   "metadata": {},
   "outputs": [
    {
     "data": {
      "text/plain": [
       "1      POLYGON ((402671.653 6787656.170, 402671.629 6...\n",
       "2      POLYGON ((402668.209 6787655.540, 402668.185 6...\n",
       "3      POLYGON ((402670.877 6787653.988, 402670.853 6...\n",
       "4      POLYGON ((402670.586 6787652.581, 402670.562 6...\n",
       "5      POLYGON ((402675.534 6787646.275, 402675.510 6...\n",
       "                             ...                        \n",
       "576    POLYGON ((402679.463 6787745.666, 402679.414 6...\n",
       "577    POLYGON ((402380.077 6787926.743, 402380.053 6...\n",
       "578    POLYGON ((402381.921 6787926.694, 402381.872 6...\n",
       "579    POLYGON ((402385.316 6787931.594, 402385.268 6...\n",
       "580    POLYGON ((402385.365 6787931.594, 402385.316 6...\n",
       "Name: geometry, Length: 580, dtype: geometry"
      ]
     },
     "execution_count": null,
     "metadata": {},
     "output_type": "execute_result"
    }
   ],
   "source": [
    "fallen.iloc[i+1:].geometry"
   ]
  },
  {
   "cell_type": "code",
   "execution_count": null,
   "metadata": {},
   "outputs": [
    {
     "data": {
      "text/html": [
       "<div>\n",
       "<style scoped>\n",
       "    .dataframe tbody tr th:only-of-type {\n",
       "        vertical-align: middle;\n",
       "    }\n",
       "\n",
       "    .dataframe tbody tr th {\n",
       "        vertical-align: top;\n",
       "    }\n",
       "\n",
       "    .dataframe thead th {\n",
       "        text-align: right;\n",
       "    }\n",
       "</style>\n",
       "<table border=\"1\" class=\"dataframe\">\n",
       "  <thead>\n",
       "    <tr style=\"text-align: right;\">\n",
       "      <th></th>\n",
       "      <th>index</th>\n",
       "      <th>label</th>\n",
       "      <th>geometry</th>\n",
       "      <th>is_within</th>\n",
       "    </tr>\n",
       "  </thead>\n",
       "  <tbody>\n",
       "    <tr>\n",
       "      <th>24</th>\n",
       "      <td>36</td>\n",
       "      <td>2</td>\n",
       "      <td>POLYGON ((402661.515 6787635.167, 402661.467 6...</td>\n",
       "      <td>0</td>\n",
       "    </tr>\n",
       "  </tbody>\n",
       "</table>\n",
       "</div>"
      ],
      "text/plain": [
       "    index  label                                           geometry  is_within\n",
       "24     36      2  POLYGON ((402661.515 6787635.167, 402661.467 6...          0"
      ]
     },
     "execution_count": null,
     "metadata": {},
     "output_type": "execute_result"
    }
   ],
   "source": [
    "fallen.iloc[i+1:][fallen.iloc[(i+1):].geometry.intersects(row.geometry)]"
   ]
  },
  {
   "cell_type": "code",
   "execution_count": null,
   "metadata": {},
   "outputs": [],
   "source": [
    "new_geoms = []\n",
    "\n",
    "for i, geom in enumerate(fallen.geometry):\n",
    "    if any(fallen.geometry[i+1:].intersects(geom)): \n",
    "        potential_joins = fallen.iloc[i+1:][fallen.geometry[i+1:].intersects(geom)].index.tolist()\n",
    "        if len(potential_joins) == 0: new_geoms.append(geom)\n",
    "        geom_to_test = geom\n",
    "        for p in potential_joins:\n",
    "            iou = poly_IoU(geom_to_test, fallen.iloc[p].geometry)\n",
    "            ioa = poly_intersection_over_area(geom_to_test, fallen.iloc[p].geometry)\n",
    "            if iou > 0.7 or ioa > 0.7: \n",
    "                new_geoms.append(geom.union(fallen.iloc[p].geometry))\n",
    "                geom_to_test = geom.union(fallen.iloc[p].geometry)\n",
    "            else:\n",
    "                new_geoms.append(fallen.iloc[p].geometry)\n"
   ]
  },
  {
   "cell_type": "code",
   "execution_count": null,
   "metadata": {},
   "outputs": [],
   "source": [
    "new_fallen = gpd.GeoDataFrame({'geometry': new_geoms})\n",
    "new_fallen['label'] = 'Fallen'"
   ]
  },
  {
   "cell_type": "code",
   "execution_count": null,
   "metadata": {},
   "outputs": [
    {
     "data": {
      "text/plain": [
       "<AxesSubplot:>"
      ]
     },
     "execution_count": null,
     "metadata": {},
     "output_type": "execute_result"
    },
    {
     "data": {
      "image/png": "[encoded data removed]",
      "text/plain": [
       "<Figure size 432x288 with 1 Axes>"
      ]
     },
     "metadata": {
      "needs_background": "light"
     },
     "output_type": "display_data"
    }
   ],
   "source": [
    "new_fallen.plot()\n"
   ]
  },
  {
   "cell_type": "code",
   "execution_count": null,
   "metadata": {},
   "outputs": [],
   "source": [
    "new_fallen.to_file('../../drone-tree-detection/filtered_fallen.shp')"
   ]
  },
  {
   "cell_type": "code",
   "execution_count": null,
   "metadata": {},
   "outputs": [
    {
     "data": {
      "text/plain": [
       "(0.8055883510503123, 0.8476190476439849)"
      ]
     },
     "execution_count": null,
     "metadata": {},
     "output_type": "execute_result"
    }
   ],
   "source": [
    "iou, ioa"
   ]
  },
  {
   "cell_type": "code",
   "execution_count": null,
   "metadata": {},
   "outputs": [
    {
     "data": {
      "text/plain": [
       "<AxesSubplot:>"
      ]
     },
     "execution_count": null,
     "metadata": {},
     "output_type": "execute_result"
    },
    {
     "data": {
      "image/png": "[encoded data removed]",
      "text/plain": [
       "<Figure size 432x288 with 1 Axes>"
      ]
     },
     "metadata": {
      "needs_background": "light"
     },
     "output_type": "display_data"
    }
   ],
   "source": [
    "fallen.iloc[[0,24]].plot(facecolor='none', edgecolor='black', lw=0.7)"
   ]
  },
  {
   "cell_type": "code",
   "execution_count": null,
   "metadata": {},
   "outputs": [],
   "source": []
  }
 ],
 "metadata": {
  "kernelspec": {
   "display_name": "Python 3",
   "language": "python",
   "name": "python3"
  }
 },
 "nbformat": 4,
 "nbformat_minor": 4
}

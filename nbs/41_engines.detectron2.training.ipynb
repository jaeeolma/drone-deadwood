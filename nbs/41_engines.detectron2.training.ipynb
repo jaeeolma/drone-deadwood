{
 "cells": [
  {
   "cell_type": "code",
   "execution_count": 1,
   "id": "8f2aa3da",
   "metadata": {
    "ExecuteTime": {
     "end_time": "2022-06-17T09:16:16.101034Z",
     "start_time": "2022-06-17T09:16:16.098523Z"
    }
   },
   "outputs": [],
   "source": [
    "#default_exp engines.detectron2.training\n",
    "#all_examples"
   ]
  },
  {
   "cell_type": "markdown",
   "id": "66353235",
   "metadata": {},
   "source": [
    "# Helpers for detectron2 training"
   ]
  },
  {
   "cell_type": "code",
   "execution_count": 12,
   "id": "d6c90ab1",
   "metadata": {
    "ExecuteTime": {
     "end_time": "2022-06-17T12:04:20.630614Z",
     "start_time": "2022-06-17T12:04:20.627330Z"
    }
   },
   "outputs": [],
   "source": [
    "#export\n",
    "from drone_detector.imports import *\n",
    "from drone_detector.utils import *\n",
    "\n",
    "from drone_detector.engines.detectron2.augmentations import *\n",
    "\n",
    "import detectron2\n",
    "from detectron2.engine import DefaultTrainer\n",
    "from detectron2.evaluation import COCOEvaluator, DatasetEvaluators, RotatedCOCOEvaluator\n",
    "from detectron2.data import build_detection_train_loader, DatasetMapper, MetadataCatalog\n",
    "from detectron2.data import detection_utils as utils\n",
    "from detectron2.utils.visualizer import Visualizer\n",
    "from detectron2.data import transforms as T\n",
    "from detectron2.structures import BoxMode\n",
    "import torch\n"
   ]
  },
  {
   "cell_type": "markdown",
   "id": "665d3976",
   "metadata": {},
   "source": [
    "# Simple Trainer for basic training"
   ]
  },
  {
   "cell_type": "code",
   "execution_count": 9,
   "id": "44bc38bd",
   "metadata": {
    "ExecuteTime": {
     "end_time": "2022-06-17T11:46:07.662310Z",
     "start_time": "2022-06-17T11:46:07.658442Z"
    }
   },
   "outputs": [],
   "source": [
    "# export\n",
    "\n",
    "class Trainer(DefaultTrainer):\n",
    "    \"\"\"\n",
    "    Trainer class for training detectron2 models, using default augmentations\n",
    "    \"\"\"\n",
    "    \n",
    "    def __init__(self, cfg):\n",
    "        super().__init__(cfg)\n",
    "    \n",
    "    @classmethod\n",
    "    def build_evaluator(cls, cfg, dataset_name, output_folder=None):\n",
    "        return DatasetEvaluators([COCOEvaluator(dataset_name, output_dir=output_folder)])\n",
    "    \n",
    "    @classmethod\n",
    "    def build_train_loader(cls, cfg):\n",
    "        return build_detection_train_loader(cfg, mapper=DatasetMapper(cfg, is_train=True, \n",
    "                                                                      augmentations=build_aug_transforms(cfg)))"
   ]
  },
  {
   "cell_type": "code",
   "execution_count": 5,
   "id": "fb38c6e4",
   "metadata": {
    "ExecuteTime": {
     "end_time": "2022-06-17T09:31:03.323270Z",
     "start_time": "2022-06-17T09:31:03.319252Z"
    }
   },
   "outputs": [],
   "source": [
    "# export\n",
    "\n",
    "def transform_rotated_annotations(annotation, transforms, image_size, *, keypoint_hflip_indices=None):\n",
    "    if annotation[\"bbox_mode\"] == BoxMode.XYWHA_ABS:\n",
    "        annotation[\"bbox\"] = transforms.apply_rotated_box(np.asarray([annotation[\"bbox\"]]))[0]\n",
    "    else:\n",
    "        bbox = BoxMode.convert(annotation[\"bbox\"], annotation[\"bbox_mode\"], BoxMode.XYXY_ABS)\n",
    "        # Note that bbox is 1d (per-instance bounding box)\n",
    "        annotation[\"bbox\"] = transforms.apply_box([bbox])[0]\n",
    "        annotation[\"bbox_mode\"] = BoxMode.XYXY_ABS\n",
    "\n",
    "    return annotation\n",
    "\n",
    "class RotatedDatasetMapper(DatasetMapper):\n",
    "    def _transform_annotations(self, dataset_dict, transforms, image_shape):\n",
    "        for anno in dataset_dict[\"annotations\"]:\n",
    "            if not self.use_instance_mask:\n",
    "                anno.pop(\"segmentation\", None)\n",
    "            if not self.use_keypoint:\n",
    "                anno.pop(\"keypoints\", None)\n",
    "        \n",
    "        annos = [\n",
    "            transform_rotated_annotations(\n",
    "                obj, transforms, image_shape, keypoint_hflip_indices=self.keypoint_hflip_indices\n",
    "            )\n",
    "            for obj in dataset_dict.pop(\"annotations\")\n",
    "            if obj.get(\"iscrowd\", 0) == 0\n",
    "        ]\n",
    "    \n",
    "        instances = utils.annotations_to_instances_rotated(\n",
    "            annos, image_shape\n",
    "        )\n",
    "        if self.recompute_boxes:\n",
    "            instances.gt_boxes = instances.gt_masks.get_bounding_boxes()\n",
    "        dataset_dict[\"instances\"] = utils.filter_empty_instances(instances)\n",
    "\n",
    "    \n",
    "    def __call__(self, dataset_dict):\n",
    "        for a in dataset_dict['annotations']:\n",
    "            a['bbox_mode'] = BoxMode.XYWHA_ABS # Ensure that boxmode is correct\n",
    "        image = utils.read_image(dataset_dict['file_name'])\n",
    "        utils.check_image_size(dataset_dict, image)\n",
    "        aug_input = T.AugInput(image)\n",
    "        transforms = self.augmentations(aug_input)\n",
    "        image = aug_input.image\n",
    "        \n",
    "        image_shape = image.shape[:2]\n",
    "        \n",
    "        dataset_dict['image'] = torch.as_tensor(np.ascontiguousarray(image.transpose(2,0,1)))\n",
    "        \n",
    "        if not self.is_train:\n",
    "            dataset_dict.pop('annotations', None)\n",
    "            dataset_dict.pop('sem_seg_file_name', None)\n",
    "            return dataset_dict\n",
    "        \n",
    "        if 'annotations' in dataset_dict:\n",
    "            self._transform_annotations(dataset_dict, transforms, image_shape)\n",
    "        return dataset_dict"
   ]
  },
  {
   "cell_type": "code",
   "execution_count": 10,
   "id": "ecedc856",
   "metadata": {
    "ExecuteTime": {
     "end_time": "2022-06-17T11:56:22.245682Z",
     "start_time": "2022-06-17T11:56:22.242221Z"
    }
   },
   "outputs": [],
   "source": [
    "# export\n",
    "\n",
    "class RotatedTrainer(DefaultTrainer):\n",
    "    \n",
    "    def __init__(self, cfg):\n",
    "        super().__init__(cfg)\n",
    "    \n",
    "    \n",
    "    @classmethod\n",
    "    def build_evaluator(cls, cfg, dataset_name, output_folder=None):\n",
    "        evaluators = [RotatedCOCOEvaluator(dataset_name, output_folder)]\n",
    "        return DatasetEvaluators(evaluators)\n",
    "    \n",
    "    @classmethod\n",
    "    def build_train_loader(cls, cfg):\n",
    "        return build_detection_train_loader(cfg, mapper=RotatedDatasetMapper(cfg, is_train=True, \n",
    "                                                                             augmentations=build_aug_transforms(cfg)))"
   ]
  },
  {
   "cell_type": "code",
   "execution_count": null,
   "id": "29b45f4f",
   "metadata": {},
   "outputs": [],
   "source": []
  }
 ],
 "metadata": {
  "kernelspec": {
   "display_name": "Python 3",
   "language": "python",
   "name": "python3"
  },
  "language_info": {
   "codemirror_mode": {
    "name": "ipython",
    "version": 3
   },
   "file_extension": ".py",
   "mimetype": "text/x-python",
   "name": "python",
   "nbconvert_exporter": "python",
   "pygments_lexer": "ipython3",
   "version": "3.9.13"
  },
  "latex_envs": {
   "LaTeX_envs_menu_present": true,
   "autoclose": false,
   "autocomplete": true,
   "bibliofile": "biblio.bib",
   "cite_by": "apalike",
   "current_citInitial": 1,
   "eqLabelWithNumbers": true,
   "eqNumInitial": 1,
   "hotkeys": {
    "equation": "Ctrl-E",
    "itemize": "Ctrl-I"
   },
   "labels_anchors": false,
   "latex_user_defs": false,
   "report_style_numbering": false,
   "user_envs_cfg": false
  },
  "toc": {
   "base_numbering": 1,
   "nav_menu": {},
   "number_sections": true,
   "sideBar": true,
   "skip_h1_title": false,
   "title_cell": "Table of Contents",
   "title_sidebar": "Contents",
   "toc_cell": false,
   "toc_position": {},
   "toc_section_display": true,
   "toc_window_display": false
  }
 },
 "nbformat": 4,
 "nbformat_minor": 5
}

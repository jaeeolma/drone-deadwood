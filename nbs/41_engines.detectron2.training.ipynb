{
 "cells": [
  {
   "cell_type": "code",
   "execution_count": 2,
   "id": "8f2aa3da",
   "metadata": {
    "ExecuteTime": {
     "end_time": "2022-02-03T10:29:12.676092Z",
     "start_time": "2022-02-03T10:29:12.674593Z"
    }
   },
   "outputs": [],
   "source": [
    "#default_exp engines.detectron2.training"
   ]
  },
  {
   "cell_type": "markdown",
   "id": "66353235",
   "metadata": {},
   "source": [
    "# Helpers for detectron2 training"
   ]
  },
  {
   "cell_type": "code",
   "execution_count": 3,
   "id": "d6c90ab1",
   "metadata": {
    "ExecuteTime": {
     "end_time": "2022-02-03T10:29:16.625044Z",
     "start_time": "2022-02-03T10:29:13.126249Z"
    }
   },
   "outputs": [],
   "source": [
    "#export\n",
    "from drone_detector.imports import *\n",
    "from drone_detector.utils import *\n",
    "\n",
    "from drone_detector.engines.detectron2.augmentations import *\n",
    "\n",
    "import detectron2\n",
    "from detectron2.engine import DefaultTrainer\n",
    "from detectron2.evaluation import COCOEvaluator, DatasetEvaluators\n",
    "from detectron2.data import build_detection_train_loader, DatasetMapper, MetadataCatalog\n",
    "from detectron2.data import detection_utils as utils\n",
    "from detectron2.utils.visualizer import Visualizer\n",
    "from detectron2.data import transforms as T\n",
    "\n",
    "from fastai.vision.data import get_grid"
   ]
  },
  {
   "cell_type": "code",
   "execution_count": 9,
   "id": "44bc38bd",
   "metadata": {
    "ExecuteTime": {
     "end_time": "2022-02-03T10:52:32.235107Z",
     "start_time": "2022-02-03T10:52:32.230010Z"
    }
   },
   "outputs": [],
   "source": [
    "# export\n",
    "\n",
    "class Trainer(DefaultTrainer):\n",
    "    \"\"\"\n",
    "    Trainer class for training detectron2 models, using default augmentations\n",
    "    \"\"\"\n",
    "    \n",
    "    def __init__(self, cfg, data_loader):\n",
    "        super().__init__(cfg)\n",
    "        self.augs = augs\n",
    "    \n",
    "    @classmethod\n",
    "    def build_evaluator(cls, cfg, dataset_name, output_folder=None):\n",
    "        return DatasetEvaluators([COCOEvaluator(dataset_name, output_dir=output_folder)])\n",
    "    \n",
    "    @classmethod\n",
    "    def build_train_loader(cls, cfg):\n",
    "        if not cls.augs:\n",
    "            augs = [T.ResizeShortestEdge(cfg.INPUT.MIN_SIZE_TRAIN, \n",
    "                                     cfg.INPUT.MAX_SIZE_TRAIN, \n",
    "                                     cfg.INPUT.MIN_SIZE_TRAIN_SAMPLING)]\n",
    "        else: augs = cls.augs\n",
    "        return build_detection_train_loader(cfg, mapper=DatasetMapper(cfg, is_train=True, \n",
    "                                                                      augmentations=build_aug_transforms(cfg)))"
   ]
  }
 ],
 "metadata": {
  "kernelspec": {
   "display_name": "Python 3",
   "language": "python",
   "name": "python3"
  },
  "language_info": {
   "codemirror_mode": {
    "name": "ipython",
    "version": 3
   },
   "file_extension": ".py",
   "mimetype": "text/x-python",
   "name": "python",
   "nbconvert_exporter": "python",
   "pygments_lexer": "ipython3",
   "version": "3.9.10"
  },
  "latex_envs": {
   "LaTeX_envs_menu_present": true,
   "autoclose": false,
   "autocomplete": true,
   "bibliofile": "biblio.bib",
   "cite_by": "apalike",
   "current_citInitial": 1,
   "eqLabelWithNumbers": true,
   "eqNumInitial": 1,
   "hotkeys": {
    "equation": "Ctrl-E",
    "itemize": "Ctrl-I"
   },
   "labels_anchors": false,
   "latex_user_defs": false,
   "report_style_numbering": false,
   "user_envs_cfg": false
  },
  "toc": {
   "base_numbering": 1,
   "nav_menu": {},
   "number_sections": true,
   "sideBar": true,
   "skip_h1_title": false,
   "title_cell": "Table of Contents",
   "title_sidebar": "Contents",
   "toc_cell": false,
   "toc_position": {},
   "toc_section_display": true,
   "toc_window_display": false
  }
 },
 "nbformat": 4,
 "nbformat_minor": 5
}

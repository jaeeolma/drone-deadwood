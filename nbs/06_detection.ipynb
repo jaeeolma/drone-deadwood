{
 "cells": [
  {
   "cell_type": "code",
   "execution_count": null,
   "metadata": {},
   "outputs": [],
   "source": [
    "#default_exp detection"
   ]
  },
  {
   "cell_type": "markdown",
   "metadata": {},
   "source": [
    "# Training object detection models\n",
    "\n",
    "> Models that output shapefiles\n",
    "\n",
    "Utilizes [IceVision](https://airctic.com), [fast.ai](https://docs.fast.ai) and [PyTorch](https://pytorch.org)."
   ]
  },
  {
   "cell_type": "code",
   "execution_count": null,
   "metadata": {},
   "outputs": [],
   "source": [
    "# export\n",
    "\n",
    "class DetectionModel():\n",
    "    \n",
    "    \n",
    "    def __init__():\n",
    "        pass\n",
    "    \n",
    "    def fit_one_cycle():\n",
    "        pass\n",
    "\n",
    "    "
   ]
  },
  {
   "cell_type": "code",
   "execution_count": null,
   "metadata": {},
   "outputs": [],
   "source": []
  }
 ],
 "metadata": {
  "kernelspec": {
   "display_name": "Python 3",
   "language": "python",
   "name": "python3"
  }
 },
 "nbformat": 4,
 "nbformat_minor": 4
}

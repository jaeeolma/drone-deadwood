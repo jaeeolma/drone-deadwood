{
 "cells": [
  {
   "cell_type": "markdown",
   "id": "3a97a48c",
   "metadata": {},
   "source": [
    "## Results for test set"
   ]
  },
  {
   "cell_type": "code",
   "execution_count": 53,
   "id": "c8ada4d9",
   "metadata": {
    "ExecuteTime": {
     "end_time": "2022-01-05T14:00:06.924936Z",
     "start_time": "2022-01-05T14:00:06.921634Z"
    }
   },
   "outputs": [],
   "source": [
    "from pathlib import Path\n",
    "from drone_detector.tiling import *\n",
    "import os, sys\n",
    "import geopandas as gpd\n",
    "\n",
    "import matplotlib.pyplot as plt\n",
    "\n",
    "from drone_detector.predict import predict_instance_masks_detectron2\n",
    "from drone_detector.models import *\n",
    "from drone_detector.utils import *"
   ]
  },
  {
   "cell_type": "code",
   "execution_count": 2,
   "id": "8b4d4fab",
   "metadata": {
    "ExecuteTime": {
     "end_time": "2022-01-05T13:39:54.953161Z",
     "start_time": "2022-01-05T13:39:54.949517Z"
    }
   },
   "outputs": [],
   "source": [
    "test_rasters = [f'../data/hiidenportti/raw/envelope_test_patches//{f}' \n",
    "                for f in os.listdir('../data/hiidenportti/raw/envelope_test_patches/') if f.endswith('tif')]"
   ]
  },
  {
   "cell_type": "code",
   "execution_count": 3,
   "id": "9168cace",
   "metadata": {
    "ExecuteTime": {
     "end_time": "2022-01-05T13:41:57.500508Z",
     "start_time": "2022-01-05T13:39:54.954502Z"
    },
    "scrolled": false
   },
   "outputs": [
    {
     "name": "stdout",
     "output_type": "stream",
     "text": [
      "Reading and tiling ../data/hiidenportti/raw/envelope_test_patches//104_49_Hiidenportti_Chunk5_orto.tif to 512x512 tiles with overlap of 128px\n"
     ]
    },
    {
     "data": {
      "application/vnd.jupyter.widget-view+json": {
       "model_id": "ebb742c898e84dc1823bf4111812a11d",
       "version_major": 2,
       "version_minor": 0
      },
      "text/plain": [
       "0it [00:00, ?it/s]"
      ]
     },
     "metadata": {},
     "output_type": "display_data"
    },
    {
     "name": "stdout",
     "output_type": "stream",
     "text": [
      "Loading model\n",
      "Starting predictions\n"
     ]
    },
    {
     "data": {
      "application/vnd.jupyter.widget-view+json": {
       "model_id": "078be5e23c954ee9a5424b942f903124",
       "version_major": 2,
       "version_minor": 0
      },
      "text/plain": [
       "  0%|          | 0/120 [00:00<?, ?it/s]"
      ]
     },
     "metadata": {},
     "output_type": "display_data"
    },
    {
     "name": "stderr",
     "output_type": "stream",
     "text": [
      "/opt/conda/lib/python3.9/site-packages/detectron2/structures/image_list.py:88: UserWarning: __floordiv__ is deprecated, and its behavior will change in a future version of pytorch. It currently rounds toward 0 (like the 'trunc' function NOT 'floor'). This results in incorrect rounding for negative values. To keep the current behavior, use torch.div(a, b, rounding_mode='trunc'), or for actual floor division, use torch.div(a, b, rounding_mode='floor').\n",
      "  max_size = (max_size + (stride - 1)) // stride * stride\n",
      "/opt/conda/lib/python3.9/site-packages/torch/functional.py:445: UserWarning: torch.meshgrid: in an upcoming release, it will be required to pass the indexing argument. (Triggered internally at  ../aten/src/ATen/native/TensorShape.cpp:2157.)\n",
      "  return _VF.meshgrid(tensors, **kwargs)  # type: ignore[attr-defined]\n"
     ]
    },
    {
     "name": "stdout",
     "output_type": "stream",
     "text": [
      "Not yet implemented\n"
     ]
    },
    {
     "name": "stderr",
     "output_type": "stream",
     "text": [
      "/scratch/mayrajan/drone_detector/drone_detector/coco.py:44: VisibleDeprecationWarning: Creating an ndarray from ragged nested sequences (which is a list-or-tuple of lists-or-tuples-or ndarrays with different lengths or shapes) is deprecated. If you meant to do this, you must specify 'dtype=object' when creating the ndarray.\n",
      "  contours = np.subtract(contours, 1)\n"
     ]
    },
    {
     "data": {
      "application/vnd.jupyter.widget-view+json": {
       "model_id": "8ec9ea849aec42f892dfdb7bcf78dd7c",
       "version_major": 2,
       "version_minor": 0
      },
      "text/plain": [
       "  0%|          | 0/120 [00:00<?, ?it/s]"
      ]
     },
     "metadata": {},
     "output_type": "display_data"
    },
    {
     "data": {
      "application/vnd.jupyter.widget-view+json": {
       "model_id": "b262690524574f71a813b043a979c8d8",
       "version_major": 2,
       "version_minor": 0
      },
      "text/plain": [
       "  0%|          | 0/120 [00:00<?, ?it/s]"
      ]
     },
     "metadata": {},
     "output_type": "display_data"
    },
    {
     "name": "stdout",
     "output_type": "stream",
     "text": [
      "1771 polygons before non-max suppression\n",
      "1771 polygons after non-max suppression\n",
      "Removing intermediate files\n",
      "Reading and tiling ../data/hiidenportti/raw/envelope_test_patches//104_73_Hiidenportti_Chunk9_orto.tif to 512x512 tiles with overlap of 128px\n"
     ]
    },
    {
     "data": {
      "application/vnd.jupyter.widget-view+json": {
       "model_id": "62d80539ef1549e58ba61cecee0c9058",
       "version_major": 2,
       "version_minor": 0
      },
      "text/plain": [
       "0it [00:00, ?it/s]"
      ]
     },
     "metadata": {},
     "output_type": "display_data"
    },
    {
     "name": "stdout",
     "output_type": "stream",
     "text": [
      "Loading model\n",
      "Starting predictions\n"
     ]
    },
    {
     "data": {
      "application/vnd.jupyter.widget-view+json": {
       "model_id": "32ada6e090f54750a9df337a9a1cb0d0",
       "version_major": 2,
       "version_minor": 0
      },
      "text/plain": [
       "  0%|          | 0/36 [00:00<?, ?it/s]"
      ]
     },
     "metadata": {},
     "output_type": "display_data"
    },
    {
     "name": "stderr",
     "output_type": "stream",
     "text": [
      "/opt/conda/lib/python3.9/site-packages/detectron2/structures/image_list.py:88: UserWarning: __floordiv__ is deprecated, and its behavior will change in a future version of pytorch. It currently rounds toward 0 (like the 'trunc' function NOT 'floor'). This results in incorrect rounding for negative values. To keep the current behavior, use torch.div(a, b, rounding_mode='trunc'), or for actual floor division, use torch.div(a, b, rounding_mode='floor').\n",
      "  max_size = (max_size + (stride - 1)) // stride * stride\n"
     ]
    },
    {
     "name": "stdout",
     "output_type": "stream",
     "text": [
      "Not yet implemented\n"
     ]
    },
    {
     "name": "stderr",
     "output_type": "stream",
     "text": [
      "/scratch/mayrajan/drone_detector/drone_detector/coco.py:44: VisibleDeprecationWarning: Creating an ndarray from ragged nested sequences (which is a list-or-tuple of lists-or-tuples-or ndarrays with different lengths or shapes) is deprecated. If you meant to do this, you must specify 'dtype=object' when creating the ndarray.\n",
      "  contours = np.subtract(contours, 1)\n"
     ]
    },
    {
     "data": {
      "application/vnd.jupyter.widget-view+json": {
       "model_id": "975b4091300c40ab85478d694670570b",
       "version_major": 2,
       "version_minor": 0
      },
      "text/plain": [
       "  0%|          | 0/36 [00:00<?, ?it/s]"
      ]
     },
     "metadata": {},
     "output_type": "display_data"
    },
    {
     "data": {
      "application/vnd.jupyter.widget-view+json": {
       "model_id": "fd267fdbb6084c9db60b68df5e803911",
       "version_major": 2,
       "version_minor": 0
      },
      "text/plain": [
       "  0%|          | 0/32 [00:00<?, ?it/s]"
      ]
     },
     "metadata": {},
     "output_type": "display_data"
    },
    {
     "name": "stdout",
     "output_type": "stream",
     "text": [
      "296 polygons before non-max suppression\n",
      "296 polygons after non-max suppression\n",
      "Removing intermediate files\n",
      "Reading and tiling ../data/hiidenportti/raw/envelope_test_patches//104_42_Hiidenportti_Chunk5_orto.tif to 512x512 tiles with overlap of 128px\n"
     ]
    },
    {
     "data": {
      "application/vnd.jupyter.widget-view+json": {
       "model_id": "8552051df3eb43c79917a1ed5ca10429",
       "version_major": 2,
       "version_minor": 0
      },
      "text/plain": [
       "0it [00:00, ?it/s]"
      ]
     },
     "metadata": {},
     "output_type": "display_data"
    },
    {
     "name": "stdout",
     "output_type": "stream",
     "text": [
      "Loading model\n",
      "Starting predictions\n"
     ]
    },
    {
     "data": {
      "application/vnd.jupyter.widget-view+json": {
       "model_id": "82aa3662907e47b8addede6101776df7",
       "version_major": 2,
       "version_minor": 0
      },
      "text/plain": [
       "  0%|          | 0/88 [00:00<?, ?it/s]"
      ]
     },
     "metadata": {},
     "output_type": "display_data"
    },
    {
     "name": "stderr",
     "output_type": "stream",
     "text": [
      "/opt/conda/lib/python3.9/site-packages/detectron2/structures/image_list.py:88: UserWarning: __floordiv__ is deprecated, and its behavior will change in a future version of pytorch. It currently rounds toward 0 (like the 'trunc' function NOT 'floor'). This results in incorrect rounding for negative values. To keep the current behavior, use torch.div(a, b, rounding_mode='trunc'), or for actual floor division, use torch.div(a, b, rounding_mode='floor').\n",
      "  max_size = (max_size + (stride - 1)) // stride * stride\n"
     ]
    },
    {
     "name": "stdout",
     "output_type": "stream",
     "text": [
      "Not yet implemented\n"
     ]
    },
    {
     "name": "stderr",
     "output_type": "stream",
     "text": [
      "/scratch/mayrajan/drone_detector/drone_detector/coco.py:44: VisibleDeprecationWarning: Creating an ndarray from ragged nested sequences (which is a list-or-tuple of lists-or-tuples-or ndarrays with different lengths or shapes) is deprecated. If you meant to do this, you must specify 'dtype=object' when creating the ndarray.\n",
      "  contours = np.subtract(contours, 1)\n"
     ]
    },
    {
     "data": {
      "application/vnd.jupyter.widget-view+json": {
       "model_id": "f8e7ea6b9c384f06aa411c148a208a0e",
       "version_major": 2,
       "version_minor": 0
      },
      "text/plain": [
       "  0%|          | 0/88 [00:00<?, ?it/s]"
      ]
     },
     "metadata": {},
     "output_type": "display_data"
    },
    {
     "data": {
      "application/vnd.jupyter.widget-view+json": {
       "model_id": "7ebb16b33b704e47a4f75acda6b12591",
       "version_major": 2,
       "version_minor": 0
      },
      "text/plain": [
       "  0%|          | 0/86 [00:00<?, ?it/s]"
      ]
     },
     "metadata": {},
     "output_type": "display_data"
    },
    {
     "name": "stdout",
     "output_type": "stream",
     "text": [
      "1134 polygons before non-max suppression\n",
      "1134 polygons after non-max suppression\n",
      "Removing intermediate files\n",
      "Reading and tiling ../data/hiidenportti/raw/envelope_test_patches//104_41_Hiidenportti_Chunk8_orto.tif to 512x512 tiles with overlap of 128px\n"
     ]
    },
    {
     "data": {
      "application/vnd.jupyter.widget-view+json": {
       "model_id": "1abfc834920b4d02870880458d6fc1ac",
       "version_major": 2,
       "version_minor": 0
      },
      "text/plain": [
       "0it [00:00, ?it/s]"
      ]
     },
     "metadata": {},
     "output_type": "display_data"
    },
    {
     "name": "stdout",
     "output_type": "stream",
     "text": [
      "Loading model\n",
      "Starting predictions\n"
     ]
    },
    {
     "data": {
      "application/vnd.jupyter.widget-view+json": {
       "model_id": "072123f4e57046dd8496eb9b292280ff",
       "version_major": 2,
       "version_minor": 0
      },
      "text/plain": [
       "  0%|          | 0/63 [00:00<?, ?it/s]"
      ]
     },
     "metadata": {},
     "output_type": "display_data"
    },
    {
     "name": "stderr",
     "output_type": "stream",
     "text": [
      "/opt/conda/lib/python3.9/site-packages/detectron2/structures/image_list.py:88: UserWarning: __floordiv__ is deprecated, and its behavior will change in a future version of pytorch. It currently rounds toward 0 (like the 'trunc' function NOT 'floor'). This results in incorrect rounding for negative values. To keep the current behavior, use torch.div(a, b, rounding_mode='trunc'), or for actual floor division, use torch.div(a, b, rounding_mode='floor').\n",
      "  max_size = (max_size + (stride - 1)) // stride * stride\n"
     ]
    },
    {
     "name": "stdout",
     "output_type": "stream",
     "text": [
      "Not yet implemented\n"
     ]
    },
    {
     "name": "stderr",
     "output_type": "stream",
     "text": [
      "/scratch/mayrajan/drone_detector/drone_detector/coco.py:44: VisibleDeprecationWarning: Creating an ndarray from ragged nested sequences (which is a list-or-tuple of lists-or-tuples-or ndarrays with different lengths or shapes) is deprecated. If you meant to do this, you must specify 'dtype=object' when creating the ndarray.\n",
      "  contours = np.subtract(contours, 1)\n"
     ]
    },
    {
     "data": {
      "application/vnd.jupyter.widget-view+json": {
       "model_id": "0db34096ec6f4c858459ebcd504d0dd0",
       "version_major": 2,
       "version_minor": 0
      },
      "text/plain": [
       "  0%|          | 0/63 [00:00<?, ?it/s]"
      ]
     },
     "metadata": {},
     "output_type": "display_data"
    },
    {
     "data": {
      "application/vnd.jupyter.widget-view+json": {
       "model_id": "ec7e583c22b94091a32a63fef9545f71",
       "version_major": 2,
       "version_minor": 0
      },
      "text/plain": [
       "  0%|          | 0/62 [00:00<?, ?it/s]"
      ]
     },
     "metadata": {},
     "output_type": "display_data"
    },
    {
     "name": "stdout",
     "output_type": "stream",
     "text": [
      "752 polygons before non-max suppression\n",
      "752 polygons after non-max suppression\n",
      "Removing intermediate files\n",
      "Reading and tiling ../data/hiidenportti/raw/envelope_test_patches//104_32_Hiidenportti_Chunk5_orto.tif to 512x512 tiles with overlap of 128px\n"
     ]
    },
    {
     "data": {
      "application/vnd.jupyter.widget-view+json": {
       "model_id": "0e7e46e7fb324512bb1ae4c3d105f3eb",
       "version_major": 2,
       "version_minor": 0
      },
      "text/plain": [
       "0it [00:00, ?it/s]"
      ]
     },
     "metadata": {},
     "output_type": "display_data"
    },
    {
     "name": "stdout",
     "output_type": "stream",
     "text": [
      "Loading model\n",
      "Starting predictions\n"
     ]
    },
    {
     "data": {
      "application/vnd.jupyter.widget-view+json": {
       "model_id": "5dca131ca48e4f04818c6a51b0996841",
       "version_major": 2,
       "version_minor": 0
      },
      "text/plain": [
       "  0%|          | 0/36 [00:00<?, ?it/s]"
      ]
     },
     "metadata": {},
     "output_type": "display_data"
    },
    {
     "name": "stderr",
     "output_type": "stream",
     "text": [
      "/opt/conda/lib/python3.9/site-packages/detectron2/structures/image_list.py:88: UserWarning: __floordiv__ is deprecated, and its behavior will change in a future version of pytorch. It currently rounds toward 0 (like the 'trunc' function NOT 'floor'). This results in incorrect rounding for negative values. To keep the current behavior, use torch.div(a, b, rounding_mode='trunc'), or for actual floor division, use torch.div(a, b, rounding_mode='floor').\n",
      "  max_size = (max_size + (stride - 1)) // stride * stride\n"
     ]
    },
    {
     "name": "stdout",
     "output_type": "stream",
     "text": [
      "Not yet implemented\n"
     ]
    },
    {
     "name": "stderr",
     "output_type": "stream",
     "text": [
      "/scratch/mayrajan/drone_detector/drone_detector/coco.py:44: VisibleDeprecationWarning: Creating an ndarray from ragged nested sequences (which is a list-or-tuple of lists-or-tuples-or ndarrays with different lengths or shapes) is deprecated. If you meant to do this, you must specify 'dtype=object' when creating the ndarray.\n",
      "  contours = np.subtract(contours, 1)\n"
     ]
    },
    {
     "data": {
      "application/vnd.jupyter.widget-view+json": {
       "model_id": "4a353f5bbaf84ac09a77efc4514a6d29",
       "version_major": 2,
       "version_minor": 0
      },
      "text/plain": [
       "  0%|          | 0/36 [00:00<?, ?it/s]"
      ]
     },
     "metadata": {},
     "output_type": "display_data"
    },
    {
     "data": {
      "application/vnd.jupyter.widget-view+json": {
       "model_id": "19db332aae044beb958a0f937721bb9a",
       "version_major": 2,
       "version_minor": 0
      },
      "text/plain": [
       "  0%|          | 0/35 [00:00<?, ?it/s]"
      ]
     },
     "metadata": {},
     "output_type": "display_data"
    },
    {
     "name": "stdout",
     "output_type": "stream",
     "text": [
      "246 polygons before non-max suppression\n",
      "246 polygons after non-max suppression\n",
      "Removing intermediate files\n"
     ]
    }
   ],
   "source": [
    "for t in test_rasters:\n",
    "    outfile_name = f'../data/hiidenportti/testresults/no_nms/predicted_vectors/{t.split(\"/\")[-1][:-4]}.geojson'\n",
    "    predict_instance_masks_detectron2('detectron2_models/resnext_01_baseline_aug/config.yaml', \n",
    "                                       t,\n",
    "                                       outfile_name,\n",
    "                                       processing_dir='temp',\n",
    "                                       tile_size=512,\n",
    "                                       tile_overlap=128,\n",
    "                                       smooth_preds=True,\n",
    "                                       use_tta=False,)"
   ]
  },
  {
   "cell_type": "markdown",
   "id": "e24e3269",
   "metadata": {},
   "source": [
    "### Clip results to have same spatial area than ground truth"
   ]
  },
  {
   "cell_type": "code",
   "execution_count": 49,
   "id": "29354dda",
   "metadata": {
    "ExecuteTime": {
     "end_time": "2022-01-05T13:59:13.933223Z",
     "start_time": "2022-01-05T13:59:13.930868Z"
    }
   },
   "outputs": [],
   "source": [
    "import geopandas as gpd\n",
    "from shapely.geometry import box"
   ]
  },
  {
   "cell_type": "code",
   "execution_count": 50,
   "id": "007c94ba",
   "metadata": {
    "ExecuteTime": {
     "end_time": "2022-01-05T13:59:14.170092Z",
     "start_time": "2022-01-05T13:59:14.166573Z"
    }
   },
   "outputs": [],
   "source": [
    "import shapely.geometry"
   ]
  },
  {
   "cell_type": "code",
   "execution_count": 6,
   "id": "a1a66d55",
   "metadata": {
    "ExecuteTime": {
     "end_time": "2022-01-05T13:42:02.099527Z",
     "start_time": "2022-01-05T13:42:02.097127Z"
    }
   },
   "outputs": [],
   "source": [
    "result_basepath = Path('../data/hiidenportti/testresults/')\n"
   ]
  },
  {
   "cell_type": "code",
   "execution_count": 7,
   "id": "15c368c3",
   "metadata": {
    "ExecuteTime": {
     "end_time": "2022-01-05T13:42:02.301010Z",
     "start_time": "2022-01-05T13:42:02.296831Z"
    }
   },
   "outputs": [],
   "source": [
    "res_test_pairs = [(result_basepath/f'no_nms/predicted_vectors/{fname}',\n",
    "                   f'../data/hiidenportti/raw/envelope_test_vectors//{fname}',\n",
    "                   f\"../data/hiidenportti/raw/envelope_test_patches//{fname.replace('geojson', 'tif')}\")\n",
    "                  for fname in os.listdir(result_basepath/'no_nms/predicted_vectors/') if fname.endswith('geojson')]"
   ]
  },
  {
   "cell_type": "code",
   "execution_count": 8,
   "id": "13be3ac9",
   "metadata": {
    "ExecuteTime": {
     "end_time": "2022-01-05T13:42:11.817721Z",
     "start_time": "2022-01-05T13:42:02.513704Z"
    },
    "scrolled": false
   },
   "outputs": [],
   "source": [
    "for r, t, im in res_test_pairs:\n",
    "    temp_results = gpd.read_file(r)\n",
    "    temp_gt = gpd.read_file(t)\n",
    "    temp_results = gpd.clip(temp_results, box(*temp_gt.total_bounds), keep_geom_type=True)\n",
    "    temp_results = temp_results[temp_results.geometry.area > 0.032]\n",
    "    temp_results.to_file(r, driver='GeoJSON')"
   ]
  },
  {
   "cell_type": "code",
   "execution_count": 9,
   "id": "07e03fe6",
   "metadata": {
    "ExecuteTime": {
     "end_time": "2022-01-05T13:42:11.822323Z",
     "start_time": "2022-01-05T13:42:11.819185Z"
    }
   },
   "outputs": [],
   "source": [
    "resultfiles = [result_basepath/f'no_nms/predicted_vectors/{f}' \n",
    "               for f in os.listdir(result_basepath/f'no_nms/predicted_vectors/')\n",
    "              if f.endswith('geojson')]"
   ]
  },
  {
   "cell_type": "code",
   "execution_count": 10,
   "id": "5dbf4521",
   "metadata": {
    "ExecuteTime": {
     "end_time": "2022-01-05T13:42:19.557847Z",
     "start_time": "2022-01-05T13:42:11.823876Z"
    }
   },
   "outputs": [],
   "source": [
    "for f in resultfiles:\n",
    "    gdf = gpd.read_file(f)\n",
    "    gdf['label'] +=  1\n",
    "    gdf['geometry'] = gdf.geometry.buffer(0) # fix faulty geometries\n",
    "    gdf['geometry'] = gdf.apply(lambda row: fix_multipolys(row.geometry) if row.geometry.type == 'MultiPolygon' \n",
    "                                else shapely.geometry.Polygon(row.geometry.exterior), axis=1)\n",
    "    gdf.to_file(f, driver='GeoJSON')"
   ]
  },
  {
   "cell_type": "markdown",
   "id": "591931c6",
   "metadata": {},
   "source": [
    "### No postprocessing"
   ]
  },
  {
   "cell_type": "markdown",
   "id": "d6531940",
   "metadata": {},
   "source": [
    "Compute overall dissolved IOU"
   ]
  },
  {
   "cell_type": "code",
   "execution_count": 11,
   "id": "83eb5497",
   "metadata": {
    "ExecuteTime": {
     "end_time": "2022-01-05T13:42:23.180638Z",
     "start_time": "2022-01-05T13:42:19.559463Z"
    }
   },
   "outputs": [],
   "source": [
    "results = None\n",
    "ground_truth = None\n",
    "\n",
    "for r, t, im in res_test_pairs:\n",
    "    temp_results = gpd.read_file(r)\n",
    "    temp_gt = gpd.read_file(t)\n",
    "    temp_gt = gpd.clip(temp_gt, box(*temp_results.total_bounds), keep_geom_type=True)\n",
    "    temp_results = gpd.clip(temp_results, box(*temp_gt.total_bounds), keep_geom_type=True)\n",
    "    temp_gt['plot_id'] = int(t.split('/')[-1].split('_')[0])\n",
    "    temp_results['plot_id'] = int(t.split('/')[-1].split('_')[0])\n",
    "    temp_gt['image_path'] = im\n",
    "    temp_results['image_path'] = im\n",
    "    if ground_truth is None: \n",
    "        ground_truth = temp_gt.copy()\n",
    "        results = temp_results.copy()\n",
    "    else:\n",
    "        ground_truth = ground_truth.append(temp_gt)\n",
    "        temp_gt = None\n",
    "        results = results.append(temp_results)\n",
    "        temp_results = None\n",
    "#ground_truth['geometry'] = ground_truth.geometry.buffer(0.05)"
   ]
  },
  {
   "cell_type": "code",
   "execution_count": 12,
   "id": "4142f340",
   "metadata": {
    "ExecuteTime": {
     "end_time": "2022-01-05T13:42:23.188230Z",
     "start_time": "2022-01-05T13:42:23.182421Z"
    }
   },
   "outputs": [
    {
     "data": {
      "text/plain": [
       "../data/hiidenportti/raw/envelope_test_patches//104_49_Hiidenportti_Chunk5_orto.tif    1695\n",
       "../data/hiidenportti/raw/envelope_test_patches//104_42_Hiidenportti_Chunk5_orto.tif    1101\n",
       "../data/hiidenportti/raw/envelope_test_patches//104_41_Hiidenportti_Chunk8_orto.tif     627\n",
       "../data/hiidenportti/raw/envelope_test_patches//104_73_Hiidenportti_Chunk9_orto.tif     232\n",
       "../data/hiidenportti/raw/envelope_test_patches//104_32_Hiidenportti_Chunk5_orto.tif     216\n",
       "Name: image_path, dtype: int64"
      ]
     },
     "execution_count": 12,
     "metadata": {},
     "output_type": "execute_result"
    }
   ],
   "source": [
    "results.image_path.value_counts()"
   ]
  },
  {
   "cell_type": "code",
   "execution_count": 13,
   "id": "e9cb67a5",
   "metadata": {
    "ExecuteTime": {
     "end_time": "2022-01-05T13:42:23.201596Z",
     "start_time": "2022-01-05T13:42:23.189541Z"
    }
   },
   "outputs": [
    {
     "data": {
      "text/plain": [
       "../data/hiidenportti/raw/envelope_test_patches//104_49_Hiidenportti_Chunk5_orto.tif    625\n",
       "../data/hiidenportti/raw/envelope_test_patches//104_42_Hiidenportti_Chunk5_orto.tif    417\n",
       "../data/hiidenportti/raw/envelope_test_patches//104_41_Hiidenportti_Chunk8_orto.tif    213\n",
       "../data/hiidenportti/raw/envelope_test_patches//104_73_Hiidenportti_Chunk9_orto.tif     95\n",
       "../data/hiidenportti/raw/envelope_test_patches//104_32_Hiidenportti_Chunk5_orto.tif     68\n",
       "Name: image_path, dtype: int64"
      ]
     },
     "execution_count": 13,
     "metadata": {},
     "output_type": "execute_result"
    }
   ],
   "source": [
    "ground_truth.image_path.value_counts()"
   ]
  },
  {
   "cell_type": "code",
   "execution_count": 14,
   "id": "1ce25874",
   "metadata": {
    "ExecuteTime": {
     "end_time": "2022-01-05T13:42:23.213258Z",
     "start_time": "2022-01-05T13:42:23.202716Z"
    }
   },
   "outputs": [],
   "source": [
    "import pandas as pd"
   ]
  },
  {
   "cell_type": "code",
   "execution_count": 15,
   "id": "498dbc79",
   "metadata": {
    "ExecuteTime": {
     "end_time": "2022-01-05T13:42:23.252695Z",
     "start_time": "2022-01-05T13:42:23.215439Z"
    }
   },
   "outputs": [
    {
     "data": {
      "text/html": [
       "<div>\n",
       "<style scoped>\n",
       "    .dataframe tbody tr th:only-of-type {\n",
       "        vertical-align: middle;\n",
       "    }\n",
       "\n",
       "    .dataframe tbody tr th {\n",
       "        vertical-align: top;\n",
       "    }\n",
       "\n",
       "    .dataframe thead th {\n",
       "        text-align: right;\n",
       "    }\n",
       "</style>\n",
       "<table border=\"1\" class=\"dataframe\">\n",
       "  <thead>\n",
       "    <tr style=\"text-align: right;\">\n",
       "      <th>layer</th>\n",
       "      <th>groundwood</th>\n",
       "      <th>uprightwood</th>\n",
       "      <th>All</th>\n",
       "    </tr>\n",
       "    <tr>\n",
       "      <th>image_path</th>\n",
       "      <th></th>\n",
       "      <th></th>\n",
       "      <th></th>\n",
       "    </tr>\n",
       "  </thead>\n",
       "  <tbody>\n",
       "    <tr>\n",
       "      <th>../data/hiidenportti/raw/envelope_test_patches//104_32_Hiidenportti_Chunk5_orto.tif</th>\n",
       "      <td>59</td>\n",
       "      <td>9</td>\n",
       "      <td>68</td>\n",
       "    </tr>\n",
       "    <tr>\n",
       "      <th>../data/hiidenportti/raw/envelope_test_patches//104_41_Hiidenportti_Chunk8_orto.tif</th>\n",
       "      <td>187</td>\n",
       "      <td>26</td>\n",
       "      <td>213</td>\n",
       "    </tr>\n",
       "    <tr>\n",
       "      <th>../data/hiidenportti/raw/envelope_test_patches//104_42_Hiidenportti_Chunk5_orto.tif</th>\n",
       "      <td>320</td>\n",
       "      <td>97</td>\n",
       "      <td>417</td>\n",
       "    </tr>\n",
       "    <tr>\n",
       "      <th>../data/hiidenportti/raw/envelope_test_patches//104_49_Hiidenportti_Chunk5_orto.tif</th>\n",
       "      <td>496</td>\n",
       "      <td>129</td>\n",
       "      <td>625</td>\n",
       "    </tr>\n",
       "    <tr>\n",
       "      <th>../data/hiidenportti/raw/envelope_test_patches//104_73_Hiidenportti_Chunk9_orto.tif</th>\n",
       "      <td>93</td>\n",
       "      <td>2</td>\n",
       "      <td>95</td>\n",
       "    </tr>\n",
       "    <tr>\n",
       "      <th>All</th>\n",
       "      <td>1155</td>\n",
       "      <td>263</td>\n",
       "      <td>1418</td>\n",
       "    </tr>\n",
       "  </tbody>\n",
       "</table>\n",
       "</div>"
      ],
      "text/plain": [
       "layer                                                                                groundwood  \\\n",
       "image_path                                                                                        \n",
       "../data/hiidenportti/raw/envelope_test_patches//104_32_Hiidenportti_Chunk5_orto.tif          59   \n",
       "../data/hiidenportti/raw/envelope_test_patches//104_41_Hiidenportti_Chunk8_orto.tif         187   \n",
       "../data/hiidenportti/raw/envelope_test_patches//104_42_Hiidenportti_Chunk5_orto.tif         320   \n",
       "../data/hiidenportti/raw/envelope_test_patches//104_49_Hiidenportti_Chunk5_orto.tif         496   \n",
       "../data/hiidenportti/raw/envelope_test_patches//104_73_Hiidenportti_Chunk9_orto.tif          93   \n",
       "All                                                                                        1155   \n",
       "\n",
       "layer                                                                                uprightwood  \\\n",
       "image_path                                                                                         \n",
       "../data/hiidenportti/raw/envelope_test_patches//104_32_Hiidenportti_Chunk5_orto.tif            9   \n",
       "../data/hiidenportti/raw/envelope_test_patches//104_41_Hiidenportti_Chunk8_orto.tif           26   \n",
       "../data/hiidenportti/raw/envelope_test_patches//104_42_Hiidenportti_Chunk5_orto.tif           97   \n",
       "../data/hiidenportti/raw/envelope_test_patches//104_49_Hiidenportti_Chunk5_orto.tif          129   \n",
       "../data/hiidenportti/raw/envelope_test_patches//104_73_Hiidenportti_Chunk9_orto.tif            2   \n",
       "All                                                                                          263   \n",
       "\n",
       "layer                                                                                 All  \n",
       "image_path                                                                                 \n",
       "../data/hiidenportti/raw/envelope_test_patches//104_32_Hiidenportti_Chunk5_orto.tif    68  \n",
       "../data/hiidenportti/raw/envelope_test_patches//104_41_Hiidenportti_Chunk8_orto.tif   213  \n",
       "../data/hiidenportti/raw/envelope_test_patches//104_42_Hiidenportti_Chunk5_orto.tif   417  \n",
       "../data/hiidenportti/raw/envelope_test_patches//104_49_Hiidenportti_Chunk5_orto.tif   625  \n",
       "../data/hiidenportti/raw/envelope_test_patches//104_73_Hiidenportti_Chunk9_orto.tif    95  \n",
       "All                                                                                  1418  "
      ]
     },
     "execution_count": 15,
     "metadata": {},
     "output_type": "execute_result"
    }
   ],
   "source": [
    "pd.crosstab(ground_truth.image_path, ground_truth.layer, margins=True)"
   ]
  },
  {
   "cell_type": "code",
   "execution_count": 16,
   "id": "cd4bd3cd",
   "metadata": {
    "ExecuteTime": {
     "end_time": "2022-01-05T13:42:23.286522Z",
     "start_time": "2022-01-05T13:42:23.254595Z"
    }
   },
   "outputs": [
    {
     "data": {
      "text/html": [
       "<div>\n",
       "<style scoped>\n",
       "    .dataframe tbody tr th:only-of-type {\n",
       "        vertical-align: middle;\n",
       "    }\n",
       "\n",
       "    .dataframe tbody tr th {\n",
       "        vertical-align: top;\n",
       "    }\n",
       "\n",
       "    .dataframe thead th {\n",
       "        text-align: right;\n",
       "    }\n",
       "</style>\n",
       "<table border=\"1\" class=\"dataframe\">\n",
       "  <thead>\n",
       "    <tr style=\"text-align: right;\">\n",
       "      <th>label</th>\n",
       "      <th>1</th>\n",
       "      <th>2</th>\n",
       "      <th>All</th>\n",
       "    </tr>\n",
       "    <tr>\n",
       "      <th>image_path</th>\n",
       "      <th></th>\n",
       "      <th></th>\n",
       "      <th></th>\n",
       "    </tr>\n",
       "  </thead>\n",
       "  <tbody>\n",
       "    <tr>\n",
       "      <th>../data/hiidenportti/raw/envelope_test_patches//104_32_Hiidenportti_Chunk5_orto.tif</th>\n",
       "      <td>16</td>\n",
       "      <td>200</td>\n",
       "      <td>216</td>\n",
       "    </tr>\n",
       "    <tr>\n",
       "      <th>../data/hiidenportti/raw/envelope_test_patches//104_41_Hiidenportti_Chunk8_orto.tif</th>\n",
       "      <td>33</td>\n",
       "      <td>594</td>\n",
       "      <td>627</td>\n",
       "    </tr>\n",
       "    <tr>\n",
       "      <th>../data/hiidenportti/raw/envelope_test_patches//104_42_Hiidenportti_Chunk5_orto.tif</th>\n",
       "      <td>98</td>\n",
       "      <td>1003</td>\n",
       "      <td>1101</td>\n",
       "    </tr>\n",
       "    <tr>\n",
       "      <th>../data/hiidenportti/raw/envelope_test_patches//104_49_Hiidenportti_Chunk5_orto.tif</th>\n",
       "      <td>142</td>\n",
       "      <td>1553</td>\n",
       "      <td>1695</td>\n",
       "    </tr>\n",
       "    <tr>\n",
       "      <th>../data/hiidenportti/raw/envelope_test_patches//104_73_Hiidenportti_Chunk9_orto.tif</th>\n",
       "      <td>4</td>\n",
       "      <td>228</td>\n",
       "      <td>232</td>\n",
       "    </tr>\n",
       "    <tr>\n",
       "      <th>All</th>\n",
       "      <td>293</td>\n",
       "      <td>3578</td>\n",
       "      <td>3871</td>\n",
       "    </tr>\n",
       "  </tbody>\n",
       "</table>\n",
       "</div>"
      ],
      "text/plain": [
       "label                                                                                  1  \\\n",
       "image_path                                                                                 \n",
       "../data/hiidenportti/raw/envelope_test_patches//104_32_Hiidenportti_Chunk5_orto.tif   16   \n",
       "../data/hiidenportti/raw/envelope_test_patches//104_41_Hiidenportti_Chunk8_orto.tif   33   \n",
       "../data/hiidenportti/raw/envelope_test_patches//104_42_Hiidenportti_Chunk5_orto.tif   98   \n",
       "../data/hiidenportti/raw/envelope_test_patches//104_49_Hiidenportti_Chunk5_orto.tif  142   \n",
       "../data/hiidenportti/raw/envelope_test_patches//104_73_Hiidenportti_Chunk9_orto.tif    4   \n",
       "All                                                                                  293   \n",
       "\n",
       "label                                                                                   2  \\\n",
       "image_path                                                                                  \n",
       "../data/hiidenportti/raw/envelope_test_patches//104_32_Hiidenportti_Chunk5_orto.tif   200   \n",
       "../data/hiidenportti/raw/envelope_test_patches//104_41_Hiidenportti_Chunk8_orto.tif   594   \n",
       "../data/hiidenportti/raw/envelope_test_patches//104_42_Hiidenportti_Chunk5_orto.tif  1003   \n",
       "../data/hiidenportti/raw/envelope_test_patches//104_49_Hiidenportti_Chunk5_orto.tif  1553   \n",
       "../data/hiidenportti/raw/envelope_test_patches//104_73_Hiidenportti_Chunk9_orto.tif   228   \n",
       "All                                                                                  3578   \n",
       "\n",
       "label                                                                                 All  \n",
       "image_path                                                                                 \n",
       "../data/hiidenportti/raw/envelope_test_patches//104_32_Hiidenportti_Chunk5_orto.tif   216  \n",
       "../data/hiidenportti/raw/envelope_test_patches//104_41_Hiidenportti_Chunk8_orto.tif   627  \n",
       "../data/hiidenportti/raw/envelope_test_patches//104_42_Hiidenportti_Chunk5_orto.tif  1101  \n",
       "../data/hiidenportti/raw/envelope_test_patches//104_49_Hiidenportti_Chunk5_orto.tif  1695  \n",
       "../data/hiidenportti/raw/envelope_test_patches//104_73_Hiidenportti_Chunk9_orto.tif   232  \n",
       "All                                                                                  3871  "
      ]
     },
     "execution_count": 16,
     "metadata": {},
     "output_type": "execute_result"
    }
   ],
   "source": [
    "pd.crosstab(results.image_path, results.label, margins=True)"
   ]
  },
  {
   "cell_type": "code",
   "execution_count": 17,
   "id": "858715f7",
   "metadata": {
    "ExecuteTime": {
     "end_time": "2022-01-05T13:42:23.292394Z",
     "start_time": "2022-01-05T13:42:23.287721Z"
    }
   },
   "outputs": [
    {
     "data": {
      "text/plain": [
       "groundwood     1155\n",
       "uprightwood     263\n",
       "Name: layer, dtype: int64"
      ]
     },
     "execution_count": 17,
     "metadata": {},
     "output_type": "execute_result"
    }
   ],
   "source": [
    "ground_truth.layer.value_counts()"
   ]
  },
  {
   "cell_type": "code",
   "execution_count": 18,
   "id": "9104f6c0",
   "metadata": {
    "ExecuteTime": {
     "end_time": "2022-01-05T13:42:23.305070Z",
     "start_time": "2022-01-05T13:42:23.293486Z"
    }
   },
   "outputs": [
    {
     "data": {
      "text/plain": [
       "2    3578\n",
       "1     293\n",
       "Name: label, dtype: int64"
      ]
     },
     "execution_count": 18,
     "metadata": {},
     "output_type": "execute_result"
    }
   ],
   "source": [
    "results.label.value_counts()"
   ]
  },
  {
   "cell_type": "code",
   "execution_count": 19,
   "id": "04abb62b",
   "metadata": {
    "ExecuteTime": {
     "end_time": "2022-01-05T13:42:23.317353Z",
     "start_time": "2022-01-05T13:42:23.306296Z"
    }
   },
   "outputs": [],
   "source": [
    "ground_truth.rename(columns={'groundwood':'label'}, inplace=True)"
   ]
  },
  {
   "cell_type": "code",
   "execution_count": 20,
   "id": "803cb9d6",
   "metadata": {
    "ExecuteTime": {
     "end_time": "2022-01-05T13:42:23.382775Z",
     "start_time": "2022-01-05T13:42:23.318772Z"
    }
   },
   "outputs": [],
   "source": [
    "ground_truth['class_id'] = ground_truth.apply(lambda row: 'uprightwood' if row.label == 1 else 'groundwood', axis=1)\n",
    "results['class_id'] = results.apply(lambda row: 'uprightwood' if row.label == 1 else 'groundwood', axis=1)"
   ]
  },
  {
   "cell_type": "code",
   "execution_count": 21,
   "id": "0b72ae61",
   "metadata": {
    "ExecuteTime": {
     "end_time": "2022-01-05T13:42:23.386456Z",
     "start_time": "2022-01-05T13:42:23.384168Z"
    }
   },
   "outputs": [],
   "source": [
    "from drone_detector.metrics import *"
   ]
  },
  {
   "cell_type": "code",
   "execution_count": 22,
   "id": "d4a420ed",
   "metadata": {
    "ExecuteTime": {
     "end_time": "2022-01-05T13:42:23.399515Z",
     "start_time": "2022-01-05T13:42:23.387721Z"
    }
   },
   "outputs": [],
   "source": [
    "def poly_dice(poly_1, poly_2):\n",
    "    area_intersection  = poly_1.intersection(poly_2).area\n",
    "    area_union = poly_1.union(poly_2).area\n",
    "    return (2 * area_intersection) / (poly_1.area + poly_2.area)"
   ]
  },
  {
   "cell_type": "code",
   "execution_count": 23,
   "id": "de85d951",
   "metadata": {
    "ExecuteTime": {
     "end_time": "2022-01-05T13:42:27.309914Z",
     "start_time": "2022-01-05T13:42:23.400892Z"
    }
   },
   "outputs": [
    {
     "data": {
      "text/plain": [
       "class_id\n",
       "groundwood     0.496687\n",
       "uprightwood    0.461517\n",
       "dtype: float64"
      ]
     },
     "execution_count": 23,
     "metadata": {},
     "output_type": "execute_result"
    }
   ],
   "source": [
    "gt_dis = ground_truth.dissolve(by='class_id')\n",
    "res_dis = results.dissolve(by='class_id')\n",
    "poly_IoU(gt_dis, res_dis)"
   ]
  },
  {
   "cell_type": "code",
   "execution_count": 24,
   "id": "3a948c3c",
   "metadata": {
    "ExecuteTime": {
     "end_time": "2022-01-05T13:42:27.315796Z",
     "start_time": "2022-01-05T13:42:27.311179Z"
    }
   },
   "outputs": [
    {
     "data": {
      "text/plain": [
       "groundwood     3578\n",
       "uprightwood     293\n",
       "Name: class_id, dtype: int64"
      ]
     },
     "execution_count": 24,
     "metadata": {},
     "output_type": "execute_result"
    }
   ],
   "source": [
    "results.class_id.value_counts()"
   ]
  },
  {
   "cell_type": "code",
   "execution_count": 25,
   "id": "b3c44fc6",
   "metadata": {
    "ExecuteTime": {
     "end_time": "2022-01-05T13:42:27.333666Z",
     "start_time": "2022-01-05T13:42:27.317033Z"
    }
   },
   "outputs": [
    {
     "data": {
      "text/plain": [
       "groundwood     1155\n",
       "uprightwood     263\n",
       "Name: class_id, dtype: int64"
      ]
     },
     "execution_count": 25,
     "metadata": {},
     "output_type": "execute_result"
    }
   ],
   "source": [
    "ground_truth.class_id.value_counts()"
   ]
  },
  {
   "cell_type": "code",
   "execution_count": 26,
   "id": "fc0bb792",
   "metadata": {
    "ExecuteTime": {
     "end_time": "2022-01-05T13:42:27.345760Z",
     "start_time": "2022-01-05T13:42:27.335030Z"
    }
   },
   "outputs": [],
   "source": [
    "res_dis['area'] = res_dis.geometry.area"
   ]
  },
  {
   "cell_type": "code",
   "execution_count": 27,
   "id": "636bb058",
   "metadata": {
    "ExecuteTime": {
     "end_time": "2022-01-05T13:42:27.909046Z",
     "start_time": "2022-01-05T13:42:27.346964Z"
    }
   },
   "outputs": [],
   "source": [
    "gt_dis['area'] = gt_dis.geometry.area"
   ]
  },
  {
   "cell_type": "code",
   "execution_count": 28,
   "id": "c384f9cc",
   "metadata": {
    "ExecuteTime": {
     "end_time": "2022-01-05T13:42:27.945219Z",
     "start_time": "2022-01-05T13:42:27.910416Z"
    }
   },
   "outputs": [
    {
     "data": {
      "text/plain": [
       "class_id\n",
       "groundwood     812.828055\n",
       "uprightwood    677.984156\n",
       "dtype: float64"
      ]
     },
     "execution_count": 28,
     "metadata": {},
     "output_type": "execute_result"
    }
   ],
   "source": [
    "res_dis.area"
   ]
  },
  {
   "cell_type": "code",
   "execution_count": 29,
   "id": "f51871a3",
   "metadata": {
    "ExecuteTime": {
     "end_time": "2022-01-05T13:42:27.953689Z",
     "start_time": "2022-01-05T13:42:27.946470Z"
    }
   },
   "outputs": [
    {
     "data": {
      "text/plain": [
       "class_id\n",
       "groundwood     611.707074\n",
       "uprightwood    776.367101\n",
       "dtype: float64"
      ]
     },
     "execution_count": 29,
     "metadata": {},
     "output_type": "execute_result"
    }
   ],
   "source": [
    "gt_dis.area"
   ]
  },
  {
   "cell_type": "code",
   "execution_count": 30,
   "id": "42874066",
   "metadata": {
    "ExecuteTime": {
     "end_time": "2022-01-05T13:42:28.877456Z",
     "start_time": "2022-01-05T13:42:27.955788Z"
    }
   },
   "outputs": [
    {
     "data": {
      "text/plain": [
       "class_id\n",
       "groundwood     0.663715\n",
       "uprightwood    0.631559\n",
       "dtype: float64"
      ]
     },
     "execution_count": 30,
     "metadata": {},
     "output_type": "execute_result"
    }
   ],
   "source": [
    "poly_dice(gt_dis, res_dis)\n"
   ]
  },
  {
   "cell_type": "markdown",
   "id": "79d378fa",
   "metadata": {},
   "source": [
    "Run COCO metrics"
   ]
  },
  {
   "cell_type": "code",
   "execution_count": 31,
   "id": "36ee19a4",
   "metadata": {
    "ExecuteTime": {
     "end_time": "2022-01-05T13:42:28.881712Z",
     "start_time": "2022-01-05T13:42:28.878800Z"
    }
   },
   "outputs": [],
   "source": [
    "deadwood_categories = [{'supercategory': 'deadwood', 'id':1, 'name':'uprightwood'},\n",
    "                 \n",
    "                       {'supercategory': 'deadwood', 'id':2, 'name':'groundwood'}]\n",
    "\n",
    "raw_coco_eval = GisCOCOeval(result_basepath/'no_nms/', result_basepath/'no_nms/', \n",
    "                            None, None, deadwood_categories)"
   ]
  },
  {
   "cell_type": "code",
   "execution_count": 32,
   "id": "e2f94285",
   "metadata": {
    "ExecuteTime": {
     "end_time": "2022-01-05T12:29:13.619221Z",
     "start_time": "2022-01-05T12:29:04.992529Z"
    },
    "scrolled": false
   },
   "outputs": [
    {
     "data": {
      "application/vnd.jupyter.widget-view+json": {
       "model_id": "0a34f2eaa7d24e95acef0ea735301359",
       "version_major": 2,
       "version_minor": 0
      },
      "text/plain": [
       "0it [00:00, ?it/s]"
      ]
     },
     "metadata": {},
     "output_type": "display_data"
    },
    {
     "data": {
      "application/vnd.jupyter.widget-view+json": {
       "model_id": "365457e667b2486f9e8a9a8e5cf8bc71",
       "version_major": 2,
       "version_minor": 0
      },
      "text/plain": [
       "  0%|          | 0/5 [00:00<?, ?it/s]"
      ]
     },
     "metadata": {},
     "output_type": "display_data"
    }
   ],
   "source": [
    "raw_coco_eval.prepare_data(gt_label_col='layer')"
   ]
  },
  {
   "cell_type": "code",
   "execution_count": 33,
   "id": "614e60be",
   "metadata": {
    "ExecuteTime": {
     "end_time": "2022-01-05T12:29:13.714814Z",
     "start_time": "2022-01-05T12:29:13.620754Z"
    }
   },
   "outputs": [
    {
     "name": "stdout",
     "output_type": "stream",
     "text": [
      "loading annotations into memory...\n",
      "Done (t=0.05s)\n",
      "creating index...\n",
      "index created!\n",
      "Loading and preparing results...\n",
      "DONE (t=0.04s)\n",
      "creating index...\n",
      "index created!\n"
     ]
    }
   ],
   "source": [
    "raw_coco_eval.prepare_eval()"
   ]
  },
  {
   "cell_type": "code",
   "execution_count": 34,
   "id": "6a05f438",
   "metadata": {
    "ExecuteTime": {
     "end_time": "2022-01-05T12:29:56.050691Z",
     "start_time": "2022-01-05T12:29:13.716198Z"
    }
   },
   "outputs": [
    {
     "name": "stdout",
     "output_type": "stream",
     "text": [
      "\n",
      "Evaluating for category uprightwood\n",
      "Running per image evaluation...\n",
      "Evaluate annotation type *segm*\n",
      "DONE (t=0.66s).\n",
      "Accumulating evaluation results...\n",
      "DONE (t=0.01s).\n",
      " Average Precision  (AP) @[ IoU=0.50:0.95 | area=   all | maxDets=1000 ] = 0.192\n",
      " Average Precision  (AP) @[ IoU=0.50      | area=   all | maxDets=1000 ] = 0.342\n",
      " Average Precision  (AP) @[ IoU=0.75      | area=   all | maxDets=1000 ] = 0.194\n",
      " Average Precision  (AP) @[ IoU=0.50:0.95 | area= small | maxDets=1000 ] = 0.079\n",
      " Average Precision  (AP) @[ IoU=0.50:0.95 | area=medium | maxDets=1000 ] = 0.257\n",
      " Average Precision  (AP) @[ IoU=0.50:0.95 | area= large | maxDets=1000 ] = 0.000\n",
      " Average Recall     (AR) @[ IoU=0.50:0.95 | area=   all | maxDets=100 ] = 0.285\n",
      " Average Recall     (AR) @[ IoU=0.50:0.95 | area= small | maxDets=100 ] = 0.103\n",
      " Average Recall     (AR) @[ IoU=0.50:0.95 | area=medium | maxDets=100 ] = 0.388\n",
      " Average Recall     (AR) @[ IoU=0.50:0.95 | area= large | maxDets=100 ] = 0.000\n",
      "\n",
      "Evaluating for category groundwood\n",
      "Running per image evaluation...\n",
      "Evaluate annotation type *segm*\n",
      "DONE (t=20.53s).\n",
      "Accumulating evaluation results...\n",
      "DONE (t=0.03s).\n",
      " Average Precision  (AP) @[ IoU=0.50:0.95 | area=   all | maxDets=1000 ] = 0.181\n",
      " Average Precision  (AP) @[ IoU=0.50      | area=   all | maxDets=1000 ] = 0.451\n",
      " Average Precision  (AP) @[ IoU=0.75      | area=   all | maxDets=1000 ] = 0.095\n",
      " Average Precision  (AP) @[ IoU=0.50:0.95 | area= small | maxDets=1000 ] = 0.183\n",
      " Average Precision  (AP) @[ IoU=0.50:0.95 | area=medium | maxDets=1000 ] = 0.193\n",
      " Average Precision  (AP) @[ IoU=0.50:0.95 | area= large | maxDets=1000 ] = -1.000\n",
      " Average Recall     (AR) @[ IoU=0.50:0.95 | area=   all | maxDets=100 ] = 0.130\n",
      " Average Recall     (AR) @[ IoU=0.50:0.95 | area= small | maxDets=100 ] = 0.129\n",
      " Average Recall     (AR) @[ IoU=0.50:0.95 | area=medium | maxDets=100 ] = 0.150\n",
      " Average Recall     (AR) @[ IoU=0.50:0.95 | area= large | maxDets=100 ] = -1.000\n",
      "\n",
      "Evaluating for full data...\n",
      "Running per image evaluation...\n",
      "Evaluate annotation type *segm*\n",
      "DONE (t=21.06s).\n",
      "Accumulating evaluation results...\n",
      "DONE (t=0.04s).\n",
      " Average Precision  (AP) @[ IoU=0.50:0.95 | area=   all | maxDets=1000 ] = 0.187\n",
      " Average Precision  (AP) @[ IoU=0.50      | area=   all | maxDets=1000 ] = 0.397\n",
      " Average Precision  (AP) @[ IoU=0.75      | area=   all | maxDets=1000 ] = 0.144\n",
      " Average Precision  (AP) @[ IoU=0.50:0.95 | area= small | maxDets=1000 ] = 0.131\n",
      " Average Precision  (AP) @[ IoU=0.50:0.95 | area=medium | maxDets=1000 ] = 0.225\n",
      " Average Precision  (AP) @[ IoU=0.50:0.95 | area= large | maxDets=1000 ] = 0.000\n",
      " Average Recall     (AR) @[ IoU=0.50:0.95 | area=   all | maxDets=100 ] = 0.208\n",
      " Average Recall     (AR) @[ IoU=0.50:0.95 | area= small | maxDets=100 ] = 0.116\n",
      " Average Recall     (AR) @[ IoU=0.50:0.95 | area=medium | maxDets=100 ] = 0.269\n",
      " Average Recall     (AR) @[ IoU=0.50:0.95 | area= large | maxDets=100 ] = 0.000\n"
     ]
    }
   ],
   "source": [
    "raw_coco_eval.evaluate()"
   ]
  },
  {
   "cell_type": "code",
   "execution_count": 35,
   "id": "e6be1a4f",
   "metadata": {
    "ExecuteTime": {
     "end_time": "2022-01-05T12:29:56.161451Z",
     "start_time": "2022-01-05T12:29:56.052239Z"
    }
   },
   "outputs": [
    {
     "name": "stdout",
     "output_type": "stream",
     "text": [
      "loading annotations into memory...\n",
      "Done (t=0.05s)\n",
      "creating index...\n",
      "index created!\n",
      "Loading and preparing results...\n",
      "DONE (t=0.04s)\n",
      "creating index...\n",
      "index created!\n"
     ]
    }
   ],
   "source": [
    "raw_coco_eval.prepare_eval(eval_type='bbox')"
   ]
  },
  {
   "cell_type": "code",
   "execution_count": 36,
   "id": "d5c82556",
   "metadata": {
    "ExecuteTime": {
     "end_time": "2022-01-05T12:30:38.252719Z",
     "start_time": "2022-01-05T12:29:56.164043Z"
    }
   },
   "outputs": [
    {
     "name": "stdout",
     "output_type": "stream",
     "text": [
      "\n",
      "Evaluating for category uprightwood\n",
      "Running per image evaluation...\n",
      "Evaluate annotation type *bbox*\n",
      "DONE (t=0.65s).\n",
      "Accumulating evaluation results...\n",
      "DONE (t=0.01s).\n",
      " Average Precision  (AP) @[ IoU=0.50:0.95 | area=   all | maxDets=1000 ] = 0.191\n",
      " Average Precision  (AP) @[ IoU=0.50      | area=   all | maxDets=1000 ] = 0.352\n",
      " Average Precision  (AP) @[ IoU=0.75      | area=   all | maxDets=1000 ] = 0.184\n",
      " Average Precision  (AP) @[ IoU=0.50:0.95 | area= small | maxDets=1000 ] = 0.090\n",
      " Average Precision  (AP) @[ IoU=0.50:0.95 | area=medium | maxDets=1000 ] = 0.251\n",
      " Average Precision  (AP) @[ IoU=0.50:0.95 | area= large | maxDets=1000 ] = 0.000\n",
      " Average Recall     (AR) @[ IoU=0.50:0.95 | area=   all | maxDets=100 ] = 0.296\n",
      " Average Recall     (AR) @[ IoU=0.50:0.95 | area= small | maxDets=100 ] = 0.127\n",
      " Average Recall     (AR) @[ IoU=0.50:0.95 | area=medium | maxDets=100 ] = 0.390\n",
      " Average Recall     (AR) @[ IoU=0.50:0.95 | area= large | maxDets=100 ] = 0.000\n",
      "\n",
      "Evaluating for category groundwood\n",
      "Running per image evaluation...\n",
      "Evaluate annotation type *bbox*\n",
      "DONE (t=19.95s).\n",
      "Accumulating evaluation results...\n",
      "DONE (t=0.03s).\n",
      " Average Precision  (AP) @[ IoU=0.50:0.95 | area=   all | maxDets=1000 ] = 0.250\n",
      " Average Precision  (AP) @[ IoU=0.50      | area=   all | maxDets=1000 ] = 0.442\n",
      " Average Precision  (AP) @[ IoU=0.75      | area=   all | maxDets=1000 ] = 0.261\n",
      " Average Precision  (AP) @[ IoU=0.50:0.95 | area= small | maxDets=1000 ] = 0.251\n",
      " Average Precision  (AP) @[ IoU=0.50:0.95 | area=medium | maxDets=1000 ] = 0.265\n",
      " Average Precision  (AP) @[ IoU=0.50:0.95 | area= large | maxDets=1000 ] = -1.000\n",
      " Average Recall     (AR) @[ IoU=0.50:0.95 | area=   all | maxDets=100 ] = 0.171\n",
      " Average Recall     (AR) @[ IoU=0.50:0.95 | area= small | maxDets=100 ] = 0.170\n",
      " Average Recall     (AR) @[ IoU=0.50:0.95 | area=medium | maxDets=100 ] = 0.180\n",
      " Average Recall     (AR) @[ IoU=0.50:0.95 | area= large | maxDets=100 ] = -1.000\n",
      "\n",
      "Evaluating for full data...\n",
      "Running per image evaluation...\n",
      "Evaluate annotation type *bbox*\n",
      "DONE (t=20.45s).\n",
      "Accumulating evaluation results...\n",
      "DONE (t=0.04s).\n",
      " Average Precision  (AP) @[ IoU=0.50:0.95 | area=   all | maxDets=1000 ] = 0.220\n",
      " Average Precision  (AP) @[ IoU=0.50      | area=   all | maxDets=1000 ] = 0.397\n",
      " Average Precision  (AP) @[ IoU=0.75      | area=   all | maxDets=1000 ] = 0.222\n",
      " Average Precision  (AP) @[ IoU=0.50:0.95 | area= small | maxDets=1000 ] = 0.171\n",
      " Average Precision  (AP) @[ IoU=0.50:0.95 | area=medium | maxDets=1000 ] = 0.258\n",
      " Average Precision  (AP) @[ IoU=0.50:0.95 | area= large | maxDets=1000 ] = 0.000\n",
      " Average Recall     (AR) @[ IoU=0.50:0.95 | area=   all | maxDets=100 ] = 0.233\n",
      " Average Recall     (AR) @[ IoU=0.50:0.95 | area= small | maxDets=100 ] = 0.149\n",
      " Average Recall     (AR) @[ IoU=0.50:0.95 | area=medium | maxDets=100 ] = 0.285\n",
      " Average Recall     (AR) @[ IoU=0.50:0.95 | area= large | maxDets=100 ] = 0.000\n"
     ]
    }
   ],
   "source": [
    "raw_coco_eval.evaluate()"
   ]
  },
  {
   "cell_type": "markdown",
   "id": "a5b3cdc9",
   "metadata": {},
   "source": [
    "### Do score-based NMS with threshold of 0.7"
   ]
  },
  {
   "cell_type": "markdown",
   "id": "4a9972e8",
   "metadata": {},
   "source": [
    "If two or more predicted masks have bounding box IoU of more than 0.7, keep only the one with the highest score."
   ]
  },
  {
   "cell_type": "code",
   "execution_count": 37,
   "id": "c8ec3e81",
   "metadata": {
    "ExecuteTime": {
     "end_time": "2022-01-05T12:30:38.256378Z",
     "start_time": "2022-01-05T12:30:38.253901Z"
    }
   },
   "outputs": [],
   "source": [
    "from drone_detector.postproc import non_max_suppression_fast, do_nms\n",
    "from pathlib import Path\n",
    "\n",
    "\n",
    "import numpy as np"
   ]
  },
  {
   "cell_type": "code",
   "execution_count": 38,
   "id": "2904e07c",
   "metadata": {
    "ExecuteTime": {
     "end_time": "2022-01-05T12:30:39.409434Z",
     "start_time": "2022-01-05T12:30:38.257487Z"
    }
   },
   "outputs": [],
   "source": [
    "raw_dir = result_basepath/'no_nms/predicted_vectors/'\n",
    "nms_dir = result_basepath/'nms/predicted_vectors/'\n",
    "raw_files = os.listdir(raw_dir)"
   ]
  },
  {
   "cell_type": "code",
   "execution_count": 39,
   "id": "c194f035",
   "metadata": {
    "ExecuteTime": {
     "end_time": "2022-01-05T12:30:44.578000Z",
     "start_time": "2022-01-05T12:30:39.410743Z"
    }
   },
   "outputs": [],
   "source": [
    "for r in raw_files:\n",
    "    gdf_temp = gpd.read_file(raw_dir/r)\n",
    "    gdf_nms = do_nms(gdf_temp)\n",
    "    gdf_nms.to_file(nms_dir/r, driver='GeoJSON')\n",
    "    gdf_nms = None\n",
    "    gdf_temp = None"
   ]
  },
  {
   "cell_type": "markdown",
   "id": "b2694a9a",
   "metadata": {
    "ExecuteTime": {
     "end_time": "2021-10-07T11:46:50.499737Z",
     "start_time": "2021-10-07T11:46:50.497436Z"
    }
   },
   "source": [
    "Poly IoU"
   ]
  },
  {
   "cell_type": "code",
   "execution_count": 40,
   "id": "0a01a217",
   "metadata": {
    "ExecuteTime": {
     "end_time": "2022-01-05T12:30:44.950931Z",
     "start_time": "2022-01-05T12:30:44.579720Z"
    }
   },
   "outputs": [],
   "source": [
    "res_nms = do_nms(results)"
   ]
  },
  {
   "cell_type": "code",
   "execution_count": 41,
   "id": "702b6269",
   "metadata": {
    "ExecuteTime": {
     "end_time": "2022-01-05T12:30:46.397291Z",
     "start_time": "2022-01-05T12:30:44.952452Z"
    }
   },
   "outputs": [],
   "source": [
    "res_nms_dis = res_nms.dissolve(by='class_id')"
   ]
  },
  {
   "cell_type": "code",
   "execution_count": 42,
   "id": "c1ff63e3",
   "metadata": {
    "ExecuteTime": {
     "end_time": "2022-01-05T12:30:46.403246Z",
     "start_time": "2022-01-05T12:30:46.398693Z"
    }
   },
   "outputs": [
    {
     "data": {
      "text/plain": [
       "groundwood     1825\n",
       "uprightwood     203\n",
       "Name: class_id, dtype: int64"
      ]
     },
     "execution_count": 42,
     "metadata": {},
     "output_type": "execute_result"
    }
   ],
   "source": [
    "res_nms.class_id.value_counts()"
   ]
  },
  {
   "cell_type": "code",
   "execution_count": 43,
   "id": "28b99390",
   "metadata": {
    "ExecuteTime": {
     "end_time": "2022-01-05T12:30:47.280591Z",
     "start_time": "2022-01-05T12:30:46.404549Z"
    }
   },
   "outputs": [
    {
     "data": {
      "text/plain": [
       "class_id\n",
       "groundwood     0.486486\n",
       "uprightwood    0.452101\n",
       "dtype: float64"
      ]
     },
     "execution_count": 43,
     "metadata": {},
     "output_type": "execute_result"
    }
   ],
   "source": [
    "poly_IoU(gt_dis, res_nms_dis)"
   ]
  },
  {
   "cell_type": "code",
   "execution_count": 44,
   "id": "09948e07",
   "metadata": {
    "ExecuteTime": {
     "end_time": "2022-01-05T12:30:47.284973Z",
     "start_time": "2022-01-05T12:30:47.281962Z"
    }
   },
   "outputs": [],
   "source": [
    "deadwood_categories = [{'supercategory': 'deadwood', 'id':1, 'name':'uprightwood'},\n",
    "                      {'supercategory': 'deadwood', 'id':2, 'name':'groundwood'}]\n",
    "\n",
    "nms_coco_eval = GisCOCOeval(result_basepath/'nms/', result_basepath/'nms/', \n",
    "                            None, None, deadwood_categories)"
   ]
  },
  {
   "cell_type": "code",
   "execution_count": 45,
   "id": "ac89daa1",
   "metadata": {
    "ExecuteTime": {
     "end_time": "2022-01-05T12:30:53.274403Z",
     "start_time": "2022-01-05T12:30:47.286330Z"
    }
   },
   "outputs": [
    {
     "data": {
      "application/vnd.jupyter.widget-view+json": {
       "model_id": "4904b5271e494b5fb3a1dd796bbbc8e9",
       "version_major": 2,
       "version_minor": 0
      },
      "text/plain": [
       "0it [00:00, ?it/s]"
      ]
     },
     "metadata": {},
     "output_type": "display_data"
    },
    {
     "data": {
      "application/vnd.jupyter.widget-view+json": {
       "model_id": "06b99a464e4b4f1e8b4cc8cf99cae41f",
       "version_major": 2,
       "version_minor": 0
      },
      "text/plain": [
       "  0%|          | 0/5 [00:00<?, ?it/s]"
      ]
     },
     "metadata": {},
     "output_type": "display_data"
    }
   ],
   "source": [
    "nms_coco_eval.prepare_data(gt_label_col='layer')"
   ]
  },
  {
   "cell_type": "code",
   "execution_count": 46,
   "id": "d547b216",
   "metadata": {
    "ExecuteTime": {
     "end_time": "2022-01-05T12:30:53.516923Z",
     "start_time": "2022-01-05T12:30:53.275840Z"
    }
   },
   "outputs": [
    {
     "name": "stdout",
     "output_type": "stream",
     "text": [
      "loading annotations into memory...\n",
      "Done (t=0.21s)\n",
      "creating index...\n",
      "index created!\n",
      "Loading and preparing results...\n",
      "DONE (t=0.02s)\n",
      "creating index...\n",
      "index created!\n"
     ]
    }
   ],
   "source": [
    "nms_coco_eval.prepare_eval()"
   ]
  },
  {
   "cell_type": "code",
   "execution_count": 47,
   "id": "0f5e0fe5",
   "metadata": {
    "ExecuteTime": {
     "end_time": "2022-01-05T12:31:21.977500Z",
     "start_time": "2022-01-05T12:30:53.518263Z"
    }
   },
   "outputs": [
    {
     "name": "stdout",
     "output_type": "stream",
     "text": [
      "\n",
      "Evaluating for category uprightwood\n",
      "Running per image evaluation...\n",
      "Evaluate annotation type *segm*\n",
      "DONE (t=0.47s).\n",
      "Accumulating evaluation results...\n",
      "DONE (t=0.01s).\n",
      " Average Precision  (AP) @[ IoU=0.50:0.95 | area=   all | maxDets=1000 ] = 0.239\n",
      " Average Precision  (AP) @[ IoU=0.50      | area=   all | maxDets=1000 ] = 0.453\n",
      " Average Precision  (AP) @[ IoU=0.75      | area=   all | maxDets=1000 ] = 0.201\n",
      " Average Precision  (AP) @[ IoU=0.50:0.95 | area= small | maxDets=1000 ] = 0.097\n",
      " Average Precision  (AP) @[ IoU=0.50:0.95 | area=medium | maxDets=1000 ] = 0.316\n",
      " Average Precision  (AP) @[ IoU=0.50:0.95 | area= large | maxDets=1000 ] = 0.000\n",
      " Average Recall     (AR) @[ IoU=0.50:0.95 | area=   all | maxDets=100 ] = 0.307\n",
      " Average Recall     (AR) @[ IoU=0.50:0.95 | area= small | maxDets=100 ] = 0.154\n",
      " Average Recall     (AR) @[ IoU=0.50:0.95 | area=medium | maxDets=100 ] = 0.393\n",
      " Average Recall     (AR) @[ IoU=0.50:0.95 | area= large | maxDets=100 ] = 0.000\n",
      "\n",
      "Evaluating for category groundwood\n",
      "Running per image evaluation...\n",
      "Evaluate annotation type *segm*\n",
      "DONE (t=13.81s).\n",
      "Accumulating evaluation results...\n",
      "DONE (t=0.02s).\n",
      " Average Precision  (AP) @[ IoU=0.50:0.95 | area=   all | maxDets=1000 ] = 0.230\n",
      " Average Precision  (AP) @[ IoU=0.50      | area=   all | maxDets=1000 ] = 0.587\n",
      " Average Precision  (AP) @[ IoU=0.75      | area=   all | maxDets=1000 ] = 0.113\n",
      " Average Precision  (AP) @[ IoU=0.50:0.95 | area= small | maxDets=1000 ] = 0.231\n",
      " Average Precision  (AP) @[ IoU=0.50:0.95 | area=medium | maxDets=1000 ] = 0.194\n",
      " Average Precision  (AP) @[ IoU=0.50:0.95 | area= large | maxDets=1000 ] = -1.000\n",
      " Average Recall     (AR) @[ IoU=0.50:0.95 | area=   all | maxDets=100 ] = 0.157\n",
      " Average Recall     (AR) @[ IoU=0.50:0.95 | area= small | maxDets=100 ] = 0.157\n",
      " Average Recall     (AR) @[ IoU=0.50:0.95 | area=medium | maxDets=100 ] = 0.150\n",
      " Average Recall     (AR) @[ IoU=0.50:0.95 | area= large | maxDets=100 ] = -1.000\n",
      "\n",
      "Evaluating for full data...\n",
      "Running per image evaluation...\n",
      "Evaluate annotation type *segm*\n",
      "DONE (t=14.11s).\n",
      "Accumulating evaluation results...\n",
      "DONE (t=0.03s).\n",
      " Average Precision  (AP) @[ IoU=0.50:0.95 | area=   all | maxDets=1000 ] = 0.235\n",
      " Average Precision  (AP) @[ IoU=0.50      | area=   all | maxDets=1000 ] = 0.520\n",
      " Average Precision  (AP) @[ IoU=0.75      | area=   all | maxDets=1000 ] = 0.157\n",
      " Average Precision  (AP) @[ IoU=0.50:0.95 | area= small | maxDets=1000 ] = 0.164\n",
      " Average Precision  (AP) @[ IoU=0.50:0.95 | area=medium | maxDets=1000 ] = 0.255\n",
      " Average Precision  (AP) @[ IoU=0.50:0.95 | area= large | maxDets=1000 ] = 0.000\n",
      " Average Recall     (AR) @[ IoU=0.50:0.95 | area=   all | maxDets=100 ] = 0.232\n",
      " Average Recall     (AR) @[ IoU=0.50:0.95 | area= small | maxDets=100 ] = 0.155\n",
      " Average Recall     (AR) @[ IoU=0.50:0.95 | area=medium | maxDets=100 ] = 0.272\n",
      " Average Recall     (AR) @[ IoU=0.50:0.95 | area= large | maxDets=100 ] = 0.000\n"
     ]
    }
   ],
   "source": [
    "nms_coco_eval.evaluate()"
   ]
  },
  {
   "cell_type": "code",
   "execution_count": 48,
   "id": "2459520a",
   "metadata": {
    "ExecuteTime": {
     "end_time": "2022-01-05T12:31:22.059456Z",
     "start_time": "2022-01-05T12:31:21.978701Z"
    }
   },
   "outputs": [
    {
     "name": "stdout",
     "output_type": "stream",
     "text": [
      "loading annotations into memory...\n",
      "Done (t=0.05s)\n",
      "creating index...\n",
      "index created!\n",
      "Loading and preparing results...\n",
      "DONE (t=0.02s)\n",
      "creating index...\n",
      "index created!\n"
     ]
    }
   ],
   "source": [
    "nms_coco_eval.prepare_eval(eval_type='bbox')"
   ]
  },
  {
   "cell_type": "code",
   "execution_count": 49,
   "id": "f2108d04",
   "metadata": {
    "ExecuteTime": {
     "end_time": "2022-01-05T12:31:50.878090Z",
     "start_time": "2022-01-05T12:31:22.061300Z"
    }
   },
   "outputs": [
    {
     "name": "stdout",
     "output_type": "stream",
     "text": [
      "\n",
      "Evaluating for category uprightwood\n",
      "Running per image evaluation...\n",
      "Evaluate annotation type *bbox*\n",
      "DONE (t=0.46s).\n",
      "Accumulating evaluation results...\n",
      "DONE (t=0.01s).\n",
      " Average Precision  (AP) @[ IoU=0.50:0.95 | area=   all | maxDets=1000 ] = 0.230\n",
      " Average Precision  (AP) @[ IoU=0.50      | area=   all | maxDets=1000 ] = 0.464\n",
      " Average Precision  (AP) @[ IoU=0.75      | area=   all | maxDets=1000 ] = 0.203\n",
      " Average Precision  (AP) @[ IoU=0.50:0.95 | area= small | maxDets=1000 ] = 0.112\n",
      " Average Precision  (AP) @[ IoU=0.50:0.95 | area=medium | maxDets=1000 ] = 0.296\n",
      " Average Precision  (AP) @[ IoU=0.50:0.95 | area= large | maxDets=1000 ] = 0.000\n",
      " Average Recall     (AR) @[ IoU=0.50:0.95 | area=   all | maxDets=100 ] = 0.314\n",
      " Average Recall     (AR) @[ IoU=0.50:0.95 | area= small | maxDets=100 ] = 0.181\n",
      " Average Recall     (AR) @[ IoU=0.50:0.95 | area=medium | maxDets=100 ] = 0.389\n",
      " Average Recall     (AR) @[ IoU=0.50:0.95 | area= large | maxDets=100 ] = 0.000\n",
      "\n",
      "Evaluating for category groundwood\n",
      "Running per image evaluation...\n",
      "Evaluate annotation type *bbox*\n",
      "DONE (t=13.47s).\n",
      "Accumulating evaluation results...\n",
      "DONE (t=0.02s).\n",
      " Average Precision  (AP) @[ IoU=0.50:0.95 | area=   all | maxDets=1000 ] = 0.308\n",
      " Average Precision  (AP) @[ IoU=0.50      | area=   all | maxDets=1000 ] = 0.569\n",
      " Average Precision  (AP) @[ IoU=0.75      | area=   all | maxDets=1000 ] = 0.306\n",
      " Average Precision  (AP) @[ IoU=0.50:0.95 | area= small | maxDets=1000 ] = 0.310\n",
      " Average Precision  (AP) @[ IoU=0.50:0.95 | area=medium | maxDets=1000 ] = 0.271\n",
      " Average Precision  (AP) @[ IoU=0.50:0.95 | area= large | maxDets=1000 ] = -1.000\n",
      " Average Recall     (AR) @[ IoU=0.50:0.95 | area=   all | maxDets=100 ] = 0.207\n",
      " Average Recall     (AR) @[ IoU=0.50:0.95 | area= small | maxDets=100 ] = 0.207\n",
      " Average Recall     (AR) @[ IoU=0.50:0.95 | area=medium | maxDets=100 ] = 0.180\n",
      " Average Recall     (AR) @[ IoU=0.50:0.95 | area= large | maxDets=100 ] = -1.000\n",
      "\n",
      "Evaluating for full data...\n",
      "Running per image evaluation...\n",
      "Evaluate annotation type *bbox*\n",
      "DONE (t=13.93s).\n",
      "Accumulating evaluation results...\n",
      "DONE (t=0.03s).\n",
      " Average Precision  (AP) @[ IoU=0.50:0.95 | area=   all | maxDets=1000 ] = 0.269\n",
      " Average Precision  (AP) @[ IoU=0.50      | area=   all | maxDets=1000 ] = 0.516\n",
      " Average Precision  (AP) @[ IoU=0.75      | area=   all | maxDets=1000 ] = 0.254\n",
      " Average Precision  (AP) @[ IoU=0.50:0.95 | area= small | maxDets=1000 ] = 0.211\n",
      " Average Precision  (AP) @[ IoU=0.50:0.95 | area=medium | maxDets=1000 ] = 0.283\n",
      " Average Precision  (AP) @[ IoU=0.50:0.95 | area= large | maxDets=1000 ] = 0.000\n",
      " Average Recall     (AR) @[ IoU=0.50:0.95 | area=   all | maxDets=100 ] = 0.261\n",
      " Average Recall     (AR) @[ IoU=0.50:0.95 | area= small | maxDets=100 ] = 0.194\n",
      " Average Recall     (AR) @[ IoU=0.50:0.95 | area=medium | maxDets=100 ] = 0.285\n",
      " Average Recall     (AR) @[ IoU=0.50:0.95 | area= large | maxDets=100 ] = 0.000\n"
     ]
    }
   ],
   "source": [
    "nms_coco_eval.evaluate()"
   ]
  },
  {
   "cell_type": "markdown",
   "id": "6da4f8ca",
   "metadata": {},
   "source": [
    "### Area-based NMS"
   ]
  },
  {
   "cell_type": "markdown",
   "id": "431b9827",
   "metadata": {},
   "source": [
    "If two or more predicted masks have bounding box IoU larger than 0.7, keep the largest mask and discard the others."
   ]
  },
  {
   "cell_type": "markdown",
   "id": "b2933754",
   "metadata": {
    "ExecuteTime": {
     "end_time": "2021-10-07T11:46:50.499737Z",
     "start_time": "2021-10-07T11:46:50.497436Z"
    }
   },
   "source": [
    "Poly IoU"
   ]
  },
  {
   "cell_type": "code",
   "execution_count": 50,
   "id": "0e4bedea",
   "metadata": {
    "ExecuteTime": {
     "end_time": "2022-01-05T12:31:51.192611Z",
     "start_time": "2022-01-05T12:31:50.879309Z"
    }
   },
   "outputs": [],
   "source": [
    "res_area_nms = do_nms(results, crit='area')"
   ]
  },
  {
   "cell_type": "code",
   "execution_count": 51,
   "id": "799526d0",
   "metadata": {
    "ExecuteTime": {
     "end_time": "2022-01-05T12:31:53.063848Z",
     "start_time": "2022-01-05T12:31:51.194037Z"
    }
   },
   "outputs": [],
   "source": [
    "res_area_nms_dis = res_area_nms.dissolve(by='class_id')"
   ]
  },
  {
   "cell_type": "code",
   "execution_count": 52,
   "id": "43820a3b",
   "metadata": {
    "ExecuteTime": {
     "end_time": "2022-01-05T12:31:53.921534Z",
     "start_time": "2022-01-05T12:31:53.065104Z"
    }
   },
   "outputs": [
    {
     "data": {
      "text/plain": [
       "class_id\n",
       "groundwood     0.478798\n",
       "uprightwood    0.460620\n",
       "dtype: float64"
      ]
     },
     "execution_count": 52,
     "metadata": {},
     "output_type": "execute_result"
    }
   ],
   "source": [
    "poly_IoU(gt_dis, res_area_nms_dis)"
   ]
  },
  {
   "cell_type": "markdown",
   "id": "b37a97cb",
   "metadata": {},
   "source": [
    "COCO metrics"
   ]
  },
  {
   "cell_type": "code",
   "execution_count": 53,
   "id": "5cb46e31",
   "metadata": {
    "ExecuteTime": {
     "end_time": "2022-01-05T12:31:53.926653Z",
     "start_time": "2022-01-05T12:31:53.922813Z"
    }
   },
   "outputs": [],
   "source": [
    "raw_dir = result_basepath/'no_nms/predicted_vectors/'\n",
    "area_nms_dir = result_basepath/'area_nms/predicted_vectors/'\n",
    "raw_files = os.listdir(raw_dir)"
   ]
  },
  {
   "cell_type": "code",
   "execution_count": 54,
   "id": "056631b1",
   "metadata": {
    "ExecuteTime": {
     "end_time": "2022-01-05T12:31:58.975770Z",
     "start_time": "2022-01-05T12:31:53.927997Z"
    }
   },
   "outputs": [],
   "source": [
    "for r in raw_files:\n",
    "    gdf_temp = gpd.read_file(raw_dir/r)\n",
    "    gdf_nms = do_nms(gdf_temp, crit='area')\n",
    "    gdf_nms.to_file(area_nms_dir/r, 'GeoJSON')\n",
    "    gdf_nms = None\n",
    "    gdf_temp = None"
   ]
  },
  {
   "cell_type": "code",
   "execution_count": 55,
   "id": "ec861ca7",
   "metadata": {
    "ExecuteTime": {
     "end_time": "2022-01-05T12:31:58.980119Z",
     "start_time": "2022-01-05T12:31:58.977384Z"
    }
   },
   "outputs": [],
   "source": [
    "deadwood_categories = [{'supercategory': 'deadwood', 'id':1, 'name':'uprightwood'},\n",
    "                      {'supercategory': 'deadwood', 'id':2, 'name':'groundwood'}]\n",
    "\n",
    "area_nms_coco_eval = GisCOCOeval(result_basepath/'area_nms/', result_basepath/'area_nms/', \n",
    "                            None, None, deadwood_categories)"
   ]
  },
  {
   "cell_type": "code",
   "execution_count": 56,
   "id": "7e576185",
   "metadata": {
    "ExecuteTime": {
     "end_time": "2022-01-05T12:32:04.419167Z",
     "start_time": "2022-01-05T12:31:58.981492Z"
    }
   },
   "outputs": [
    {
     "data": {
      "application/vnd.jupyter.widget-view+json": {
       "model_id": "7ded1437bf23401caa4ef68da45fa23e",
       "version_major": 2,
       "version_minor": 0
      },
      "text/plain": [
       "0it [00:00, ?it/s]"
      ]
     },
     "metadata": {},
     "output_type": "display_data"
    },
    {
     "data": {
      "application/vnd.jupyter.widget-view+json": {
       "model_id": "f0b2bc8c301247b3b939614be39d0d8b",
       "version_major": 2,
       "version_minor": 0
      },
      "text/plain": [
       "  0%|          | 0/5 [00:00<?, ?it/s]"
      ]
     },
     "metadata": {},
     "output_type": "display_data"
    }
   ],
   "source": [
    "area_nms_coco_eval.prepare_data(gt_label_col='layer')"
   ]
  },
  {
   "cell_type": "code",
   "execution_count": 57,
   "id": "7c7d424c",
   "metadata": {
    "ExecuteTime": {
     "end_time": "2022-01-05T12:32:04.496141Z",
     "start_time": "2022-01-05T12:32:04.420559Z"
    }
   },
   "outputs": [
    {
     "name": "stdout",
     "output_type": "stream",
     "text": [
      "loading annotations into memory...\n",
      "Done (t=0.05s)\n",
      "creating index...\n",
      "index created!\n",
      "Loading and preparing results...\n",
      "DONE (t=0.02s)\n",
      "creating index...\n",
      "index created!\n"
     ]
    }
   ],
   "source": [
    "area_nms_coco_eval.prepare_eval()"
   ]
  },
  {
   "cell_type": "code",
   "execution_count": 58,
   "id": "15c460ff",
   "metadata": {
    "ExecuteTime": {
     "end_time": "2022-01-05T12:32:29.602474Z",
     "start_time": "2022-01-05T12:32:04.497489Z"
    }
   },
   "outputs": [
    {
     "name": "stdout",
     "output_type": "stream",
     "text": [
      "\n",
      "Evaluating for category uprightwood\n",
      "Running per image evaluation...\n",
      "Evaluate annotation type *segm*\n",
      "DONE (t=0.46s).\n",
      "Accumulating evaluation results...\n",
      "DONE (t=0.01s).\n",
      " Average Precision  (AP) @[ IoU=0.50:0.95 | area=   all | maxDets=1000 ] = 0.260\n",
      " Average Precision  (AP) @[ IoU=0.50      | area=   all | maxDets=1000 ] = 0.466\n",
      " Average Precision  (AP) @[ IoU=0.75      | area=   all | maxDets=1000 ] = 0.251\n",
      " Average Precision  (AP) @[ IoU=0.50:0.95 | area= small | maxDets=1000 ] = 0.104\n",
      " Average Precision  (AP) @[ IoU=0.50:0.95 | area=medium | maxDets=1000 ] = 0.344\n",
      " Average Precision  (AP) @[ IoU=0.50:0.95 | area= large | maxDets=1000 ] = 0.000\n",
      " Average Recall     (AR) @[ IoU=0.50:0.95 | area=   all | maxDets=100 ] = 0.320\n",
      " Average Recall     (AR) @[ IoU=0.50:0.95 | area= small | maxDets=100 ] = 0.156\n",
      " Average Recall     (AR) @[ IoU=0.50:0.95 | area=medium | maxDets=100 ] = 0.413\n",
      " Average Recall     (AR) @[ IoU=0.50:0.95 | area= large | maxDets=100 ] = 0.000\n",
      "\n",
      "Evaluating for category groundwood\n",
      "Running per image evaluation...\n",
      "Evaluate annotation type *segm*\n",
      "DONE (t=12.03s).\n",
      "Accumulating evaluation results...\n",
      "DONE (t=0.02s).\n",
      " Average Precision  (AP) @[ IoU=0.50:0.95 | area=   all | maxDets=1000 ] = 0.230\n",
      " Average Precision  (AP) @[ IoU=0.50      | area=   all | maxDets=1000 ] = 0.581\n",
      " Average Precision  (AP) @[ IoU=0.75      | area=   all | maxDets=1000 ] = 0.116\n",
      " Average Precision  (AP) @[ IoU=0.50:0.95 | area= small | maxDets=1000 ] = 0.232\n",
      " Average Precision  (AP) @[ IoU=0.50:0.95 | area=medium | maxDets=1000 ] = 0.203\n",
      " Average Precision  (AP) @[ IoU=0.50:0.95 | area= large | maxDets=1000 ] = -1.000\n",
      " Average Recall     (AR) @[ IoU=0.50:0.95 | area=   all | maxDets=100 ] = 0.164\n",
      " Average Recall     (AR) @[ IoU=0.50:0.95 | area= small | maxDets=100 ] = 0.163\n",
      " Average Recall     (AR) @[ IoU=0.50:0.95 | area=medium | maxDets=100 ] = 0.195\n",
      " Average Recall     (AR) @[ IoU=0.50:0.95 | area= large | maxDets=100 ] = -1.000\n",
      "\n",
      "Evaluating for full data...\n",
      "Running per image evaluation...\n",
      "Evaluate annotation type *segm*\n",
      "DONE (t=12.55s).\n",
      "Accumulating evaluation results...\n",
      "DONE (t=0.03s).\n",
      " Average Precision  (AP) @[ IoU=0.50:0.95 | area=   all | maxDets=1000 ] = 0.245\n",
      " Average Precision  (AP) @[ IoU=0.50      | area=   all | maxDets=1000 ] = 0.524\n",
      " Average Precision  (AP) @[ IoU=0.75      | area=   all | maxDets=1000 ] = 0.184\n",
      " Average Precision  (AP) @[ IoU=0.50:0.95 | area= small | maxDets=1000 ] = 0.168\n",
      " Average Precision  (AP) @[ IoU=0.50:0.95 | area=medium | maxDets=1000 ] = 0.274\n",
      " Average Precision  (AP) @[ IoU=0.50:0.95 | area= large | maxDets=1000 ] = 0.000\n",
      " Average Recall     (AR) @[ IoU=0.50:0.95 | area=   all | maxDets=100 ] = 0.242\n",
      " Average Recall     (AR) @[ IoU=0.50:0.95 | area= small | maxDets=100 ] = 0.159\n",
      " Average Recall     (AR) @[ IoU=0.50:0.95 | area=medium | maxDets=100 ] = 0.304\n",
      " Average Recall     (AR) @[ IoU=0.50:0.95 | area= large | maxDets=100 ] = 0.000\n"
     ]
    }
   ],
   "source": [
    "area_nms_coco_eval.evaluate()"
   ]
  },
  {
   "cell_type": "markdown",
   "id": "5d82ef2d",
   "metadata": {},
   "source": [
    "### Score-based, labelwise NMS"
   ]
  },
  {
   "cell_type": "markdown",
   "id": "dbd8dcf7",
   "metadata": {},
   "source": [
    "If two or more predicted masks have same label and bounding box IoU larger than 0.7, keep the one with highest score."
   ]
  },
  {
   "cell_type": "markdown",
   "id": "047586e0",
   "metadata": {},
   "source": [
    "Poly IOU"
   ]
  },
  {
   "cell_type": "code",
   "execution_count": 59,
   "id": "ef2f79d2",
   "metadata": {
    "ExecuteTime": {
     "end_time": "2022-01-05T12:32:29.941957Z",
     "start_time": "2022-01-05T12:32:29.603712Z"
    }
   },
   "outputs": [],
   "source": [
    "standing = results[results.label==1].copy()\n",
    "fallen = results[results.label==2].copy()\n",
    "\n",
    "standing = do_nms(standing)\n",
    "fallen = do_nms(fallen)\n",
    "\n",
    "res_label_nms = standing.append(fallen)"
   ]
  },
  {
   "cell_type": "code",
   "execution_count": 60,
   "id": "b6cc701c",
   "metadata": {
    "ExecuteTime": {
     "end_time": "2022-01-05T12:32:32.262393Z",
     "start_time": "2022-01-05T12:32:29.943152Z"
    }
   },
   "outputs": [],
   "source": [
    "res_label_dis = res_label_nms.dissolve(by='class_id')"
   ]
  },
  {
   "cell_type": "code",
   "execution_count": 61,
   "id": "d7a80433",
   "metadata": {
    "ExecuteTime": {
     "end_time": "2022-01-05T12:32:33.137324Z",
     "start_time": "2022-01-05T12:32:32.263689Z"
    }
   },
   "outputs": [
    {
     "data": {
      "text/plain": [
       "class_id\n",
       "groundwood     0.484479\n",
       "uprightwood    0.452101\n",
       "dtype: float64"
      ]
     },
     "execution_count": 61,
     "metadata": {},
     "output_type": "execute_result"
    }
   ],
   "source": [
    "poly_IoU(gt_dis, res_label_dis)"
   ]
  },
  {
   "cell_type": "code",
   "execution_count": 62,
   "id": "962495c0",
   "metadata": {
    "ExecuteTime": {
     "end_time": "2022-01-05T12:32:33.146894Z",
     "start_time": "2022-01-05T12:32:33.138842Z"
    }
   },
   "outputs": [
    {
     "data": {
      "text/plain": [
       "class_id\n",
       "groundwood     748.288916\n",
       "uprightwood    657.574688\n",
       "dtype: float64"
      ]
     },
     "execution_count": 62,
     "metadata": {},
     "output_type": "execute_result"
    }
   ],
   "source": [
    "res_label_dis['area'] = res_label_dis.geometry.area\n",
    "res_label_dis.area"
   ]
  },
  {
   "cell_type": "code",
   "execution_count": 63,
   "id": "fd58f0ef",
   "metadata": {
    "ExecuteTime": {
     "end_time": "2022-01-05T12:32:33.156649Z",
     "start_time": "2022-01-05T12:32:33.148089Z"
    }
   },
   "outputs": [],
   "source": [
    "raw_dir = result_basepath/'no_nms/predicted_vectors/'\n",
    "label_nms_dir = result_basepath/'label_nms/predicted_vectors/'\n",
    "raw_files = os.listdir(raw_dir)"
   ]
  },
  {
   "cell_type": "code",
   "execution_count": 64,
   "id": "aa5daa45",
   "metadata": {
    "ExecuteTime": {
     "end_time": "2022-01-05T12:32:38.555658Z",
     "start_time": "2022-01-05T12:32:33.158118Z"
    }
   },
   "outputs": [],
   "source": [
    "for r in raw_files:\n",
    "    gdf_temp = gpd.read_file(raw_dir/r)\n",
    "    standing = gdf_temp[gdf_temp.label==1].copy()\n",
    "    fallen = gdf_temp[gdf_temp.label==2].copy()\n",
    "\n",
    "    standing = do_nms(standing)\n",
    "    fallen = do_nms(fallen)\n",
    "    gdf_nms = standing.append(fallen)\n",
    "    gdf_nms.to_file(label_nms_dir/r, driver='GeoJSON')\n",
    "    gdf_nms = None\n",
    "    #gdf_temp = None\n",
    "    standing = None\n",
    "    fallen = None"
   ]
  },
  {
   "cell_type": "code",
   "execution_count": 65,
   "id": "71ab5a81",
   "metadata": {
    "ExecuteTime": {
     "end_time": "2022-01-05T12:32:38.559962Z",
     "start_time": "2022-01-05T12:32:38.557092Z"
    }
   },
   "outputs": [],
   "source": [
    "deadwood_categories = [{'supercategory': 'deadwood', 'id':1, 'name':'uprightwood'},\n",
    "                      {'supercategory': 'deadwood', 'id':2, 'name':'groundwood'}]\n",
    "\n",
    "label_nms_coco_eval = GisCOCOeval(result_basepath/'label_nms/', result_basepath/'label_nms/', \n",
    "                            None, None, deadwood_categories)"
   ]
  },
  {
   "cell_type": "code",
   "execution_count": 66,
   "id": "ed13d990",
   "metadata": {
    "ExecuteTime": {
     "end_time": "2022-01-05T12:32:44.342339Z",
     "start_time": "2022-01-05T12:32:38.561362Z"
    }
   },
   "outputs": [
    {
     "data": {
      "application/vnd.jupyter.widget-view+json": {
       "model_id": "5d19683e4f274bd0a281f68695b7d04a",
       "version_major": 2,
       "version_minor": 0
      },
      "text/plain": [
       "0it [00:00, ?it/s]"
      ]
     },
     "metadata": {},
     "output_type": "display_data"
    },
    {
     "data": {
      "application/vnd.jupyter.widget-view+json": {
       "model_id": "0650228fc39e4293b9a6bc5ddf95bda4",
       "version_major": 2,
       "version_minor": 0
      },
      "text/plain": [
       "  0%|          | 0/5 [00:00<?, ?it/s]"
      ]
     },
     "metadata": {},
     "output_type": "display_data"
    }
   ],
   "source": [
    "label_nms_coco_eval.prepare_data(gt_label_col='layer')"
   ]
  },
  {
   "cell_type": "code",
   "execution_count": 67,
   "id": "9d202d14",
   "metadata": {
    "ExecuteTime": {
     "end_time": "2022-01-05T12:32:44.428021Z",
     "start_time": "2022-01-05T12:32:44.344003Z"
    }
   },
   "outputs": [
    {
     "name": "stdout",
     "output_type": "stream",
     "text": [
      "loading annotations into memory...\n",
      "Done (t=0.05s)\n",
      "creating index...\n",
      "index created!\n",
      "Loading and preparing results...\n",
      "DONE (t=0.03s)\n",
      "creating index...\n",
      "index created!\n"
     ]
    }
   ],
   "source": [
    "label_nms_coco_eval.prepare_eval()"
   ]
  },
  {
   "cell_type": "code",
   "execution_count": 68,
   "id": "7e700a80",
   "metadata": {
    "ExecuteTime": {
     "end_time": "2022-01-05T12:33:12.889010Z",
     "start_time": "2022-01-05T12:32:44.432835Z"
    }
   },
   "outputs": [
    {
     "name": "stdout",
     "output_type": "stream",
     "text": [
      "\n",
      "Evaluating for category uprightwood\n",
      "Running per image evaluation...\n",
      "Evaluate annotation type *segm*\n",
      "DONE (t=0.48s).\n",
      "Accumulating evaluation results...\n",
      "DONE (t=0.01s).\n",
      " Average Precision  (AP) @[ IoU=0.50:0.95 | area=   all | maxDets=1000 ] = 0.239\n",
      " Average Precision  (AP) @[ IoU=0.50      | area=   all | maxDets=1000 ] = 0.453\n",
      " Average Precision  (AP) @[ IoU=0.75      | area=   all | maxDets=1000 ] = 0.201\n",
      " Average Precision  (AP) @[ IoU=0.50:0.95 | area= small | maxDets=1000 ] = 0.097\n",
      " Average Precision  (AP) @[ IoU=0.50:0.95 | area=medium | maxDets=1000 ] = 0.316\n",
      " Average Precision  (AP) @[ IoU=0.50:0.95 | area= large | maxDets=1000 ] = 0.000\n",
      " Average Recall     (AR) @[ IoU=0.50:0.95 | area=   all | maxDets=100 ] = 0.307\n",
      " Average Recall     (AR) @[ IoU=0.50:0.95 | area= small | maxDets=100 ] = 0.154\n",
      " Average Recall     (AR) @[ IoU=0.50:0.95 | area=medium | maxDets=100 ] = 0.393\n",
      " Average Recall     (AR) @[ IoU=0.50:0.95 | area= large | maxDets=100 ] = 0.000\n",
      "\n",
      "Evaluating for category groundwood\n",
      "Running per image evaluation...\n",
      "Evaluate annotation type *segm*\n",
      "DONE (t=13.80s).\n",
      "Accumulating evaluation results...\n",
      "DONE (t=0.02s).\n",
      " Average Precision  (AP) @[ IoU=0.50:0.95 | area=   all | maxDets=1000 ] = 0.230\n",
      " Average Precision  (AP) @[ IoU=0.50      | area=   all | maxDets=1000 ] = 0.587\n",
      " Average Precision  (AP) @[ IoU=0.75      | area=   all | maxDets=1000 ] = 0.112\n",
      " Average Precision  (AP) @[ IoU=0.50:0.95 | area= small | maxDets=1000 ] = 0.231\n",
      " Average Precision  (AP) @[ IoU=0.50:0.95 | area=medium | maxDets=1000 ] = 0.194\n",
      " Average Precision  (AP) @[ IoU=0.50:0.95 | area= large | maxDets=1000 ] = -1.000\n",
      " Average Recall     (AR) @[ IoU=0.50:0.95 | area=   all | maxDets=100 ] = 0.157\n",
      " Average Recall     (AR) @[ IoU=0.50:0.95 | area= small | maxDets=100 ] = 0.157\n",
      " Average Recall     (AR) @[ IoU=0.50:0.95 | area=medium | maxDets=100 ] = 0.150\n",
      " Average Recall     (AR) @[ IoU=0.50:0.95 | area= large | maxDets=100 ] = -1.000\n",
      "\n",
      "Evaluating for full data...\n",
      "Running per image evaluation...\n",
      "Evaluate annotation type *segm*\n",
      "DONE (t=14.10s).\n",
      "Accumulating evaluation results...\n",
      "DONE (t=0.03s).\n",
      " Average Precision  (AP) @[ IoU=0.50:0.95 | area=   all | maxDets=1000 ] = 0.235\n",
      " Average Precision  (AP) @[ IoU=0.50      | area=   all | maxDets=1000 ] = 0.520\n",
      " Average Precision  (AP) @[ IoU=0.75      | area=   all | maxDets=1000 ] = 0.157\n",
      " Average Precision  (AP) @[ IoU=0.50:0.95 | area= small | maxDets=1000 ] = 0.164\n",
      " Average Precision  (AP) @[ IoU=0.50:0.95 | area=medium | maxDets=1000 ] = 0.255\n",
      " Average Precision  (AP) @[ IoU=0.50:0.95 | area= large | maxDets=1000 ] = 0.000\n",
      " Average Recall     (AR) @[ IoU=0.50:0.95 | area=   all | maxDets=100 ] = 0.232\n",
      " Average Recall     (AR) @[ IoU=0.50:0.95 | area= small | maxDets=100 ] = 0.155\n",
      " Average Recall     (AR) @[ IoU=0.50:0.95 | area=medium | maxDets=100 ] = 0.272\n",
      " Average Recall     (AR) @[ IoU=0.50:0.95 | area= large | maxDets=100 ] = 0.000\n"
     ]
    }
   ],
   "source": [
    "label_nms_coco_eval.evaluate()"
   ]
  },
  {
   "cell_type": "markdown",
   "id": "bd4e17c7",
   "metadata": {},
   "source": [
    "### Area-based, labelwise NMS"
   ]
  },
  {
   "cell_type": "markdown",
   "id": "3c8b6a55",
   "metadata": {},
   "source": [
    "If two or more masks have same label and bounding box IoU more than 0.7, keep the largest mask."
   ]
  },
  {
   "cell_type": "markdown",
   "id": "bf3ff13d",
   "metadata": {},
   "source": [
    "Poly IOU"
   ]
  },
  {
   "cell_type": "code",
   "execution_count": 69,
   "id": "e97a6108",
   "metadata": {
    "ExecuteTime": {
     "end_time": "2022-01-05T12:33:13.209219Z",
     "start_time": "2022-01-05T12:33:12.890930Z"
    }
   },
   "outputs": [],
   "source": [
    "standing = results[results.label==1].copy()\n",
    "fallen = results[results.label==2].copy()\n",
    "\n",
    "standing = do_nms(standing, crit='area')\n",
    "fallen = do_nms(fallen, crit='area')\n",
    "\n",
    "res_label_nms = standing.append(fallen)"
   ]
  },
  {
   "cell_type": "code",
   "execution_count": 70,
   "id": "ea7ddb8c",
   "metadata": {
    "ExecuteTime": {
     "end_time": "2022-01-05T12:33:14.948132Z",
     "start_time": "2022-01-05T12:33:13.210465Z"
    }
   },
   "outputs": [],
   "source": [
    "res_label_dis = res_label_nms.dissolve(by='class_id')"
   ]
  },
  {
   "cell_type": "code",
   "execution_count": 71,
   "id": "1ef34e88",
   "metadata": {
    "ExecuteTime": {
     "end_time": "2022-01-05T12:33:15.821506Z",
     "start_time": "2022-01-05T12:33:14.949866Z"
    }
   },
   "outputs": [
    {
     "data": {
      "text/plain": [
       "class_id\n",
       "groundwood     0.476157\n",
       "uprightwood    0.460558\n",
       "dtype: float64"
      ]
     },
     "execution_count": 71,
     "metadata": {},
     "output_type": "execute_result"
    }
   ],
   "source": [
    "poly_IoU(gt_dis, res_label_dis)"
   ]
  },
  {
   "cell_type": "code",
   "execution_count": 72,
   "id": "ca03b931",
   "metadata": {
    "ExecuteTime": {
     "end_time": "2022-01-05T12:33:15.826189Z",
     "start_time": "2022-01-05T12:33:15.822899Z"
    }
   },
   "outputs": [],
   "source": [
    "raw_dir = result_basepath/'no_nms/predicted_vectors/'\n",
    "area_label_nms_dir = result_basepath/'area_label_nms/predicted_vectors/'\n",
    "raw_files = os.listdir(raw_dir)"
   ]
  },
  {
   "cell_type": "code",
   "execution_count": 73,
   "id": "b328dc37",
   "metadata": {
    "ExecuteTime": {
     "end_time": "2022-01-05T12:33:21.303581Z",
     "start_time": "2022-01-05T12:33:15.828580Z"
    }
   },
   "outputs": [],
   "source": [
    "for r in raw_files:\n",
    "    gdf_temp = gpd.read_file(raw_dir/r)\n",
    "    standing = gdf_temp[gdf_temp.label==1].copy()\n",
    "    fallen = gdf_temp[gdf_temp.label==2].copy()\n",
    "\n",
    "    standing = do_nms(standing, crit='area')\n",
    "    fallen = do_nms(fallen, crit='area')\n",
    "    gdf_nms = standing.append(fallen)\n",
    "    gdf_nms.to_file(area_label_nms_dir/r, driver='GeoJSON')\n",
    "    gdf_nms = None\n",
    "    #gdf_temp = None\n",
    "    standing = None\n",
    "    fallen = None"
   ]
  },
  {
   "cell_type": "code",
   "execution_count": 74,
   "id": "4d4ac8e0",
   "metadata": {
    "ExecuteTime": {
     "end_time": "2022-01-05T12:33:21.307857Z",
     "start_time": "2022-01-05T12:33:21.305053Z"
    }
   },
   "outputs": [],
   "source": [
    "deadwood_categories = [{'supercategory': 'deadwood', 'id':1, 'name':'uprightwood'},\n",
    "                      {'supercategory': 'deadwood', 'id':2, 'name':'groundwood'}]\n",
    "\n",
    "area_label_nms_coco_eval = GisCOCOeval(result_basepath/'area_label_nms/', result_basepath/'area_label_nms/', \n",
    "                            None, None, deadwood_categories)"
   ]
  },
  {
   "cell_type": "code",
   "execution_count": 75,
   "id": "acb8dbc9",
   "metadata": {
    "ExecuteTime": {
     "end_time": "2022-01-05T12:33:26.969282Z",
     "start_time": "2022-01-05T12:33:21.309412Z"
    }
   },
   "outputs": [
    {
     "data": {
      "application/vnd.jupyter.widget-view+json": {
       "model_id": "6c7fb40dc59042c4becb29990e10520d",
       "version_major": 2,
       "version_minor": 0
      },
      "text/plain": [
       "0it [00:00, ?it/s]"
      ]
     },
     "metadata": {},
     "output_type": "display_data"
    },
    {
     "data": {
      "application/vnd.jupyter.widget-view+json": {
       "model_id": "60fff2f71cb249f8be4c74d322805218",
       "version_major": 2,
       "version_minor": 0
      },
      "text/plain": [
       "  0%|          | 0/5 [00:00<?, ?it/s]"
      ]
     },
     "metadata": {},
     "output_type": "display_data"
    }
   ],
   "source": [
    "area_label_nms_coco_eval.prepare_data(gt_label_col='layer')"
   ]
  },
  {
   "cell_type": "code",
   "execution_count": 76,
   "id": "9962e2f5",
   "metadata": {
    "ExecuteTime": {
     "end_time": "2022-01-05T12:33:27.048469Z",
     "start_time": "2022-01-05T12:33:26.970996Z"
    }
   },
   "outputs": [
    {
     "name": "stdout",
     "output_type": "stream",
     "text": [
      "loading annotations into memory...\n",
      "Done (t=0.05s)\n",
      "creating index...\n",
      "index created!\n",
      "Loading and preparing results...\n",
      "DONE (t=0.03s)\n",
      "creating index...\n",
      "index created!\n"
     ]
    }
   ],
   "source": [
    "area_label_nms_coco_eval.prepare_eval()"
   ]
  },
  {
   "cell_type": "code",
   "execution_count": 77,
   "id": "539732fc",
   "metadata": {
    "ExecuteTime": {
     "end_time": "2022-01-05T12:33:52.239959Z",
     "start_time": "2022-01-05T12:33:27.049936Z"
    }
   },
   "outputs": [
    {
     "name": "stdout",
     "output_type": "stream",
     "text": [
      "\n",
      "Evaluating for category uprightwood\n",
      "Running per image evaluation...\n",
      "Evaluate annotation type *segm*\n",
      "DONE (t=0.47s).\n",
      "Accumulating evaluation results...\n",
      "DONE (t=0.01s).\n",
      " Average Precision  (AP) @[ IoU=0.50:0.95 | area=   all | maxDets=1000 ] = 0.260\n",
      " Average Precision  (AP) @[ IoU=0.50      | area=   all | maxDets=1000 ] = 0.466\n",
      " Average Precision  (AP) @[ IoU=0.75      | area=   all | maxDets=1000 ] = 0.251\n",
      " Average Precision  (AP) @[ IoU=0.50:0.95 | area= small | maxDets=1000 ] = 0.104\n",
      " Average Precision  (AP) @[ IoU=0.50:0.95 | area=medium | maxDets=1000 ] = 0.344\n",
      " Average Precision  (AP) @[ IoU=0.50:0.95 | area= large | maxDets=1000 ] = 0.000\n",
      " Average Recall     (AR) @[ IoU=0.50:0.95 | area=   all | maxDets=100 ] = 0.320\n",
      " Average Recall     (AR) @[ IoU=0.50:0.95 | area= small | maxDets=100 ] = 0.156\n",
      " Average Recall     (AR) @[ IoU=0.50:0.95 | area=medium | maxDets=100 ] = 0.413\n",
      " Average Recall     (AR) @[ IoU=0.50:0.95 | area= large | maxDets=100 ] = 0.000\n",
      "\n",
      "Evaluating for category groundwood\n",
      "Running per image evaluation...\n",
      "Evaluate annotation type *segm*\n",
      "DONE (t=12.12s).\n",
      "Accumulating evaluation results...\n",
      "DONE (t=0.02s).\n",
      " Average Precision  (AP) @[ IoU=0.50:0.95 | area=   all | maxDets=1000 ] = 0.230\n",
      " Average Precision  (AP) @[ IoU=0.50      | area=   all | maxDets=1000 ] = 0.581\n",
      " Average Precision  (AP) @[ IoU=0.75      | area=   all | maxDets=1000 ] = 0.115\n",
      " Average Precision  (AP) @[ IoU=0.50:0.95 | area= small | maxDets=1000 ] = 0.232\n",
      " Average Precision  (AP) @[ IoU=0.50:0.95 | area=medium | maxDets=1000 ] = 0.203\n",
      " Average Precision  (AP) @[ IoU=0.50:0.95 | area= large | maxDets=1000 ] = -1.000\n",
      " Average Recall     (AR) @[ IoU=0.50:0.95 | area=   all | maxDets=100 ] = 0.164\n",
      " Average Recall     (AR) @[ IoU=0.50:0.95 | area= small | maxDets=100 ] = 0.163\n",
      " Average Recall     (AR) @[ IoU=0.50:0.95 | area=medium | maxDets=100 ] = 0.195\n",
      " Average Recall     (AR) @[ IoU=0.50:0.95 | area= large | maxDets=100 ] = -1.000\n",
      "\n",
      "Evaluating for full data...\n",
      "Running per image evaluation...\n",
      "Evaluate annotation type *segm*\n",
      "DONE (t=12.54s).\n",
      "Accumulating evaluation results...\n",
      "DONE (t=0.03s).\n",
      " Average Precision  (AP) @[ IoU=0.50:0.95 | area=   all | maxDets=1000 ] = 0.245\n",
      " Average Precision  (AP) @[ IoU=0.50      | area=   all | maxDets=1000 ] = 0.524\n",
      " Average Precision  (AP) @[ IoU=0.75      | area=   all | maxDets=1000 ] = 0.183\n",
      " Average Precision  (AP) @[ IoU=0.50:0.95 | area= small | maxDets=1000 ] = 0.168\n",
      " Average Precision  (AP) @[ IoU=0.50:0.95 | area=medium | maxDets=1000 ] = 0.274\n",
      " Average Precision  (AP) @[ IoU=0.50:0.95 | area= large | maxDets=1000 ] = 0.000\n",
      " Average Recall     (AR) @[ IoU=0.50:0.95 | area=   all | maxDets=100 ] = 0.242\n",
      " Average Recall     (AR) @[ IoU=0.50:0.95 | area= small | maxDets=100 ] = 0.159\n",
      " Average Recall     (AR) @[ IoU=0.50:0.95 | area=medium | maxDets=100 ] = 0.304\n",
      " Average Recall     (AR) @[ IoU=0.50:0.95 | area= large | maxDets=100 ] = 0.000\n"
     ]
    }
   ],
   "source": [
    "area_label_nms_coco_eval.evaluate()"
   ]
  },
  {
   "cell_type": "markdown",
   "id": "d95f0a9d",
   "metadata": {},
   "source": [
    "### Score-based, labelwise, polygon NMS"
   ]
  },
  {
   "cell_type": "markdown",
   "id": "afd04c32",
   "metadata": {},
   "source": [
    "If two or more predicted masks have bounding box IoU of more than 0.7, keep only the one with the highest score."
   ]
  },
  {
   "cell_type": "code",
   "execution_count": 78,
   "id": "aae76139",
   "metadata": {
    "ExecuteTime": {
     "end_time": "2022-01-05T12:33:52.243529Z",
     "start_time": "2022-01-05T12:33:52.241422Z"
    }
   },
   "outputs": [],
   "source": [
    "from drone_detector.postproc import do_poly_nms"
   ]
  },
  {
   "cell_type": "code",
   "execution_count": 79,
   "id": "9d75636a",
   "metadata": {
    "ExecuteTime": {
     "end_time": "2022-01-05T12:33:53.298246Z",
     "start_time": "2022-01-05T12:33:52.244645Z"
    }
   },
   "outputs": [],
   "source": [
    "raw_dir = result_basepath/'no_nms/predicted_vectors/'\n",
    "poly_nms_dir = result_basepath/'poly_nms/predicted_vectors/'\n",
    "raw_files = os.listdir(raw_dir)"
   ]
  },
  {
   "cell_type": "code",
   "execution_count": 80,
   "id": "13dbc86b",
   "metadata": {
    "ExecuteTime": {
     "end_time": "2022-01-05T12:34:40.972091Z",
     "start_time": "2022-01-05T12:33:53.299657Z"
    }
   },
   "outputs": [],
   "source": [
    "for r in raw_files:\n",
    "    gdf_temp = gpd.read_file(raw_dir/r)\n",
    "    gdf_poly_nms = do_poly_nms(gdf_temp, 0.1)\n",
    "    gdf_poly_nms.to_file(poly_nms_dir/r, driver='GeoJSON')\n",
    "    gdf_poly_nms = None\n",
    "    gdf_temp = None"
   ]
  },
  {
   "cell_type": "markdown",
   "id": "723ecd25",
   "metadata": {
    "ExecuteTime": {
     "end_time": "2021-10-07T11:46:50.499737Z",
     "start_time": "2021-10-07T11:46:50.497436Z"
    }
   },
   "source": [
    "Poly IoU"
   ]
  },
  {
   "cell_type": "code",
   "execution_count": 81,
   "id": "35602b44",
   "metadata": {
    "ExecuteTime": {
     "end_time": "2022-01-05T12:36:33.308149Z",
     "start_time": "2022-01-05T12:34:40.973480Z"
    }
   },
   "outputs": [],
   "source": [
    "res_poly_nms = do_poly_nms(results, 0.1)"
   ]
  },
  {
   "cell_type": "code",
   "execution_count": 82,
   "id": "044489e0",
   "metadata": {
    "ExecuteTime": {
     "end_time": "2022-01-05T12:36:34.271125Z",
     "start_time": "2022-01-05T12:36:33.309139Z"
    }
   },
   "outputs": [],
   "source": [
    "res_poly_nms_dis = res_poly_nms.dissolve(by='class_id')"
   ]
  },
  {
   "cell_type": "code",
   "execution_count": 83,
   "id": "aff97570",
   "metadata": {
    "ExecuteTime": {
     "end_time": "2022-01-05T12:36:35.747932Z",
     "start_time": "2022-01-05T12:36:34.272138Z"
    }
   },
   "outputs": [
    {
     "data": {
      "text/plain": [
       "class_id\n",
       "groundwood     0.484743\n",
       "uprightwood    0.444090\n",
       "dtype: float64"
      ]
     },
     "execution_count": 83,
     "metadata": {},
     "output_type": "execute_result"
    }
   ],
   "source": [
    "poly_IoU(gt_dis, res_poly_nms_dis)"
   ]
  },
  {
   "cell_type": "code",
   "execution_count": 84,
   "id": "1f6c253e",
   "metadata": {
    "ExecuteTime": {
     "end_time": "2022-01-05T12:36:35.751066Z",
     "start_time": "2022-01-05T12:36:35.748955Z"
    }
   },
   "outputs": [],
   "source": [
    "deadwood_categories = [{'supercategory': 'deadwood', 'id':1, 'name':'uprightwood'},\n",
    "                      {'supercategory': 'deadwood', 'id':2, 'name':'groundwood'}]\n",
    "\n",
    "poly_nms_coco_eval = GisCOCOeval(result_basepath/'poly_nms/', result_basepath/'poly_nms/', \n",
    "                            None, None, deadwood_categories)"
   ]
  },
  {
   "cell_type": "code",
   "execution_count": 85,
   "id": "94e28308",
   "metadata": {
    "ExecuteTime": {
     "end_time": "2022-01-05T12:36:39.841657Z",
     "start_time": "2022-01-05T12:36:35.752005Z"
    }
   },
   "outputs": [
    {
     "data": {
      "application/vnd.jupyter.widget-view+json": {
       "model_id": "3cf98b10e5ee4fad9a2e0510d9d7e5f9",
       "version_major": 2,
       "version_minor": 0
      },
      "text/plain": [
       "0it [00:00, ?it/s]"
      ]
     },
     "metadata": {},
     "output_type": "display_data"
    },
    {
     "data": {
      "application/vnd.jupyter.widget-view+json": {
       "model_id": "b4511d8f51404515aceec0a92ba451ae",
       "version_major": 2,
       "version_minor": 0
      },
      "text/plain": [
       "  0%|          | 0/5 [00:00<?, ?it/s]"
      ]
     },
     "metadata": {},
     "output_type": "display_data"
    }
   ],
   "source": [
    "poly_nms_coco_eval.prepare_data(gt_label_col='layer')"
   ]
  },
  {
   "cell_type": "code",
   "execution_count": 86,
   "id": "f4c8a57f",
   "metadata": {
    "ExecuteTime": {
     "end_time": "2022-01-05T12:36:39.900197Z",
     "start_time": "2022-01-05T12:36:39.842700Z"
    }
   },
   "outputs": [
    {
     "name": "stdout",
     "output_type": "stream",
     "text": [
      "loading annotations into memory...\n",
      "Done (t=0.03s)\n",
      "creating index...\n",
      "index created!\n",
      "Loading and preparing results...\n",
      "DONE (t=0.02s)\n",
      "creating index...\n",
      "index created!\n"
     ]
    }
   ],
   "source": [
    "poly_nms_coco_eval.prepare_eval()"
   ]
  },
  {
   "cell_type": "code",
   "execution_count": 87,
   "id": "7968ebbb",
   "metadata": {
    "ExecuteTime": {
     "end_time": "2022-01-05T12:37:00.175984Z",
     "start_time": "2022-01-05T12:36:39.901145Z"
    },
    "scrolled": false
   },
   "outputs": [
    {
     "name": "stdout",
     "output_type": "stream",
     "text": [
      "\n",
      "Evaluating for category uprightwood\n",
      "Running per image evaluation...\n",
      "Evaluate annotation type *segm*\n",
      "DONE (t=0.35s).\n",
      "Accumulating evaluation results...\n",
      "DONE (t=0.00s).\n",
      " Average Precision  (AP) @[ IoU=0.50:0.95 | area=   all | maxDets=1000 ] = 0.234\n",
      " Average Precision  (AP) @[ IoU=0.50      | area=   all | maxDets=1000 ] = 0.448\n",
      " Average Precision  (AP) @[ IoU=0.75      | area=   all | maxDets=1000 ] = 0.197\n",
      " Average Precision  (AP) @[ IoU=0.50:0.95 | area= small | maxDets=1000 ] = 0.097\n",
      " Average Precision  (AP) @[ IoU=0.50:0.95 | area=medium | maxDets=1000 ] = 0.308\n",
      " Average Precision  (AP) @[ IoU=0.50:0.95 | area= large | maxDets=1000 ] = 0.000\n",
      " Average Recall     (AR) @[ IoU=0.50:0.95 | area=   all | maxDets=100 ] = 0.297\n",
      " Average Recall     (AR) @[ IoU=0.50:0.95 | area= small | maxDets=100 ] = 0.154\n",
      " Average Recall     (AR) @[ IoU=0.50:0.95 | area=medium | maxDets=100 ] = 0.378\n",
      " Average Recall     (AR) @[ IoU=0.50:0.95 | area= large | maxDets=100 ] = 0.000\n",
      "\n",
      "Evaluating for category groundwood\n",
      "Running per image evaluation...\n",
      "Evaluate annotation type *segm*\n",
      "DONE (t=9.63s).\n",
      "Accumulating evaluation results...\n",
      "DONE (t=0.01s).\n",
      " Average Precision  (AP) @[ IoU=0.50:0.95 | area=   all | maxDets=1000 ] = 0.233\n",
      " Average Precision  (AP) @[ IoU=0.50      | area=   all | maxDets=1000 ] = 0.592\n",
      " Average Precision  (AP) @[ IoU=0.75      | area=   all | maxDets=1000 ] = 0.116\n",
      " Average Precision  (AP) @[ IoU=0.50:0.95 | area= small | maxDets=1000 ] = 0.235\n",
      " Average Precision  (AP) @[ IoU=0.50:0.95 | area=medium | maxDets=1000 ] = 0.179\n",
      " Average Precision  (AP) @[ IoU=0.50:0.95 | area= large | maxDets=1000 ] = -1.000\n",
      " Average Recall     (AR) @[ IoU=0.50:0.95 | area=   all | maxDets=100 ] = 0.157\n",
      " Average Recall     (AR) @[ IoU=0.50:0.95 | area= small | maxDets=100 ] = 0.158\n",
      " Average Recall     (AR) @[ IoU=0.50:0.95 | area=medium | maxDets=100 ] = 0.125\n",
      " Average Recall     (AR) @[ IoU=0.50:0.95 | area= large | maxDets=100 ] = -1.000\n",
      "\n",
      "Evaluating for full data...\n",
      "Running per image evaluation...\n",
      "Evaluate annotation type *segm*\n",
      "DONE (t=10.25s).\n",
      "Accumulating evaluation results...\n",
      "DONE (t=0.02s).\n",
      " Average Precision  (AP) @[ IoU=0.50:0.95 | area=   all | maxDets=1000 ] = 0.233\n",
      " Average Precision  (AP) @[ IoU=0.50      | area=   all | maxDets=1000 ] = 0.520\n",
      " Average Precision  (AP) @[ IoU=0.75      | area=   all | maxDets=1000 ] = 0.156\n",
      " Average Precision  (AP) @[ IoU=0.50:0.95 | area= small | maxDets=1000 ] = 0.166\n",
      " Average Precision  (AP) @[ IoU=0.50:0.95 | area=medium | maxDets=1000 ] = 0.244\n",
      " Average Precision  (AP) @[ IoU=0.50:0.95 | area= large | maxDets=1000 ] = 0.000\n",
      " Average Recall     (AR) @[ IoU=0.50:0.95 | area=   all | maxDets=100 ] = 0.227\n",
      " Average Recall     (AR) @[ IoU=0.50:0.95 | area= small | maxDets=100 ] = 0.156\n",
      " Average Recall     (AR) @[ IoU=0.50:0.95 | area=medium | maxDets=100 ] = 0.252\n",
      " Average Recall     (AR) @[ IoU=0.50:0.95 | area= large | maxDets=100 ] = 0.000\n"
     ]
    }
   ],
   "source": [
    "poly_nms_coco_eval.evaluate()"
   ]
  },
  {
   "cell_type": "markdown",
   "id": "9fad790d",
   "metadata": {},
   "source": [
    "### Score-based, labelwise, minimum_rotated_rectangle based NMS"
   ]
  },
  {
   "cell_type": "markdown",
   "id": "0e8e7c01",
   "metadata": {},
   "source": [
    "If two or more predicted masks have bounding box IoU of more than 0.7, keep only the one with the highest score."
   ]
  },
  {
   "cell_type": "code",
   "execution_count": 88,
   "id": "8d5eb113",
   "metadata": {
    "ExecuteTime": {
     "end_time": "2022-01-05T12:37:00.178897Z",
     "start_time": "2022-01-05T12:37:00.177087Z"
    }
   },
   "outputs": [],
   "source": [
    "from drone_detector.postproc import do_min_rot_rectangle_nms"
   ]
  },
  {
   "cell_type": "code",
   "execution_count": 89,
   "id": "63385b54",
   "metadata": {
    "ExecuteTime": {
     "end_time": "2022-01-05T12:37:00.188706Z",
     "start_time": "2022-01-05T12:37:00.179800Z"
    }
   },
   "outputs": [],
   "source": [
    "raw_dir = result_basepath/'no_nms/predicted_vectors/'\n",
    "mrr_nms_dir = result_basepath/'min_rot_rec_nms/predicted_vectors/'\n",
    "raw_files = os.listdir(raw_dir)"
   ]
  },
  {
   "cell_type": "code",
   "execution_count": 90,
   "id": "e5694e3f",
   "metadata": {
    "ExecuteTime": {
     "end_time": "2022-01-05T12:37:43.739136Z",
     "start_time": "2022-01-05T12:37:00.189629Z"
    }
   },
   "outputs": [],
   "source": [
    "for r in raw_files:\n",
    "    gdf_temp = gpd.read_file(raw_dir/r)\n",
    "    gdf_mrr_nms = do_min_rot_rectangle_nms(gdf_temp, 0.5)\n",
    "    gdf_mrr_nms.to_file(mrr_nms_dir/r, driver='GeoJSON')\n",
    "    gdf_mrr_nms = None\n",
    "    gdf_temp = None"
   ]
  },
  {
   "cell_type": "markdown",
   "id": "bb63a671",
   "metadata": {
    "ExecuteTime": {
     "end_time": "2021-10-07T11:46:50.499737Z",
     "start_time": "2021-10-07T11:46:50.497436Z"
    }
   },
   "source": [
    "Minimum rotated rectangle IoU"
   ]
  },
  {
   "cell_type": "code",
   "execution_count": 91,
   "id": "0475e73b",
   "metadata": {
    "ExecuteTime": {
     "end_time": "2022-01-05T12:37:43.742745Z",
     "start_time": "2022-01-05T12:37:43.740322Z"
    }
   },
   "outputs": [
    {
     "data": {
      "text/plain": [
       "(3871, 6)"
      ]
     },
     "execution_count": 91,
     "metadata": {},
     "output_type": "execute_result"
    }
   ],
   "source": [
    "results.shape"
   ]
  },
  {
   "cell_type": "code",
   "execution_count": 92,
   "id": "8b8d066d",
   "metadata": {
    "ExecuteTime": {
     "end_time": "2022-01-05T12:40:05.342698Z",
     "start_time": "2022-01-05T12:37:43.743626Z"
    }
   },
   "outputs": [],
   "source": [
    "res_mrr_nms = do_min_rot_rectangle_nms(results, 0.5)"
   ]
  },
  {
   "cell_type": "code",
   "execution_count": 93,
   "id": "a86ec288",
   "metadata": {
    "ExecuteTime": {
     "end_time": "2022-01-05T12:40:05.346704Z",
     "start_time": "2022-01-05T12:40:05.344247Z"
    }
   },
   "outputs": [
    {
     "data": {
      "text/plain": [
       "(2455, 6)"
      ]
     },
     "execution_count": 93,
     "metadata": {},
     "output_type": "execute_result"
    }
   ],
   "source": [
    "res_mrr_nms.shape"
   ]
  },
  {
   "cell_type": "code",
   "execution_count": 94,
   "id": "d800e374",
   "metadata": {
    "ExecuteTime": {
     "end_time": "2022-01-05T12:40:07.804750Z",
     "start_time": "2022-01-05T12:40:05.347548Z"
    }
   },
   "outputs": [],
   "source": [
    "res_mrr_nms_dis = res_mrr_nms.dissolve(by='class_id')"
   ]
  },
  {
   "cell_type": "code",
   "execution_count": 95,
   "id": "9430f7b5",
   "metadata": {
    "ExecuteTime": {
     "end_time": "2022-01-05T12:40:08.443172Z",
     "start_time": "2022-01-05T12:40:07.805752Z"
    }
   },
   "outputs": [
    {
     "data": {
      "text/plain": [
       "class_id\n",
       "groundwood     0.494735\n",
       "uprightwood    0.450248\n",
       "dtype: float64"
      ]
     },
     "execution_count": 95,
     "metadata": {},
     "output_type": "execute_result"
    }
   ],
   "source": [
    "poly_IoU(gt_dis, res_mrr_nms_dis)"
   ]
  },
  {
   "cell_type": "code",
   "execution_count": 96,
   "id": "45328f43",
   "metadata": {
    "ExecuteTime": {
     "end_time": "2022-01-05T12:40:09.083181Z",
     "start_time": "2022-01-05T12:40:08.444141Z"
    }
   },
   "outputs": [
    {
     "data": {
      "text/plain": [
       "class_id\n",
       "groundwood     0.661970\n",
       "uprightwood    0.620926\n",
       "dtype: float64"
      ]
     },
     "execution_count": 96,
     "metadata": {},
     "output_type": "execute_result"
    }
   ],
   "source": [
    "poly_dice(gt_dis, res_mrr_nms_dis)"
   ]
  },
  {
   "cell_type": "code",
   "execution_count": 97,
   "id": "58601eb0",
   "metadata": {
    "ExecuteTime": {
     "end_time": "2022-01-05T12:40:09.086452Z",
     "start_time": "2022-01-05T12:40:09.084200Z"
    }
   },
   "outputs": [],
   "source": [
    "deadwood_categories = [{'supercategory': 'deadwood', 'id':1, 'name':'uprightwood'},\n",
    "                      {'supercategory': 'deadwood', 'id':2, 'name':'groundwood'}]\n",
    "\n",
    "mrr_nms_coco_eval = GisCOCOeval(result_basepath/'min_rot_rec_nms/', result_basepath/'min_rot_rec_nms/', \n",
    "                            None, None, deadwood_categories)"
   ]
  },
  {
   "cell_type": "code",
   "execution_count": 98,
   "id": "7bf6b7df",
   "metadata": {
    "ExecuteTime": {
     "end_time": "2022-01-05T12:40:14.589671Z",
     "start_time": "2022-01-05T12:40:09.087380Z"
    }
   },
   "outputs": [
    {
     "data": {
      "application/vnd.jupyter.widget-view+json": {
       "model_id": "bb9bc5fb4a7348fdb33fad6d5eb24cb4",
       "version_major": 2,
       "version_minor": 0
      },
      "text/plain": [
       "0it [00:00, ?it/s]"
      ]
     },
     "metadata": {},
     "output_type": "display_data"
    },
    {
     "data": {
      "application/vnd.jupyter.widget-view+json": {
       "model_id": "e96b7246bbc9461081ee112823a9580d",
       "version_major": 2,
       "version_minor": 0
      },
      "text/plain": [
       "  0%|          | 0/5 [00:00<?, ?it/s]"
      ]
     },
     "metadata": {},
     "output_type": "display_data"
    }
   ],
   "source": [
    "mrr_nms_coco_eval.prepare_data(gt_label_col='layer')"
   ]
  },
  {
   "cell_type": "code",
   "execution_count": 99,
   "id": "b8f14aba",
   "metadata": {
    "ExecuteTime": {
     "end_time": "2022-01-05T12:40:14.676383Z",
     "start_time": "2022-01-05T12:40:14.591159Z"
    }
   },
   "outputs": [
    {
     "name": "stdout",
     "output_type": "stream",
     "text": [
      "loading annotations into memory...\n",
      "Done (t=0.04s)\n",
      "creating index...\n",
      "index created!\n",
      "Loading and preparing results...\n",
      "DONE (t=0.04s)\n",
      "creating index...\n",
      "index created!\n"
     ]
    }
   ],
   "source": [
    "mrr_nms_coco_eval.prepare_eval()"
   ]
  },
  {
   "cell_type": "code",
   "execution_count": 100,
   "id": "5342d3d4",
   "metadata": {
    "ExecuteTime": {
     "end_time": "2022-01-05T12:40:14.679796Z",
     "start_time": "2022-01-05T12:40:14.677578Z"
    }
   },
   "outputs": [],
   "source": [
    "mrr_nms_coco_eval.coco_eval.params.maxDets = [100, 1000]"
   ]
  },
  {
   "cell_type": "code",
   "execution_count": 101,
   "id": "f5577368",
   "metadata": {
    "ExecuteTime": {
     "end_time": "2022-01-05T12:40:44.302961Z",
     "start_time": "2022-01-05T12:40:14.680924Z"
    },
    "scrolled": false
   },
   "outputs": [
    {
     "name": "stdout",
     "output_type": "stream",
     "text": [
      "\n",
      "Evaluating for category uprightwood\n",
      "Running per image evaluation...\n",
      "Evaluate annotation type *segm*\n",
      "DONE (t=0.45s).\n",
      "Accumulating evaluation results...\n",
      "DONE (t=0.01s).\n",
      " Average Precision  (AP) @[ IoU=0.50:0.95 | area=   all | maxDets=1000 ] = 0.232\n",
      " Average Precision  (AP) @[ IoU=0.50      | area=   all | maxDets=1000 ] = 0.443\n",
      " Average Precision  (AP) @[ IoU=0.75      | area=   all | maxDets=1000 ] = 0.197\n",
      " Average Precision  (AP) @[ IoU=0.50:0.95 | area= small | maxDets=1000 ] = 0.094\n",
      " Average Precision  (AP) @[ IoU=0.50:0.95 | area=medium | maxDets=1000 ] = 0.307\n",
      " Average Precision  (AP) @[ IoU=0.50:0.95 | area= large | maxDets=1000 ] = 0.000\n",
      " Average Recall     (AR) @[ IoU=0.50:0.95 | area=   all | maxDets=100 ] = 0.304\n",
      " Average Recall     (AR) @[ IoU=0.50:0.95 | area= small | maxDets=100 ] = 0.154\n",
      " Average Recall     (AR) @[ IoU=0.50:0.95 | area=medium | maxDets=100 ] = 0.389\n",
      " Average Recall     (AR) @[ IoU=0.50:0.95 | area= large | maxDets=100 ] = 0.000\n",
      "\n",
      "Evaluating for category groundwood\n",
      "Running per image evaluation...\n",
      "Evaluate annotation type *segm*\n",
      "DONE (t=15.37s).\n",
      "Accumulating evaluation results...\n",
      "DONE (t=0.02s).\n",
      " Average Precision  (AP) @[ IoU=0.50:0.95 | area=   all | maxDets=1000 ] = 0.239\n",
      " Average Precision  (AP) @[ IoU=0.50      | area=   all | maxDets=1000 ] = 0.618\n",
      " Average Precision  (AP) @[ IoU=0.75      | area=   all | maxDets=1000 ] = 0.116\n",
      " Average Precision  (AP) @[ IoU=0.50:0.95 | area= small | maxDets=1000 ] = 0.241\n",
      " Average Precision  (AP) @[ IoU=0.50:0.95 | area=medium | maxDets=1000 ] = 0.191\n",
      " Average Precision  (AP) @[ IoU=0.50:0.95 | area= large | maxDets=1000 ] = -1.000\n",
      " Average Recall     (AR) @[ IoU=0.50:0.95 | area=   all | maxDets=100 ] = 0.157\n",
      " Average Recall     (AR) @[ IoU=0.50:0.95 | area= small | maxDets=100 ] = 0.157\n",
      " Average Recall     (AR) @[ IoU=0.50:0.95 | area=medium | maxDets=100 ] = 0.150\n",
      " Average Recall     (AR) @[ IoU=0.50:0.95 | area= large | maxDets=100 ] = -1.000\n",
      "\n",
      "Evaluating for full data...\n",
      "Running per image evaluation...\n",
      "Evaluate annotation type *segm*\n",
      "DONE (t=13.74s).\n",
      "Accumulating evaluation results...\n",
      "DONE (t=0.02s).\n",
      " Average Precision  (AP) @[ IoU=0.50:0.95 | area=   all | maxDets=1000 ] = 0.236\n",
      " Average Precision  (AP) @[ IoU=0.50      | area=   all | maxDets=1000 ] = 0.530\n",
      " Average Precision  (AP) @[ IoU=0.75      | area=   all | maxDets=1000 ] = 0.157\n",
      " Average Precision  (AP) @[ IoU=0.50:0.95 | area= small | maxDets=1000 ] = 0.167\n",
      " Average Precision  (AP) @[ IoU=0.50:0.95 | area=medium | maxDets=1000 ] = 0.249\n",
      " Average Precision  (AP) @[ IoU=0.50:0.95 | area= large | maxDets=1000 ] = 0.000\n",
      " Average Recall     (AR) @[ IoU=0.50:0.95 | area=   all | maxDets=100 ] = 0.231\n",
      " Average Recall     (AR) @[ IoU=0.50:0.95 | area= small | maxDets=100 ] = 0.156\n",
      " Average Recall     (AR) @[ IoU=0.50:0.95 | area=medium | maxDets=100 ] = 0.270\n",
      " Average Recall     (AR) @[ IoU=0.50:0.95 | area= large | maxDets=100 ] = 0.000\n"
     ]
    }
   ],
   "source": [
    "mrr_nms_coco_eval.evaluate()"
   ]
  },
  {
   "cell_type": "markdown",
   "id": "29b159d4",
   "metadata": {},
   "source": [
    "### Weighted segments fusion"
   ]
  },
  {
   "cell_type": "code",
   "execution_count": 32,
   "id": "3cdd2dd7",
   "metadata": {
    "ExecuteTime": {
     "end_time": "2022-01-05T13:42:28.891554Z",
     "start_time": "2022-01-05T13:42:28.882925Z"
    }
   },
   "outputs": [],
   "source": [
    "from drone_detector.postproc import do_wsf"
   ]
  },
  {
   "cell_type": "code",
   "execution_count": 33,
   "id": "34f2c04d",
   "metadata": {
    "ExecuteTime": {
     "end_time": "2022-01-05T13:42:28.898604Z",
     "start_time": "2022-01-05T13:42:28.892834Z"
    }
   },
   "outputs": [],
   "source": [
    "raw_dir = result_basepath/'no_nms/predicted_vectors/'\n",
    "wsf_dir = result_basepath/'wsf/predicted_vectors/'\n",
    "raw_files = os.listdir(raw_dir)"
   ]
  },
  {
   "cell_type": "code",
   "execution_count": null,
   "id": "8d847cb3",
   "metadata": {
    "ExecuteTime": {
     "end_time": "2022-01-05T13:59:22.174150Z",
     "start_time": "2022-01-05T13:59:20.060089Z"
    }
   },
   "outputs": [],
   "source": [
    "for r in raw_files:\n",
    "    gdf_temp = gpd.read_file(raw_dir/r)\n",
    "    gdf_wfs = do_wsf(gdf_temp, 0.35)\n",
    "    gdf_wfs.to_file(wsf_dir/r, driver='GeoJSON')\n",
    "    gdf_wfs = None\n",
    "    gdf_temp = None"
   ]
  },
  {
   "cell_type": "code",
   "execution_count": null,
   "id": "64bf14e3",
   "metadata": {},
   "outputs": [],
   "source": []
  },
  {
   "cell_type": "code",
   "execution_count": 54,
   "id": "ab9437fa",
   "metadata": {
    "ExecuteTime": {
     "end_time": "2022-01-05T14:00:16.309446Z",
     "start_time": "2022-01-05T14:00:12.803309Z"
    }
   },
   "outputs": [],
   "source": [
    "for f in os.listdir(wsf_dir):\n",
    "    gdf = gpd.read_file(wsf_dir/f)\n",
    "    gdf['geometry'] = gdf.geometry.buffer(0) # fix faulty geometries\n",
    "    gdf['geometry'] = gdf.apply(lambda row: fix_multipolys(row.geometry) if row.geometry.type == 'MultiPolygon' \n",
    "                                else shapely.geometry.Polygon(row.geometry.exterior), axis=1)\n",
    "    gdf.to_file(wsf_dir/f, driver='GeoJSON')"
   ]
  },
  {
   "cell_type": "markdown",
   "id": "4b95df14",
   "metadata": {
    "ExecuteTime": {
     "end_time": "2021-10-07T11:46:50.499737Z",
     "start_time": "2021-10-07T11:46:50.497436Z"
    }
   },
   "source": [
    "Minimum rotated rectangle IoU"
   ]
  },
  {
   "cell_type": "code",
   "execution_count": 14,
   "id": "bcbea7af",
   "metadata": {
    "ExecuteTime": {
     "end_time": "2022-01-05T13:19:03.124101Z",
     "start_time": "2022-01-05T13:19:03.120525Z"
    }
   },
   "outputs": [
    {
     "data": {
      "text/plain": [
       "(3871, 5)"
      ]
     },
     "execution_count": 14,
     "metadata": {},
     "output_type": "execute_result"
    }
   ],
   "source": [
    "results.shape"
   ]
  },
  {
   "cell_type": "code",
   "execution_count": 15,
   "id": "75c36e45",
   "metadata": {
    "ExecuteTime": {
     "end_time": "2022-01-05T13:37:22.757627Z",
     "start_time": "2022-01-05T13:19:08.553208Z"
    }
   },
   "outputs": [
    {
     "data": {
      "application/vnd.jupyter.widget-view+json": {
       "model_id": "ce2a8499d67447128a265892211b2d66",
       "version_major": 2,
       "version_minor": 0
      },
      "text/plain": [
       "0it [00:00, ?it/s]"
      ]
     },
     "metadata": {},
     "output_type": "display_data"
    }
   ],
   "source": [
    "res_wfs = do_wsf(results, 0.5)"
   ]
  },
  {
   "cell_type": "code",
   "execution_count": 16,
   "id": "f5ebb031",
   "metadata": {
    "ExecuteTime": {
     "end_time": "2022-01-05T13:37:41.826069Z",
     "start_time": "2022-01-05T13:37:41.822646Z"
    }
   },
   "outputs": [
    {
     "data": {
      "text/plain": [
       "(1743, 3)"
      ]
     },
     "execution_count": 16,
     "metadata": {},
     "output_type": "execute_result"
    }
   ],
   "source": [
    "res_wfs.shape"
   ]
  },
  {
   "cell_type": "code",
   "execution_count": 19,
   "id": "150a1782",
   "metadata": {
    "ExecuteTime": {
     "end_time": "2022-01-05T13:38:01.749283Z",
     "start_time": "2022-01-05T13:38:01.735543Z"
    }
   },
   "outputs": [
    {
     "data": {
      "text/html": [
       "<div>\n",
       "<style scoped>\n",
       "    .dataframe tbody tr th:only-of-type {\n",
       "        vertical-align: middle;\n",
       "    }\n",
       "\n",
       "    .dataframe tbody tr th {\n",
       "        vertical-align: top;\n",
       "    }\n",
       "\n",
       "    .dataframe thead th {\n",
       "        text-align: right;\n",
       "    }\n",
       "</style>\n",
       "<table border=\"1\" class=\"dataframe\">\n",
       "  <thead>\n",
       "    <tr style=\"text-align: right;\">\n",
       "      <th></th>\n",
       "      <th>label</th>\n",
       "      <th>score</th>\n",
       "      <th>geometry</th>\n",
       "    </tr>\n",
       "  </thead>\n",
       "  <tbody>\n",
       "    <tr>\n",
       "      <th>0</th>\n",
       "      <td>3.0</td>\n",
       "      <td>0.991997</td>\n",
       "      <td>POLYGON ((605807.197 7086024.776, 605807.154 7086024.776, 605807.133 7086024.798, 605807.111 7086024.819, 605807.069 7086024.819, 605807.047 7086024.840, 605807.026 7086024.862, 605807.005 7086024.883, 605806.983 7086024.904, 605806.941 7086024.904, 605806.919 7086024.925, 605806.898 7086024.947, 605806.877 7086024.968, 605806.855 7086024.989, 605806.813 7086024.989, 605806.791 7086025.011, 605806.770 7086025.032, 605806.728 7086025.032, 605806.706 7086025.053, 605806.685 7086025.075, 605806.642 7086025.075, 605806.621 7086025.096, 605806.600 7086025.117, 605806.557 7086025.117, 605806.536...</td>\n",
       "    </tr>\n",
       "    <tr>\n",
       "      <th>1</th>\n",
       "      <td>3.0</td>\n",
       "      <td>0.991209</td>\n",
       "      <td>POLYGON ((606695.022 7085507.298, 606695.022 7085507.341, 606695.022 7085507.385, 606695.022 7085507.428, 606695.022 7085507.449, 606695.044 7085507.471, 606695.066 7085507.493, 606695.109 7085507.493, 606695.131 7085507.514, 606695.152 7085507.536, 606695.174 7085507.558, 606695.196 7085507.579, 606695.217 7085507.601, 606695.239 7085507.623, 606695.260 7085507.644, 606695.282 7085507.666, 606695.325 7085507.666, 606695.347 7085507.688, 606695.369 7085507.709, 606695.412 7085507.709, 606695.434 7085507.731, 606695.455 7085507.752, 606695.477 7085507.774, 606695.498 7085507.796, 606695.520...</td>\n",
       "    </tr>\n",
       "    <tr>\n",
       "      <th>2</th>\n",
       "      <td>3.0</td>\n",
       "      <td>0.990517</td>\n",
       "      <td>POLYGON ((605762.450 7086052.468, 605762.450 7086052.554, 605762.471 7086052.575, 605762.493 7086052.596, 605762.514 7086052.618, 605762.557 7086052.618, 605762.578 7086052.639, 605762.599 7086052.660, 605762.621 7086052.681, 605762.642 7086052.703, 605762.663 7086052.724, 605762.685 7086052.745, 605762.727 7086052.745, 605762.749 7086052.767, 605762.770 7086052.788, 605762.812 7086052.788, 605762.834 7086052.809, 605762.855 7086052.831, 605762.876 7086052.852, 605762.898 7086052.873, 605762.919 7086052.895, 605762.940 7086052.916, 605762.983 7086052.916, 605763.004 7086052.937, 605763.026...</td>\n",
       "    </tr>\n",
       "    <tr>\n",
       "      <th>3</th>\n",
       "      <td>3.0</td>\n",
       "      <td>0.990475</td>\n",
       "      <td>POLYGON ((605173.023 7085684.644, 605173.023 7085684.644, 605173.023 7085684.687, 605173.023 7085684.687, 605173.045 7085684.708, 605173.045 7085684.751, 605173.066 7085684.772, 605173.066 7085684.772, 605173.109 7085684.772, 605173.131 7085684.794, 605173.152 7085684.815, 605173.195 7085684.815, 605173.216 7085684.836, 605173.238 7085684.858, 605173.238 7085684.858, 605173.280 7085684.858, 605173.280 7085684.858, 605173.302 7085684.879, 605173.323 7085684.901, 605173.366 7085684.901, 605173.366 7085684.901, 605173.387 7085684.922, 605173.409 7085684.943, 605173.452 7085684.943, 605173.495...</td>\n",
       "    </tr>\n",
       "    <tr>\n",
       "      <th>4</th>\n",
       "      <td>3.0</td>\n",
       "      <td>0.989568</td>\n",
       "      <td>POLYGON ((606674.246 7085538.224, 606674.225 7085538.246, 606674.203 7085538.267, 606674.160 7085538.267, 606674.117 7085538.267, 606674.073 7085538.267, 606674.052 7085538.289, 606674.030 7085538.311, 606673.987 7085538.311, 606673.943 7085538.311, 606673.900 7085538.311, 606673.878 7085538.332, 606673.857 7085538.354, 606673.814 7085538.354, 606673.770 7085538.354, 606673.727 7085538.354, 606673.705 7085538.375, 606673.684 7085538.397, 606673.640 7085538.397, 606673.597 7085538.397, 606673.554 7085538.397, 606673.511 7085538.397, 606673.489 7085538.419, 606673.467 7085538.440, 606673.424...</td>\n",
       "    </tr>\n",
       "  </tbody>\n",
       "</table>\n",
       "</div>"
      ],
      "text/plain": [
       "   label     score  \\\n",
       "0    3.0  0.991997   \n",
       "1    3.0  0.991209   \n",
       "2    3.0  0.990517   \n",
       "3    3.0  0.990475   \n",
       "4    3.0  0.989568   \n",
       "\n",
       "                                                                                                                                                                                                                                                                                                                                                                                                                                                                                                                                                                                                                  geometry  \n",
       "0  POLYGON ((605807.197 7086024.776, 605807.154 7086024.776, 605807.133 7086024.798, 605807.111 7086024.819, 605807.069 7086024.819, 605807.047 7086024.840, 605807.026 7086024.862, 605807.005 7086024.883, 605806.983 7086024.904, 605806.941 7086024.904, 605806.919 7086024.925, 605806.898 7086024.947, 605806.877 7086024.968, 605806.855 7086024.989, 605806.813 7086024.989, 605806.791 7086025.011, 605806.770 7086025.032, 605806.728 7086025.032, 605806.706 7086025.053, 605806.685 7086025.075, 605806.642 7086025.075, 605806.621 7086025.096, 605806.600 7086025.117, 605806.557 7086025.117, 605806.536...  \n",
       "1  POLYGON ((606695.022 7085507.298, 606695.022 7085507.341, 606695.022 7085507.385, 606695.022 7085507.428, 606695.022 7085507.449, 606695.044 7085507.471, 606695.066 7085507.493, 606695.109 7085507.493, 606695.131 7085507.514, 606695.152 7085507.536, 606695.174 7085507.558, 606695.196 7085507.579, 606695.217 7085507.601, 606695.239 7085507.623, 606695.260 7085507.644, 606695.282 7085507.666, 606695.325 7085507.666, 606695.347 7085507.688, 606695.369 7085507.709, 606695.412 7085507.709, 606695.434 7085507.731, 606695.455 7085507.752, 606695.477 7085507.774, 606695.498 7085507.796, 606695.520...  \n",
       "2  POLYGON ((605762.450 7086052.468, 605762.450 7086052.554, 605762.471 7086052.575, 605762.493 7086052.596, 605762.514 7086052.618, 605762.557 7086052.618, 605762.578 7086052.639, 605762.599 7086052.660, 605762.621 7086052.681, 605762.642 7086052.703, 605762.663 7086052.724, 605762.685 7086052.745, 605762.727 7086052.745, 605762.749 7086052.767, 605762.770 7086052.788, 605762.812 7086052.788, 605762.834 7086052.809, 605762.855 7086052.831, 605762.876 7086052.852, 605762.898 7086052.873, 605762.919 7086052.895, 605762.940 7086052.916, 605762.983 7086052.916, 605763.004 7086052.937, 605763.026...  \n",
       "3  POLYGON ((605173.023 7085684.644, 605173.023 7085684.644, 605173.023 7085684.687, 605173.023 7085684.687, 605173.045 7085684.708, 605173.045 7085684.751, 605173.066 7085684.772, 605173.066 7085684.772, 605173.109 7085684.772, 605173.131 7085684.794, 605173.152 7085684.815, 605173.195 7085684.815, 605173.216 7085684.836, 605173.238 7085684.858, 605173.238 7085684.858, 605173.280 7085684.858, 605173.280 7085684.858, 605173.302 7085684.879, 605173.323 7085684.901, 605173.366 7085684.901, 605173.366 7085684.901, 605173.387 7085684.922, 605173.409 7085684.943, 605173.452 7085684.943, 605173.495...  \n",
       "4  POLYGON ((606674.246 7085538.224, 606674.225 7085538.246, 606674.203 7085538.267, 606674.160 7085538.267, 606674.117 7085538.267, 606674.073 7085538.267, 606674.052 7085538.289, 606674.030 7085538.311, 606673.987 7085538.311, 606673.943 7085538.311, 606673.900 7085538.311, 606673.878 7085538.332, 606673.857 7085538.354, 606673.814 7085538.354, 606673.770 7085538.354, 606673.727 7085538.354, 606673.705 7085538.375, 606673.684 7085538.397, 606673.640 7085538.397, 606673.597 7085538.397, 606673.554 7085538.397, 606673.511 7085538.397, 606673.489 7085538.419, 606673.467 7085538.440, 606673.424...  "
      ]
     },
     "execution_count": 19,
     "metadata": {},
     "output_type": "execute_result"
    }
   ],
   "source": [
    "res_wfs.head()"
   ]
  },
  {
   "cell_type": "code",
   "execution_count": 22,
   "id": "f30b4429",
   "metadata": {
    "ExecuteTime": {
     "end_time": "2022-01-05T13:39:08.948908Z",
     "start_time": "2022-01-05T13:39:08.933068Z"
    }
   },
   "outputs": [],
   "source": [
    "res_wfs['class_id'] = res_wfs.apply(lambda row: 'uprightwood' if row.label == 2 else 'groundwood', axis=1)"
   ]
  },
  {
   "cell_type": "code",
   "execution_count": 23,
   "id": "338a8413",
   "metadata": {
    "ExecuteTime": {
     "end_time": "2022-01-05T13:39:11.859089Z",
     "start_time": "2022-01-05T13:39:10.854505Z"
    }
   },
   "outputs": [],
   "source": [
    "res_wfs_dis = res_wfs.dissolve(by='class_id')"
   ]
  },
  {
   "cell_type": "code",
   "execution_count": 24,
   "id": "cc45193a",
   "metadata": {
    "ExecuteTime": {
     "end_time": "2022-01-05T13:39:19.058151Z",
     "start_time": "2022-01-05T13:39:19.047286Z"
    }
   },
   "outputs": [
    {
     "ename": "NameError",
     "evalue": "name 'poly_IoU' is not defined",
     "output_type": "error",
     "traceback": [
      "\u001b[0;31m---------------------------------------------------------------------------\u001b[0m",
      "\u001b[0;31mNameError\u001b[0m                                 Traceback (most recent call last)",
      "\u001b[0;32m<ipython-input-24-4bf26255e516>\u001b[0m in \u001b[0;36m<module>\u001b[0;34m\u001b[0m\n\u001b[0;32m----> 1\u001b[0;31m \u001b[0mpoly_IoU\u001b[0m\u001b[0;34m(\u001b[0m\u001b[0mgt_dis\u001b[0m\u001b[0;34m,\u001b[0m \u001b[0mres_wfs_dis\u001b[0m\u001b[0;34m)\u001b[0m\u001b[0;34m\u001b[0m\u001b[0;34m\u001b[0m\u001b[0m\n\u001b[0m",
      "\u001b[0;31mNameError\u001b[0m: name 'poly_IoU' is not defined"
     ]
    }
   ],
   "source": [
    "poly_IoU(gt_dis, res_wfs_dis)"
   ]
  },
  {
   "cell_type": "code",
   "execution_count": null,
   "id": "0fee19df",
   "metadata": {
    "ExecuteTime": {
     "start_time": "2022-01-05T12:26:39.618Z"
    }
   },
   "outputs": [],
   "source": [
    "poly_dice(gt_dis, res_wfs_dis)"
   ]
  },
  {
   "cell_type": "code",
   "execution_count": 55,
   "id": "5731f58b",
   "metadata": {
    "ExecuteTime": {
     "end_time": "2022-01-05T14:00:19.901531Z",
     "start_time": "2022-01-05T14:00:19.898310Z"
    }
   },
   "outputs": [],
   "source": [
    "deadwood_categories = [{'supercategory': 'deadwood', 'id':1, 'name':'uprightwood'},\n",
    "                      {'supercategory': 'deadwood', 'id':2, 'name':'groundwood'}]\n",
    "\n",
    "wfs_coco_eval = GisCOCOeval(result_basepath/'wsf/', result_basepath/'wsf/', \n",
    "                            None, None, deadwood_categories)"
   ]
  },
  {
   "cell_type": "code",
   "execution_count": 56,
   "id": "38de52ba",
   "metadata": {
    "ExecuteTime": {
     "end_time": "2022-01-05T14:00:25.192227Z",
     "start_time": "2022-01-05T14:00:20.139584Z"
    }
   },
   "outputs": [
    {
     "data": {
      "application/vnd.jupyter.widget-view+json": {
       "model_id": "bf6cd6d6c7f542c9934e662ece8c4f22",
       "version_major": 2,
       "version_minor": 0
      },
      "text/plain": [
       "0it [00:00, ?it/s]"
      ]
     },
     "metadata": {},
     "output_type": "display_data"
    },
    {
     "data": {
      "application/vnd.jupyter.widget-view+json": {
       "model_id": "20029abaa980470590069580cb0ce8fe",
       "version_major": 2,
       "version_minor": 0
      },
      "text/plain": [
       "  0%|          | 0/5 [00:00<?, ?it/s]"
      ]
     },
     "metadata": {},
     "output_type": "display_data"
    }
   ],
   "source": [
    "wfs_coco_eval.prepare_data(gt_label_col='layer')"
   ]
  },
  {
   "cell_type": "code",
   "execution_count": 57,
   "id": "3294d260",
   "metadata": {
    "ExecuteTime": {
     "end_time": "2022-01-05T14:00:26.378287Z",
     "start_time": "2022-01-05T14:00:26.304329Z"
    }
   },
   "outputs": [
    {
     "name": "stdout",
     "output_type": "stream",
     "text": [
      "loading annotations into memory...\n",
      "Done (t=0.04s)\n",
      "creating index...\n",
      "index created!\n",
      "Loading and preparing results...\n",
      "DONE (t=0.02s)\n",
      "creating index...\n",
      "index created!\n"
     ]
    }
   ],
   "source": [
    "wfs_coco_eval.prepare_eval()"
   ]
  },
  {
   "cell_type": "code",
   "execution_count": null,
   "id": "7f0e6db5",
   "metadata": {
    "ExecuteTime": {
     "end_time": "2022-01-05T13:57:30.409438Z",
     "start_time": "2022-01-05T13:57:27.103Z"
    }
   },
   "outputs": [],
   "source": [
    "wfs_coco_eval.coco_eval.params.maxDets = [100, 1000]"
   ]
  },
  {
   "cell_type": "code",
   "execution_count": 58,
   "id": "d76626a3",
   "metadata": {
    "ExecuteTime": {
     "end_time": "2022-01-05T14:00:50.413304Z",
     "start_time": "2022-01-05T14:00:28.480607Z"
    },
    "scrolled": false
   },
   "outputs": [
    {
     "name": "stdout",
     "output_type": "stream",
     "text": [
      "\n",
      "Evaluating for category uprightwood\n",
      "Running per image evaluation...\n",
      "Evaluate annotation type *segm*\n",
      "DONE (t=0.31s).\n",
      "Accumulating evaluation results...\n",
      "DONE (t=0.01s).\n",
      " Average Precision  (AP) @[ IoU=0.50:0.95 | area=   all | maxDets=1000 ] = 0.193\n",
      " Average Precision  (AP) @[ IoU=0.50      | area=   all | maxDets=1000 ] = 0.341\n",
      " Average Precision  (AP) @[ IoU=0.75      | area=   all | maxDets=1000 ] = 0.175\n",
      " Average Precision  (AP) @[ IoU=0.50:0.95 | area= small | maxDets=1000 ] = 0.056\n",
      " Average Precision  (AP) @[ IoU=0.50:0.95 | area=medium | maxDets=1000 ] = 0.271\n",
      " Average Precision  (AP) @[ IoU=0.50:0.95 | area= large | maxDets=1000 ] = 0.000\n",
      " Average Recall     (AR) @[ IoU=0.50:0.95 | area=   all | maxDets=100 ] = 0.224\n",
      " Average Recall     (AR) @[ IoU=0.50:0.95 | area= small | maxDets=100 ] = 0.067\n",
      " Average Recall     (AR) @[ IoU=0.50:0.95 | area=medium | maxDets=100 ] = 0.313\n",
      " Average Recall     (AR) @[ IoU=0.50:0.95 | area= large | maxDets=100 ] = 0.000\n",
      "\n",
      "Evaluating for category groundwood\n",
      "Running per image evaluation...\n",
      "Evaluate annotation type *segm*\n",
      "DONE (t=11.55s).\n",
      "Accumulating evaluation results...\n",
      "DONE (t=0.02s).\n",
      " Average Precision  (AP) @[ IoU=0.50:0.95 | area=   all | maxDets=1000 ] = 0.235\n",
      " Average Precision  (AP) @[ IoU=0.50      | area=   all | maxDets=1000 ] = 0.599\n",
      " Average Precision  (AP) @[ IoU=0.75      | area=   all | maxDets=1000 ] = 0.114\n",
      " Average Precision  (AP) @[ IoU=0.50:0.95 | area= small | maxDets=1000 ] = 0.236\n",
      " Average Precision  (AP) @[ IoU=0.50:0.95 | area=medium | maxDets=1000 ] = 0.233\n",
      " Average Precision  (AP) @[ IoU=0.50:0.95 | area= large | maxDets=1000 ] = -1.000\n",
      " Average Recall     (AR) @[ IoU=0.50:0.95 | area=   all | maxDets=100 ] = 0.160\n",
      " Average Recall     (AR) @[ IoU=0.50:0.95 | area= small | maxDets=100 ] = 0.160\n",
      " Average Recall     (AR) @[ IoU=0.50:0.95 | area=medium | maxDets=100 ] = 0.180\n",
      " Average Recall     (AR) @[ IoU=0.50:0.95 | area= large | maxDets=100 ] = -1.000\n",
      "\n",
      "Evaluating for full data...\n",
      "Running per image evaluation...\n",
      "Evaluate annotation type *segm*\n",
      "DONE (t=10.02s).\n",
      "Accumulating evaluation results...\n",
      "DONE (t=0.01s).\n",
      " Average Precision  (AP) @[ IoU=0.50:0.95 | area=   all | maxDets=1000 ] = 0.214\n",
      " Average Precision  (AP) @[ IoU=0.50      | area=   all | maxDets=1000 ] = 0.470\n",
      " Average Precision  (AP) @[ IoU=0.75      | area=   all | maxDets=1000 ] = 0.144\n",
      " Average Precision  (AP) @[ IoU=0.50:0.95 | area= small | maxDets=1000 ] = 0.146\n",
      " Average Precision  (AP) @[ IoU=0.50:0.95 | area=medium | maxDets=1000 ] = 0.252\n",
      " Average Precision  (AP) @[ IoU=0.50:0.95 | area= large | maxDets=1000 ] = 0.000\n",
      " Average Recall     (AR) @[ IoU=0.50:0.95 | area=   all | maxDets=100 ] = 0.192\n",
      " Average Recall     (AR) @[ IoU=0.50:0.95 | area= small | maxDets=100 ] = 0.114\n",
      " Average Recall     (AR) @[ IoU=0.50:0.95 | area=medium | maxDets=100 ] = 0.246\n",
      " Average Recall     (AR) @[ IoU=0.50:0.95 | area= large | maxDets=100 ] = 0.000\n"
     ]
    }
   ],
   "source": [
    "wfs_coco_eval.evaluate()"
   ]
  },
  {
   "cell_type": "code",
   "execution_count": null,
   "id": "95734441",
   "metadata": {},
   "outputs": [],
   "source": []
  }
 ],
 "metadata": {
  "kernelspec": {
   "display_name": "Python 3",
   "language": "python",
   "name": "python3"
  },
  "language_info": {
   "codemirror_mode": {
    "name": "ipython",
    "version": 3
   },
   "file_extension": ".py",
   "mimetype": "text/x-python",
   "name": "python",
   "nbconvert_exporter": "python",
   "pygments_lexer": "ipython3",
   "version": "3.9.9"
  },
  "latex_envs": {
   "LaTeX_envs_menu_present": true,
   "autoclose": false,
   "autocomplete": true,
   "bibliofile": "biblio.bib",
   "cite_by": "apalike",
   "current_citInitial": 1,
   "eqLabelWithNumbers": true,
   "eqNumInitial": 1,
   "hotkeys": {
    "equation": "Ctrl-E",
    "itemize": "Ctrl-I"
   },
   "labels_anchors": false,
   "latex_user_defs": false,
   "report_style_numbering": false,
   "user_envs_cfg": false
  },
  "toc": {
   "base_numbering": 1,
   "nav_menu": {},
   "number_sections": true,
   "sideBar": true,
   "skip_h1_title": false,
   "title_cell": "Table of Contents",
   "title_sidebar": "Contents",
   "toc_cell": false,
   "toc_position": {
    "height": "calc(100% - 180px)",
    "left": "10px",
    "top": "150px",
    "width": "384px"
   },
   "toc_section_display": true,
   "toc_window_display": true
  }
 },
 "nbformat": 4,
 "nbformat_minor": 5
}

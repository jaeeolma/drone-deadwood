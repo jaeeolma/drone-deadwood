{
 "cells": [
  {
   "cell_type": "markdown",
   "id": "3a97a48c",
   "metadata": {},
   "source": [
    "## Results for test set"
   ]
  },
  {
   "cell_type": "code",
   "execution_count": 1,
   "id": "c8ada4d9",
   "metadata": {
    "ExecuteTime": {
     "end_time": "2021-12-23T12:01:17.226186Z",
     "start_time": "2021-12-23T12:01:14.488331Z"
    }
   },
   "outputs": [],
   "source": [
    "from pathlib import Path\n",
    "from drone_detector.tiling import *\n",
    "import os, sys\n",
    "import geopandas as gpd\n",
    "\n",
    "import matplotlib.pyplot as plt\n",
    "\n",
    "from drone_detector.predict import predict_instance_masks_detectron2\n",
    "from drone_detector.models import *"
   ]
  },
  {
   "cell_type": "code",
   "execution_count": 2,
   "id": "8b4d4fab",
   "metadata": {
    "ExecuteTime": {
     "end_time": "2021-12-23T12:01:17.229806Z",
     "start_time": "2021-12-23T12:01:17.227460Z"
    }
   },
   "outputs": [],
   "source": [
    "test_rasters = [f'../data/hiidenportti/raw/envelope_test_patches//{f}' \n",
    "                for f in os.listdir('../data/hiidenportti/raw/envelope_test_patches/') if f.endswith('tif')]"
   ]
  },
  {
   "cell_type": "code",
   "execution_count": 3,
   "id": "ad9d4e3e",
   "metadata": {
    "ExecuteTime": {
     "end_time": "2021-12-23T12:01:17.901610Z",
     "start_time": "2021-12-23T12:01:17.897851Z"
    }
   },
   "outputs": [
    {
     "data": {
      "text/plain": [
       "['../data/hiidenportti/raw/envelope_test_patches//104_49_Hiidenportti_Chunk5_orto.tif',\n",
       " '../data/hiidenportti/raw/envelope_test_patches//104_73_Hiidenportti_Chunk9_orto.tif',\n",
       " '../data/hiidenportti/raw/envelope_test_patches//104_42_Hiidenportti_Chunk5_orto.tif',\n",
       " '../data/hiidenportti/raw/envelope_test_patches//104_41_Hiidenportti_Chunk8_orto.tif',\n",
       " '../data/hiidenportti/raw/envelope_test_patches//104_32_Hiidenportti_Chunk5_orto.tif']"
      ]
     },
     "execution_count": 3,
     "metadata": {},
     "output_type": "execute_result"
    }
   ],
   "source": [
    "test_rasters"
   ]
  },
  {
   "cell_type": "code",
   "execution_count": 4,
   "id": "9168cace",
   "metadata": {
    "ExecuteTime": {
     "end_time": "2021-12-23T12:03:30.166092Z",
     "start_time": "2021-12-23T12:01:18.398029Z"
    },
    "scrolled": false
   },
   "outputs": [
    {
     "name": "stdout",
     "output_type": "stream",
     "text": [
      "Reading and tiling ../data/hiidenportti/raw/envelope_test_patches//104_49_Hiidenportti_Chunk5_orto.tif to 512x512 tiles with overlap of 128px\n"
     ]
    },
    {
     "data": {
      "application/vnd.jupyter.widget-view+json": {
       "model_id": "739e45052094453dbfd1b307b86cf7a1",
       "version_major": 2,
       "version_minor": 0
      },
      "text/plain": [
       "0it [00:00, ?it/s]"
      ]
     },
     "metadata": {},
     "output_type": "display_data"
    },
    {
     "name": "stdout",
     "output_type": "stream",
     "text": [
      "Loading model\n",
      "Starting predictions\n"
     ]
    },
    {
     "data": {
      "application/vnd.jupyter.widget-view+json": {
       "model_id": "a3ca72ecaffd475085204c5e22aed44c",
       "version_major": 2,
       "version_minor": 0
      },
      "text/plain": [
       "  0%|          | 0/120 [00:00<?, ?it/s]"
      ]
     },
     "metadata": {},
     "output_type": "display_data"
    },
    {
     "name": "stderr",
     "output_type": "stream",
     "text": [
      "/opt/conda/lib/python3.9/site-packages/torch/_tensor.py:575: UserWarning: floor_divide is deprecated, and will be removed in a future version of pytorch. It currently rounds toward 0 (like the 'trunc' function NOT 'floor'). This results in incorrect rounding for negative values.\n",
      "To keep the current behavior, use torch.div(a, b, rounding_mode='trunc'), or for actual floor division, use torch.div(a, b, rounding_mode='floor'). (Triggered internally at  ../aten/src/ATen/native/BinaryOps.cpp:467.)\n",
      "  return torch.floor_divide(self, other)\n"
     ]
    },
    {
     "name": "stdout",
     "output_type": "stream",
     "text": [
      "Not yet implemented\n"
     ]
    },
    {
     "name": "stderr",
     "output_type": "stream",
     "text": [
      "/scratch/mayrajan/drone_detector/drone_detector/coco.py:44: VisibleDeprecationWarning: Creating an ndarray from ragged nested sequences (which is a list-or-tuple of lists-or-tuples-or ndarrays with different lengths or shapes) is deprecated. If you meant to do this, you must specify 'dtype=object' when creating the ndarray.\n",
      "  contours = np.subtract(contours, 1)\n"
     ]
    },
    {
     "data": {
      "application/vnd.jupyter.widget-view+json": {
       "model_id": "2e8d081b0f884d6eacef99d2da7f7bab",
       "version_major": 2,
       "version_minor": 0
      },
      "text/plain": [
       "  0%|          | 0/120 [00:00<?, ?it/s]"
      ]
     },
     "metadata": {},
     "output_type": "display_data"
    },
    {
     "data": {
      "application/vnd.jupyter.widget-view+json": {
       "model_id": "85e31b2652fa48bab6389117e35f85ac",
       "version_major": 2,
       "version_minor": 0
      },
      "text/plain": [
       "  0%|          | 0/120 [00:00<?, ?it/s]"
      ]
     },
     "metadata": {},
     "output_type": "display_data"
    },
    {
     "name": "stdout",
     "output_type": "stream",
     "text": [
      "1771 polygons before non-max suppression\n",
      "1771 polygons after non-max suppression\n",
      "Removing intermediate files\n",
      "Reading and tiling ../data/hiidenportti/raw/envelope_test_patches//104_73_Hiidenportti_Chunk9_orto.tif to 512x512 tiles with overlap of 128px\n"
     ]
    },
    {
     "data": {
      "application/vnd.jupyter.widget-view+json": {
       "model_id": "12a5ec2e4c1649cbbf4d36969cdb72a5",
       "version_major": 2,
       "version_minor": 0
      },
      "text/plain": [
       "0it [00:00, ?it/s]"
      ]
     },
     "metadata": {},
     "output_type": "display_data"
    },
    {
     "name": "stdout",
     "output_type": "stream",
     "text": [
      "Loading model\n",
      "Starting predictions\n"
     ]
    },
    {
     "data": {
      "application/vnd.jupyter.widget-view+json": {
       "model_id": "26449805295340229699d7ba5c7e21d4",
       "version_major": 2,
       "version_minor": 0
      },
      "text/plain": [
       "  0%|          | 0/36 [00:00<?, ?it/s]"
      ]
     },
     "metadata": {},
     "output_type": "display_data"
    },
    {
     "name": "stdout",
     "output_type": "stream",
     "text": [
      "Not yet implemented\n"
     ]
    },
    {
     "name": "stderr",
     "output_type": "stream",
     "text": [
      "/scratch/mayrajan/drone_detector/drone_detector/coco.py:44: VisibleDeprecationWarning: Creating an ndarray from ragged nested sequences (which is a list-or-tuple of lists-or-tuples-or ndarrays with different lengths or shapes) is deprecated. If you meant to do this, you must specify 'dtype=object' when creating the ndarray.\n",
      "  contours = np.subtract(contours, 1)\n"
     ]
    },
    {
     "data": {
      "application/vnd.jupyter.widget-view+json": {
       "model_id": "fcbc5de937cc419e86ca0f525b8002bc",
       "version_major": 2,
       "version_minor": 0
      },
      "text/plain": [
       "  0%|          | 0/36 [00:00<?, ?it/s]"
      ]
     },
     "metadata": {},
     "output_type": "display_data"
    },
    {
     "data": {
      "application/vnd.jupyter.widget-view+json": {
       "model_id": "ef947f9be7e94ce4ae693c3a201db545",
       "version_major": 2,
       "version_minor": 0
      },
      "text/plain": [
       "  0%|          | 0/32 [00:00<?, ?it/s]"
      ]
     },
     "metadata": {},
     "output_type": "display_data"
    },
    {
     "name": "stdout",
     "output_type": "stream",
     "text": [
      "296 polygons before non-max suppression\n",
      "296 polygons after non-max suppression\n",
      "Removing intermediate files\n",
      "Reading and tiling ../data/hiidenportti/raw/envelope_test_patches//104_42_Hiidenportti_Chunk5_orto.tif to 512x512 tiles with overlap of 128px\n"
     ]
    },
    {
     "data": {
      "application/vnd.jupyter.widget-view+json": {
       "model_id": "cec98b1d1e8b482b97bc643e177ff512",
       "version_major": 2,
       "version_minor": 0
      },
      "text/plain": [
       "0it [00:00, ?it/s]"
      ]
     },
     "metadata": {},
     "output_type": "display_data"
    },
    {
     "name": "stdout",
     "output_type": "stream",
     "text": [
      "Loading model\n",
      "Starting predictions\n"
     ]
    },
    {
     "data": {
      "application/vnd.jupyter.widget-view+json": {
       "model_id": "1920b2b96175475ca41cfbda0234b17b",
       "version_major": 2,
       "version_minor": 0
      },
      "text/plain": [
       "  0%|          | 0/88 [00:00<?, ?it/s]"
      ]
     },
     "metadata": {},
     "output_type": "display_data"
    },
    {
     "name": "stdout",
     "output_type": "stream",
     "text": [
      "Not yet implemented\n"
     ]
    },
    {
     "name": "stderr",
     "output_type": "stream",
     "text": [
      "/scratch/mayrajan/drone_detector/drone_detector/coco.py:44: VisibleDeprecationWarning: Creating an ndarray from ragged nested sequences (which is a list-or-tuple of lists-or-tuples-or ndarrays with different lengths or shapes) is deprecated. If you meant to do this, you must specify 'dtype=object' when creating the ndarray.\n",
      "  contours = np.subtract(contours, 1)\n"
     ]
    },
    {
     "data": {
      "application/vnd.jupyter.widget-view+json": {
       "model_id": "2bc87542a2f54ead952a514bdd8f1feb",
       "version_major": 2,
       "version_minor": 0
      },
      "text/plain": [
       "  0%|          | 0/88 [00:00<?, ?it/s]"
      ]
     },
     "metadata": {},
     "output_type": "display_data"
    },
    {
     "data": {
      "application/vnd.jupyter.widget-view+json": {
       "model_id": "9f0258d1c24f49c6a623fca53df7b349",
       "version_major": 2,
       "version_minor": 0
      },
      "text/plain": [
       "  0%|          | 0/86 [00:00<?, ?it/s]"
      ]
     },
     "metadata": {},
     "output_type": "display_data"
    },
    {
     "name": "stdout",
     "output_type": "stream",
     "text": [
      "1134 polygons before non-max suppression\n",
      "1134 polygons after non-max suppression\n",
      "Removing intermediate files\n",
      "Reading and tiling ../data/hiidenportti/raw/envelope_test_patches//104_41_Hiidenportti_Chunk8_orto.tif to 512x512 tiles with overlap of 128px\n"
     ]
    },
    {
     "data": {
      "application/vnd.jupyter.widget-view+json": {
       "model_id": "52d2ef87cdda4db4860e7f1acd41695b",
       "version_major": 2,
       "version_minor": 0
      },
      "text/plain": [
       "0it [00:00, ?it/s]"
      ]
     },
     "metadata": {},
     "output_type": "display_data"
    },
    {
     "name": "stdout",
     "output_type": "stream",
     "text": [
      "Loading model\n",
      "Starting predictions\n"
     ]
    },
    {
     "data": {
      "application/vnd.jupyter.widget-view+json": {
       "model_id": "67f4ec153dfd40b0a28952a403354898",
       "version_major": 2,
       "version_minor": 0
      },
      "text/plain": [
       "  0%|          | 0/63 [00:00<?, ?it/s]"
      ]
     },
     "metadata": {},
     "output_type": "display_data"
    },
    {
     "name": "stdout",
     "output_type": "stream",
     "text": [
      "Not yet implemented\n"
     ]
    },
    {
     "name": "stderr",
     "output_type": "stream",
     "text": [
      "/scratch/mayrajan/drone_detector/drone_detector/coco.py:44: VisibleDeprecationWarning: Creating an ndarray from ragged nested sequences (which is a list-or-tuple of lists-or-tuples-or ndarrays with different lengths or shapes) is deprecated. If you meant to do this, you must specify 'dtype=object' when creating the ndarray.\n",
      "  contours = np.subtract(contours, 1)\n"
     ]
    },
    {
     "data": {
      "application/vnd.jupyter.widget-view+json": {
       "model_id": "83a73b9d0e784ca5ad0da822c952d54a",
       "version_major": 2,
       "version_minor": 0
      },
      "text/plain": [
       "  0%|          | 0/63 [00:00<?, ?it/s]"
      ]
     },
     "metadata": {},
     "output_type": "display_data"
    },
    {
     "data": {
      "application/vnd.jupyter.widget-view+json": {
       "model_id": "7ecf20a2d30640a19aab43ec5c836760",
       "version_major": 2,
       "version_minor": 0
      },
      "text/plain": [
       "  0%|          | 0/62 [00:00<?, ?it/s]"
      ]
     },
     "metadata": {},
     "output_type": "display_data"
    },
    {
     "name": "stdout",
     "output_type": "stream",
     "text": [
      "752 polygons before non-max suppression\n",
      "752 polygons after non-max suppression\n",
      "Removing intermediate files\n",
      "Reading and tiling ../data/hiidenportti/raw/envelope_test_patches//104_32_Hiidenportti_Chunk5_orto.tif to 512x512 tiles with overlap of 128px\n"
     ]
    },
    {
     "data": {
      "application/vnd.jupyter.widget-view+json": {
       "model_id": "4d51aec411d0432eb0d706bd52870678",
       "version_major": 2,
       "version_minor": 0
      },
      "text/plain": [
       "0it [00:00, ?it/s]"
      ]
     },
     "metadata": {},
     "output_type": "display_data"
    },
    {
     "name": "stdout",
     "output_type": "stream",
     "text": [
      "Loading model\n",
      "Starting predictions\n"
     ]
    },
    {
     "data": {
      "application/vnd.jupyter.widget-view+json": {
       "model_id": "3a7755462fec465798fc18995c1cdeaa",
       "version_major": 2,
       "version_minor": 0
      },
      "text/plain": [
       "  0%|          | 0/36 [00:00<?, ?it/s]"
      ]
     },
     "metadata": {},
     "output_type": "display_data"
    },
    {
     "name": "stdout",
     "output_type": "stream",
     "text": [
      "Not yet implemented\n"
     ]
    },
    {
     "name": "stderr",
     "output_type": "stream",
     "text": [
      "/scratch/mayrajan/drone_detector/drone_detector/coco.py:44: VisibleDeprecationWarning: Creating an ndarray from ragged nested sequences (which is a list-or-tuple of lists-or-tuples-or ndarrays with different lengths or shapes) is deprecated. If you meant to do this, you must specify 'dtype=object' when creating the ndarray.\n",
      "  contours = np.subtract(contours, 1)\n"
     ]
    },
    {
     "data": {
      "application/vnd.jupyter.widget-view+json": {
       "model_id": "5d2b113edeb845669fce060afb55e874",
       "version_major": 2,
       "version_minor": 0
      },
      "text/plain": [
       "  0%|          | 0/36 [00:00<?, ?it/s]"
      ]
     },
     "metadata": {},
     "output_type": "display_data"
    },
    {
     "data": {
      "application/vnd.jupyter.widget-view+json": {
       "model_id": "fcfd96e695b947218f6b62e6df2f422f",
       "version_major": 2,
       "version_minor": 0
      },
      "text/plain": [
       "  0%|          | 0/35 [00:00<?, ?it/s]"
      ]
     },
     "metadata": {},
     "output_type": "display_data"
    },
    {
     "name": "stdout",
     "output_type": "stream",
     "text": [
      "246 polygons before non-max suppression\n",
      "246 polygons after non-max suppression\n",
      "Removing intermediate files\n"
     ]
    }
   ],
   "source": [
    "for t in test_rasters:\n",
    "    outfile_name = f'../data/hiidenportti/testresults/no_nms/predicted_vectors/{t.split(\"/\")[-1][:-4]}.geojson'\n",
    "    predict_instance_masks_detectron2('detectron2_models/resnext_01_baseline_aug/config.yaml', \n",
    "                                       t,\n",
    "                                       outfile_name,\n",
    "                                       processing_dir='temp',\n",
    "                                       tile_size=512,\n",
    "                                       tile_overlap=128,\n",
    "                                       smooth_preds=True,\n",
    "                                       use_tta=False,)"
   ]
  },
  {
   "cell_type": "markdown",
   "id": "e24e3269",
   "metadata": {},
   "source": [
    "### Clip results to have same spatial area than ground truth"
   ]
  },
  {
   "cell_type": "code",
   "execution_count": 5,
   "id": "29354dda",
   "metadata": {
    "ExecuteTime": {
     "end_time": "2021-12-23T12:03:32.701165Z",
     "start_time": "2021-12-23T12:03:32.699288Z"
    }
   },
   "outputs": [],
   "source": [
    "import geopandas as gpd\n",
    "from shapely.geometry import box"
   ]
  },
  {
   "cell_type": "code",
   "execution_count": 6,
   "id": "007c94ba",
   "metadata": {
    "ExecuteTime": {
     "end_time": "2021-12-23T12:03:33.030907Z",
     "start_time": "2021-12-23T12:03:33.029219Z"
    }
   },
   "outputs": [],
   "source": [
    "import shapely.geometry"
   ]
  },
  {
   "cell_type": "code",
   "execution_count": 7,
   "id": "a1a66d55",
   "metadata": {
    "ExecuteTime": {
     "end_time": "2021-12-23T12:03:33.275974Z",
     "start_time": "2021-12-23T12:03:33.274314Z"
    }
   },
   "outputs": [],
   "source": [
    "result_basepath = Path('../data/hiidenportti/testresults/')\n"
   ]
  },
  {
   "cell_type": "code",
   "execution_count": 8,
   "id": "15c368c3",
   "metadata": {
    "ExecuteTime": {
     "end_time": "2021-12-23T12:03:33.519538Z",
     "start_time": "2021-12-23T12:03:33.516174Z"
    }
   },
   "outputs": [],
   "source": [
    "res_test_pairs = [(result_basepath/f'no_nms/predicted_vectors/{fname}',\n",
    "                   f'../data/hiidenportti/raw/envelope_test_vectors//{fname}',\n",
    "                   f\"../data/hiidenportti/raw/envelope_test_patches//{fname.replace('geojson', 'tif')}\")\n",
    "                  for fname in os.listdir(result_basepath/'no_nms/predicted_vectors/') if fname.endswith('geojson')]"
   ]
  },
  {
   "cell_type": "code",
   "execution_count": 9,
   "id": "13be3ac9",
   "metadata": {
    "ExecuteTime": {
     "end_time": "2021-12-23T12:03:40.828566Z",
     "start_time": "2021-12-23T12:03:33.762435Z"
    },
    "scrolled": false
   },
   "outputs": [],
   "source": [
    "for r, t, im in res_test_pairs:\n",
    "    temp_results = gpd.read_file(r)\n",
    "    temp_gt = gpd.read_file(t)\n",
    "    temp_results = gpd.clip(temp_results, box(*temp_gt.total_bounds), keep_geom_type=True)\n",
    "    temp_results = temp_results[temp_results.geometry.area > 0.032]\n",
    "    temp_results.to_file(r, driver='GeoJSON')"
   ]
  },
  {
   "cell_type": "code",
   "execution_count": 10,
   "id": "07e03fe6",
   "metadata": {
    "ExecuteTime": {
     "end_time": "2021-12-23T12:03:40.832192Z",
     "start_time": "2021-12-23T12:03:40.829694Z"
    }
   },
   "outputs": [],
   "source": [
    "resultfiles = [result_basepath/f'no_nms/predicted_vectors/{f}' \n",
    "               for f in os.listdir(result_basepath/f'no_nms/predicted_vectors/')\n",
    "              if f.endswith('geojson')]"
   ]
  },
  {
   "cell_type": "code",
   "execution_count": 11,
   "id": "5dbf4521",
   "metadata": {
    "ExecuteTime": {
     "end_time": "2021-12-23T12:03:46.604382Z",
     "start_time": "2021-12-23T12:03:40.833243Z"
    }
   },
   "outputs": [],
   "source": [
    "for f in resultfiles:\n",
    "    gdf = gpd.read_file(f)\n",
    "    gdf['label'] +=  1\n",
    "    gdf['geometry'] = gdf.geometry.buffer(0) # fix faulty geometries\n",
    "    gdf['geometry'] = gdf.apply(lambda row: fix_multipolys(row.geometry) if row.geometry.type == 'MultiPolygon' \n",
    "                                else shapely.geometry.Polygon(row.geometry.exterior), axis=1)\n",
    "    gdf.to_file(f, driver='GeoJSON')"
   ]
  },
  {
   "cell_type": "markdown",
   "id": "591931c6",
   "metadata": {},
   "source": [
    "### No postprocessing"
   ]
  },
  {
   "cell_type": "markdown",
   "id": "d6531940",
   "metadata": {},
   "source": [
    "Compute overall dissolved IOU"
   ]
  },
  {
   "cell_type": "code",
   "execution_count": 12,
   "id": "83eb5497",
   "metadata": {
    "ExecuteTime": {
     "end_time": "2021-12-23T12:03:49.715199Z",
     "start_time": "2021-12-23T12:03:46.605502Z"
    }
   },
   "outputs": [],
   "source": [
    "results = None\n",
    "ground_truth = None\n",
    "\n",
    "for r, t, im in res_test_pairs:\n",
    "    temp_results = gpd.read_file(r)\n",
    "    temp_gt = gpd.read_file(t)\n",
    "    temp_gt = gpd.clip(temp_gt, box(*temp_results.total_bounds), keep_geom_type=True)\n",
    "    temp_results = gpd.clip(temp_results, box(*temp_gt.total_bounds), keep_geom_type=True)\n",
    "    temp_gt['plot_id'] = int(t.split('/')[-1].split('_')[0])\n",
    "    temp_results['plot_id'] = int(t.split('/')[-1].split('_')[0])\n",
    "    temp_gt['image_path'] = im\n",
    "    temp_results['image_path'] = im\n",
    "    if ground_truth is None: \n",
    "        ground_truth = temp_gt.copy()\n",
    "        results = temp_results.copy()\n",
    "    else:\n",
    "        ground_truth = ground_truth.append(temp_gt)\n",
    "        temp_gt = None\n",
    "        results = results.append(temp_results)\n",
    "        temp_results = None\n",
    "#ground_truth['geometry'] = ground_truth.geometry.buffer(0.05)"
   ]
  },
  {
   "cell_type": "code",
   "execution_count": 13,
   "id": "4142f340",
   "metadata": {
    "ExecuteTime": {
     "end_time": "2021-12-23T12:03:49.719870Z",
     "start_time": "2021-12-23T12:03:49.716249Z"
    }
   },
   "outputs": [
    {
     "data": {
      "text/plain": [
       "../data/hiidenportti/raw/envelope_test_patches//104_49_Hiidenportti_Chunk5_orto.tif    1695\n",
       "../data/hiidenportti/raw/envelope_test_patches//104_42_Hiidenportti_Chunk5_orto.tif    1101\n",
       "../data/hiidenportti/raw/envelope_test_patches//104_41_Hiidenportti_Chunk8_orto.tif     627\n",
       "../data/hiidenportti/raw/envelope_test_patches//104_73_Hiidenportti_Chunk9_orto.tif     232\n",
       "../data/hiidenportti/raw/envelope_test_patches//104_32_Hiidenportti_Chunk5_orto.tif     216\n",
       "Name: image_path, dtype: int64"
      ]
     },
     "execution_count": 13,
     "metadata": {},
     "output_type": "execute_result"
    }
   ],
   "source": [
    "results.image_path.value_counts()"
   ]
  },
  {
   "cell_type": "code",
   "execution_count": 14,
   "id": "e9cb67a5",
   "metadata": {
    "ExecuteTime": {
     "end_time": "2021-12-23T12:03:49.733630Z",
     "start_time": "2021-12-23T12:03:49.720871Z"
    }
   },
   "outputs": [
    {
     "data": {
      "text/plain": [
       "../data/hiidenportti/raw/envelope_test_patches//104_49_Hiidenportti_Chunk5_orto.tif    625\n",
       "../data/hiidenportti/raw/envelope_test_patches//104_42_Hiidenportti_Chunk5_orto.tif    417\n",
       "../data/hiidenportti/raw/envelope_test_patches//104_41_Hiidenportti_Chunk8_orto.tif    213\n",
       "../data/hiidenportti/raw/envelope_test_patches//104_73_Hiidenportti_Chunk9_orto.tif     95\n",
       "../data/hiidenportti/raw/envelope_test_patches//104_32_Hiidenportti_Chunk5_orto.tif     68\n",
       "Name: image_path, dtype: int64"
      ]
     },
     "execution_count": 14,
     "metadata": {},
     "output_type": "execute_result"
    }
   ],
   "source": [
    "ground_truth.image_path.value_counts()"
   ]
  },
  {
   "cell_type": "code",
   "execution_count": 15,
   "id": "1ce25874",
   "metadata": {
    "ExecuteTime": {
     "end_time": "2021-12-23T12:03:53.587472Z",
     "start_time": "2021-12-23T12:03:53.585663Z"
    }
   },
   "outputs": [],
   "source": [
    "import pandas as pd"
   ]
  },
  {
   "cell_type": "code",
   "execution_count": 16,
   "id": "498dbc79",
   "metadata": {
    "ExecuteTime": {
     "end_time": "2021-12-23T12:03:53.836200Z",
     "start_time": "2021-12-23T12:03:53.811383Z"
    }
   },
   "outputs": [
    {
     "data": {
      "text/html": [
       "<div>\n",
       "<style scoped>\n",
       "    .dataframe tbody tr th:only-of-type {\n",
       "        vertical-align: middle;\n",
       "    }\n",
       "\n",
       "    .dataframe tbody tr th {\n",
       "        vertical-align: top;\n",
       "    }\n",
       "\n",
       "    .dataframe thead th {\n",
       "        text-align: right;\n",
       "    }\n",
       "</style>\n",
       "<table border=\"1\" class=\"dataframe\">\n",
       "  <thead>\n",
       "    <tr style=\"text-align: right;\">\n",
       "      <th>layer</th>\n",
       "      <th>groundwood</th>\n",
       "      <th>uprightwood</th>\n",
       "      <th>All</th>\n",
       "    </tr>\n",
       "    <tr>\n",
       "      <th>image_path</th>\n",
       "      <th></th>\n",
       "      <th></th>\n",
       "      <th></th>\n",
       "    </tr>\n",
       "  </thead>\n",
       "  <tbody>\n",
       "    <tr>\n",
       "      <th>../data/hiidenportti/raw/envelope_test_patches//104_32_Hiidenportti_Chunk5_orto.tif</th>\n",
       "      <td>59</td>\n",
       "      <td>9</td>\n",
       "      <td>68</td>\n",
       "    </tr>\n",
       "    <tr>\n",
       "      <th>../data/hiidenportti/raw/envelope_test_patches//104_41_Hiidenportti_Chunk8_orto.tif</th>\n",
       "      <td>187</td>\n",
       "      <td>26</td>\n",
       "      <td>213</td>\n",
       "    </tr>\n",
       "    <tr>\n",
       "      <th>../data/hiidenportti/raw/envelope_test_patches//104_42_Hiidenportti_Chunk5_orto.tif</th>\n",
       "      <td>320</td>\n",
       "      <td>97</td>\n",
       "      <td>417</td>\n",
       "    </tr>\n",
       "    <tr>\n",
       "      <th>../data/hiidenportti/raw/envelope_test_patches//104_49_Hiidenportti_Chunk5_orto.tif</th>\n",
       "      <td>496</td>\n",
       "      <td>129</td>\n",
       "      <td>625</td>\n",
       "    </tr>\n",
       "    <tr>\n",
       "      <th>../data/hiidenportti/raw/envelope_test_patches//104_73_Hiidenportti_Chunk9_orto.tif</th>\n",
       "      <td>93</td>\n",
       "      <td>2</td>\n",
       "      <td>95</td>\n",
       "    </tr>\n",
       "    <tr>\n",
       "      <th>All</th>\n",
       "      <td>1155</td>\n",
       "      <td>263</td>\n",
       "      <td>1418</td>\n",
       "    </tr>\n",
       "  </tbody>\n",
       "</table>\n",
       "</div>"
      ],
      "text/plain": [
       "layer                                                                                groundwood  \\\n",
       "image_path                                                                                        \n",
       "../data/hiidenportti/raw/envelope_test_patches//104_32_Hiidenportti_Chunk5_orto.tif          59   \n",
       "../data/hiidenportti/raw/envelope_test_patches//104_41_Hiidenportti_Chunk8_orto.tif         187   \n",
       "../data/hiidenportti/raw/envelope_test_patches//104_42_Hiidenportti_Chunk5_orto.tif         320   \n",
       "../data/hiidenportti/raw/envelope_test_patches//104_49_Hiidenportti_Chunk5_orto.tif         496   \n",
       "../data/hiidenportti/raw/envelope_test_patches//104_73_Hiidenportti_Chunk9_orto.tif          93   \n",
       "All                                                                                        1155   \n",
       "\n",
       "layer                                                                                uprightwood  \\\n",
       "image_path                                                                                         \n",
       "../data/hiidenportti/raw/envelope_test_patches//104_32_Hiidenportti_Chunk5_orto.tif            9   \n",
       "../data/hiidenportti/raw/envelope_test_patches//104_41_Hiidenportti_Chunk8_orto.tif           26   \n",
       "../data/hiidenportti/raw/envelope_test_patches//104_42_Hiidenportti_Chunk5_orto.tif           97   \n",
       "../data/hiidenportti/raw/envelope_test_patches//104_49_Hiidenportti_Chunk5_orto.tif          129   \n",
       "../data/hiidenportti/raw/envelope_test_patches//104_73_Hiidenportti_Chunk9_orto.tif            2   \n",
       "All                                                                                          263   \n",
       "\n",
       "layer                                                                                 All  \n",
       "image_path                                                                                 \n",
       "../data/hiidenportti/raw/envelope_test_patches//104_32_Hiidenportti_Chunk5_orto.tif    68  \n",
       "../data/hiidenportti/raw/envelope_test_patches//104_41_Hiidenportti_Chunk8_orto.tif   213  \n",
       "../data/hiidenportti/raw/envelope_test_patches//104_42_Hiidenportti_Chunk5_orto.tif   417  \n",
       "../data/hiidenportti/raw/envelope_test_patches//104_49_Hiidenportti_Chunk5_orto.tif   625  \n",
       "../data/hiidenportti/raw/envelope_test_patches//104_73_Hiidenportti_Chunk9_orto.tif    95  \n",
       "All                                                                                  1418  "
      ]
     },
     "execution_count": 16,
     "metadata": {},
     "output_type": "execute_result"
    }
   ],
   "source": [
    "pd.crosstab(ground_truth.image_path, ground_truth.layer, margins=True)"
   ]
  },
  {
   "cell_type": "code",
   "execution_count": 17,
   "id": "cd4bd3cd",
   "metadata": {
    "ExecuteTime": {
     "end_time": "2021-12-23T12:03:54.097822Z",
     "start_time": "2021-12-23T12:03:54.074315Z"
    }
   },
   "outputs": [
    {
     "data": {
      "text/html": [
       "<div>\n",
       "<style scoped>\n",
       "    .dataframe tbody tr th:only-of-type {\n",
       "        vertical-align: middle;\n",
       "    }\n",
       "\n",
       "    .dataframe tbody tr th {\n",
       "        vertical-align: top;\n",
       "    }\n",
       "\n",
       "    .dataframe thead th {\n",
       "        text-align: right;\n",
       "    }\n",
       "</style>\n",
       "<table border=\"1\" class=\"dataframe\">\n",
       "  <thead>\n",
       "    <tr style=\"text-align: right;\">\n",
       "      <th>label</th>\n",
       "      <th>1</th>\n",
       "      <th>2</th>\n",
       "      <th>All</th>\n",
       "    </tr>\n",
       "    <tr>\n",
       "      <th>image_path</th>\n",
       "      <th></th>\n",
       "      <th></th>\n",
       "      <th></th>\n",
       "    </tr>\n",
       "  </thead>\n",
       "  <tbody>\n",
       "    <tr>\n",
       "      <th>../data/hiidenportti/raw/envelope_test_patches//104_32_Hiidenportti_Chunk5_orto.tif</th>\n",
       "      <td>16</td>\n",
       "      <td>200</td>\n",
       "      <td>216</td>\n",
       "    </tr>\n",
       "    <tr>\n",
       "      <th>../data/hiidenportti/raw/envelope_test_patches//104_41_Hiidenportti_Chunk8_orto.tif</th>\n",
       "      <td>33</td>\n",
       "      <td>594</td>\n",
       "      <td>627</td>\n",
       "    </tr>\n",
       "    <tr>\n",
       "      <th>../data/hiidenportti/raw/envelope_test_patches//104_42_Hiidenportti_Chunk5_orto.tif</th>\n",
       "      <td>98</td>\n",
       "      <td>1003</td>\n",
       "      <td>1101</td>\n",
       "    </tr>\n",
       "    <tr>\n",
       "      <th>../data/hiidenportti/raw/envelope_test_patches//104_49_Hiidenportti_Chunk5_orto.tif</th>\n",
       "      <td>142</td>\n",
       "      <td>1553</td>\n",
       "      <td>1695</td>\n",
       "    </tr>\n",
       "    <tr>\n",
       "      <th>../data/hiidenportti/raw/envelope_test_patches//104_73_Hiidenportti_Chunk9_orto.tif</th>\n",
       "      <td>4</td>\n",
       "      <td>228</td>\n",
       "      <td>232</td>\n",
       "    </tr>\n",
       "    <tr>\n",
       "      <th>All</th>\n",
       "      <td>293</td>\n",
       "      <td>3578</td>\n",
       "      <td>3871</td>\n",
       "    </tr>\n",
       "  </tbody>\n",
       "</table>\n",
       "</div>"
      ],
      "text/plain": [
       "label                                                                                  1  \\\n",
       "image_path                                                                                 \n",
       "../data/hiidenportti/raw/envelope_test_patches//104_32_Hiidenportti_Chunk5_orto.tif   16   \n",
       "../data/hiidenportti/raw/envelope_test_patches//104_41_Hiidenportti_Chunk8_orto.tif   33   \n",
       "../data/hiidenportti/raw/envelope_test_patches//104_42_Hiidenportti_Chunk5_orto.tif   98   \n",
       "../data/hiidenportti/raw/envelope_test_patches//104_49_Hiidenportti_Chunk5_orto.tif  142   \n",
       "../data/hiidenportti/raw/envelope_test_patches//104_73_Hiidenportti_Chunk9_orto.tif    4   \n",
       "All                                                                                  293   \n",
       "\n",
       "label                                                                                   2  \\\n",
       "image_path                                                                                  \n",
       "../data/hiidenportti/raw/envelope_test_patches//104_32_Hiidenportti_Chunk5_orto.tif   200   \n",
       "../data/hiidenportti/raw/envelope_test_patches//104_41_Hiidenportti_Chunk8_orto.tif   594   \n",
       "../data/hiidenportti/raw/envelope_test_patches//104_42_Hiidenportti_Chunk5_orto.tif  1003   \n",
       "../data/hiidenportti/raw/envelope_test_patches//104_49_Hiidenportti_Chunk5_orto.tif  1553   \n",
       "../data/hiidenportti/raw/envelope_test_patches//104_73_Hiidenportti_Chunk9_orto.tif   228   \n",
       "All                                                                                  3578   \n",
       "\n",
       "label                                                                                 All  \n",
       "image_path                                                                                 \n",
       "../data/hiidenportti/raw/envelope_test_patches//104_32_Hiidenportti_Chunk5_orto.tif   216  \n",
       "../data/hiidenportti/raw/envelope_test_patches//104_41_Hiidenportti_Chunk8_orto.tif   627  \n",
       "../data/hiidenportti/raw/envelope_test_patches//104_42_Hiidenportti_Chunk5_orto.tif  1101  \n",
       "../data/hiidenportti/raw/envelope_test_patches//104_49_Hiidenportti_Chunk5_orto.tif  1695  \n",
       "../data/hiidenportti/raw/envelope_test_patches//104_73_Hiidenportti_Chunk9_orto.tif   232  \n",
       "All                                                                                  3871  "
      ]
     },
     "execution_count": 17,
     "metadata": {},
     "output_type": "execute_result"
    }
   ],
   "source": [
    "pd.crosstab(results.image_path, results.label, margins=True)"
   ]
  },
  {
   "cell_type": "code",
   "execution_count": 18,
   "id": "858715f7",
   "metadata": {
    "ExecuteTime": {
     "end_time": "2021-12-23T12:03:54.437737Z",
     "start_time": "2021-12-23T12:03:54.434559Z"
    }
   },
   "outputs": [
    {
     "data": {
      "text/plain": [
       "groundwood     1155\n",
       "uprightwood     263\n",
       "Name: layer, dtype: int64"
      ]
     },
     "execution_count": 18,
     "metadata": {},
     "output_type": "execute_result"
    }
   ],
   "source": [
    "ground_truth.layer.value_counts()"
   ]
  },
  {
   "cell_type": "code",
   "execution_count": 19,
   "id": "9104f6c0",
   "metadata": {
    "ExecuteTime": {
     "end_time": "2021-12-23T12:03:56.509622Z",
     "start_time": "2021-12-23T12:03:56.506402Z"
    }
   },
   "outputs": [
    {
     "data": {
      "text/plain": [
       "2    3578\n",
       "1     293\n",
       "Name: label, dtype: int64"
      ]
     },
     "execution_count": 19,
     "metadata": {},
     "output_type": "execute_result"
    }
   ],
   "source": [
    "results.label.value_counts()"
   ]
  },
  {
   "cell_type": "code",
   "execution_count": 20,
   "id": "04abb62b",
   "metadata": {
    "ExecuteTime": {
     "end_time": "2021-12-23T12:03:56.884401Z",
     "start_time": "2021-12-23T12:03:56.882389Z"
    }
   },
   "outputs": [],
   "source": [
    "ground_truth.rename(columns={'groundwood':'label'}, inplace=True)"
   ]
  },
  {
   "cell_type": "code",
   "execution_count": 21,
   "id": "803cb9d6",
   "metadata": {
    "ExecuteTime": {
     "end_time": "2021-12-23T12:03:57.185986Z",
     "start_time": "2021-12-23T12:03:57.139878Z"
    }
   },
   "outputs": [],
   "source": [
    "ground_truth['class_id'] = ground_truth.apply(lambda row: 'uprightwood' if row.label == 1 else 'groundwood', axis=1)\n",
    "results['class_id'] = results.apply(lambda row: 'uprightwood' if row.label == 1 else 'groundwood', axis=1)"
   ]
  },
  {
   "cell_type": "code",
   "execution_count": 22,
   "id": "0b72ae61",
   "metadata": {
    "ExecuteTime": {
     "end_time": "2021-12-23T12:03:57.492151Z",
     "start_time": "2021-12-23T12:03:57.490453Z"
    }
   },
   "outputs": [],
   "source": [
    "from drone_detector.metrics import *"
   ]
  },
  {
   "cell_type": "code",
   "execution_count": 23,
   "id": "d4a420ed",
   "metadata": {
    "ExecuteTime": {
     "end_time": "2021-12-23T12:03:57.967324Z",
     "start_time": "2021-12-23T12:03:57.965374Z"
    }
   },
   "outputs": [],
   "source": [
    "def poly_dice(poly_1, poly_2):\n",
    "    area_intersection  = poly_1.intersection(poly_2).area\n",
    "    area_union = poly_1.union(poly_2).area\n",
    "    return (2 * area_intersection) / (poly_1.area + poly_2.area)"
   ]
  },
  {
   "cell_type": "code",
   "execution_count": 24,
   "id": "de85d951",
   "metadata": {
    "ExecuteTime": {
     "end_time": "2021-12-23T12:04:02.693912Z",
     "start_time": "2021-12-23T12:03:58.566443Z"
    }
   },
   "outputs": [
    {
     "data": {
      "text/plain": [
       "class_id\n",
       "groundwood     0.496687\n",
       "uprightwood    0.461517\n",
       "dtype: float64"
      ]
     },
     "execution_count": 24,
     "metadata": {},
     "output_type": "execute_result"
    }
   ],
   "source": [
    "gt_dis = ground_truth.dissolve(by='class_id')\n",
    "res_dis = results.dissolve(by='class_id')\n",
    "poly_IoU(gt_dis, res_dis)"
   ]
  },
  {
   "cell_type": "code",
   "execution_count": 25,
   "id": "3a948c3c",
   "metadata": {
    "ExecuteTime": {
     "end_time": "2021-12-23T12:04:09.479053Z",
     "start_time": "2021-12-23T12:04:09.475155Z"
    }
   },
   "outputs": [
    {
     "data": {
      "text/plain": [
       "groundwood     3578\n",
       "uprightwood     293\n",
       "Name: class_id, dtype: int64"
      ]
     },
     "execution_count": 25,
     "metadata": {},
     "output_type": "execute_result"
    }
   ],
   "source": [
    "results.class_id.value_counts()"
   ]
  },
  {
   "cell_type": "code",
   "execution_count": 26,
   "id": "b3c44fc6",
   "metadata": {
    "ExecuteTime": {
     "end_time": "2021-12-23T12:04:09.718881Z",
     "start_time": "2021-12-23T12:04:09.715605Z"
    }
   },
   "outputs": [
    {
     "data": {
      "text/plain": [
       "groundwood     1155\n",
       "uprightwood     263\n",
       "Name: class_id, dtype: int64"
      ]
     },
     "execution_count": 26,
     "metadata": {},
     "output_type": "execute_result"
    }
   ],
   "source": [
    "ground_truth.class_id.value_counts()"
   ]
  },
  {
   "cell_type": "code",
   "execution_count": 27,
   "id": "fc0bb792",
   "metadata": {
    "ExecuteTime": {
     "end_time": "2021-12-23T12:04:09.966906Z",
     "start_time": "2021-12-23T12:04:09.963420Z"
    }
   },
   "outputs": [],
   "source": [
    "res_dis['area'] = res_dis.geometry.area"
   ]
  },
  {
   "cell_type": "code",
   "execution_count": 28,
   "id": "636bb058",
   "metadata": {
    "ExecuteTime": {
     "end_time": "2021-12-23T12:04:10.250288Z",
     "start_time": "2021-12-23T12:04:10.247584Z"
    }
   },
   "outputs": [],
   "source": [
    "gt_dis['area'] = gt_dis.geometry.area"
   ]
  },
  {
   "cell_type": "code",
   "execution_count": 29,
   "id": "c384f9cc",
   "metadata": {
    "ExecuteTime": {
     "end_time": "2021-12-23T12:04:10.678800Z",
     "start_time": "2021-12-23T12:04:10.674477Z"
    }
   },
   "outputs": [
    {
     "data": {
      "text/plain": [
       "class_id\n",
       "groundwood     812.828055\n",
       "uprightwood    677.984156\n",
       "dtype: float64"
      ]
     },
     "execution_count": 29,
     "metadata": {},
     "output_type": "execute_result"
    }
   ],
   "source": [
    "res_dis.area"
   ]
  },
  {
   "cell_type": "code",
   "execution_count": 30,
   "id": "f51871a3",
   "metadata": {
    "ExecuteTime": {
     "end_time": "2021-12-23T12:04:11.133970Z",
     "start_time": "2021-12-23T12:04:11.130520Z"
    }
   },
   "outputs": [
    {
     "data": {
      "text/plain": [
       "class_id\n",
       "groundwood     611.707074\n",
       "uprightwood    776.367101\n",
       "dtype: float64"
      ]
     },
     "execution_count": 30,
     "metadata": {},
     "output_type": "execute_result"
    }
   ],
   "source": [
    "gt_dis.area"
   ]
  },
  {
   "cell_type": "code",
   "execution_count": 31,
   "id": "42874066",
   "metadata": {
    "ExecuteTime": {
     "end_time": "2021-12-23T12:04:12.559100Z",
     "start_time": "2021-12-23T12:04:11.603590Z"
    }
   },
   "outputs": [
    {
     "data": {
      "text/plain": [
       "class_id\n",
       "groundwood     0.663715\n",
       "uprightwood    0.631559\n",
       "dtype: float64"
      ]
     },
     "execution_count": 31,
     "metadata": {},
     "output_type": "execute_result"
    }
   ],
   "source": [
    "poly_dice(gt_dis, res_dis)\n"
   ]
  },
  {
   "cell_type": "markdown",
   "id": "79d378fa",
   "metadata": {},
   "source": [
    "Run COCO metrics"
   ]
  },
  {
   "cell_type": "code",
   "execution_count": 32,
   "id": "36ee19a4",
   "metadata": {
    "ExecuteTime": {
     "end_time": "2021-12-23T12:04:23.364855Z",
     "start_time": "2021-12-23T12:04:23.362417Z"
    }
   },
   "outputs": [],
   "source": [
    "deadwood_categories = [{'supercategory': 'deadwood', 'id':1, 'name':'uprightwood'},\n",
    "                 \n",
    "                       {'supercategory': 'deadwood', 'id':2, 'name':'groundwood'}]\n",
    "\n",
    "raw_coco_eval = GisCOCOeval(result_basepath/'no_nms/', result_basepath/'no_nms/', \n",
    "                            None, None, deadwood_categories)"
   ]
  },
  {
   "cell_type": "code",
   "execution_count": 33,
   "id": "e2f94285",
   "metadata": {
    "ExecuteTime": {
     "end_time": "2021-12-23T12:04:29.752325Z",
     "start_time": "2021-12-23T12:04:23.590386Z"
    },
    "scrolled": false
   },
   "outputs": [
    {
     "data": {
      "application/vnd.jupyter.widget-view+json": {
       "model_id": "ee62ddb2962742b197f27bf6331808d8",
       "version_major": 2,
       "version_minor": 0
      },
      "text/plain": [
       "0it [00:00, ?it/s]"
      ]
     },
     "metadata": {},
     "output_type": "display_data"
    },
    {
     "data": {
      "application/vnd.jupyter.widget-view+json": {
       "model_id": "018c81182ad5466fae07beb3282f88d0",
       "version_major": 2,
       "version_minor": 0
      },
      "text/plain": [
       "  0%|          | 0/5 [00:00<?, ?it/s]"
      ]
     },
     "metadata": {},
     "output_type": "display_data"
    }
   ],
   "source": [
    "raw_coco_eval.prepare_data(gt_label_col='layer')"
   ]
  },
  {
   "cell_type": "code",
   "execution_count": 34,
   "id": "614e60be",
   "metadata": {
    "ExecuteTime": {
     "end_time": "2021-12-23T12:04:29.827737Z",
     "start_time": "2021-12-23T12:04:29.754780Z"
    }
   },
   "outputs": [
    {
     "name": "stdout",
     "output_type": "stream",
     "text": [
      "loading annotations into memory...\n",
      "Done (t=0.03s)\n",
      "creating index...\n",
      "index created!\n",
      "Loading and preparing results...\n",
      "DONE (t=0.04s)\n",
      "creating index...\n",
      "index created!\n"
     ]
    }
   ],
   "source": [
    "raw_coco_eval.prepare_eval()"
   ]
  },
  {
   "cell_type": "code",
   "execution_count": 35,
   "id": "6a05f438",
   "metadata": {
    "ExecuteTime": {
     "end_time": "2021-12-23T12:04:59.886973Z",
     "start_time": "2021-12-23T12:04:29.828815Z"
    }
   },
   "outputs": [
    {
     "name": "stdout",
     "output_type": "stream",
     "text": [
      "\n",
      "Evaluating for category uprightwood\n",
      "Running per image evaluation...\n",
      "Evaluate annotation type *segm*\n",
      "DONE (t=0.47s).\n",
      "Accumulating evaluation results...\n",
      "DONE (t=0.01s).\n",
      " Average Precision  (AP) @[ IoU=0.50:0.95 | area=   all | maxDets=1000 ] = 0.192\n",
      " Average Precision  (AP) @[ IoU=0.50      | area=   all | maxDets=1000 ] = 0.342\n",
      " Average Precision  (AP) @[ IoU=0.75      | area=   all | maxDets=1000 ] = 0.194\n",
      " Average Precision  (AP) @[ IoU=0.50:0.95 | area= small | maxDets=1000 ] = 0.079\n",
      " Average Precision  (AP) @[ IoU=0.50:0.95 | area=medium | maxDets=1000 ] = 0.257\n",
      " Average Precision  (AP) @[ IoU=0.50:0.95 | area= large | maxDets=1000 ] = 0.000\n",
      " Average Recall     (AR) @[ IoU=0.50:0.95 | area=   all | maxDets=100 ] = 0.285\n",
      " Average Recall     (AR) @[ IoU=0.50:0.95 | area= small | maxDets=100 ] = 0.103\n",
      " Average Recall     (AR) @[ IoU=0.50:0.95 | area=medium | maxDets=100 ] = 0.388\n",
      " Average Recall     (AR) @[ IoU=0.50:0.95 | area= large | maxDets=100 ] = 0.000\n",
      "\n",
      "Evaluating for category groundwood\n",
      "Running per image evaluation...\n",
      "Evaluate annotation type *segm*\n",
      "DONE (t=14.54s).\n",
      "Accumulating evaluation results...\n",
      "DONE (t=0.02s).\n",
      " Average Precision  (AP) @[ IoU=0.50:0.95 | area=   all | maxDets=1000 ] = 0.181\n",
      " Average Precision  (AP) @[ IoU=0.50      | area=   all | maxDets=1000 ] = 0.451\n",
      " Average Precision  (AP) @[ IoU=0.75      | area=   all | maxDets=1000 ] = 0.095\n",
      " Average Precision  (AP) @[ IoU=0.50:0.95 | area= small | maxDets=1000 ] = 0.183\n",
      " Average Precision  (AP) @[ IoU=0.50:0.95 | area=medium | maxDets=1000 ] = 0.193\n",
      " Average Precision  (AP) @[ IoU=0.50:0.95 | area= large | maxDets=1000 ] = -1.000\n",
      " Average Recall     (AR) @[ IoU=0.50:0.95 | area=   all | maxDets=100 ] = 0.130\n",
      " Average Recall     (AR) @[ IoU=0.50:0.95 | area= small | maxDets=100 ] = 0.129\n",
      " Average Recall     (AR) @[ IoU=0.50:0.95 | area=medium | maxDets=100 ] = 0.150\n",
      " Average Recall     (AR) @[ IoU=0.50:0.95 | area= large | maxDets=100 ] = -1.000\n",
      "\n",
      "Evaluating for full data...\n",
      "Running per image evaluation...\n",
      "Evaluate annotation type *segm*\n",
      "DONE (t=14.99s).\n",
      "Accumulating evaluation results...\n",
      "DONE (t=0.02s).\n",
      " Average Precision  (AP) @[ IoU=0.50:0.95 | area=   all | maxDets=1000 ] = 0.187\n",
      " Average Precision  (AP) @[ IoU=0.50      | area=   all | maxDets=1000 ] = 0.397\n",
      " Average Precision  (AP) @[ IoU=0.75      | area=   all | maxDets=1000 ] = 0.144\n",
      " Average Precision  (AP) @[ IoU=0.50:0.95 | area= small | maxDets=1000 ] = 0.131\n",
      " Average Precision  (AP) @[ IoU=0.50:0.95 | area=medium | maxDets=1000 ] = 0.225\n",
      " Average Precision  (AP) @[ IoU=0.50:0.95 | area= large | maxDets=1000 ] = 0.000\n",
      " Average Recall     (AR) @[ IoU=0.50:0.95 | area=   all | maxDets=100 ] = 0.208\n",
      " Average Recall     (AR) @[ IoU=0.50:0.95 | area= small | maxDets=100 ] = 0.116\n",
      " Average Recall     (AR) @[ IoU=0.50:0.95 | area=medium | maxDets=100 ] = 0.269\n",
      " Average Recall     (AR) @[ IoU=0.50:0.95 | area= large | maxDets=100 ] = 0.000\n"
     ]
    }
   ],
   "source": [
    "raw_coco_eval.evaluate()"
   ]
  },
  {
   "cell_type": "code",
   "execution_count": 36,
   "id": "e6be1a4f",
   "metadata": {
    "ExecuteTime": {
     "end_time": "2021-12-23T12:05:36.459154Z",
     "start_time": "2021-12-23T12:05:36.235112Z"
    }
   },
   "outputs": [
    {
     "name": "stdout",
     "output_type": "stream",
     "text": [
      "loading annotations into memory...\n",
      "Done (t=0.18s)\n",
      "creating index...\n",
      "index created!\n",
      "Loading and preparing results...\n",
      "DONE (t=0.04s)\n",
      "creating index...\n",
      "index created!\n"
     ]
    }
   ],
   "source": [
    "raw_coco_eval.prepare_eval(eval_type='bbox')"
   ]
  },
  {
   "cell_type": "code",
   "execution_count": 37,
   "id": "d5c82556",
   "metadata": {
    "ExecuteTime": {
     "end_time": "2021-12-23T12:06:05.874933Z",
     "start_time": "2021-12-23T12:05:36.460620Z"
    }
   },
   "outputs": [
    {
     "name": "stdout",
     "output_type": "stream",
     "text": [
      "\n",
      "Evaluating for category uprightwood\n",
      "Running per image evaluation...\n",
      "Evaluate annotation type *bbox*\n",
      "DONE (t=0.46s).\n",
      "Accumulating evaluation results...\n",
      "DONE (t=0.01s).\n",
      " Average Precision  (AP) @[ IoU=0.50:0.95 | area=   all | maxDets=1000 ] = 0.191\n",
      " Average Precision  (AP) @[ IoU=0.50      | area=   all | maxDets=1000 ] = 0.352\n",
      " Average Precision  (AP) @[ IoU=0.75      | area=   all | maxDets=1000 ] = 0.184\n",
      " Average Precision  (AP) @[ IoU=0.50:0.95 | area= small | maxDets=1000 ] = 0.090\n",
      " Average Precision  (AP) @[ IoU=0.50:0.95 | area=medium | maxDets=1000 ] = 0.251\n",
      " Average Precision  (AP) @[ IoU=0.50:0.95 | area= large | maxDets=1000 ] = 0.000\n",
      " Average Recall     (AR) @[ IoU=0.50:0.95 | area=   all | maxDets=100 ] = 0.296\n",
      " Average Recall     (AR) @[ IoU=0.50:0.95 | area= small | maxDets=100 ] = 0.127\n",
      " Average Recall     (AR) @[ IoU=0.50:0.95 | area=medium | maxDets=100 ] = 0.390\n",
      " Average Recall     (AR) @[ IoU=0.50:0.95 | area= large | maxDets=100 ] = 0.000\n",
      "\n",
      "Evaluating for category groundwood\n",
      "Running per image evaluation...\n",
      "Evaluate annotation type *bbox*\n",
      "DONE (t=14.20s).\n",
      "Accumulating evaluation results...\n",
      "DONE (t=0.02s).\n",
      " Average Precision  (AP) @[ IoU=0.50:0.95 | area=   all | maxDets=1000 ] = 0.250\n",
      " Average Precision  (AP) @[ IoU=0.50      | area=   all | maxDets=1000 ] = 0.442\n",
      " Average Precision  (AP) @[ IoU=0.75      | area=   all | maxDets=1000 ] = 0.261\n",
      " Average Precision  (AP) @[ IoU=0.50:0.95 | area= small | maxDets=1000 ] = 0.251\n",
      " Average Precision  (AP) @[ IoU=0.50:0.95 | area=medium | maxDets=1000 ] = 0.265\n",
      " Average Precision  (AP) @[ IoU=0.50:0.95 | area= large | maxDets=1000 ] = -1.000\n",
      " Average Recall     (AR) @[ IoU=0.50:0.95 | area=   all | maxDets=100 ] = 0.171\n",
      " Average Recall     (AR) @[ IoU=0.50:0.95 | area= small | maxDets=100 ] = 0.170\n",
      " Average Recall     (AR) @[ IoU=0.50:0.95 | area=medium | maxDets=100 ] = 0.180\n",
      " Average Recall     (AR) @[ IoU=0.50:0.95 | area= large | maxDets=100 ] = -1.000\n",
      "\n",
      "Evaluating for full data...\n",
      "Running per image evaluation...\n",
      "Evaluate annotation type *bbox*\n",
      "DONE (t=14.70s).\n",
      "Accumulating evaluation results...\n",
      "DONE (t=0.02s).\n",
      " Average Precision  (AP) @[ IoU=0.50:0.95 | area=   all | maxDets=1000 ] = 0.220\n",
      " Average Precision  (AP) @[ IoU=0.50      | area=   all | maxDets=1000 ] = 0.397\n",
      " Average Precision  (AP) @[ IoU=0.75      | area=   all | maxDets=1000 ] = 0.222\n",
      " Average Precision  (AP) @[ IoU=0.50:0.95 | area= small | maxDets=1000 ] = 0.171\n",
      " Average Precision  (AP) @[ IoU=0.50:0.95 | area=medium | maxDets=1000 ] = 0.258\n",
      " Average Precision  (AP) @[ IoU=0.50:0.95 | area= large | maxDets=1000 ] = 0.000\n",
      " Average Recall     (AR) @[ IoU=0.50:0.95 | area=   all | maxDets=100 ] = 0.233\n",
      " Average Recall     (AR) @[ IoU=0.50:0.95 | area= small | maxDets=100 ] = 0.149\n",
      " Average Recall     (AR) @[ IoU=0.50:0.95 | area=medium | maxDets=100 ] = 0.285\n",
      " Average Recall     (AR) @[ IoU=0.50:0.95 | area= large | maxDets=100 ] = 0.000\n"
     ]
    }
   ],
   "source": [
    "raw_coco_eval.evaluate()"
   ]
  },
  {
   "cell_type": "markdown",
   "id": "a5b3cdc9",
   "metadata": {},
   "source": [
    "### Do score-based NMS with threshold of 0.7"
   ]
  },
  {
   "cell_type": "markdown",
   "id": "4a9972e8",
   "metadata": {},
   "source": [
    "If two or more predicted masks have bounding box IoU of more than 0.7, keep only the one with the highest score."
   ]
  },
  {
   "cell_type": "code",
   "execution_count": 38,
   "id": "c8ec3e81",
   "metadata": {
    "ExecuteTime": {
     "end_time": "2021-12-23T12:06:05.877943Z",
     "start_time": "2021-12-23T12:06:05.876166Z"
    }
   },
   "outputs": [],
   "source": [
    "from drone_detector.postproc import non_max_suppression_fast, do_nms\n",
    "from pathlib import Path\n",
    "\n",
    "\n",
    "import numpy as np"
   ]
  },
  {
   "cell_type": "code",
   "execution_count": 39,
   "id": "2904e07c",
   "metadata": {
    "ExecuteTime": {
     "end_time": "2021-12-23T12:06:05.904035Z",
     "start_time": "2021-12-23T12:06:05.879005Z"
    }
   },
   "outputs": [],
   "source": [
    "raw_dir = result_basepath/'no_nms/predicted_vectors/'\n",
    "nms_dir = result_basepath/'nms/predicted_vectors/'\n",
    "raw_files = os.listdir(raw_dir)"
   ]
  },
  {
   "cell_type": "code",
   "execution_count": 40,
   "id": "c194f035",
   "metadata": {
    "ExecuteTime": {
     "end_time": "2021-12-23T12:06:09.803731Z",
     "start_time": "2021-12-23T12:06:05.905021Z"
    }
   },
   "outputs": [],
   "source": [
    "for r in raw_files:\n",
    "    gdf_temp = gpd.read_file(raw_dir/r)\n",
    "    gdf_nms = do_nms(gdf_temp)\n",
    "    gdf_nms.to_file(nms_dir/r, driver='GeoJSON')\n",
    "    gdf_nms = None\n",
    "    gdf_temp = None"
   ]
  },
  {
   "cell_type": "markdown",
   "id": "b2694a9a",
   "metadata": {
    "ExecuteTime": {
     "end_time": "2021-10-07T11:46:50.499737Z",
     "start_time": "2021-10-07T11:46:50.497436Z"
    }
   },
   "source": [
    "Poly IoU"
   ]
  },
  {
   "cell_type": "code",
   "execution_count": 41,
   "id": "0a01a217",
   "metadata": {
    "ExecuteTime": {
     "end_time": "2021-12-23T12:06:10.058130Z",
     "start_time": "2021-12-23T12:06:09.805067Z"
    }
   },
   "outputs": [],
   "source": [
    "res_nms = do_nms(results)"
   ]
  },
  {
   "cell_type": "code",
   "execution_count": 42,
   "id": "702b6269",
   "metadata": {
    "ExecuteTime": {
     "end_time": "2021-12-23T12:06:11.660876Z",
     "start_time": "2021-12-23T12:06:10.059327Z"
    }
   },
   "outputs": [],
   "source": [
    "res_nms_dis = res_nms.dissolve(by='class_id')"
   ]
  },
  {
   "cell_type": "code",
   "execution_count": 43,
   "id": "c1ff63e3",
   "metadata": {
    "ExecuteTime": {
     "end_time": "2021-12-23T12:06:11.665796Z",
     "start_time": "2021-12-23T12:06:11.662231Z"
    }
   },
   "outputs": [
    {
     "data": {
      "text/plain": [
       "groundwood     1825\n",
       "uprightwood     203\n",
       "Name: class_id, dtype: int64"
      ]
     },
     "execution_count": 43,
     "metadata": {},
     "output_type": "execute_result"
    }
   ],
   "source": [
    "res_nms.class_id.value_counts()"
   ]
  },
  {
   "cell_type": "code",
   "execution_count": 44,
   "id": "28b99390",
   "metadata": {
    "ExecuteTime": {
     "end_time": "2021-12-23T12:07:01.752635Z",
     "start_time": "2021-12-23T12:07:00.842381Z"
    }
   },
   "outputs": [
    {
     "data": {
      "text/plain": [
       "class_id\n",
       "groundwood     0.486487\n",
       "uprightwood    0.452101\n",
       "dtype: float64"
      ]
     },
     "execution_count": 44,
     "metadata": {},
     "output_type": "execute_result"
    }
   ],
   "source": [
    "poly_IoU(gt_dis, res_nms_dis)"
   ]
  },
  {
   "cell_type": "code",
   "execution_count": 45,
   "id": "09948e07",
   "metadata": {
    "ExecuteTime": {
     "end_time": "2021-12-23T12:07:01.755919Z",
     "start_time": "2021-12-23T12:07:01.753750Z"
    }
   },
   "outputs": [],
   "source": [
    "deadwood_categories = [{'supercategory': 'deadwood', 'id':1, 'name':'uprightwood'},\n",
    "                      {'supercategory': 'deadwood', 'id':2, 'name':'groundwood'}]\n",
    "\n",
    "nms_coco_eval = GisCOCOeval(result_basepath/'nms/', result_basepath/'nms/', \n",
    "                            None, None, deadwood_categories)"
   ]
  },
  {
   "cell_type": "code",
   "execution_count": 46,
   "id": "ac89daa1",
   "metadata": {
    "ExecuteTime": {
     "end_time": "2021-12-23T12:07:05.957202Z",
     "start_time": "2021-12-23T12:07:01.756934Z"
    }
   },
   "outputs": [
    {
     "data": {
      "application/vnd.jupyter.widget-view+json": {
       "model_id": "41ac39847b7e4b27bb6064d52d32144a",
       "version_major": 2,
       "version_minor": 0
      },
      "text/plain": [
       "0it [00:00, ?it/s]"
      ]
     },
     "metadata": {},
     "output_type": "display_data"
    },
    {
     "data": {
      "application/vnd.jupyter.widget-view+json": {
       "model_id": "131e316136024d6c8525cdbe9c17eb4c",
       "version_major": 2,
       "version_minor": 0
      },
      "text/plain": [
       "  0%|          | 0/5 [00:00<?, ?it/s]"
      ]
     },
     "metadata": {},
     "output_type": "display_data"
    }
   ],
   "source": [
    "nms_coco_eval.prepare_data(gt_label_col='layer')"
   ]
  },
  {
   "cell_type": "code",
   "execution_count": 47,
   "id": "d547b216",
   "metadata": {
    "ExecuteTime": {
     "end_time": "2021-12-23T12:07:06.013493Z",
     "start_time": "2021-12-23T12:07:05.958321Z"
    }
   },
   "outputs": [
    {
     "name": "stdout",
     "output_type": "stream",
     "text": [
      "loading annotations into memory...\n",
      "Done (t=0.03s)\n",
      "creating index...\n",
      "index created!\n",
      "Loading and preparing results...\n",
      "DONE (t=0.02s)\n",
      "creating index...\n",
      "index created!\n"
     ]
    }
   ],
   "source": [
    "nms_coco_eval.prepare_eval()"
   ]
  },
  {
   "cell_type": "code",
   "execution_count": 48,
   "id": "0f5e0fe5",
   "metadata": {
    "ExecuteTime": {
     "end_time": "2021-12-23T12:07:26.112894Z",
     "start_time": "2021-12-23T12:07:06.014611Z"
    }
   },
   "outputs": [
    {
     "name": "stdout",
     "output_type": "stream",
     "text": [
      "\n",
      "Evaluating for category uprightwood\n",
      "Running per image evaluation...\n",
      "Evaluate annotation type *segm*\n",
      "DONE (t=0.34s).\n",
      "Accumulating evaluation results...\n",
      "DONE (t=0.00s).\n",
      " Average Precision  (AP) @[ IoU=0.50:0.95 | area=   all | maxDets=1000 ] = 0.239\n",
      " Average Precision  (AP) @[ IoU=0.50      | area=   all | maxDets=1000 ] = 0.453\n",
      " Average Precision  (AP) @[ IoU=0.75      | area=   all | maxDets=1000 ] = 0.201\n",
      " Average Precision  (AP) @[ IoU=0.50:0.95 | area= small | maxDets=1000 ] = 0.097\n",
      " Average Precision  (AP) @[ IoU=0.50:0.95 | area=medium | maxDets=1000 ] = 0.316\n",
      " Average Precision  (AP) @[ IoU=0.50:0.95 | area= large | maxDets=1000 ] = 0.000\n",
      " Average Recall     (AR) @[ IoU=0.50:0.95 | area=   all | maxDets=100 ] = 0.307\n",
      " Average Recall     (AR) @[ IoU=0.50:0.95 | area= small | maxDets=100 ] = 0.154\n",
      " Average Recall     (AR) @[ IoU=0.50:0.95 | area=medium | maxDets=100 ] = 0.393\n",
      " Average Recall     (AR) @[ IoU=0.50:0.95 | area= large | maxDets=100 ] = 0.000\n",
      "\n",
      "Evaluating for category groundwood\n",
      "Running per image evaluation...\n",
      "Evaluate annotation type *segm*\n",
      "DONE (t=9.74s).\n",
      "Accumulating evaluation results...\n",
      "DONE (t=0.01s).\n",
      " Average Precision  (AP) @[ IoU=0.50:0.95 | area=   all | maxDets=1000 ] = 0.230\n",
      " Average Precision  (AP) @[ IoU=0.50      | area=   all | maxDets=1000 ] = 0.587\n",
      " Average Precision  (AP) @[ IoU=0.75      | area=   all | maxDets=1000 ] = 0.113\n",
      " Average Precision  (AP) @[ IoU=0.50:0.95 | area= small | maxDets=1000 ] = 0.231\n",
      " Average Precision  (AP) @[ IoU=0.50:0.95 | area=medium | maxDets=1000 ] = 0.194\n",
      " Average Precision  (AP) @[ IoU=0.50:0.95 | area= large | maxDets=1000 ] = -1.000\n",
      " Average Recall     (AR) @[ IoU=0.50:0.95 | area=   all | maxDets=100 ] = 0.157\n",
      " Average Recall     (AR) @[ IoU=0.50:0.95 | area= small | maxDets=100 ] = 0.157\n",
      " Average Recall     (AR) @[ IoU=0.50:0.95 | area=medium | maxDets=100 ] = 0.150\n",
      " Average Recall     (AR) @[ IoU=0.50:0.95 | area= large | maxDets=100 ] = -1.000\n",
      "\n",
      "Evaluating for full data...\n",
      "Running per image evaluation...\n",
      "Evaluate annotation type *segm*\n",
      "DONE (t=9.96s).\n",
      "Accumulating evaluation results...\n",
      "DONE (t=0.02s).\n",
      " Average Precision  (AP) @[ IoU=0.50:0.95 | area=   all | maxDets=1000 ] = 0.235\n",
      " Average Precision  (AP) @[ IoU=0.50      | area=   all | maxDets=1000 ] = 0.520\n",
      " Average Precision  (AP) @[ IoU=0.75      | area=   all | maxDets=1000 ] = 0.157\n",
      " Average Precision  (AP) @[ IoU=0.50:0.95 | area= small | maxDets=1000 ] = 0.164\n",
      " Average Precision  (AP) @[ IoU=0.50:0.95 | area=medium | maxDets=1000 ] = 0.255\n",
      " Average Precision  (AP) @[ IoU=0.50:0.95 | area= large | maxDets=1000 ] = 0.000\n",
      " Average Recall     (AR) @[ IoU=0.50:0.95 | area=   all | maxDets=100 ] = 0.232\n",
      " Average Recall     (AR) @[ IoU=0.50:0.95 | area= small | maxDets=100 ] = 0.155\n",
      " Average Recall     (AR) @[ IoU=0.50:0.95 | area=medium | maxDets=100 ] = 0.272\n",
      " Average Recall     (AR) @[ IoU=0.50:0.95 | area= large | maxDets=100 ] = 0.000\n"
     ]
    }
   ],
   "source": [
    "nms_coco_eval.evaluate()"
   ]
  },
  {
   "cell_type": "code",
   "execution_count": 49,
   "id": "2459520a",
   "metadata": {
    "ExecuteTime": {
     "end_time": "2021-12-23T12:08:05.245972Z",
     "start_time": "2021-12-23T12:08:05.187519Z"
    }
   },
   "outputs": [
    {
     "name": "stdout",
     "output_type": "stream",
     "text": [
      "loading annotations into memory...\n",
      "Done (t=0.03s)\n",
      "creating index...\n",
      "index created!\n",
      "Loading and preparing results...\n",
      "DONE (t=0.02s)\n",
      "creating index...\n",
      "index created!\n"
     ]
    }
   ],
   "source": [
    "nms_coco_eval.prepare_eval(eval_type='bbox')"
   ]
  },
  {
   "cell_type": "code",
   "execution_count": 50,
   "id": "f2108d04",
   "metadata": {
    "ExecuteTime": {
     "end_time": "2021-12-23T12:08:25.812224Z",
     "start_time": "2021-12-23T12:08:05.600486Z"
    }
   },
   "outputs": [
    {
     "name": "stdout",
     "output_type": "stream",
     "text": [
      "\n",
      "Evaluating for category uprightwood\n",
      "Running per image evaluation...\n",
      "Evaluate annotation type *bbox*\n",
      "DONE (t=0.33s).\n",
      "Accumulating evaluation results...\n",
      "DONE (t=0.00s).\n",
      " Average Precision  (AP) @[ IoU=0.50:0.95 | area=   all | maxDets=1000 ] = 0.230\n",
      " Average Precision  (AP) @[ IoU=0.50      | area=   all | maxDets=1000 ] = 0.464\n",
      " Average Precision  (AP) @[ IoU=0.75      | area=   all | maxDets=1000 ] = 0.203\n",
      " Average Precision  (AP) @[ IoU=0.50:0.95 | area= small | maxDets=1000 ] = 0.112\n",
      " Average Precision  (AP) @[ IoU=0.50:0.95 | area=medium | maxDets=1000 ] = 0.296\n",
      " Average Precision  (AP) @[ IoU=0.50:0.95 | area= large | maxDets=1000 ] = 0.000\n",
      " Average Recall     (AR) @[ IoU=0.50:0.95 | area=   all | maxDets=100 ] = 0.314\n",
      " Average Recall     (AR) @[ IoU=0.50:0.95 | area= small | maxDets=100 ] = 0.181\n",
      " Average Recall     (AR) @[ IoU=0.50:0.95 | area=medium | maxDets=100 ] = 0.389\n",
      " Average Recall     (AR) @[ IoU=0.50:0.95 | area= large | maxDets=100 ] = 0.000\n",
      "\n",
      "Evaluating for category groundwood\n",
      "Running per image evaluation...\n",
      "Evaluate annotation type *bbox*\n",
      "DONE (t=9.84s).\n",
      "Accumulating evaluation results...\n",
      "DONE (t=0.01s).\n",
      " Average Precision  (AP) @[ IoU=0.50:0.95 | area=   all | maxDets=1000 ] = 0.308\n",
      " Average Precision  (AP) @[ IoU=0.50      | area=   all | maxDets=1000 ] = 0.569\n",
      " Average Precision  (AP) @[ IoU=0.75      | area=   all | maxDets=1000 ] = 0.306\n",
      " Average Precision  (AP) @[ IoU=0.50:0.95 | area= small | maxDets=1000 ] = 0.310\n",
      " Average Precision  (AP) @[ IoU=0.50:0.95 | area=medium | maxDets=1000 ] = 0.271\n",
      " Average Precision  (AP) @[ IoU=0.50:0.95 | area= large | maxDets=1000 ] = -1.000\n",
      " Average Recall     (AR) @[ IoU=0.50:0.95 | area=   all | maxDets=100 ] = 0.207\n",
      " Average Recall     (AR) @[ IoU=0.50:0.95 | area= small | maxDets=100 ] = 0.207\n",
      " Average Recall     (AR) @[ IoU=0.50:0.95 | area=medium | maxDets=100 ] = 0.180\n",
      " Average Recall     (AR) @[ IoU=0.50:0.95 | area= large | maxDets=100 ] = -1.000\n",
      "\n",
      "Evaluating for full data...\n",
      "Running per image evaluation...\n",
      "Evaluate annotation type *bbox*\n",
      "DONE (t=10.01s).\n",
      "Accumulating evaluation results...\n",
      "DONE (t=0.02s).\n",
      " Average Precision  (AP) @[ IoU=0.50:0.95 | area=   all | maxDets=1000 ] = 0.269\n",
      " Average Precision  (AP) @[ IoU=0.50      | area=   all | maxDets=1000 ] = 0.516\n",
      " Average Precision  (AP) @[ IoU=0.75      | area=   all | maxDets=1000 ] = 0.254\n",
      " Average Precision  (AP) @[ IoU=0.50:0.95 | area= small | maxDets=1000 ] = 0.211\n",
      " Average Precision  (AP) @[ IoU=0.50:0.95 | area=medium | maxDets=1000 ] = 0.283\n",
      " Average Precision  (AP) @[ IoU=0.50:0.95 | area= large | maxDets=1000 ] = 0.000\n",
      " Average Recall     (AR) @[ IoU=0.50:0.95 | area=   all | maxDets=100 ] = 0.261\n",
      " Average Recall     (AR) @[ IoU=0.50:0.95 | area= small | maxDets=100 ] = 0.194\n",
      " Average Recall     (AR) @[ IoU=0.50:0.95 | area=medium | maxDets=100 ] = 0.285\n",
      " Average Recall     (AR) @[ IoU=0.50:0.95 | area= large | maxDets=100 ] = 0.000\n"
     ]
    }
   ],
   "source": [
    "nms_coco_eval.evaluate()"
   ]
  },
  {
   "cell_type": "markdown",
   "id": "6da4f8ca",
   "metadata": {},
   "source": [
    "### Area-based NMS"
   ]
  },
  {
   "cell_type": "markdown",
   "id": "431b9827",
   "metadata": {},
   "source": [
    "If two or more predicted masks have bounding box IoU larger than 0.7, keep the largest mask and discard the others."
   ]
  },
  {
   "cell_type": "markdown",
   "id": "b2933754",
   "metadata": {
    "ExecuteTime": {
     "end_time": "2021-10-07T11:46:50.499737Z",
     "start_time": "2021-10-07T11:46:50.497436Z"
    }
   },
   "source": [
    "Poly IoU"
   ]
  },
  {
   "cell_type": "code",
   "execution_count": 51,
   "id": "0e4bedea",
   "metadata": {
    "ExecuteTime": {
     "end_time": "2021-12-23T12:10:11.140495Z",
     "start_time": "2021-12-23T12:10:10.908887Z"
    }
   },
   "outputs": [],
   "source": [
    "res_area_nms = do_nms(results, crit='area')"
   ]
  },
  {
   "cell_type": "code",
   "execution_count": 52,
   "id": "799526d0",
   "metadata": {
    "ExecuteTime": {
     "end_time": "2021-12-23T12:10:12.563770Z",
     "start_time": "2021-12-23T12:10:11.141590Z"
    }
   },
   "outputs": [],
   "source": [
    "res_area_nms_dis = res_area_nms.dissolve(by='class_id')"
   ]
  },
  {
   "cell_type": "code",
   "execution_count": 53,
   "id": "43820a3b",
   "metadata": {
    "ExecuteTime": {
     "end_time": "2021-12-23T12:10:13.445802Z",
     "start_time": "2021-12-23T12:10:12.565677Z"
    }
   },
   "outputs": [
    {
     "data": {
      "text/plain": [
       "class_id\n",
       "groundwood     0.478799\n",
       "uprightwood    0.460620\n",
       "dtype: float64"
      ]
     },
     "execution_count": 53,
     "metadata": {},
     "output_type": "execute_result"
    }
   ],
   "source": [
    "poly_IoU(gt_dis, res_area_nms_dis)"
   ]
  },
  {
   "cell_type": "markdown",
   "id": "b37a97cb",
   "metadata": {},
   "source": [
    "COCO metrics"
   ]
  },
  {
   "cell_type": "code",
   "execution_count": 54,
   "id": "5cb46e31",
   "metadata": {
    "ExecuteTime": {
     "end_time": "2021-12-23T12:10:24.575598Z",
     "start_time": "2021-12-23T12:10:24.573159Z"
    }
   },
   "outputs": [],
   "source": [
    "raw_dir = result_basepath/'no_nms/predicted_vectors/'\n",
    "area_nms_dir = result_basepath/'area_nms/predicted_vectors/'\n",
    "raw_files = os.listdir(raw_dir)"
   ]
  },
  {
   "cell_type": "code",
   "execution_count": 55,
   "id": "056631b1",
   "metadata": {
    "ExecuteTime": {
     "end_time": "2021-12-23T12:10:28.591116Z",
     "start_time": "2021-12-23T12:10:24.860997Z"
    }
   },
   "outputs": [],
   "source": [
    "for r in raw_files:\n",
    "    gdf_temp = gpd.read_file(raw_dir/r)\n",
    "    gdf_nms = do_nms(gdf_temp, crit='area')\n",
    "    gdf_nms.to_file(area_nms_dir/r, 'GeoJSON')\n",
    "    gdf_nms = None\n",
    "    gdf_temp = None"
   ]
  },
  {
   "cell_type": "code",
   "execution_count": 56,
   "id": "ec861ca7",
   "metadata": {
    "ExecuteTime": {
     "end_time": "2021-12-23T12:10:28.594739Z",
     "start_time": "2021-12-23T12:10:28.592575Z"
    }
   },
   "outputs": [],
   "source": [
    "deadwood_categories = [{'supercategory': 'deadwood', 'id':1, 'name':'uprightwood'},\n",
    "                      {'supercategory': 'deadwood', 'id':2, 'name':'groundwood'}]\n",
    "\n",
    "area_nms_coco_eval = GisCOCOeval(result_basepath/'area_nms/', result_basepath/'area_nms/', \n",
    "                            None, None, deadwood_categories)"
   ]
  },
  {
   "cell_type": "code",
   "execution_count": 57,
   "id": "7e576185",
   "metadata": {
    "ExecuteTime": {
     "end_time": "2021-12-23T12:10:32.550316Z",
     "start_time": "2021-12-23T12:10:28.595825Z"
    }
   },
   "outputs": [
    {
     "data": {
      "application/vnd.jupyter.widget-view+json": {
       "model_id": "d98a888f2ec74065aa316ee23120ac26",
       "version_major": 2,
       "version_minor": 0
      },
      "text/plain": [
       "0it [00:00, ?it/s]"
      ]
     },
     "metadata": {},
     "output_type": "display_data"
    },
    {
     "data": {
      "application/vnd.jupyter.widget-view+json": {
       "model_id": "98098e939d8c44ae927c1f148e2676c0",
       "version_major": 2,
       "version_minor": 0
      },
      "text/plain": [
       "  0%|          | 0/5 [00:00<?, ?it/s]"
      ]
     },
     "metadata": {},
     "output_type": "display_data"
    }
   ],
   "source": [
    "area_nms_coco_eval.prepare_data(gt_label_col='layer')"
   ]
  },
  {
   "cell_type": "code",
   "execution_count": 58,
   "id": "7c7d424c",
   "metadata": {
    "ExecuteTime": {
     "end_time": "2021-12-23T12:10:32.605105Z",
     "start_time": "2021-12-23T12:10:32.551400Z"
    }
   },
   "outputs": [
    {
     "name": "stdout",
     "output_type": "stream",
     "text": [
      "loading annotations into memory...\n",
      "Done (t=0.03s)\n",
      "creating index...\n",
      "index created!\n",
      "Loading and preparing results...\n",
      "DONE (t=0.02s)\n",
      "creating index...\n",
      "index created!\n"
     ]
    }
   ],
   "source": [
    "area_nms_coco_eval.prepare_eval()"
   ]
  },
  {
   "cell_type": "code",
   "execution_count": 59,
   "id": "15c460ff",
   "metadata": {
    "ExecuteTime": {
     "end_time": "2021-12-23T12:10:50.554795Z",
     "start_time": "2021-12-23T12:10:32.607233Z"
    }
   },
   "outputs": [
    {
     "name": "stdout",
     "output_type": "stream",
     "text": [
      "\n",
      "Evaluating for category uprightwood\n",
      "Running per image evaluation...\n",
      "Evaluate annotation type *segm*\n",
      "DONE (t=0.33s).\n",
      "Accumulating evaluation results...\n",
      "DONE (t=0.00s).\n",
      " Average Precision  (AP) @[ IoU=0.50:0.95 | area=   all | maxDets=1000 ] = 0.260\n",
      " Average Precision  (AP) @[ IoU=0.50      | area=   all | maxDets=1000 ] = 0.466\n",
      " Average Precision  (AP) @[ IoU=0.75      | area=   all | maxDets=1000 ] = 0.251\n",
      " Average Precision  (AP) @[ IoU=0.50:0.95 | area= small | maxDets=1000 ] = 0.104\n",
      " Average Precision  (AP) @[ IoU=0.50:0.95 | area=medium | maxDets=1000 ] = 0.344\n",
      " Average Precision  (AP) @[ IoU=0.50:0.95 | area= large | maxDets=1000 ] = 0.000\n",
      " Average Recall     (AR) @[ IoU=0.50:0.95 | area=   all | maxDets=100 ] = 0.320\n",
      " Average Recall     (AR) @[ IoU=0.50:0.95 | area= small | maxDets=100 ] = 0.156\n",
      " Average Recall     (AR) @[ IoU=0.50:0.95 | area=medium | maxDets=100 ] = 0.413\n",
      " Average Recall     (AR) @[ IoU=0.50:0.95 | area= large | maxDets=100 ] = 0.000\n",
      "\n",
      "Evaluating for category groundwood\n",
      "Running per image evaluation...\n",
      "Evaluate annotation type *segm*\n",
      "DONE (t=8.57s).\n",
      "Accumulating evaluation results...\n",
      "DONE (t=0.01s).\n",
      " Average Precision  (AP) @[ IoU=0.50:0.95 | area=   all | maxDets=1000 ] = 0.230\n",
      " Average Precision  (AP) @[ IoU=0.50      | area=   all | maxDets=1000 ] = 0.581\n",
      " Average Precision  (AP) @[ IoU=0.75      | area=   all | maxDets=1000 ] = 0.116\n",
      " Average Precision  (AP) @[ IoU=0.50:0.95 | area= small | maxDets=1000 ] = 0.232\n",
      " Average Precision  (AP) @[ IoU=0.50:0.95 | area=medium | maxDets=1000 ] = 0.203\n",
      " Average Precision  (AP) @[ IoU=0.50:0.95 | area= large | maxDets=1000 ] = -1.000\n",
      " Average Recall     (AR) @[ IoU=0.50:0.95 | area=   all | maxDets=100 ] = 0.164\n",
      " Average Recall     (AR) @[ IoU=0.50:0.95 | area= small | maxDets=100 ] = 0.163\n",
      " Average Recall     (AR) @[ IoU=0.50:0.95 | area=medium | maxDets=100 ] = 0.195\n",
      " Average Recall     (AR) @[ IoU=0.50:0.95 | area= large | maxDets=100 ] = -1.000\n",
      "\n",
      "Evaluating for full data...\n",
      "Running per image evaluation...\n",
      "Evaluate annotation type *segm*\n",
      "DONE (t=9.01s).\n",
      "Accumulating evaluation results...\n",
      "DONE (t=0.02s).\n",
      " Average Precision  (AP) @[ IoU=0.50:0.95 | area=   all | maxDets=1000 ] = 0.245\n",
      " Average Precision  (AP) @[ IoU=0.50      | area=   all | maxDets=1000 ] = 0.524\n",
      " Average Precision  (AP) @[ IoU=0.75      | area=   all | maxDets=1000 ] = 0.184\n",
      " Average Precision  (AP) @[ IoU=0.50:0.95 | area= small | maxDets=1000 ] = 0.168\n",
      " Average Precision  (AP) @[ IoU=0.50:0.95 | area=medium | maxDets=1000 ] = 0.274\n",
      " Average Precision  (AP) @[ IoU=0.50:0.95 | area= large | maxDets=1000 ] = 0.000\n",
      " Average Recall     (AR) @[ IoU=0.50:0.95 | area=   all | maxDets=100 ] = 0.242\n",
      " Average Recall     (AR) @[ IoU=0.50:0.95 | area= small | maxDets=100 ] = 0.159\n",
      " Average Recall     (AR) @[ IoU=0.50:0.95 | area=medium | maxDets=100 ] = 0.304\n",
      " Average Recall     (AR) @[ IoU=0.50:0.95 | area= large | maxDets=100 ] = 0.000\n"
     ]
    }
   ],
   "source": [
    "area_nms_coco_eval.evaluate()"
   ]
  },
  {
   "cell_type": "markdown",
   "id": "5d82ef2d",
   "metadata": {},
   "source": [
    "### Score-based, labelwise NMS"
   ]
  },
  {
   "cell_type": "markdown",
   "id": "dbd8dcf7",
   "metadata": {},
   "source": [
    "If two or more predicted masks have same label and bounding box IoU larger than 0.7, keep the one with highest score."
   ]
  },
  {
   "cell_type": "markdown",
   "id": "047586e0",
   "metadata": {},
   "source": [
    "Poly IOU"
   ]
  },
  {
   "cell_type": "code",
   "execution_count": 60,
   "id": "ef2f79d2",
   "metadata": {
    "ExecuteTime": {
     "end_time": "2021-12-23T12:12:38.358372Z",
     "start_time": "2021-12-23T12:12:38.077585Z"
    }
   },
   "outputs": [],
   "source": [
    "standing = results[results.label==1].copy()\n",
    "fallen = results[results.label==2].copy()\n",
    "\n",
    "standing = do_nms(standing)\n",
    "fallen = do_nms(fallen)\n",
    "\n",
    "res_label_nms = standing.append(fallen)"
   ]
  },
  {
   "cell_type": "code",
   "execution_count": 61,
   "id": "b6cc701c",
   "metadata": {
    "ExecuteTime": {
     "end_time": "2021-12-23T12:12:39.960777Z",
     "start_time": "2021-12-23T12:12:38.359434Z"
    }
   },
   "outputs": [],
   "source": [
    "res_label_dis = res_label_nms.dissolve(by='class_id')"
   ]
  },
  {
   "cell_type": "code",
   "execution_count": 62,
   "id": "d7a80433",
   "metadata": {
    "ExecuteTime": {
     "end_time": "2021-12-23T12:12:40.863797Z",
     "start_time": "2021-12-23T12:12:39.962913Z"
    }
   },
   "outputs": [
    {
     "data": {
      "text/plain": [
       "class_id\n",
       "groundwood     0.484480\n",
       "uprightwood    0.452101\n",
       "dtype: float64"
      ]
     },
     "execution_count": 62,
     "metadata": {},
     "output_type": "execute_result"
    }
   ],
   "source": [
    "poly_IoU(gt_dis, res_label_dis)"
   ]
  },
  {
   "cell_type": "code",
   "execution_count": 63,
   "id": "962495c0",
   "metadata": {
    "ExecuteTime": {
     "end_time": "2021-12-23T12:12:40.871060Z",
     "start_time": "2021-12-23T12:12:40.864866Z"
    }
   },
   "outputs": [
    {
     "data": {
      "text/plain": [
       "class_id\n",
       "groundwood     748.287082\n",
       "uprightwood    657.574688\n",
       "dtype: float64"
      ]
     },
     "execution_count": 63,
     "metadata": {},
     "output_type": "execute_result"
    }
   ],
   "source": [
    "res_label_dis['area'] = res_label_dis.geometry.area\n",
    "res_label_dis.area"
   ]
  },
  {
   "cell_type": "code",
   "execution_count": 64,
   "id": "fd58f0ef",
   "metadata": {
    "ExecuteTime": {
     "end_time": "2021-12-23T12:12:40.877873Z",
     "start_time": "2021-12-23T12:12:40.871966Z"
    }
   },
   "outputs": [],
   "source": [
    "raw_dir = result_basepath/'no_nms/predicted_vectors/'\n",
    "label_nms_dir = result_basepath/'label_nms/predicted_vectors/'\n",
    "raw_files = os.listdir(raw_dir)"
   ]
  },
  {
   "cell_type": "code",
   "execution_count": 65,
   "id": "aa5daa45",
   "metadata": {
    "ExecuteTime": {
     "end_time": "2021-12-23T12:12:45.071930Z",
     "start_time": "2021-12-23T12:12:40.878790Z"
    }
   },
   "outputs": [],
   "source": [
    "for r in raw_files:\n",
    "    gdf_temp = gpd.read_file(raw_dir/r)\n",
    "    standing = gdf_temp[gdf_temp.label==1].copy()\n",
    "    fallen = gdf_temp[gdf_temp.label==2].copy()\n",
    "\n",
    "    standing = do_nms(standing)\n",
    "    fallen = do_nms(fallen)\n",
    "    gdf_nms = standing.append(fallen)\n",
    "    gdf_nms.to_file(label_nms_dir/r, driver='GeoJSON')\n",
    "    gdf_nms = None\n",
    "    #gdf_temp = None\n",
    "    standing = None\n",
    "    fallen = None"
   ]
  },
  {
   "cell_type": "code",
   "execution_count": 66,
   "id": "71ab5a81",
   "metadata": {
    "ExecuteTime": {
     "end_time": "2021-12-23T12:12:45.075554Z",
     "start_time": "2021-12-23T12:12:45.073288Z"
    }
   },
   "outputs": [],
   "source": [
    "deadwood_categories = [{'supercategory': 'deadwood', 'id':1, 'name':'uprightwood'},\n",
    "                      {'supercategory': 'deadwood', 'id':2, 'name':'groundwood'}]\n",
    "\n",
    "label_nms_coco_eval = GisCOCOeval(result_basepath/'label_nms/', result_basepath/'label_nms/', \n",
    "                            None, None, deadwood_categories)"
   ]
  },
  {
   "cell_type": "code",
   "execution_count": 67,
   "id": "ed13d990",
   "metadata": {
    "ExecuteTime": {
     "end_time": "2021-12-23T12:12:49.438560Z",
     "start_time": "2021-12-23T12:12:45.076426Z"
    }
   },
   "outputs": [
    {
     "data": {
      "application/vnd.jupyter.widget-view+json": {
       "model_id": "b3730c2755f24ee3b430b0a5f62f8857",
       "version_major": 2,
       "version_minor": 0
      },
      "text/plain": [
       "0it [00:00, ?it/s]"
      ]
     },
     "metadata": {},
     "output_type": "display_data"
    },
    {
     "data": {
      "application/vnd.jupyter.widget-view+json": {
       "model_id": "a2929c24b649423e87a618f2e3b81728",
       "version_major": 2,
       "version_minor": 0
      },
      "text/plain": [
       "  0%|          | 0/5 [00:00<?, ?it/s]"
      ]
     },
     "metadata": {},
     "output_type": "display_data"
    }
   ],
   "source": [
    "label_nms_coco_eval.prepare_data(gt_label_col='layer')"
   ]
  },
  {
   "cell_type": "code",
   "execution_count": 68,
   "id": "9d202d14",
   "metadata": {
    "ExecuteTime": {
     "end_time": "2021-12-23T12:12:49.494528Z",
     "start_time": "2021-12-23T12:12:49.439587Z"
    }
   },
   "outputs": [
    {
     "name": "stdout",
     "output_type": "stream",
     "text": [
      "loading annotations into memory...\n",
      "Done (t=0.03s)\n",
      "creating index...\n",
      "index created!\n",
      "Loading and preparing results...\n",
      "DONE (t=0.02s)\n",
      "creating index...\n",
      "index created!\n"
     ]
    }
   ],
   "source": [
    "label_nms_coco_eval.prepare_eval()"
   ]
  },
  {
   "cell_type": "code",
   "execution_count": 69,
   "id": "7e700a80",
   "metadata": {
    "ExecuteTime": {
     "end_time": "2021-12-23T12:13:09.841733Z",
     "start_time": "2021-12-23T12:12:49.495505Z"
    }
   },
   "outputs": [
    {
     "name": "stdout",
     "output_type": "stream",
     "text": [
      "\n",
      "Evaluating for category uprightwood\n",
      "Running per image evaluation...\n",
      "Evaluate annotation type *segm*\n",
      "DONE (t=0.35s).\n",
      "Accumulating evaluation results...\n",
      "DONE (t=0.00s).\n",
      " Average Precision  (AP) @[ IoU=0.50:0.95 | area=   all | maxDets=1000 ] = 0.239\n",
      " Average Precision  (AP) @[ IoU=0.50      | area=   all | maxDets=1000 ] = 0.453\n",
      " Average Precision  (AP) @[ IoU=0.75      | area=   all | maxDets=1000 ] = 0.201\n",
      " Average Precision  (AP) @[ IoU=0.50:0.95 | area= small | maxDets=1000 ] = 0.097\n",
      " Average Precision  (AP) @[ IoU=0.50:0.95 | area=medium | maxDets=1000 ] = 0.316\n",
      " Average Precision  (AP) @[ IoU=0.50:0.95 | area= large | maxDets=1000 ] = 0.000\n",
      " Average Recall     (AR) @[ IoU=0.50:0.95 | area=   all | maxDets=100 ] = 0.307\n",
      " Average Recall     (AR) @[ IoU=0.50:0.95 | area= small | maxDets=100 ] = 0.154\n",
      " Average Recall     (AR) @[ IoU=0.50:0.95 | area=medium | maxDets=100 ] = 0.393\n",
      " Average Recall     (AR) @[ IoU=0.50:0.95 | area= large | maxDets=100 ] = 0.000\n",
      "\n",
      "Evaluating for category groundwood\n",
      "Running per image evaluation...\n",
      "Evaluate annotation type *segm*\n",
      "DONE (t=9.81s).\n",
      "Accumulating evaluation results...\n",
      "DONE (t=0.01s).\n",
      " Average Precision  (AP) @[ IoU=0.50:0.95 | area=   all | maxDets=1000 ] = 0.230\n",
      " Average Precision  (AP) @[ IoU=0.50      | area=   all | maxDets=1000 ] = 0.587\n",
      " Average Precision  (AP) @[ IoU=0.75      | area=   all | maxDets=1000 ] = 0.112\n",
      " Average Precision  (AP) @[ IoU=0.50:0.95 | area= small | maxDets=1000 ] = 0.231\n",
      " Average Precision  (AP) @[ IoU=0.50:0.95 | area=medium | maxDets=1000 ] = 0.194\n",
      " Average Precision  (AP) @[ IoU=0.50:0.95 | area= large | maxDets=1000 ] = -1.000\n",
      " Average Recall     (AR) @[ IoU=0.50:0.95 | area=   all | maxDets=100 ] = 0.157\n",
      " Average Recall     (AR) @[ IoU=0.50:0.95 | area= small | maxDets=100 ] = 0.157\n",
      " Average Recall     (AR) @[ IoU=0.50:0.95 | area=medium | maxDets=100 ] = 0.150\n",
      " Average Recall     (AR) @[ IoU=0.50:0.95 | area= large | maxDets=100 ] = -1.000\n",
      "\n",
      "Evaluating for full data...\n",
      "Running per image evaluation...\n",
      "Evaluate annotation type *segm*\n",
      "DONE (t=10.15s).\n",
      "Accumulating evaluation results...\n",
      "DONE (t=0.02s).\n",
      " Average Precision  (AP) @[ IoU=0.50:0.95 | area=   all | maxDets=1000 ] = 0.235\n",
      " Average Precision  (AP) @[ IoU=0.50      | area=   all | maxDets=1000 ] = 0.520\n",
      " Average Precision  (AP) @[ IoU=0.75      | area=   all | maxDets=1000 ] = 0.157\n",
      " Average Precision  (AP) @[ IoU=0.50:0.95 | area= small | maxDets=1000 ] = 0.164\n",
      " Average Precision  (AP) @[ IoU=0.50:0.95 | area=medium | maxDets=1000 ] = 0.255\n",
      " Average Precision  (AP) @[ IoU=0.50:0.95 | area= large | maxDets=1000 ] = 0.000\n",
      " Average Recall     (AR) @[ IoU=0.50:0.95 | area=   all | maxDets=100 ] = 0.232\n",
      " Average Recall     (AR) @[ IoU=0.50:0.95 | area= small | maxDets=100 ] = 0.155\n",
      " Average Recall     (AR) @[ IoU=0.50:0.95 | area=medium | maxDets=100 ] = 0.272\n",
      " Average Recall     (AR) @[ IoU=0.50:0.95 | area= large | maxDets=100 ] = 0.000\n"
     ]
    }
   ],
   "source": [
    "label_nms_coco_eval.evaluate()"
   ]
  },
  {
   "cell_type": "markdown",
   "id": "bd4e17c7",
   "metadata": {},
   "source": [
    "### Area-based, labelwise NMS"
   ]
  },
  {
   "cell_type": "markdown",
   "id": "3c8b6a55",
   "metadata": {},
   "source": [
    "If two or more masks have same label and bounding box IoU more than 0.7, keep the largest mask."
   ]
  },
  {
   "cell_type": "markdown",
   "id": "bf3ff13d",
   "metadata": {},
   "source": [
    "Poly IOU"
   ]
  },
  {
   "cell_type": "code",
   "execution_count": 70,
   "id": "e97a6108",
   "metadata": {
    "ExecuteTime": {
     "end_time": "2021-12-23T12:13:32.495728Z",
     "start_time": "2021-12-23T12:13:32.229686Z"
    }
   },
   "outputs": [],
   "source": [
    "standing = results[results.label==1].copy()\n",
    "fallen = results[results.label==2].copy()\n",
    "\n",
    "standing = do_nms(standing, crit='area')\n",
    "fallen = do_nms(fallen, crit='area')\n",
    "\n",
    "res_label_nms = standing.append(fallen)"
   ]
  },
  {
   "cell_type": "code",
   "execution_count": 71,
   "id": "ea7ddb8c",
   "metadata": {
    "ExecuteTime": {
     "end_time": "2021-12-23T12:13:33.996117Z",
     "start_time": "2021-12-23T12:13:32.496814Z"
    }
   },
   "outputs": [],
   "source": [
    "res_label_dis = res_label_nms.dissolve(by='class_id')"
   ]
  },
  {
   "cell_type": "code",
   "execution_count": 72,
   "id": "1ef34e88",
   "metadata": {
    "ExecuteTime": {
     "end_time": "2021-12-23T12:13:34.890532Z",
     "start_time": "2021-12-23T12:13:33.997779Z"
    }
   },
   "outputs": [
    {
     "data": {
      "text/plain": [
       "class_id\n",
       "groundwood     0.476158\n",
       "uprightwood    0.460558\n",
       "dtype: float64"
      ]
     },
     "execution_count": 72,
     "metadata": {},
     "output_type": "execute_result"
    }
   ],
   "source": [
    "poly_IoU(gt_dis, res_label_dis)"
   ]
  },
  {
   "cell_type": "code",
   "execution_count": 73,
   "id": "ca03b931",
   "metadata": {
    "ExecuteTime": {
     "end_time": "2021-12-23T12:13:34.893827Z",
     "start_time": "2021-12-23T12:13:34.891722Z"
    }
   },
   "outputs": [],
   "source": [
    "raw_dir = result_basepath/'no_nms/predicted_vectors/'\n",
    "area_label_nms_dir = result_basepath/'area_label_nms/predicted_vectors/'\n",
    "raw_files = os.listdir(raw_dir)"
   ]
  },
  {
   "cell_type": "code",
   "execution_count": 74,
   "id": "b328dc37",
   "metadata": {
    "ExecuteTime": {
     "end_time": "2021-12-23T12:13:38.889117Z",
     "start_time": "2021-12-23T12:13:34.894913Z"
    }
   },
   "outputs": [],
   "source": [
    "for r in raw_files:\n",
    "    gdf_temp = gpd.read_file(raw_dir/r)\n",
    "    standing = gdf_temp[gdf_temp.label==1].copy()\n",
    "    fallen = gdf_temp[gdf_temp.label==2].copy()\n",
    "\n",
    "    standing = do_nms(standing, crit='area')\n",
    "    fallen = do_nms(fallen, crit='area')\n",
    "    gdf_nms = standing.append(fallen)\n",
    "    gdf_nms.to_file(area_label_nms_dir/r, driver='GeoJSON')\n",
    "    gdf_nms = None\n",
    "    #gdf_temp = None\n",
    "    standing = None\n",
    "    fallen = None"
   ]
  },
  {
   "cell_type": "code",
   "execution_count": 75,
   "id": "4d4ac8e0",
   "metadata": {
    "ExecuteTime": {
     "end_time": "2021-12-23T12:13:38.892366Z",
     "start_time": "2021-12-23T12:13:38.890124Z"
    }
   },
   "outputs": [],
   "source": [
    "deadwood_categories = [{'supercategory': 'deadwood', 'id':1, 'name':'uprightwood'},\n",
    "                      {'supercategory': 'deadwood', 'id':2, 'name':'groundwood'}]\n",
    "\n",
    "area_label_nms_coco_eval = GisCOCOeval(result_basepath/'area_label_nms/', result_basepath/'area_label_nms/', \n",
    "                            None, None, deadwood_categories)"
   ]
  },
  {
   "cell_type": "code",
   "execution_count": 76,
   "id": "acb8dbc9",
   "metadata": {
    "ExecuteTime": {
     "end_time": "2021-12-23T12:13:42.846272Z",
     "start_time": "2021-12-23T12:13:38.893597Z"
    }
   },
   "outputs": [
    {
     "data": {
      "application/vnd.jupyter.widget-view+json": {
       "model_id": "408cc799687f4c58bd3dc2d8f41ecbce",
       "version_major": 2,
       "version_minor": 0
      },
      "text/plain": [
       "0it [00:00, ?it/s]"
      ]
     },
     "metadata": {},
     "output_type": "display_data"
    },
    {
     "data": {
      "application/vnd.jupyter.widget-view+json": {
       "model_id": "a35cae97136542a4b449610a6f4825b4",
       "version_major": 2,
       "version_minor": 0
      },
      "text/plain": [
       "  0%|          | 0/5 [00:00<?, ?it/s]"
      ]
     },
     "metadata": {},
     "output_type": "display_data"
    }
   ],
   "source": [
    "area_label_nms_coco_eval.prepare_data(gt_label_col='layer')"
   ]
  },
  {
   "cell_type": "code",
   "execution_count": 77,
   "id": "9962e2f5",
   "metadata": {
    "ExecuteTime": {
     "end_time": "2021-12-23T12:13:42.900995Z",
     "start_time": "2021-12-23T12:13:42.847435Z"
    }
   },
   "outputs": [
    {
     "name": "stdout",
     "output_type": "stream",
     "text": [
      "loading annotations into memory...\n",
      "Done (t=0.03s)\n",
      "creating index...\n",
      "index created!\n",
      "Loading and preparing results...\n",
      "DONE (t=0.02s)\n",
      "creating index...\n",
      "index created!\n"
     ]
    }
   ],
   "source": [
    "area_label_nms_coco_eval.prepare_eval()"
   ]
  },
  {
   "cell_type": "code",
   "execution_count": 78,
   "id": "539732fc",
   "metadata": {
    "ExecuteTime": {
     "end_time": "2021-12-23T12:14:00.759309Z",
     "start_time": "2021-12-23T12:13:42.902068Z"
    }
   },
   "outputs": [
    {
     "name": "stdout",
     "output_type": "stream",
     "text": [
      "\n",
      "Evaluating for category uprightwood\n",
      "Running per image evaluation...\n",
      "Evaluate annotation type *segm*\n",
      "DONE (t=0.34s).\n",
      "Accumulating evaluation results...\n",
      "DONE (t=0.00s).\n",
      " Average Precision  (AP) @[ IoU=0.50:0.95 | area=   all | maxDets=1000 ] = 0.260\n",
      " Average Precision  (AP) @[ IoU=0.50      | area=   all | maxDets=1000 ] = 0.466\n",
      " Average Precision  (AP) @[ IoU=0.75      | area=   all | maxDets=1000 ] = 0.251\n",
      " Average Precision  (AP) @[ IoU=0.50:0.95 | area= small | maxDets=1000 ] = 0.104\n",
      " Average Precision  (AP) @[ IoU=0.50:0.95 | area=medium | maxDets=1000 ] = 0.344\n",
      " Average Precision  (AP) @[ IoU=0.50:0.95 | area= large | maxDets=1000 ] = 0.000\n",
      " Average Recall     (AR) @[ IoU=0.50:0.95 | area=   all | maxDets=100 ] = 0.320\n",
      " Average Recall     (AR) @[ IoU=0.50:0.95 | area= small | maxDets=100 ] = 0.156\n",
      " Average Recall     (AR) @[ IoU=0.50:0.95 | area=medium | maxDets=100 ] = 0.413\n",
      " Average Recall     (AR) @[ IoU=0.50:0.95 | area= large | maxDets=100 ] = 0.000\n",
      "\n",
      "Evaluating for category groundwood\n",
      "Running per image evaluation...\n",
      "Evaluate annotation type *segm*\n",
      "DONE (t=8.59s).\n",
      "Accumulating evaluation results...\n",
      "DONE (t=0.01s).\n",
      " Average Precision  (AP) @[ IoU=0.50:0.95 | area=   all | maxDets=1000 ] = 0.230\n",
      " Average Precision  (AP) @[ IoU=0.50      | area=   all | maxDets=1000 ] = 0.581\n",
      " Average Precision  (AP) @[ IoU=0.75      | area=   all | maxDets=1000 ] = 0.115\n",
      " Average Precision  (AP) @[ IoU=0.50:0.95 | area= small | maxDets=1000 ] = 0.232\n",
      " Average Precision  (AP) @[ IoU=0.50:0.95 | area=medium | maxDets=1000 ] = 0.203\n",
      " Average Precision  (AP) @[ IoU=0.50:0.95 | area= large | maxDets=1000 ] = -1.000\n",
      " Average Recall     (AR) @[ IoU=0.50:0.95 | area=   all | maxDets=100 ] = 0.164\n",
      " Average Recall     (AR) @[ IoU=0.50:0.95 | area= small | maxDets=100 ] = 0.163\n",
      " Average Recall     (AR) @[ IoU=0.50:0.95 | area=medium | maxDets=100 ] = 0.195\n",
      " Average Recall     (AR) @[ IoU=0.50:0.95 | area= large | maxDets=100 ] = -1.000\n",
      "\n",
      "Evaluating for full data...\n",
      "Running per image evaluation...\n",
      "Evaluate annotation type *segm*\n",
      "DONE (t=8.89s).\n",
      "Accumulating evaluation results...\n",
      "DONE (t=0.02s).\n",
      " Average Precision  (AP) @[ IoU=0.50:0.95 | area=   all | maxDets=1000 ] = 0.245\n",
      " Average Precision  (AP) @[ IoU=0.50      | area=   all | maxDets=1000 ] = 0.524\n",
      " Average Precision  (AP) @[ IoU=0.75      | area=   all | maxDets=1000 ] = 0.183\n",
      " Average Precision  (AP) @[ IoU=0.50:0.95 | area= small | maxDets=1000 ] = 0.168\n",
      " Average Precision  (AP) @[ IoU=0.50:0.95 | area=medium | maxDets=1000 ] = 0.274\n",
      " Average Precision  (AP) @[ IoU=0.50:0.95 | area= large | maxDets=1000 ] = 0.000\n",
      " Average Recall     (AR) @[ IoU=0.50:0.95 | area=   all | maxDets=100 ] = 0.242\n",
      " Average Recall     (AR) @[ IoU=0.50:0.95 | area= small | maxDets=100 ] = 0.159\n",
      " Average Recall     (AR) @[ IoU=0.50:0.95 | area=medium | maxDets=100 ] = 0.304\n",
      " Average Recall     (AR) @[ IoU=0.50:0.95 | area= large | maxDets=100 ] = 0.000\n"
     ]
    }
   ],
   "source": [
    "area_label_nms_coco_eval.evaluate()"
   ]
  },
  {
   "cell_type": "markdown",
   "id": "d95f0a9d",
   "metadata": {},
   "source": [
    "### Score-based, labelwise, polygon NMS"
   ]
  },
  {
   "cell_type": "markdown",
   "id": "afd04c32",
   "metadata": {},
   "source": [
    "If two or more predicted masks have bounding box IoU of more than 0.7, keep only the one with the highest score."
   ]
  },
  {
   "cell_type": "code",
   "execution_count": 85,
   "id": "aae76139",
   "metadata": {
    "ExecuteTime": {
     "end_time": "2021-12-23T10:55:46.583567Z",
     "start_time": "2021-12-23T10:55:46.581784Z"
    }
   },
   "outputs": [],
   "source": [
    "from drone_detector.postproc import do_poly_nms"
   ]
  },
  {
   "cell_type": "code",
   "execution_count": 86,
   "id": "9d75636a",
   "metadata": {
    "ExecuteTime": {
     "end_time": "2021-12-23T10:55:46.597076Z",
     "start_time": "2021-12-23T10:55:46.584479Z"
    }
   },
   "outputs": [],
   "source": [
    "raw_dir = result_basepath/'no_nms/predicted_vectors/'\n",
    "poly_nms_dir = result_basepath/'poly_nms/predicted_vectors/'\n",
    "raw_files = os.listdir(raw_dir)"
   ]
  },
  {
   "cell_type": "code",
   "execution_count": 87,
   "id": "13dbc86b",
   "metadata": {
    "ExecuteTime": {
     "end_time": "2021-12-23T10:56:06.356547Z",
     "start_time": "2021-12-23T10:55:46.597931Z"
    }
   },
   "outputs": [],
   "source": [
    "for r in raw_files:\n",
    "    gdf_temp = gpd.read_file(raw_dir/r)\n",
    "    gdf_poly_nms = do_poly_nms(gdf_temp, 0.1)\n",
    "    gdf_poly_nms.to_file(poly_nms_dir/r, driver='GeoJSON')\n",
    "    gdf_poly_nms = None\n",
    "    gdf_temp = None"
   ]
  },
  {
   "cell_type": "markdown",
   "id": "723ecd25",
   "metadata": {
    "ExecuteTime": {
     "end_time": "2021-10-07T11:46:50.499737Z",
     "start_time": "2021-10-07T11:46:50.497436Z"
    }
   },
   "source": [
    "Poly IoU"
   ]
  },
  {
   "cell_type": "code",
   "execution_count": 88,
   "id": "35602b44",
   "metadata": {
    "ExecuteTime": {
     "end_time": "2021-12-23T10:56:58.674583Z",
     "start_time": "2021-12-23T10:56:06.357735Z"
    }
   },
   "outputs": [],
   "source": [
    "res_poly_nms = do_poly_nms(results, 0.1)"
   ]
  },
  {
   "cell_type": "code",
   "execution_count": 89,
   "id": "044489e0",
   "metadata": {
    "ExecuteTime": {
     "end_time": "2021-12-23T10:56:59.845826Z",
     "start_time": "2021-12-23T10:56:58.675622Z"
    }
   },
   "outputs": [],
   "source": [
    "res_poly_nms_dis = res_poly_nms.dissolve(by='class_id')"
   ]
  },
  {
   "cell_type": "code",
   "execution_count": 90,
   "id": "aff97570",
   "metadata": {
    "ExecuteTime": {
     "end_time": "2021-12-23T10:57:00.676934Z",
     "start_time": "2021-12-23T10:56:59.847689Z"
    }
   },
   "outputs": [
    {
     "data": {
      "text/plain": [
       "class_id\n",
       "groundwood     0.473936\n",
       "uprightwood    0.409049\n",
       "dtype: float64"
      ]
     },
     "execution_count": 90,
     "metadata": {},
     "output_type": "execute_result"
    }
   ],
   "source": [
    "poly_IoU(gt_dis, res_poly_nms_dis)"
   ]
  },
  {
   "cell_type": "code",
   "execution_count": 91,
   "id": "1f6c253e",
   "metadata": {
    "ExecuteTime": {
     "end_time": "2021-12-23T10:57:00.680222Z",
     "start_time": "2021-12-23T10:57:00.678006Z"
    }
   },
   "outputs": [],
   "source": [
    "deadwood_categories = [{'supercategory': 'deadwood', 'id':1, 'name':'uprightwood'},\n",
    "                      {'supercategory': 'deadwood', 'id':2, 'name':'groundwood'}]\n",
    "\n",
    "poly_nms_coco_eval = GisCOCOeval(result_basepath/'poly_nms/', result_basepath/'poly_nms/', \n",
    "                            None, None, deadwood_categories)"
   ]
  },
  {
   "cell_type": "code",
   "execution_count": 92,
   "id": "94e28308",
   "metadata": {
    "ExecuteTime": {
     "end_time": "2021-12-23T10:57:04.495516Z",
     "start_time": "2021-12-23T10:57:00.681124Z"
    }
   },
   "outputs": [
    {
     "data": {
      "application/vnd.jupyter.widget-view+json": {
       "model_id": "90493521efa543748fffca5d30d5598c",
       "version_major": 2,
       "version_minor": 0
      },
      "text/plain": [
       "0it [00:00, ?it/s]"
      ]
     },
     "metadata": {},
     "output_type": "display_data"
    },
    {
     "data": {
      "application/vnd.jupyter.widget-view+json": {
       "model_id": "ddbb8194b47846898735d1eb53dbff9e",
       "version_major": 2,
       "version_minor": 0
      },
      "text/plain": [
       "  0%|          | 0/5 [00:00<?, ?it/s]"
      ]
     },
     "metadata": {},
     "output_type": "display_data"
    }
   ],
   "source": [
    "poly_nms_coco_eval.prepare_data(gt_label_col='layer')"
   ]
  },
  {
   "cell_type": "code",
   "execution_count": 93,
   "id": "f4c8a57f",
   "metadata": {
    "ExecuteTime": {
     "end_time": "2021-12-23T10:57:04.548866Z",
     "start_time": "2021-12-23T10:57:04.496546Z"
    }
   },
   "outputs": [
    {
     "name": "stdout",
     "output_type": "stream",
     "text": [
      "loading annotations into memory...\n",
      "Done (t=0.03s)\n",
      "creating index...\n",
      "index created!\n",
      "Loading and preparing results...\n",
      "DONE (t=0.02s)\n",
      "creating index...\n",
      "index created!\n"
     ]
    }
   ],
   "source": [
    "poly_nms_coco_eval.prepare_eval()"
   ]
  },
  {
   "cell_type": "code",
   "execution_count": 94,
   "id": "7968ebbb",
   "metadata": {
    "ExecuteTime": {
     "end_time": "2021-12-23T10:57:20.720358Z",
     "start_time": "2021-12-23T10:57:04.549828Z"
    },
    "scrolled": false
   },
   "outputs": [
    {
     "name": "stdout",
     "output_type": "stream",
     "text": [
      "\n",
      "Evaluating for category uprightwood\n",
      "Running per image evaluation...\n",
      "Evaluate annotation type *segm*\n",
      "DONE (t=0.24s).\n",
      "Accumulating evaluation results...\n",
      "DONE (t=0.00s).\n",
      " Average Precision  (AP) @[ IoU=0.50:0.95 | area=   all | maxDets=1000 ] = 0.191\n",
      " Average Precision  (AP) @[ IoU=0.50      | area=   all | maxDets=1000 ] = 0.373\n",
      " Average Precision  (AP) @[ IoU=0.75      | area=   all | maxDets=1000 ] = 0.167\n",
      " Average Precision  (AP) @[ IoU=0.50:0.95 | area= small | maxDets=1000 ] = 0.077\n",
      " Average Precision  (AP) @[ IoU=0.50:0.95 | area=medium | maxDets=1000 ] = 0.251\n",
      " Average Precision  (AP) @[ IoU=0.50:0.95 | area= large | maxDets=1000 ] = 0.000\n",
      " Average Recall     (AR) @[ IoU=0.50:0.95 | area=   all | maxDets=100 ] = 0.233\n",
      " Average Recall     (AR) @[ IoU=0.50:0.95 | area= small | maxDets=100 ] = 0.118\n",
      " Average Recall     (AR) @[ IoU=0.50:0.95 | area=medium | maxDets=100 ] = 0.298\n",
      " Average Recall     (AR) @[ IoU=0.50:0.95 | area= large | maxDets=100 ] = 0.000\n",
      "\n",
      "Evaluating for category groundwood\n",
      "Running per image evaluation...\n",
      "Evaluate annotation type *segm*\n",
      "DONE (t=7.89s).\n",
      "Accumulating evaluation results...\n",
      "DONE (t=0.01s).\n",
      " Average Precision  (AP) @[ IoU=0.50:0.95 | area=   all | maxDets=1000 ] = 0.244\n",
      " Average Precision  (AP) @[ IoU=0.50      | area=   all | maxDets=1000 ] = 0.586\n",
      " Average Precision  (AP) @[ IoU=0.75      | area=   all | maxDets=1000 ] = 0.151\n",
      " Average Precision  (AP) @[ IoU=0.50:0.95 | area= small | maxDets=1000 ] = 0.244\n",
      " Average Precision  (AP) @[ IoU=0.50:0.95 | area=medium | maxDets=1000 ] = 0.242\n",
      " Average Precision  (AP) @[ IoU=0.50:0.95 | area= large | maxDets=1000 ] = -1.000\n",
      " Average Recall     (AR) @[ IoU=0.50:0.95 | area=   all | maxDets=100 ] = 0.167\n",
      " Average Recall     (AR) @[ IoU=0.50:0.95 | area= small | maxDets=100 ] = 0.166\n",
      " Average Recall     (AR) @[ IoU=0.50:0.95 | area=medium | maxDets=100 ] = 0.235\n",
      " Average Recall     (AR) @[ IoU=0.50:0.95 | area= large | maxDets=100 ] = -1.000\n",
      "\n",
      "Evaluating for full data...\n",
      "Running per image evaluation...\n",
      "Evaluate annotation type *segm*\n",
      "DONE (t=7.99s).\n",
      "Accumulating evaluation results...\n",
      "DONE (t=0.01s).\n",
      " Average Precision  (AP) @[ IoU=0.50:0.95 | area=   all | maxDets=1000 ] = 0.217\n",
      " Average Precision  (AP) @[ IoU=0.50      | area=   all | maxDets=1000 ] = 0.479\n",
      " Average Precision  (AP) @[ IoU=0.75      | area=   all | maxDets=1000 ] = 0.159\n",
      " Average Precision  (AP) @[ IoU=0.50:0.95 | area= small | maxDets=1000 ] = 0.161\n",
      " Average Precision  (AP) @[ IoU=0.50:0.95 | area=medium | maxDets=1000 ] = 0.246\n",
      " Average Precision  (AP) @[ IoU=0.50:0.95 | area= large | maxDets=1000 ] = 0.000\n",
      " Average Recall     (AR) @[ IoU=0.50:0.95 | area=   all | maxDets=100 ] = 0.200\n",
      " Average Recall     (AR) @[ IoU=0.50:0.95 | area= small | maxDets=100 ] = 0.142\n",
      " Average Recall     (AR) @[ IoU=0.50:0.95 | area=medium | maxDets=100 ] = 0.267\n",
      " Average Recall     (AR) @[ IoU=0.50:0.95 | area= large | maxDets=100 ] = 0.000\n"
     ]
    }
   ],
   "source": [
    "poly_nms_coco_eval.evaluate()"
   ]
  },
  {
   "cell_type": "markdown",
   "id": "9fad790d",
   "metadata": {},
   "source": [
    "### Score-based, labelwise, minimum_rotated_rectangle based NMS"
   ]
  },
  {
   "cell_type": "markdown",
   "id": "0e8e7c01",
   "metadata": {},
   "source": [
    "If two or more predicted masks have bounding box IoU of more than 0.7, keep only the one with the highest score."
   ]
  },
  {
   "cell_type": "code",
   "execution_count": 187,
   "id": "8d5eb113",
   "metadata": {
    "ExecuteTime": {
     "end_time": "2021-12-22T11:30:38.373647Z",
     "start_time": "2021-12-22T11:30:38.371816Z"
    }
   },
   "outputs": [],
   "source": [
    "from drone_detector.postproc import do_min_rot_rectangle_nms"
   ]
  },
  {
   "cell_type": "code",
   "execution_count": 188,
   "id": "63385b54",
   "metadata": {
    "ExecuteTime": {
     "end_time": "2021-12-22T11:30:38.417164Z",
     "start_time": "2021-12-22T11:30:38.374741Z"
    }
   },
   "outputs": [],
   "source": [
    "raw_dir = result_basepath/'no_nms/predicted_vectors/'\n",
    "mrr_nms_dir = result_basepath/'min_rot_rec_nms/predicted_vectors/'\n",
    "raw_files = os.listdir(raw_dir)"
   ]
  },
  {
   "cell_type": "code",
   "execution_count": 189,
   "id": "e5694e3f",
   "metadata": {
    "ExecuteTime": {
     "end_time": "2021-12-22T11:31:13.561799Z",
     "start_time": "2021-12-22T11:30:38.418140Z"
    }
   },
   "outputs": [],
   "source": [
    "for r in raw_files:\n",
    "    gdf_temp = gpd.read_file(raw_dir/r)\n",
    "    gdf_mrr_nms = do_min_rot_rectangle_nms(gdf_temp, 0.5)\n",
    "    gdf_mrr_nms.to_file(mrr_nms_dir/r, driver='GeoJSON')\n",
    "    gdf_mrr_nms = None\n",
    "    gdf_temp = None"
   ]
  },
  {
   "cell_type": "markdown",
   "id": "bb63a671",
   "metadata": {
    "ExecuteTime": {
     "end_time": "2021-10-07T11:46:50.499737Z",
     "start_time": "2021-10-07T11:46:50.497436Z"
    }
   },
   "source": [
    "Minimum rotated rectangle IoU"
   ]
  },
  {
   "cell_type": "code",
   "execution_count": 190,
   "id": "0475e73b",
   "metadata": {
    "ExecuteTime": {
     "end_time": "2021-12-22T11:31:13.565698Z",
     "start_time": "2021-12-22T11:31:13.563072Z"
    }
   },
   "outputs": [
    {
     "data": {
      "text/plain": [
       "(4216, 6)"
      ]
     },
     "execution_count": 190,
     "metadata": {},
     "output_type": "execute_result"
    }
   ],
   "source": [
    "results.shape"
   ]
  },
  {
   "cell_type": "code",
   "execution_count": 191,
   "id": "8b8d066d",
   "metadata": {
    "ExecuteTime": {
     "end_time": "2021-12-22T11:32:46.625607Z",
     "start_time": "2021-12-22T11:31:13.566783Z"
    }
   },
   "outputs": [],
   "source": [
    "res_mrr_nms = do_min_rot_rectangle_nms(results, 0.5)"
   ]
  },
  {
   "cell_type": "code",
   "execution_count": 192,
   "id": "a86ec288",
   "metadata": {
    "ExecuteTime": {
     "end_time": "2021-12-22T11:32:46.631308Z",
     "start_time": "2021-12-22T11:32:46.628734Z"
    }
   },
   "outputs": [
    {
     "data": {
      "text/plain": [
       "(1652, 6)"
      ]
     },
     "execution_count": 192,
     "metadata": {},
     "output_type": "execute_result"
    }
   ],
   "source": [
    "res_mrr_nms.shape"
   ]
  },
  {
   "cell_type": "code",
   "execution_count": 193,
   "id": "d800e374",
   "metadata": {
    "ExecuteTime": {
     "end_time": "2021-12-22T11:32:48.081869Z",
     "start_time": "2021-12-22T11:32:46.632397Z"
    }
   },
   "outputs": [],
   "source": [
    "res_mrr_nms_dis = res_mrr_nms.dissolve(by='class_id')"
   ]
  },
  {
   "cell_type": "code",
   "execution_count": 194,
   "id": "9430f7b5",
   "metadata": {
    "ExecuteTime": {
     "end_time": "2021-12-22T11:32:49.009728Z",
     "start_time": "2021-12-22T11:32:48.083632Z"
    }
   },
   "outputs": [
    {
     "data": {
      "text/plain": [
       "class_id\n",
       "groundwood     0.532295\n",
       "uprightwood    0.399186\n",
       "dtype: float64"
      ]
     },
     "execution_count": 194,
     "metadata": {},
     "output_type": "execute_result"
    }
   ],
   "source": [
    "poly_IoU(gt_dis, res_mrr_nms_dis)"
   ]
  },
  {
   "cell_type": "code",
   "execution_count": 195,
   "id": "45328f43",
   "metadata": {
    "ExecuteTime": {
     "end_time": "2021-12-22T11:32:49.947350Z",
     "start_time": "2021-12-22T11:32:49.010844Z"
    }
   },
   "outputs": [
    {
     "data": {
      "text/plain": [
       "class_id\n",
       "groundwood     0.694769\n",
       "uprightwood    0.570597\n",
       "dtype: float64"
      ]
     },
     "execution_count": 195,
     "metadata": {},
     "output_type": "execute_result"
    }
   ],
   "source": [
    "poly_dice(gt_dis, res_mrr_nms_dis)"
   ]
  },
  {
   "cell_type": "code",
   "execution_count": 196,
   "id": "58601eb0",
   "metadata": {
    "ExecuteTime": {
     "end_time": "2021-12-22T11:32:49.956187Z",
     "start_time": "2021-12-22T11:32:49.948263Z"
    }
   },
   "outputs": [],
   "source": [
    "deadwood_categories = [{'supercategory': 'deadwood', 'id':1, 'name':'uprightwood'},\n",
    "                      {'supercategory': 'deadwood', 'id':2, 'name':'groundwood'}]\n",
    "\n",
    "mrr_nms_coco_eval = GisCOCOeval(result_basepath/'min_rot_rec_nms/', result_basepath/'min_rot_rec_nms/', \n",
    "                            None, None, deadwood_categories)"
   ]
  },
  {
   "cell_type": "code",
   "execution_count": 197,
   "id": "7bf6b7df",
   "metadata": {
    "ExecuteTime": {
     "end_time": "2021-12-22T11:32:54.859507Z",
     "start_time": "2021-12-22T11:32:49.957517Z"
    }
   },
   "outputs": [
    {
     "data": {
      "application/vnd.jupyter.widget-view+json": {
       "model_id": "b077a38ab88c414faf18cc7cd7ebada8",
       "version_major": 2,
       "version_minor": 0
      },
      "text/plain": [
       "0it [00:00, ?it/s]"
      ]
     },
     "metadata": {},
     "output_type": "display_data"
    },
    {
     "data": {
      "application/vnd.jupyter.widget-view+json": {
       "model_id": "3555c630aba64d30bb566e13521f3890",
       "version_major": 2,
       "version_minor": 0
      },
      "text/plain": [
       "  0%|          | 0/5 [00:00<?, ?it/s]"
      ]
     },
     "metadata": {},
     "output_type": "display_data"
    }
   ],
   "source": [
    "mrr_nms_coco_eval.prepare_data(gt_label_col='layer')"
   ]
  },
  {
   "cell_type": "code",
   "execution_count": 198,
   "id": "b8f14aba",
   "metadata": {
    "ExecuteTime": {
     "end_time": "2021-12-22T11:32:54.911604Z",
     "start_time": "2021-12-22T11:32:54.860596Z"
    }
   },
   "outputs": [
    {
     "name": "stdout",
     "output_type": "stream",
     "text": [
      "loading annotations into memory...\n",
      "Done (t=0.03s)\n",
      "creating index...\n",
      "index created!\n",
      "Loading and preparing results...\n",
      "DONE (t=0.02s)\n",
      "creating index...\n",
      "index created!\n"
     ]
    }
   ],
   "source": [
    "mrr_nms_coco_eval.prepare_eval()"
   ]
  },
  {
   "cell_type": "code",
   "execution_count": 199,
   "id": "5342d3d4",
   "metadata": {
    "ExecuteTime": {
     "end_time": "2021-12-22T11:32:54.940487Z",
     "start_time": "2021-12-22T11:32:54.912510Z"
    }
   },
   "outputs": [],
   "source": [
    "mrr_nms_coco_eval.coco_eval.params.maxDets = [100, 1000]"
   ]
  },
  {
   "cell_type": "code",
   "execution_count": 200,
   "id": "f5577368",
   "metadata": {
    "ExecuteTime": {
     "end_time": "2021-12-22T11:33:13.539217Z",
     "start_time": "2021-12-22T11:32:54.942702Z"
    },
    "scrolled": false
   },
   "outputs": [
    {
     "name": "stdout",
     "output_type": "stream",
     "text": [
      "\n",
      "Evaluating for category uprightwood\n",
      "Running per image evaluation...\n",
      "Evaluate annotation type *segm*\n",
      "DONE (t=0.24s).\n",
      "Accumulating evaluation results...\n",
      "DONE (t=0.00s).\n",
      " Average Precision  (AP) @[ IoU=0.50:0.95 | area=   all | maxDets=1000 ] = 0.206\n",
      " Average Precision  (AP) @[ IoU=0.50      | area=   all | maxDets=1000 ] = 0.358\n",
      " Average Precision  (AP) @[ IoU=0.75      | area=   all | maxDets=1000 ] = 0.231\n",
      " Average Precision  (AP) @[ IoU=0.50:0.95 | area= small | maxDets=1000 ] = 0.061\n",
      " Average Precision  (AP) @[ IoU=0.50:0.95 | area=medium | maxDets=1000 ] = 0.291\n",
      " Average Precision  (AP) @[ IoU=0.50:0.95 | area= large | maxDets=1000 ] = 0.000\n",
      " Average Recall     (AR) @[ IoU=0.50:0.95 | area=   all | maxDets=100 ] = 0.239\n",
      " Average Recall     (AR) @[ IoU=0.50:0.95 | area= small | maxDets=100 ] = 0.066\n",
      " Average Recall     (AR) @[ IoU=0.50:0.95 | area=medium | maxDets=100 ] = 0.336\n",
      " Average Recall     (AR) @[ IoU=0.50:0.95 | area= large | maxDets=100 ] = 0.000\n",
      "\n",
      "Evaluating for category groundwood\n",
      "Running per image evaluation...\n",
      "Evaluate annotation type *segm*\n",
      "DONE (t=9.06s).\n",
      "Accumulating evaluation results...\n",
      "DONE (t=0.01s).\n",
      " Average Precision  (AP) @[ IoU=0.50:0.95 | area=   all | maxDets=1000 ] = 0.274\n",
      " Average Precision  (AP) @[ IoU=0.50      | area=   all | maxDets=1000 ] = 0.675\n",
      " Average Precision  (AP) @[ IoU=0.75      | area=   all | maxDets=1000 ] = 0.142\n",
      " Average Precision  (AP) @[ IoU=0.50:0.95 | area= small | maxDets=1000 ] = 0.276\n",
      " Average Precision  (AP) @[ IoU=0.50:0.95 | area=medium | maxDets=1000 ] = 0.192\n",
      " Average Precision  (AP) @[ IoU=0.50:0.95 | area= large | maxDets=1000 ] = -1.000\n",
      " Average Recall     (AR) @[ IoU=0.50:0.95 | area=   all | maxDets=100 ] = 0.170\n",
      " Average Recall     (AR) @[ IoU=0.50:0.95 | area= small | maxDets=100 ] = 0.170\n",
      " Average Recall     (AR) @[ IoU=0.50:0.95 | area=medium | maxDets=100 ] = 0.185\n",
      " Average Recall     (AR) @[ IoU=0.50:0.95 | area= large | maxDets=100 ] = -1.000\n",
      "\n",
      "Evaluating for full data...\n",
      "Running per image evaluation...\n",
      "Evaluate annotation type *segm*\n",
      "DONE (t=9.26s).\n",
      "Accumulating evaluation results...\n",
      "DONE (t=0.02s).\n",
      " Average Precision  (AP) @[ IoU=0.50:0.95 | area=   all | maxDets=1000 ] = 0.240\n",
      " Average Precision  (AP) @[ IoU=0.50      | area=   all | maxDets=1000 ] = 0.516\n",
      " Average Precision  (AP) @[ IoU=0.75      | area=   all | maxDets=1000 ] = 0.186\n",
      " Average Precision  (AP) @[ IoU=0.50:0.95 | area= small | maxDets=1000 ] = 0.169\n",
      " Average Precision  (AP) @[ IoU=0.50:0.95 | area=medium | maxDets=1000 ] = 0.242\n",
      " Average Precision  (AP) @[ IoU=0.50:0.95 | area= large | maxDets=1000 ] = 0.000\n",
      " Average Recall     (AR) @[ IoU=0.50:0.95 | area=   all | maxDets=100 ] = 0.205\n",
      " Average Recall     (AR) @[ IoU=0.50:0.95 | area= small | maxDets=100 ] = 0.118\n",
      " Average Recall     (AR) @[ IoU=0.50:0.95 | area=medium | maxDets=100 ] = 0.261\n",
      " Average Recall     (AR) @[ IoU=0.50:0.95 | area= large | maxDets=100 ] = 0.000\n"
     ]
    }
   ],
   "source": [
    "mrr_nms_coco_eval.evaluate()"
   ]
  },
  {
   "cell_type": "code",
   "execution_count": 110,
   "id": "25fd83aa",
   "metadata": {
    "ExecuteTime": {
     "end_time": "2021-11-26T11:19:18.942087Z",
     "start_time": "2021-11-26T11:14:45.503457Z"
    }
   },
   "outputs": [
    {
     "data": {
      "application/vnd.jupyter.widget-view+json": {
       "model_id": "",
       "version_major": 2,
       "version_minor": 0
      },
      "text/plain": [
       "0it [00:00, ?it/s]"
      ]
     },
     "metadata": {},
     "output_type": "display_data"
    },
    {
     "name": "stderr",
     "output_type": "stream",
     "text": [
      "/scratch/mayrajan/drone_detector/drone_detector/coco.py:44: VisibleDeprecationWarning: Creating an ndarray from ragged nested sequences (which is a list-or-tuple of lists-or-tuples-or ndarrays with different lengths or shapes) is deprecated. If you meant to do this, you must specify 'dtype=object' when creating the ndarray.\n",
      "  contours = np.subtract(contours, 1)\n"
     ]
    },
    {
     "data": {
      "application/vnd.jupyter.widget-view+json": {
       "model_id": "",
       "version_major": 2,
       "version_minor": 0
      },
      "text/plain": [
       "  0%|          | 0/10 [00:00<?, ?it/s]"
      ]
     },
     "metadata": {},
     "output_type": "display_data"
    },
    {
     "data": {
      "application/vnd.jupyter.widget-view+json": {
       "model_id": "",
       "version_major": 2,
       "version_minor": 0
      },
      "text/plain": [
       "  0%|          | 0/10 [00:00<?, ?it/s]"
      ]
     },
     "metadata": {},
     "output_type": "display_data"
    },
    {
     "data": {
      "application/vnd.jupyter.widget-view+json": {
       "model_id": "",
       "version_major": 2,
       "version_minor": 0
      },
      "text/plain": [
       "  0%|          | 0/10 [00:00<?, ?it/s]"
      ]
     },
     "metadata": {},
     "output_type": "display_data"
    },
    {
     "data": {
      "application/vnd.jupyter.widget-view+json": {
       "model_id": "",
       "version_major": 2,
       "version_minor": 0
      },
      "text/plain": [
       "  0%|          | 0/10 [00:00<?, ?it/s]"
      ]
     },
     "metadata": {},
     "output_type": "display_data"
    }
   ],
   "source": [
    "mrr_nms_coco_eval.save_results(outpath='eval_results')"
   ]
  },
  {
   "cell_type": "code",
   "execution_count": 111,
   "id": "15345bef",
   "metadata": {
    "ExecuteTime": {
     "end_time": "2021-11-26T11:19:25.681231Z",
     "start_time": "2021-11-26T11:19:24.453200Z"
    }
   },
   "outputs": [],
   "source": [
    "cor_gt_gdf = None\n",
    "miss_gt_gdf = None\n",
    "cor_files = os.listdir(f'{mrr_nms_coco_eval.outpath}/eval_results/cor_gts/')\n",
    "miss_files = os.listdir(f'{mrr_nms_coco_eval.outpath}/eval_results/miss_gts/')\n",
    "\n",
    "for c in cor_files:\n",
    "    gdf = gpd.read_file(f'{mrr_nms_coco_eval.outpath}/eval_results/cor_gts/{c}')\n",
    "    if cor_gt_gdf is None: cor_gt_gdf = gdf\n",
    "    else: cor_gt_gdf = cor_gt_gdf.append(gdf)\n",
    "        \n",
    "for m in miss_files:\n",
    "    gdf = gpd.read_file(f'{mrr_nms_coco_eval.outpath}/eval_results/miss_gts/{m}')\n",
    "    if miss_gt_gdf is None: miss_gt_gdf = gdf\n",
    "    else: miss_gt_gdf = miss_gt_gdf.append(gdf)"
   ]
  },
  {
   "cell_type": "code",
   "execution_count": 112,
   "id": "0a81988e",
   "metadata": {
    "ExecuteTime": {
     "end_time": "2021-11-26T11:19:26.935429Z",
     "start_time": "2021-11-26T11:19:26.921450Z"
    }
   },
   "outputs": [],
   "source": [
    "cor_gt_gdf['det_type'] = 'TP'\n",
    "miss_gt_gdf['det_type'] = 'FN'\n",
    "\n",
    "gt_gdf = cor_gt_gdf.append(miss_gt_gdf)"
   ]
  },
  {
   "cell_type": "code",
   "execution_count": 113,
   "id": "79c99953",
   "metadata": {
    "ExecuteTime": {
     "end_time": "2021-11-26T11:19:28.481620Z",
     "start_time": "2021-11-26T11:19:28.466163Z"
    }
   },
   "outputs": [],
   "source": [
    "gt_gdf['tree_type'] = gt_gdf.apply(lambda row: 'Standing' if row.label == 1 else 'Fallen', axis=1)"
   ]
  },
  {
   "cell_type": "code",
   "execution_count": 114,
   "id": "189c3345",
   "metadata": {
    "ExecuteTime": {
     "end_time": "2021-11-26T11:19:30.991845Z",
     "start_time": "2021-11-26T11:19:30.960767Z"
    }
   },
   "outputs": [
    {
     "data": {
      "text/html": [
       "<div>\n",
       "<style scoped>\n",
       "    .dataframe tbody tr th:only-of-type {\n",
       "        vertical-align: middle;\n",
       "    }\n",
       "\n",
       "    .dataframe tbody tr th {\n",
       "        vertical-align: top;\n",
       "    }\n",
       "\n",
       "    .dataframe thead th {\n",
       "        text-align: right;\n",
       "    }\n",
       "</style>\n",
       "<table border=\"1\" class=\"dataframe\">\n",
       "  <thead>\n",
       "    <tr style=\"text-align: right;\">\n",
       "      <th>tree_type</th>\n",
       "      <th>Fallen</th>\n",
       "      <th>Standing</th>\n",
       "      <th>All</th>\n",
       "    </tr>\n",
       "    <tr>\n",
       "      <th>det_type</th>\n",
       "      <th></th>\n",
       "      <th></th>\n",
       "      <th></th>\n",
       "    </tr>\n",
       "  </thead>\n",
       "  <tbody>\n",
       "    <tr>\n",
       "      <th>FN</th>\n",
       "      <td>293</td>\n",
       "      <td>58</td>\n",
       "      <td>351</td>\n",
       "    </tr>\n",
       "    <tr>\n",
       "      <th>TP</th>\n",
       "      <td>710</td>\n",
       "      <td>51</td>\n",
       "      <td>761</td>\n",
       "    </tr>\n",
       "    <tr>\n",
       "      <th>All</th>\n",
       "      <td>1003</td>\n",
       "      <td>109</td>\n",
       "      <td>1112</td>\n",
       "    </tr>\n",
       "  </tbody>\n",
       "</table>\n",
       "</div>"
      ],
      "text/plain": [
       "tree_type  Fallen  Standing   All\n",
       "det_type                         \n",
       "FN            293        58   351\n",
       "TP            710        51   761\n",
       "All          1003       109  1112"
      ]
     },
     "execution_count": 114,
     "metadata": {},
     "output_type": "execute_result"
    }
   ],
   "source": [
    "import pandas as pd\n",
    "pd.crosstab(gt_gdf.det_type, gt_gdf.tree_type, margins=True)"
   ]
  },
  {
   "cell_type": "code",
   "execution_count": 115,
   "id": "e48d3829",
   "metadata": {
    "ExecuteTime": {
     "end_time": "2021-11-26T11:19:37.928374Z",
     "start_time": "2021-11-26T11:19:36.138367Z"
    }
   },
   "outputs": [],
   "source": [
    "gt_gdf.to_file(f'{mrr_nms_coco_eval.outpath}/eval_results/gts.geojson', driver='GeoJSON')"
   ]
  },
  {
   "cell_type": "code",
   "execution_count": 116,
   "id": "a4da9308",
   "metadata": {
    "ExecuteTime": {
     "end_time": "2021-11-26T11:20:17.300990Z",
     "start_time": "2021-11-26T11:20:16.049487Z"
    }
   },
   "outputs": [],
   "source": [
    "cor_dt_gdf = None\n",
    "miss_dt_gdf = None\n",
    "\n",
    "cor_files = os.listdir(f'{mrr_nms_coco_eval.outpath}/eval_results/cor_dts/')\n",
    "miss_files = os.listdir(f'{mrr_nms_coco_eval.outpath}/eval_results/miss_dts/')\n",
    "\n",
    "for c in cor_files:\n",
    "    gdf = gpd.read_file(f'{mrr_nms_coco_eval.outpath}/eval_results/cor_dts/{c}')\n",
    "    if cor_dt_gdf is None: cor_dt_gdf = gdf\n",
    "    else: cor_dt_gdf = cor_dt_gdf.append(gdf)\n",
    "        \n",
    "for m in miss_files:\n",
    "    gdf = gpd.read_file(f'{mrr_nms_coco_eval.outpath}/eval_results/miss_dts/{m}')\n",
    "    if miss_dt_gdf is None: miss_dt_gdf = gdf\n",
    "    else: miss_dt_gdf = miss_dt_gdf.append(gdf)"
   ]
  },
  {
   "cell_type": "code",
   "execution_count": 117,
   "id": "a6dd3542",
   "metadata": {
    "ExecuteTime": {
     "end_time": "2021-11-26T11:20:17.327963Z",
     "start_time": "2021-11-26T11:20:17.302313Z"
    }
   },
   "outputs": [],
   "source": [
    "cor_dt_gdf['det_type'] = 'TP'\n",
    "miss_dt_gdf['det_type'] = 'FP'\n",
    "\n",
    "dt_gdf = cor_dt_gdf.append(miss_dt_gdf)\n",
    "dt_gdf['tree_type'] = dt_gdf.apply(lambda row: 'Standing' if row.label == 1 else 'Fallen', axis=1)"
   ]
  },
  {
   "cell_type": "code",
   "execution_count": 118,
   "id": "533790f5",
   "metadata": {
    "ExecuteTime": {
     "end_time": "2021-11-26T11:20:17.381588Z",
     "start_time": "2021-11-26T11:20:17.329262Z"
    }
   },
   "outputs": [
    {
     "data": {
      "text/html": [
       "<div>\n",
       "<style scoped>\n",
       "    .dataframe tbody tr th:only-of-type {\n",
       "        vertical-align: middle;\n",
       "    }\n",
       "\n",
       "    .dataframe tbody tr th {\n",
       "        vertical-align: top;\n",
       "    }\n",
       "\n",
       "    .dataframe thead th {\n",
       "        text-align: right;\n",
       "    }\n",
       "</style>\n",
       "<table border=\"1\" class=\"dataframe\">\n",
       "  <thead>\n",
       "    <tr style=\"text-align: right;\">\n",
       "      <th>tree_type</th>\n",
       "      <th>Fallen</th>\n",
       "      <th>Standing</th>\n",
       "      <th>All</th>\n",
       "    </tr>\n",
       "    <tr>\n",
       "      <th>det_type</th>\n",
       "      <th></th>\n",
       "      <th></th>\n",
       "      <th></th>\n",
       "    </tr>\n",
       "  </thead>\n",
       "  <tbody>\n",
       "    <tr>\n",
       "      <th>FP</th>\n",
       "      <td>398</td>\n",
       "      <td>14</td>\n",
       "      <td>412</td>\n",
       "    </tr>\n",
       "    <tr>\n",
       "      <th>TP</th>\n",
       "      <td>710</td>\n",
       "      <td>51</td>\n",
       "      <td>761</td>\n",
       "    </tr>\n",
       "    <tr>\n",
       "      <th>All</th>\n",
       "      <td>1108</td>\n",
       "      <td>65</td>\n",
       "      <td>1173</td>\n",
       "    </tr>\n",
       "  </tbody>\n",
       "</table>\n",
       "</div>"
      ],
      "text/plain": [
       "tree_type  Fallen  Standing   All\n",
       "det_type                         \n",
       "FP            398        14   412\n",
       "TP            710        51   761\n",
       "All          1108        65  1173"
      ]
     },
     "execution_count": 118,
     "metadata": {},
     "output_type": "execute_result"
    }
   ],
   "source": [
    "import pandas as pd\n",
    "pd.crosstab(dt_gdf.det_type, dt_gdf.tree_type, margins=True)"
   ]
  },
  {
   "cell_type": "code",
   "execution_count": 119,
   "id": "524493ea",
   "metadata": {
    "ExecuteTime": {
     "end_time": "2021-11-26T11:20:23.125718Z",
     "start_time": "2021-11-26T11:20:23.122637Z"
    }
   },
   "outputs": [
    {
     "data": {
      "text/plain": [
       "(1046, 6)"
      ]
     },
     "execution_count": 119,
     "metadata": {},
     "output_type": "execute_result"
    }
   ],
   "source": [
    "res_label_nms.shape"
   ]
  },
  {
   "cell_type": "code",
   "execution_count": 120,
   "id": "94caf644",
   "metadata": {
    "ExecuteTime": {
     "end_time": "2021-11-26T11:20:23.607514Z",
     "start_time": "2021-11-26T11:20:23.604417Z"
    }
   },
   "outputs": [
    {
     "data": {
      "text/plain": [
       "(1110, 7)"
      ]
     },
     "execution_count": 120,
     "metadata": {},
     "output_type": "execute_result"
    }
   ],
   "source": [
    "ground_truth.shape"
   ]
  },
  {
   "cell_type": "code",
   "execution_count": 121,
   "id": "29d6f213",
   "metadata": {
    "ExecuteTime": {
     "end_time": "2021-11-26T11:20:25.177563Z",
     "start_time": "2021-11-26T11:20:25.174586Z"
    }
   },
   "outputs": [
    {
     "data": {
      "text/plain": [
       "(1112, 4)"
      ]
     },
     "execution_count": 121,
     "metadata": {},
     "output_type": "execute_result"
    }
   ],
   "source": [
    "gt_gdf.shape"
   ]
  },
  {
   "cell_type": "code",
   "execution_count": 123,
   "id": "3f77272f",
   "metadata": {
    "ExecuteTime": {
     "end_time": "2021-11-26T11:20:28.128101Z",
     "start_time": "2021-11-26T11:20:26.426709Z"
    }
   },
   "outputs": [],
   "source": [
    "dt_gdf.to_file(f'{mrr_nms_coco_eval.outpath}/eval_results/dts.geojson', driver='GeoJSON')"
   ]
  },
  {
   "cell_type": "code",
   "execution_count": 124,
   "id": "f0416f46",
   "metadata": {
    "ExecuteTime": {
     "end_time": "2021-11-26T11:20:29.052094Z",
     "start_time": "2021-11-26T11:20:29.006167Z"
    }
   },
   "outputs": [],
   "source": [
    "full_rec = len(gt_gdf[gt_gdf.det_type == 'TP']) / len(gt_gdf)\n",
    "stan_rec = len(gt_gdf[(gt_gdf.det_type == 'TP') & (gt_gdf.tree_type == 'Standing')]) / len(gt_gdf[gt_gdf.tree_type == 'Standing'])\n",
    "fall_rec = len(gt_gdf[(gt_gdf.det_type == 'TP') & (gt_gdf.tree_type == 'Fallen')]) / len(gt_gdf[gt_gdf.tree_type == 'Fallen'])\n"
   ]
  },
  {
   "cell_type": "code",
   "execution_count": 125,
   "id": "b31d6d79",
   "metadata": {
    "ExecuteTime": {
     "end_time": "2021-11-26T11:20:29.328739Z",
     "start_time": "2021-11-26T11:20:29.325602Z"
    }
   },
   "outputs": [
    {
     "data": {
      "text/plain": [
       "(0.6843525179856115, 0.46788990825688076, 0.707876370887338)"
      ]
     },
     "execution_count": 125,
     "metadata": {},
     "output_type": "execute_result"
    }
   ],
   "source": [
    "full_rec, stan_rec, fall_rec"
   ]
  },
  {
   "cell_type": "code",
   "execution_count": 126,
   "id": "ad54110a",
   "metadata": {
    "ExecuteTime": {
     "end_time": "2021-11-26T11:20:29.813137Z",
     "start_time": "2021-11-26T11:20:29.764644Z"
    }
   },
   "outputs": [
    {
     "data": {
      "text/plain": [
       "(0.6487638533674339, 0.7846153846153846, 0.6407942238267148)"
      ]
     },
     "execution_count": 126,
     "metadata": {},
     "output_type": "execute_result"
    }
   ],
   "source": [
    "full_pre = len(dt_gdf[dt_gdf.det_type == 'TP']) / len(dt_gdf)\n",
    "stan_pre = len(dt_gdf[(dt_gdf.det_type == 'TP') & (dt_gdf.tree_type == 'Standing')]) / len(dt_gdf[dt_gdf.tree_type == 'Standing'])\n",
    "fall_pre = len(dt_gdf[(dt_gdf.det_type == 'TP') & (dt_gdf.tree_type == 'Fallen')]) / len(dt_gdf[dt_gdf.tree_type == 'Fallen'])\n",
    "full_pre, stan_pre, fall_pre"
   ]
  },
  {
   "cell_type": "code",
   "execution_count": 150,
   "id": "0eae50bd",
   "metadata": {
    "ExecuteTime": {
     "end_time": "2021-11-26T11:56:52.711763Z",
     "start_time": "2021-11-26T11:56:51.917674Z"
    }
   },
   "outputs": [
    {
     "data": {
      "text/plain": [
       "class_id\n",
       "groundwood     0.676921\n",
       "uprightwood    0.561203\n",
       "dtype: float64"
      ]
     },
     "execution_count": 150,
     "metadata": {},
     "output_type": "execute_result"
    }
   ],
   "source": [
    "poly_dice(gt_dis, res_mrr_nms_dis)"
   ]
  },
  {
   "cell_type": "code",
   "execution_count": 152,
   "id": "2d7a1d25",
   "metadata": {
    "ExecuteTime": {
     "end_time": "2021-11-26T11:57:41.274689Z",
     "start_time": "2021-11-26T11:57:41.271527Z"
    }
   },
   "outputs": [
    {
     "data": {
      "text/plain": [
       "0.6726669824727617"
      ]
     },
     "execution_count": 152,
     "metadata": {},
     "output_type": "execute_result"
    }
   ],
   "source": [
    "(2 * fall_pre * fall_rec)/(fall_pre + fall_rec)"
   ]
  },
  {
   "cell_type": "code",
   "execution_count": null,
   "id": "1bedba44",
   "metadata": {},
   "outputs": [],
   "source": []
  }
 ],
 "metadata": {
  "kernelspec": {
   "display_name": "Python 3",
   "language": "python",
   "name": "python3"
  },
  "language_info": {
   "codemirror_mode": {
    "name": "ipython",
    "version": 3
   },
   "file_extension": ".py",
   "mimetype": "text/x-python",
   "name": "python",
   "nbconvert_exporter": "python",
   "pygments_lexer": "ipython3",
   "version": "3.9.5"
  },
  "latex_envs": {
   "LaTeX_envs_menu_present": true,
   "autoclose": false,
   "autocomplete": true,
   "bibliofile": "biblio.bib",
   "cite_by": "apalike",
   "current_citInitial": 1,
   "eqLabelWithNumbers": true,
   "eqNumInitial": 1,
   "hotkeys": {
    "equation": "Ctrl-E",
    "itemize": "Ctrl-I"
   },
   "labels_anchors": false,
   "latex_user_defs": false,
   "report_style_numbering": false,
   "user_envs_cfg": false
  },
  "toc": {
   "base_numbering": 1,
   "nav_menu": {},
   "number_sections": true,
   "sideBar": true,
   "skip_h1_title": false,
   "title_cell": "Table of Contents",
   "title_sidebar": "Contents",
   "toc_cell": false,
   "toc_position": {
    "height": "calc(100% - 180px)",
    "left": "10px",
    "top": "150px",
    "width": "384px"
   },
   "toc_section_display": true,
   "toc_window_display": true
  }
 },
 "nbformat": 4,
 "nbformat_minor": 5
}

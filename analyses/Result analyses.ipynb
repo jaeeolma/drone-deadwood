{
 "cells": [
  {
   "cell_type": "code",
   "execution_count": null,
   "id": "a3a1a76c",
   "metadata": {},
   "outputs": [],
   "source": [
    "from pathlib import Path\n",
    "from drone_detector.tiling import *\n",
    "import os, sys\n",
    "import geopandas as gpd\n",
    "import pandas as pd\n",
    "import rasterio as rio\n",
    "import math\n",
    "from shapely.geometry import box"
   ]
  },
  {
   "cell_type": "code",
   "execution_count": null,
   "id": "d8e52430",
   "metadata": {},
   "outputs": [],
   "source": [
    "from shapely.geometry import Polygon\n",
    "def fix_multipolys(multipoly):\n",
    "    temp_poly = None\n",
    "    max_area = 0\n",
    "    for geom in multipoly.geoms:\n",
    "        area = geom.area\n",
    "        if area > max_area:\n",
    "            max_area = area\n",
    "            temp_poly = geom\n",
    "    return Polygon(temp_poly.exterior)"
   ]
  },
  {
   "cell_type": "code",
   "execution_count": null,
   "id": "70fda436",
   "metadata": {},
   "outputs": [],
   "source": [
    "from shapely.geometry import Point \n",
    "\n",
    "def get_len(geom):\n",
    "    mrr = geom.minimum_rotated_rectangle\n",
    "    x, y = mrr.exterior.coords.xy\n",
    "    edge_len = (Point(x[0], y[0]).distance(Point(x[1], y[1])), Point(x[1], y[1]).distance(Point(x[2], y[2])))\n",
    "    return max(edge_len)"
   ]
  },
  {
   "cell_type": "code",
   "execution_count": null,
   "id": "93ead2a3",
   "metadata": {},
   "outputs": [],
   "source": [
    "data_path = Path('../data/hiidenportti/resnet50_valsplit/label_nms/eval_results')"
   ]
  },
  {
   "cell_type": "markdown",
   "id": "cac5db4f",
   "metadata": {},
   "source": [
    "# Ground Truths (TP/FN) -comparison"
   ]
  },
  {
   "cell_type": "code",
   "execution_count": null,
   "id": "ad3d0523",
   "metadata": {},
   "outputs": [],
   "source": [
    "gts = gpd.read_file(data_path/'gts.geojson')"
   ]
  },
  {
   "cell_type": "code",
   "execution_count": null,
   "id": "a0609620",
   "metadata": {},
   "outputs": [],
   "source": [
    "fns = gts[gts.det_type == 'FN'].copy()\n",
    "gt_tps = gts[gts.det_type == 'TP'].copy()"
   ]
  },
  {
   "cell_type": "markdown",
   "id": "c9ed8878",
   "metadata": {},
   "source": [
    "## False negatives"
   ]
  },
  {
   "cell_type": "code",
   "execution_count": null,
   "id": "e93f1f35",
   "metadata": {},
   "outputs": [],
   "source": [
    "fns['geometry'] = fns.apply(lambda row: fix_multipolys(row.geometry) if row.geometry.type == 'MultiPolygon' \n",
    "                                        else Polygon(row.geometry.exterior), axis=1)\n",
    "fns['area'] = fns.geometry.area\n",
    "fns['pixel_area'] = fns.area / 0.04**2\n",
    "fns['bbox_area'] = fns.apply(lambda row: box(*row.geometry.bounds).area, axis=1)\n",
    "fns['bbox_x_px'] = fns.apply(lambda row: (row.geometry.bounds[2] - row.geometry.bounds[0]) / 0.04, axis=1)\n",
    "fns['bbox_y_px'] = fns.apply(lambda row: (row.geometry.bounds[3] - row.geometry.bounds[1]) / 0.04, axis=1)\n",
    "fns['bbox_pixel_area'] = fns.bbox_area / 0.04**2\n",
    "fns['bbox_aspect_ratio'] = fns.bbox_x_px / fns.bbox_y_px\n",
    "fns['length'] = fns.apply(lambda row: get_len(row.geometry), axis=1)"
   ]
  },
  {
   "cell_type": "code",
   "execution_count": null,
   "id": "8435a0af",
   "metadata": {},
   "outputs": [
    {
     "data": {
      "text/html": [
       "<div>\n",
       "<style scoped>\n",
       "    .dataframe tbody tr th:only-of-type {\n",
       "        vertical-align: middle;\n",
       "    }\n",
       "\n",
       "    .dataframe tbody tr th {\n",
       "        vertical-align: top;\n",
       "    }\n",
       "\n",
       "    .dataframe thead tr th {\n",
       "        text-align: left;\n",
       "    }\n",
       "\n",
       "    .dataframe thead tr:last-of-type th {\n",
       "        text-align: right;\n",
       "    }\n",
       "</style>\n",
       "<table border=\"1\" class=\"dataframe\">\n",
       "  <thead>\n",
       "    <tr>\n",
       "      <th></th>\n",
       "      <th>min</th>\n",
       "      <th>max</th>\n",
       "      <th>mean</th>\n",
       "      <th>median</th>\n",
       "    </tr>\n",
       "    <tr>\n",
       "      <th></th>\n",
       "      <th>area</th>\n",
       "      <th>area</th>\n",
       "      <th>area</th>\n",
       "      <th>area</th>\n",
       "    </tr>\n",
       "    <tr>\n",
       "      <th>tree_type</th>\n",
       "      <th></th>\n",
       "      <th></th>\n",
       "      <th></th>\n",
       "      <th></th>\n",
       "    </tr>\n",
       "  </thead>\n",
       "  <tbody>\n",
       "    <tr>\n",
       "      <th>Fallen</th>\n",
       "      <td>0.059014</td>\n",
       "      <td>2.543199</td>\n",
       "      <td>0.343440</td>\n",
       "      <td>0.254789</td>\n",
       "    </tr>\n",
       "    <tr>\n",
       "      <th>Standing</th>\n",
       "      <td>0.573524</td>\n",
       "      <td>5.957790</td>\n",
       "      <td>2.396268</td>\n",
       "      <td>1.926845</td>\n",
       "    </tr>\n",
       "    <tr>\n",
       "      <th>All</th>\n",
       "      <td>0.059014</td>\n",
       "      <td>5.957790</td>\n",
       "      <td>0.440706</td>\n",
       "      <td>0.261347</td>\n",
       "    </tr>\n",
       "  </tbody>\n",
       "</table>\n",
       "</div>"
      ],
      "text/plain": [
       "                min       max      mean    median\n",
       "               area      area      area      area\n",
       "tree_type                                        \n",
       "Fallen     0.059014  2.543199  0.343440  0.254789\n",
       "Standing   0.573524  5.957790  2.396268  1.926845\n",
       "All        0.059014  5.957790  0.440706  0.261347"
      ]
     },
     "execution_count": null,
     "metadata": {},
     "output_type": "execute_result"
    }
   ],
   "source": [
    "pd.pivot_table(fns, index='tree_type', values='area', aggfunc=['min', 'max', 'mean', 'median'], margins=True)"
   ]
  },
  {
   "cell_type": "code",
   "execution_count": null,
   "id": "d70ad96c",
   "metadata": {},
   "outputs": [
    {
     "data": {
      "text/html": [
       "<div>\n",
       "<style scoped>\n",
       "    .dataframe tbody tr th:only-of-type {\n",
       "        vertical-align: middle;\n",
       "    }\n",
       "\n",
       "    .dataframe tbody tr th {\n",
       "        vertical-align: top;\n",
       "    }\n",
       "\n",
       "    .dataframe thead tr th {\n",
       "        text-align: left;\n",
       "    }\n",
       "\n",
       "    .dataframe thead tr:last-of-type th {\n",
       "        text-align: right;\n",
       "    }\n",
       "</style>\n",
       "<table border=\"1\" class=\"dataframe\">\n",
       "  <thead>\n",
       "    <tr>\n",
       "      <th></th>\n",
       "      <th>min</th>\n",
       "      <th>max</th>\n",
       "      <th>mean</th>\n",
       "      <th>median</th>\n",
       "    </tr>\n",
       "    <tr>\n",
       "      <th></th>\n",
       "      <th>pixel_area</th>\n",
       "      <th>pixel_area</th>\n",
       "      <th>pixel_area</th>\n",
       "      <th>pixel_area</th>\n",
       "    </tr>\n",
       "    <tr>\n",
       "      <th>tree_type</th>\n",
       "      <th></th>\n",
       "      <th></th>\n",
       "      <th></th>\n",
       "      <th></th>\n",
       "    </tr>\n",
       "  </thead>\n",
       "  <tbody>\n",
       "    <tr>\n",
       "      <th>Fallen</th>\n",
       "      <td>36.883581</td>\n",
       "      <td>1589.499644</td>\n",
       "      <td>214.650020</td>\n",
       "      <td>159.243398</td>\n",
       "    </tr>\n",
       "    <tr>\n",
       "      <th>Standing</th>\n",
       "      <td>358.452805</td>\n",
       "      <td>3723.618546</td>\n",
       "      <td>1497.667689</td>\n",
       "      <td>1204.278197</td>\n",
       "    </tr>\n",
       "    <tr>\n",
       "      <th>All</th>\n",
       "      <td>36.883581</td>\n",
       "      <td>3723.618546</td>\n",
       "      <td>275.441381</td>\n",
       "      <td>163.341574</td>\n",
       "    </tr>\n",
       "  </tbody>\n",
       "</table>\n",
       "</div>"
      ],
      "text/plain": [
       "                  min          max         mean       median\n",
       "           pixel_area   pixel_area   pixel_area   pixel_area\n",
       "tree_type                                                   \n",
       "Fallen      36.883581  1589.499644   214.650020   159.243398\n",
       "Standing   358.452805  3723.618546  1497.667689  1204.278197\n",
       "All         36.883581  3723.618546   275.441381   163.341574"
      ]
     },
     "execution_count": null,
     "metadata": {},
     "output_type": "execute_result"
    }
   ],
   "source": [
    "pd.pivot_table(fns, index='tree_type', values='pixel_area', aggfunc=['min', 'max', 'mean', 'median'], margins=True)"
   ]
  },
  {
   "cell_type": "code",
   "execution_count": null,
   "id": "12d6716b",
   "metadata": {},
   "outputs": [
    {
     "data": {
      "text/html": [
       "<div>\n",
       "<style scoped>\n",
       "    .dataframe tbody tr th:only-of-type {\n",
       "        vertical-align: middle;\n",
       "    }\n",
       "\n",
       "    .dataframe tbody tr th {\n",
       "        vertical-align: top;\n",
       "    }\n",
       "\n",
       "    .dataframe thead tr th {\n",
       "        text-align: left;\n",
       "    }\n",
       "\n",
       "    .dataframe thead tr:last-of-type th {\n",
       "        text-align: right;\n",
       "    }\n",
       "</style>\n",
       "<table border=\"1\" class=\"dataframe\">\n",
       "  <thead>\n",
       "    <tr>\n",
       "      <th></th>\n",
       "      <th>min</th>\n",
       "      <th>max</th>\n",
       "      <th>mean</th>\n",
       "      <th>median</th>\n",
       "    </tr>\n",
       "    <tr>\n",
       "      <th></th>\n",
       "      <th>bbox_pixel_area</th>\n",
       "      <th>bbox_pixel_area</th>\n",
       "      <th>bbox_pixel_area</th>\n",
       "      <th>bbox_pixel_area</th>\n",
       "    </tr>\n",
       "    <tr>\n",
       "      <th>tree_type</th>\n",
       "      <th></th>\n",
       "      <th></th>\n",
       "      <th></th>\n",
       "      <th></th>\n",
       "    </tr>\n",
       "  </thead>\n",
       "  <tbody>\n",
       "    <tr>\n",
       "      <th>Fallen</th>\n",
       "      <td>42.152664</td>\n",
       "      <td>19419.003403</td>\n",
       "      <td>1265.528811</td>\n",
       "      <td>585.729383</td>\n",
       "    </tr>\n",
       "    <tr>\n",
       "      <th>Standing</th>\n",
       "      <td>499.902485</td>\n",
       "      <td>5908.502863</td>\n",
       "      <td>2530.811431</td>\n",
       "      <td>1848.475637</td>\n",
       "    </tr>\n",
       "    <tr>\n",
       "      <th>All</th>\n",
       "      <td>42.152664</td>\n",
       "      <td>19419.003403</td>\n",
       "      <td>1325.479858</td>\n",
       "      <td>620.580889</td>\n",
       "    </tr>\n",
       "  </tbody>\n",
       "</table>\n",
       "</div>"
      ],
      "text/plain": [
       "                      min             max            mean          median\n",
       "          bbox_pixel_area bbox_pixel_area bbox_pixel_area bbox_pixel_area\n",
       "tree_type                                                                \n",
       "Fallen          42.152664    19419.003403     1265.528811      585.729383\n",
       "Standing       499.902485     5908.502863     2530.811431     1848.475637\n",
       "All             42.152664    19419.003403     1325.479858      620.580889"
      ]
     },
     "execution_count": null,
     "metadata": {},
     "output_type": "execute_result"
    }
   ],
   "source": [
    "pd.pivot_table(fns, index='tree_type', values='bbox_pixel_area', aggfunc=['min', 'max', 'mean', 'median'], margins=True)"
   ]
  },
  {
   "cell_type": "code",
   "execution_count": null,
   "id": "3b66b8d4",
   "metadata": {},
   "outputs": [
    {
     "data": {
      "text/html": [
       "<div>\n",
       "<style scoped>\n",
       "    .dataframe tbody tr th:only-of-type {\n",
       "        vertical-align: middle;\n",
       "    }\n",
       "\n",
       "    .dataframe tbody tr th {\n",
       "        vertical-align: top;\n",
       "    }\n",
       "\n",
       "    .dataframe thead tr th {\n",
       "        text-align: left;\n",
       "    }\n",
       "\n",
       "    .dataframe thead tr:last-of-type th {\n",
       "        text-align: right;\n",
       "    }\n",
       "</style>\n",
       "<table border=\"1\" class=\"dataframe\">\n",
       "  <thead>\n",
       "    <tr>\n",
       "      <th></th>\n",
       "      <th>min</th>\n",
       "      <th>max</th>\n",
       "      <th>mean</th>\n",
       "      <th>median</th>\n",
       "    </tr>\n",
       "    <tr>\n",
       "      <th></th>\n",
       "      <th>bbox_aspect_ratio</th>\n",
       "      <th>bbox_aspect_ratio</th>\n",
       "      <th>bbox_aspect_ratio</th>\n",
       "      <th>bbox_aspect_ratio</th>\n",
       "    </tr>\n",
       "    <tr>\n",
       "      <th>tree_type</th>\n",
       "      <th></th>\n",
       "      <th></th>\n",
       "      <th></th>\n",
       "      <th></th>\n",
       "    </tr>\n",
       "  </thead>\n",
       "  <tbody>\n",
       "    <tr>\n",
       "      <th>Fallen</th>\n",
       "      <td>0.067227</td>\n",
       "      <td>9.600000</td>\n",
       "      <td>1.601919</td>\n",
       "      <td>1.005155</td>\n",
       "    </tr>\n",
       "    <tr>\n",
       "      <th>Standing</th>\n",
       "      <td>0.720588</td>\n",
       "      <td>1.558824</td>\n",
       "      <td>1.064416</td>\n",
       "      <td>0.941176</td>\n",
       "    </tr>\n",
       "    <tr>\n",
       "      <th>All</th>\n",
       "      <td>0.067227</td>\n",
       "      <td>9.600000</td>\n",
       "      <td>1.576452</td>\n",
       "      <td>1.000000</td>\n",
       "    </tr>\n",
       "  </tbody>\n",
       "</table>\n",
       "</div>"
      ],
      "text/plain": [
       "                        min               max              mean  \\\n",
       "          bbox_aspect_ratio bbox_aspect_ratio bbox_aspect_ratio   \n",
       "tree_type                                                         \n",
       "Fallen             0.067227          9.600000          1.601919   \n",
       "Standing           0.720588          1.558824          1.064416   \n",
       "All                0.067227          9.600000          1.576452   \n",
       "\n",
       "                     median  \n",
       "          bbox_aspect_ratio  \n",
       "tree_type                    \n",
       "Fallen             1.005155  \n",
       "Standing           0.941176  \n",
       "All                1.000000  "
      ]
     },
     "execution_count": null,
     "metadata": {},
     "output_type": "execute_result"
    }
   ],
   "source": [
    "pd.pivot_table(fns, index='tree_type', values='bbox_aspect_ratio', aggfunc=['min', 'max', 'mean', 'median'], margins=True)"
   ]
  },
  {
   "cell_type": "code",
   "execution_count": null,
   "id": "9f5cb850",
   "metadata": {},
   "outputs": [
    {
     "data": {
      "text/html": [
       "<div>\n",
       "<style scoped>\n",
       "    .dataframe tbody tr th:only-of-type {\n",
       "        vertical-align: middle;\n",
       "    }\n",
       "\n",
       "    .dataframe tbody tr th {\n",
       "        vertical-align: top;\n",
       "    }\n",
       "\n",
       "    .dataframe thead tr th {\n",
       "        text-align: left;\n",
       "    }\n",
       "\n",
       "    .dataframe thead tr:last-of-type th {\n",
       "        text-align: right;\n",
       "    }\n",
       "</style>\n",
       "<table border=\"1\" class=\"dataframe\">\n",
       "  <thead>\n",
       "    <tr>\n",
       "      <th></th>\n",
       "      <th>min</th>\n",
       "      <th>max</th>\n",
       "      <th>mean</th>\n",
       "      <th>median</th>\n",
       "    </tr>\n",
       "    <tr>\n",
       "      <th></th>\n",
       "      <th>bbox_x_px</th>\n",
       "      <th>bbox_x_px</th>\n",
       "      <th>bbox_x_px</th>\n",
       "      <th>bbox_x_px</th>\n",
       "    </tr>\n",
       "    <tr>\n",
       "      <th>tree_type</th>\n",
       "      <th></th>\n",
       "      <th></th>\n",
       "      <th></th>\n",
       "      <th></th>\n",
       "    </tr>\n",
       "  </thead>\n",
       "  <tbody>\n",
       "    <tr>\n",
       "      <th>Fallen</th>\n",
       "      <td>3.246254</td>\n",
       "      <td>230.921473</td>\n",
       "      <td>33.881817</td>\n",
       "      <td>26.762980</td>\n",
       "    </tr>\n",
       "    <tr>\n",
       "      <th>Standing</th>\n",
       "      <td>21.317993</td>\n",
       "      <td>73.470344</td>\n",
       "      <td>48.485916</td>\n",
       "      <td>49.627860</td>\n",
       "    </tr>\n",
       "    <tr>\n",
       "      <th>All</th>\n",
       "      <td>3.246254</td>\n",
       "      <td>230.921473</td>\n",
       "      <td>34.573782</td>\n",
       "      <td>27.052118</td>\n",
       "    </tr>\n",
       "  </tbody>\n",
       "</table>\n",
       "</div>"
      ],
      "text/plain": [
       "                 min         max       mean     median\n",
       "           bbox_x_px   bbox_x_px  bbox_x_px  bbox_x_px\n",
       "tree_type                                             \n",
       "Fallen      3.246254  230.921473  33.881817  26.762980\n",
       "Standing   21.317993   73.470344  48.485916  49.627860\n",
       "All         3.246254  230.921473  34.573782  27.052118"
      ]
     },
     "execution_count": null,
     "metadata": {},
     "output_type": "execute_result"
    }
   ],
   "source": [
    "pd.pivot_table(fns, index='tree_type', values='bbox_x_px', aggfunc=['min', 'max', 'mean', 'median'], margins=True)"
   ]
  },
  {
   "cell_type": "code",
   "execution_count": null,
   "id": "062c6b99",
   "metadata": {},
   "outputs": [
    {
     "data": {
      "text/plain": [
       "<AxesSubplot:title={'center':'Distribution of bounding box width, in pixels'}, ylabel='Frequency'>"
      ]
     },
     "execution_count": null,
     "metadata": {},
     "output_type": "execute_result"
    },
    {
     "data": {
      "image/png": "[encoded data removed]",
      "text/plain": [
       "<Figure size 720x432 with 1 Axes>"
      ]
     },
     "metadata": {
      "needs_background": "light"
     },
     "output_type": "display_data"
    }
   ],
   "source": [
    "fns.plot(kind='hist', y='bbox_x_px', bins=100, grid=True, \n",
    "         title='Distribution of bounding box width, in pixels',\n",
    "         figsize=(10,6))"
   ]
  },
  {
   "cell_type": "code",
   "execution_count": null,
   "id": "6e5367ff",
   "metadata": {},
   "outputs": [
    {
     "data": {
      "text/html": [
       "<div>\n",
       "<style scoped>\n",
       "    .dataframe tbody tr th:only-of-type {\n",
       "        vertical-align: middle;\n",
       "    }\n",
       "\n",
       "    .dataframe tbody tr th {\n",
       "        vertical-align: top;\n",
       "    }\n",
       "\n",
       "    .dataframe thead tr th {\n",
       "        text-align: left;\n",
       "    }\n",
       "\n",
       "    .dataframe thead tr:last-of-type th {\n",
       "        text-align: right;\n",
       "    }\n",
       "</style>\n",
       "<table border=\"1\" class=\"dataframe\">\n",
       "  <thead>\n",
       "    <tr>\n",
       "      <th></th>\n",
       "      <th>min</th>\n",
       "      <th>max</th>\n",
       "      <th>mean</th>\n",
       "      <th>median</th>\n",
       "    </tr>\n",
       "    <tr>\n",
       "      <th></th>\n",
       "      <th>bbox_y_px</th>\n",
       "      <th>bbox_y_px</th>\n",
       "      <th>bbox_y_px</th>\n",
       "      <th>bbox_y_px</th>\n",
       "    </tr>\n",
       "    <tr>\n",
       "      <th>tree_type</th>\n",
       "      <th></th>\n",
       "      <th></th>\n",
       "      <th></th>\n",
       "      <th></th>\n",
       "    </tr>\n",
       "  </thead>\n",
       "  <tbody>\n",
       "    <tr>\n",
       "      <th>Fallen</th>\n",
       "      <td>3.246254</td>\n",
       "      <td>195.589971</td>\n",
       "      <td>30.733143</td>\n",
       "      <td>24.568816</td>\n",
       "    </tr>\n",
       "    <tr>\n",
       "      <th>Standing</th>\n",
       "      <td>21.641694</td>\n",
       "      <td>81.156354</td>\n",
       "      <td>47.524212</td>\n",
       "      <td>42.201304</td>\n",
       "    </tr>\n",
       "    <tr>\n",
       "      <th>All</th>\n",
       "      <td>3.246254</td>\n",
       "      <td>195.589971</td>\n",
       "      <td>31.528729</td>\n",
       "      <td>24.887949</td>\n",
       "    </tr>\n",
       "  </tbody>\n",
       "</table>\n",
       "</div>"
      ],
      "text/plain": [
       "                 min         max       mean     median\n",
       "           bbox_y_px   bbox_y_px  bbox_y_px  bbox_y_px\n",
       "tree_type                                             \n",
       "Fallen      3.246254  195.589971  30.733143  24.568816\n",
       "Standing   21.641694   81.156354  47.524212  42.201304\n",
       "All         3.246254  195.589971  31.528729  24.887949"
      ]
     },
     "execution_count": null,
     "metadata": {},
     "output_type": "execute_result"
    }
   ],
   "source": [
    "pd.pivot_table(fns, index='tree_type', values='bbox_y_px', aggfunc=['min', 'max', 'mean', 'median'], margins=True)"
   ]
  },
  {
   "cell_type": "code",
   "execution_count": null,
   "id": "7df5a488",
   "metadata": {},
   "outputs": [
    {
     "data": {
      "text/plain": [
       "<AxesSubplot:title={'center':'Distribution of bounding box width, in pixels'}, ylabel='Frequency'>"
      ]
     },
     "execution_count": null,
     "metadata": {},
     "output_type": "execute_result"
    },
    {
     "data": {
      "image/png": "[encoded data removed]",
      "text/plain": [
       "<Figure size 720x432 with 1 Axes>"
      ]
     },
     "metadata": {
      "needs_background": "light"
     },
     "output_type": "display_data"
    }
   ],
   "source": [
    "fns.plot(kind='hist', y='bbox_y_px', bins=100, grid=True, \n",
    "         title='Distribution of bounding box width, in pixels',\n",
    "         figsize=(10,6))"
   ]
  },
  {
   "cell_type": "code",
   "execution_count": null,
   "id": "6fe59fa9",
   "metadata": {},
   "outputs": [
    {
     "data": {
      "text/html": [
       "<div>\n",
       "<style scoped>\n",
       "    .dataframe tbody tr th:only-of-type {\n",
       "        vertical-align: middle;\n",
       "    }\n",
       "\n",
       "    .dataframe tbody tr th {\n",
       "        vertical-align: top;\n",
       "    }\n",
       "\n",
       "    .dataframe thead tr th {\n",
       "        text-align: left;\n",
       "    }\n",
       "\n",
       "    .dataframe thead tr:last-of-type th {\n",
       "        text-align: right;\n",
       "    }\n",
       "</style>\n",
       "<table border=\"1\" class=\"dataframe\">\n",
       "  <thead>\n",
       "    <tr>\n",
       "      <th></th>\n",
       "      <th>min</th>\n",
       "      <th>max</th>\n",
       "      <th>mean</th>\n",
       "      <th>median</th>\n",
       "    </tr>\n",
       "    <tr>\n",
       "      <th></th>\n",
       "      <th>length</th>\n",
       "      <th>length</th>\n",
       "      <th>length</th>\n",
       "      <th>length</th>\n",
       "    </tr>\n",
       "    <tr>\n",
       "      <th>tree_type</th>\n",
       "      <th></th>\n",
       "      <th></th>\n",
       "      <th></th>\n",
       "      <th></th>\n",
       "    </tr>\n",
       "  </thead>\n",
       "  <tbody>\n",
       "    <tr>\n",
       "      <th>Fallen</th>\n",
       "      <td>0.476117</td>\n",
       "      <td>9.788488</td>\n",
       "      <td>1.904225</td>\n",
       "      <td>1.554527</td>\n",
       "    </tr>\n",
       "    <tr>\n",
       "      <th>Standing</th>\n",
       "      <td>1.078615</td>\n",
       "      <td>3.338757</td>\n",
       "      <td>2.055404</td>\n",
       "      <td>1.874621</td>\n",
       "    </tr>\n",
       "    <tr>\n",
       "      <th>All</th>\n",
       "      <td>0.476117</td>\n",
       "      <td>9.788488</td>\n",
       "      <td>1.911388</td>\n",
       "      <td>1.574674</td>\n",
       "    </tr>\n",
       "  </tbody>\n",
       "</table>\n",
       "</div>"
      ],
      "text/plain": [
       "                min       max      mean    median\n",
       "             length    length    length    length\n",
       "tree_type                                        \n",
       "Fallen     0.476117  9.788488  1.904225  1.554527\n",
       "Standing   1.078615  3.338757  2.055404  1.874621\n",
       "All        0.476117  9.788488  1.911388  1.574674"
      ]
     },
     "execution_count": null,
     "metadata": {},
     "output_type": "execute_result"
    }
   ],
   "source": [
    "pd.pivot_table(fns, index='tree_type', values='length', aggfunc=['min', 'max', 'mean', 'median'], margins=True)"
   ]
  },
  {
   "cell_type": "code",
   "execution_count": null,
   "id": "21620ff3",
   "metadata": {},
   "outputs": [
    {
     "data": {
      "text/plain": [
       "<AxesSubplot:title={'center':'Distribution of groundwood length in meters'}, ylabel='Frequency'>"
      ]
     },
     "execution_count": null,
     "metadata": {},
     "output_type": "execute_result"
    },
    {
     "data": {
      "image/png": "[encoded data removed]",
      "text/plain": [
       "<Figure size 720x432 with 1 Axes>"
      ]
     },
     "metadata": {
      "needs_background": "light"
     },
     "output_type": "display_data"
    }
   ],
   "source": [
    "fns[fns.tree_type =='Fallen'].plot(kind='hist', y='length', bins=100, grid=True, \n",
    "                                   title='Distribution of groundwood length in meters',\n",
    "                                   figsize=(10,6))"
   ]
  },
  {
   "cell_type": "code",
   "execution_count": null,
   "id": "45af4017",
   "metadata": {},
   "outputs": [
    {
     "data": {
      "text/plain": [
       "<AxesSubplot:title={'center':'Distribution of uprightwood maximum canopy diameter, in meters'}, ylabel='Frequency'>"
      ]
     },
     "execution_count": null,
     "metadata": {},
     "output_type": "execute_result"
    },
    {
     "data": {
      "image/png": "[encoded data removed]",
      "text/plain": [
       "<Figure size 720x432 with 1 Axes>"
      ]
     },
     "metadata": {
      "needs_background": "light"
     },
     "output_type": "display_data"
    }
   ],
   "source": [
    "fns[fns.tree_type =='Standing'].plot(kind='hist', y='length', bins=10, grid=True, \n",
    "                                     title='Distribution of uprightwood maximum canopy diameter, in meters',\n",
    "                                     figsize=(10,6))"
   ]
  },
  {
   "cell_type": "markdown",
   "id": "71fe8b09",
   "metadata": {},
   "source": [
    "## True positives"
   ]
  },
  {
   "cell_type": "code",
   "execution_count": null,
   "id": "21967cfd",
   "metadata": {},
   "outputs": [],
   "source": [
    "gt_tps['geometry'] = gt_tps.apply(lambda row: fix_multipolys(row.geometry) if row.geometry.type == 'MultiPolygon' \n",
    "                                        else Polygon(row.geometry.exterior), axis=1)\n",
    "gt_tps['area'] = gt_tps.geometry.area\n",
    "gt_tps['pixel_area'] = gt_tps.area / 0.04**2\n",
    "gt_tps['bbox_area'] = gt_tps.apply(lambda row: box(*row.geometry.bounds).area, axis=1)\n",
    "gt_tps['bbox_x_px'] = gt_tps.apply(lambda row: (row.geometry.bounds[2] - row.geometry.bounds[0]) / 0.04, axis=1)\n",
    "gt_tps['bbox_y_px'] = gt_tps.apply(lambda row: (row.geometry.bounds[3] - row.geometry.bounds[1]) / 0.04, axis=1)\n",
    "gt_tps['bbox_pixel_area'] = gt_tps.bbox_area / 0.04**2\n",
    "gt_tps['bbox_aspect_ratio'] = gt_tps.bbox_x_px / gt_tps.bbox_y_px\n",
    "gt_tps['length'] = gt_tps.apply(lambda row: get_len(row.geometry), axis=1)"
   ]
  },
  {
   "cell_type": "code",
   "execution_count": null,
   "id": "92ebe6b0",
   "metadata": {},
   "outputs": [
    {
     "data": {
      "text/html": [
       "<div>\n",
       "<style scoped>\n",
       "    .dataframe tbody tr th:only-of-type {\n",
       "        vertical-align: middle;\n",
       "    }\n",
       "\n",
       "    .dataframe tbody tr th {\n",
       "        vertical-align: top;\n",
       "    }\n",
       "\n",
       "    .dataframe thead tr th {\n",
       "        text-align: left;\n",
       "    }\n",
       "\n",
       "    .dataframe thead tr:last-of-type th {\n",
       "        text-align: right;\n",
       "    }\n",
       "</style>\n",
       "<table border=\"1\" class=\"dataframe\">\n",
       "  <thead>\n",
       "    <tr>\n",
       "      <th></th>\n",
       "      <th>min</th>\n",
       "      <th>max</th>\n",
       "      <th>mean</th>\n",
       "      <th>median</th>\n",
       "    </tr>\n",
       "    <tr>\n",
       "      <th></th>\n",
       "      <th>area</th>\n",
       "      <th>area</th>\n",
       "      <th>area</th>\n",
       "      <th>area</th>\n",
       "    </tr>\n",
       "    <tr>\n",
       "      <th>tree_type</th>\n",
       "      <th></th>\n",
       "      <th></th>\n",
       "      <th></th>\n",
       "      <th></th>\n",
       "    </tr>\n",
       "  </thead>\n",
       "  <tbody>\n",
       "    <tr>\n",
       "      <th>Fallen</th>\n",
       "      <td>0.063260</td>\n",
       "      <td>2.852041</td>\n",
       "      <td>0.477244</td>\n",
       "      <td>0.399013</td>\n",
       "    </tr>\n",
       "    <tr>\n",
       "      <th>Standing</th>\n",
       "      <td>0.355334</td>\n",
       "      <td>10.790502</td>\n",
       "      <td>3.647911</td>\n",
       "      <td>2.990839</td>\n",
       "    </tr>\n",
       "    <tr>\n",
       "      <th>All</th>\n",
       "      <td>0.063260</td>\n",
       "      <td>10.790502</td>\n",
       "      <td>0.878594</td>\n",
       "      <td>0.436090</td>\n",
       "    </tr>\n",
       "  </tbody>\n",
       "</table>\n",
       "</div>"
      ],
      "text/plain": [
       "                min        max      mean    median\n",
       "               area       area      area      area\n",
       "tree_type                                         \n",
       "Fallen     0.063260   2.852041  0.477244  0.399013\n",
       "Standing   0.355334  10.790502  3.647911  2.990839\n",
       "All        0.063260  10.790502  0.878594  0.436090"
      ]
     },
     "execution_count": null,
     "metadata": {},
     "output_type": "execute_result"
    }
   ],
   "source": [
    "pd.pivot_table(gt_tps, index='tree_type', values='area', aggfunc=['min', 'max', 'mean', 'median'], margins=True)"
   ]
  },
  {
   "cell_type": "code",
   "execution_count": null,
   "id": "0c885671",
   "metadata": {},
   "outputs": [
    {
     "data": {
      "text/html": [
       "<div>\n",
       "<style scoped>\n",
       "    .dataframe tbody tr th:only-of-type {\n",
       "        vertical-align: middle;\n",
       "    }\n",
       "\n",
       "    .dataframe tbody tr th {\n",
       "        vertical-align: top;\n",
       "    }\n",
       "\n",
       "    .dataframe thead tr th {\n",
       "        text-align: left;\n",
       "    }\n",
       "\n",
       "    .dataframe thead tr:last-of-type th {\n",
       "        text-align: right;\n",
       "    }\n",
       "</style>\n",
       "<table border=\"1\" class=\"dataframe\">\n",
       "  <thead>\n",
       "    <tr>\n",
       "      <th></th>\n",
       "      <th>min</th>\n",
       "      <th>max</th>\n",
       "      <th>mean</th>\n",
       "      <th>median</th>\n",
       "    </tr>\n",
       "    <tr>\n",
       "      <th></th>\n",
       "      <th>pixel_area</th>\n",
       "      <th>pixel_area</th>\n",
       "      <th>pixel_area</th>\n",
       "      <th>pixel_area</th>\n",
       "    </tr>\n",
       "    <tr>\n",
       "      <th>tree_type</th>\n",
       "      <th></th>\n",
       "      <th></th>\n",
       "      <th></th>\n",
       "      <th></th>\n",
       "    </tr>\n",
       "  </thead>\n",
       "  <tbody>\n",
       "    <tr>\n",
       "      <th>Fallen</th>\n",
       "      <td>39.537392</td>\n",
       "      <td>1782.525543</td>\n",
       "      <td>298.277523</td>\n",
       "      <td>249.383172</td>\n",
       "    </tr>\n",
       "    <tr>\n",
       "      <th>Standing</th>\n",
       "      <td>222.083782</td>\n",
       "      <td>6744.063860</td>\n",
       "      <td>2279.944313</td>\n",
       "      <td>1869.274139</td>\n",
       "    </tr>\n",
       "    <tr>\n",
       "      <th>All</th>\n",
       "      <td>39.537392</td>\n",
       "      <td>6744.063860</td>\n",
       "      <td>549.121420</td>\n",
       "      <td>272.556063</td>\n",
       "    </tr>\n",
       "  </tbody>\n",
       "</table>\n",
       "</div>"
      ],
      "text/plain": [
       "                  min          max         mean       median\n",
       "           pixel_area   pixel_area   pixel_area   pixel_area\n",
       "tree_type                                                   \n",
       "Fallen      39.537392  1782.525543   298.277523   249.383172\n",
       "Standing   222.083782  6744.063860  2279.944313  1869.274139\n",
       "All         39.537392  6744.063860   549.121420   272.556063"
      ]
     },
     "execution_count": null,
     "metadata": {},
     "output_type": "execute_result"
    }
   ],
   "source": [
    "pd.pivot_table(gt_tps, index='tree_type', values='pixel_area', aggfunc=['min', 'max', 'mean', 'median'], margins=True)"
   ]
  },
  {
   "cell_type": "code",
   "execution_count": null,
   "id": "f5b6135a",
   "metadata": {},
   "outputs": [
    {
     "data": {
      "text/html": [
       "<div>\n",
       "<style scoped>\n",
       "    .dataframe tbody tr th:only-of-type {\n",
       "        vertical-align: middle;\n",
       "    }\n",
       "\n",
       "    .dataframe tbody tr th {\n",
       "        vertical-align: top;\n",
       "    }\n",
       "\n",
       "    .dataframe thead tr th {\n",
       "        text-align: left;\n",
       "    }\n",
       "\n",
       "    .dataframe thead tr:last-of-type th {\n",
       "        text-align: right;\n",
       "    }\n",
       "</style>\n",
       "<table border=\"1\" class=\"dataframe\">\n",
       "  <thead>\n",
       "    <tr>\n",
       "      <th></th>\n",
       "      <th>min</th>\n",
       "      <th>max</th>\n",
       "      <th>mean</th>\n",
       "      <th>median</th>\n",
       "    </tr>\n",
       "    <tr>\n",
       "      <th></th>\n",
       "      <th>bbox_pixel_area</th>\n",
       "      <th>bbox_pixel_area</th>\n",
       "      <th>bbox_pixel_area</th>\n",
       "      <th>bbox_pixel_area</th>\n",
       "    </tr>\n",
       "    <tr>\n",
       "      <th>tree_type</th>\n",
       "      <th></th>\n",
       "      <th></th>\n",
       "      <th></th>\n",
       "      <th></th>\n",
       "    </tr>\n",
       "  </thead>\n",
       "  <tbody>\n",
       "    <tr>\n",
       "      <th>Fallen</th>\n",
       "      <td>61.884613</td>\n",
       "      <td>32984.498867</td>\n",
       "      <td>1888.173147</td>\n",
       "      <td>1094.167197</td>\n",
       "    </tr>\n",
       "    <tr>\n",
       "      <th>Standing</th>\n",
       "      <td>332.356330</td>\n",
       "      <td>11797.321883</td>\n",
       "      <td>3931.946412</td>\n",
       "      <td>3271.943724</td>\n",
       "    </tr>\n",
       "    <tr>\n",
       "      <th>All</th>\n",
       "      <td>61.884613</td>\n",
       "      <td>32984.498867</td>\n",
       "      <td>2146.878623</td>\n",
       "      <td>1284.678729</td>\n",
       "    </tr>\n",
       "  </tbody>\n",
       "</table>\n",
       "</div>"
      ],
      "text/plain": [
       "                      min             max            mean          median\n",
       "          bbox_pixel_area bbox_pixel_area bbox_pixel_area bbox_pixel_area\n",
       "tree_type                                                                \n",
       "Fallen          61.884613    32984.498867     1888.173147     1094.167197\n",
       "Standing       332.356330    11797.321883     3931.946412     3271.943724\n",
       "All             61.884613    32984.498867     2146.878623     1284.678729"
      ]
     },
     "execution_count": null,
     "metadata": {},
     "output_type": "execute_result"
    }
   ],
   "source": [
    "pd.pivot_table(gt_tps, index='tree_type', values='bbox_pixel_area', aggfunc=['min', 'max', 'mean', 'median'], margins=True)"
   ]
  },
  {
   "cell_type": "code",
   "execution_count": null,
   "id": "dd05f68c",
   "metadata": {},
   "outputs": [
    {
     "data": {
      "text/html": [
       "<div>\n",
       "<style scoped>\n",
       "    .dataframe tbody tr th:only-of-type {\n",
       "        vertical-align: middle;\n",
       "    }\n",
       "\n",
       "    .dataframe tbody tr th {\n",
       "        vertical-align: top;\n",
       "    }\n",
       "\n",
       "    .dataframe thead tr th {\n",
       "        text-align: left;\n",
       "    }\n",
       "\n",
       "    .dataframe thead tr:last-of-type th {\n",
       "        text-align: right;\n",
       "    }\n",
       "</style>\n",
       "<table border=\"1\" class=\"dataframe\">\n",
       "  <thead>\n",
       "    <tr>\n",
       "      <th></th>\n",
       "      <th>min</th>\n",
       "      <th>max</th>\n",
       "      <th>mean</th>\n",
       "      <th>median</th>\n",
       "    </tr>\n",
       "    <tr>\n",
       "      <th></th>\n",
       "      <th>bbox_aspect_ratio</th>\n",
       "      <th>bbox_aspect_ratio</th>\n",
       "      <th>bbox_aspect_ratio</th>\n",
       "      <th>bbox_aspect_ratio</th>\n",
       "    </tr>\n",
       "    <tr>\n",
       "      <th>tree_type</th>\n",
       "      <th></th>\n",
       "      <th></th>\n",
       "      <th></th>\n",
       "      <th></th>\n",
       "    </tr>\n",
       "  </thead>\n",
       "  <tbody>\n",
       "    <tr>\n",
       "      <th>Fallen</th>\n",
       "      <td>0.055215</td>\n",
       "      <td>28.4</td>\n",
       "      <td>1.882766</td>\n",
       "      <td>1.070175</td>\n",
       "    </tr>\n",
       "    <tr>\n",
       "      <th>Standing</th>\n",
       "      <td>0.683333</td>\n",
       "      <td>1.6</td>\n",
       "      <td>1.065148</td>\n",
       "      <td>1.033009</td>\n",
       "    </tr>\n",
       "    <tr>\n",
       "      <th>All</th>\n",
       "      <td>0.055215</td>\n",
       "      <td>28.4</td>\n",
       "      <td>1.779270</td>\n",
       "      <td>1.055556</td>\n",
       "    </tr>\n",
       "  </tbody>\n",
       "</table>\n",
       "</div>"
      ],
      "text/plain": [
       "                        min               max              mean  \\\n",
       "          bbox_aspect_ratio bbox_aspect_ratio bbox_aspect_ratio   \n",
       "tree_type                                                         \n",
       "Fallen             0.055215              28.4          1.882766   \n",
       "Standing           0.683333               1.6          1.065148   \n",
       "All                0.055215              28.4          1.779270   \n",
       "\n",
       "                     median  \n",
       "          bbox_aspect_ratio  \n",
       "tree_type                    \n",
       "Fallen             1.070175  \n",
       "Standing           1.033009  \n",
       "All                1.055556  "
      ]
     },
     "execution_count": null,
     "metadata": {},
     "output_type": "execute_result"
    }
   ],
   "source": [
    "pd.pivot_table(gt_tps, index='tree_type', values='bbox_aspect_ratio', aggfunc=['min', 'max', 'mean', 'median'], margins=True)"
   ]
  },
  {
   "cell_type": "code",
   "execution_count": null,
   "id": "b4802c75",
   "metadata": {},
   "outputs": [
    {
     "data": {
      "text/html": [
       "<div>\n",
       "<style scoped>\n",
       "    .dataframe tbody tr th:only-of-type {\n",
       "        vertical-align: middle;\n",
       "    }\n",
       "\n",
       "    .dataframe tbody tr th {\n",
       "        vertical-align: top;\n",
       "    }\n",
       "\n",
       "    .dataframe thead tr th {\n",
       "        text-align: left;\n",
       "    }\n",
       "\n",
       "    .dataframe thead tr:last-of-type th {\n",
       "        text-align: right;\n",
       "    }\n",
       "</style>\n",
       "<table border=\"1\" class=\"dataframe\">\n",
       "  <thead>\n",
       "    <tr>\n",
       "      <th></th>\n",
       "      <th>min</th>\n",
       "      <th>max</th>\n",
       "      <th>mean</th>\n",
       "      <th>median</th>\n",
       "    </tr>\n",
       "    <tr>\n",
       "      <th></th>\n",
       "      <th>bbox_x_px</th>\n",
       "      <th>bbox_x_px</th>\n",
       "      <th>bbox_x_px</th>\n",
       "      <th>bbox_x_px</th>\n",
       "    </tr>\n",
       "    <tr>\n",
       "      <th>tree_type</th>\n",
       "      <th></th>\n",
       "      <th></th>\n",
       "      <th></th>\n",
       "      <th></th>\n",
       "    </tr>\n",
       "  </thead>\n",
       "  <tbody>\n",
       "    <tr>\n",
       "      <th>Fallen</th>\n",
       "      <td>4.328339</td>\n",
       "      <td>274.472453</td>\n",
       "      <td>45.224531</td>\n",
       "      <td>37.468172</td>\n",
       "    </tr>\n",
       "    <tr>\n",
       "      <th>Standing</th>\n",
       "      <td>18.230643</td>\n",
       "      <td>120.362575</td>\n",
       "      <td>60.846953</td>\n",
       "      <td>55.741260</td>\n",
       "    </tr>\n",
       "    <tr>\n",
       "      <th>All</th>\n",
       "      <td>4.328339</td>\n",
       "      <td>274.472453</td>\n",
       "      <td>47.202053</td>\n",
       "      <td>40.512539</td>\n",
       "    </tr>\n",
       "  </tbody>\n",
       "</table>\n",
       "</div>"
      ],
      "text/plain": [
       "                 min         max       mean     median\n",
       "           bbox_x_px   bbox_x_px  bbox_x_px  bbox_x_px\n",
       "tree_type                                             \n",
       "Fallen      4.328339  274.472453  45.224531  37.468172\n",
       "Standing   18.230643  120.362575  60.846953  55.741260\n",
       "All         4.328339  274.472453  47.202053  40.512539"
      ]
     },
     "execution_count": null,
     "metadata": {},
     "output_type": "execute_result"
    }
   ],
   "source": [
    "pd.pivot_table(gt_tps, index='tree_type', values='bbox_x_px', aggfunc=['min', 'max', 'mean', 'median'], margins=True)"
   ]
  },
  {
   "cell_type": "code",
   "execution_count": null,
   "id": "b20883ae",
   "metadata": {},
   "outputs": [
    {
     "data": {
      "text/plain": [
       "<AxesSubplot:title={'center':'Distribution of bounding box width, in pixels'}, ylabel='Frequency'>"
      ]
     },
     "execution_count": null,
     "metadata": {},
     "output_type": "execute_result"
    },
    {
     "data": {
      "image/png": "[encoded data removed]",
      "text/plain": [
       "<Figure size 720x432 with 1 Axes>"
      ]
     },
     "metadata": {
      "needs_background": "light"
     },
     "output_type": "display_data"
    }
   ],
   "source": [
    "gt_tps.plot(kind='hist', y='bbox_x_px', bins=100, grid=True, \n",
    "         title='Distribution of bounding box width, in pixels',\n",
    "         figsize=(10,6))"
   ]
  },
  {
   "cell_type": "code",
   "execution_count": null,
   "id": "ed35a37b",
   "metadata": {},
   "outputs": [
    {
     "data": {
      "text/html": [
       "<div>\n",
       "<style scoped>\n",
       "    .dataframe tbody tr th:only-of-type {\n",
       "        vertical-align: middle;\n",
       "    }\n",
       "\n",
       "    .dataframe tbody tr th {\n",
       "        vertical-align: top;\n",
       "    }\n",
       "\n",
       "    .dataframe thead tr th {\n",
       "        text-align: left;\n",
       "    }\n",
       "\n",
       "    .dataframe thead tr:last-of-type th {\n",
       "        text-align: right;\n",
       "    }\n",
       "</style>\n",
       "<table border=\"1\" class=\"dataframe\">\n",
       "  <thead>\n",
       "    <tr>\n",
       "      <th></th>\n",
       "      <th>min</th>\n",
       "      <th>max</th>\n",
       "      <th>mean</th>\n",
       "      <th>median</th>\n",
       "    </tr>\n",
       "    <tr>\n",
       "      <th></th>\n",
       "      <th>bbox_y_px</th>\n",
       "      <th>bbox_y_px</th>\n",
       "      <th>bbox_y_px</th>\n",
       "      <th>bbox_y_px</th>\n",
       "    </tr>\n",
       "    <tr>\n",
       "      <th>tree_type</th>\n",
       "      <th></th>\n",
       "      <th></th>\n",
       "      <th></th>\n",
       "      <th></th>\n",
       "    </tr>\n",
       "  </thead>\n",
       "  <tbody>\n",
       "    <tr>\n",
       "      <th>Fallen</th>\n",
       "      <td>4.328339</td>\n",
       "      <td>245.100862</td>\n",
       "      <td>40.591389</td>\n",
       "      <td>33.270956</td>\n",
       "    </tr>\n",
       "    <tr>\n",
       "      <th>Standing</th>\n",
       "      <td>18.230643</td>\n",
       "      <td>115.460737</td>\n",
       "      <td>58.373618</td>\n",
       "      <td>55.741260</td>\n",
       "    </tr>\n",
       "    <tr>\n",
       "      <th>All</th>\n",
       "      <td>4.328339</td>\n",
       "      <td>245.100862</td>\n",
       "      <td>42.842304</td>\n",
       "      <td>37.185186</td>\n",
       "    </tr>\n",
       "  </tbody>\n",
       "</table>\n",
       "</div>"
      ],
      "text/plain": [
       "                 min         max       mean     median\n",
       "           bbox_y_px   bbox_y_px  bbox_y_px  bbox_y_px\n",
       "tree_type                                             \n",
       "Fallen      4.328339  245.100862  40.591389  33.270956\n",
       "Standing   18.230643  115.460737  58.373618  55.741260\n",
       "All         4.328339  245.100862  42.842304  37.185186"
      ]
     },
     "execution_count": null,
     "metadata": {},
     "output_type": "execute_result"
    }
   ],
   "source": [
    "pd.pivot_table(gt_tps, index='tree_type', values='bbox_y_px', aggfunc=['min', 'max', 'mean', 'median'], margins=True)"
   ]
  },
  {
   "cell_type": "code",
   "execution_count": null,
   "id": "c2741a80",
   "metadata": {},
   "outputs": [
    {
     "data": {
      "text/plain": [
       "<AxesSubplot:title={'center':'Distribution of bounding box width, in pixels'}, ylabel='Frequency'>"
      ]
     },
     "execution_count": null,
     "metadata": {},
     "output_type": "execute_result"
    },
    {
     "data": {
      "image/png": "[encoded data removed]",
      "text/plain": [
       "<Figure size 720x432 with 1 Axes>"
      ]
     },
     "metadata": {
      "needs_background": "light"
     },
     "output_type": "display_data"
    }
   ],
   "source": [
    "gt_tps.plot(kind='hist', y='bbox_y_px', bins=100, grid=True, \n",
    "         title='Distribution of bounding box width, in pixels',\n",
    "         figsize=(10,6))"
   ]
  },
  {
   "cell_type": "code",
   "execution_count": null,
   "id": "8d0108c7",
   "metadata": {},
   "outputs": [
    {
     "data": {
      "text/html": [
       "<div>\n",
       "<style scoped>\n",
       "    .dataframe tbody tr th:only-of-type {\n",
       "        vertical-align: middle;\n",
       "    }\n",
       "\n",
       "    .dataframe tbody tr th {\n",
       "        vertical-align: top;\n",
       "    }\n",
       "\n",
       "    .dataframe thead tr th {\n",
       "        text-align: left;\n",
       "    }\n",
       "\n",
       "    .dataframe thead tr:last-of-type th {\n",
       "        text-align: right;\n",
       "    }\n",
       "</style>\n",
       "<table border=\"1\" class=\"dataframe\">\n",
       "  <thead>\n",
       "    <tr>\n",
       "      <th></th>\n",
       "      <th>min</th>\n",
       "      <th>max</th>\n",
       "      <th>mean</th>\n",
       "      <th>median</th>\n",
       "    </tr>\n",
       "    <tr>\n",
       "      <th></th>\n",
       "      <th>length</th>\n",
       "      <th>length</th>\n",
       "      <th>length</th>\n",
       "      <th>length</th>\n",
       "    </tr>\n",
       "    <tr>\n",
       "      <th>tree_type</th>\n",
       "      <th></th>\n",
       "      <th></th>\n",
       "      <th></th>\n",
       "      <th></th>\n",
       "    </tr>\n",
       "  </thead>\n",
       "  <tbody>\n",
       "    <tr>\n",
       "      <th>Fallen</th>\n",
       "      <td>0.421301</td>\n",
       "      <td>11.242332</td>\n",
       "      <td>2.599253</td>\n",
       "      <td>2.322830</td>\n",
       "    </tr>\n",
       "    <tr>\n",
       "      <th>Standing</th>\n",
       "      <td>0.729226</td>\n",
       "      <td>4.847981</td>\n",
       "      <td>2.531606</td>\n",
       "      <td>2.470671</td>\n",
       "    </tr>\n",
       "    <tr>\n",
       "      <th>All</th>\n",
       "      <td>0.421301</td>\n",
       "      <td>11.242332</td>\n",
       "      <td>2.590690</td>\n",
       "      <td>2.331836</td>\n",
       "    </tr>\n",
       "  </tbody>\n",
       "</table>\n",
       "</div>"
      ],
      "text/plain": [
       "                min        max      mean    median\n",
       "             length     length    length    length\n",
       "tree_type                                         \n",
       "Fallen     0.421301  11.242332  2.599253  2.322830\n",
       "Standing   0.729226   4.847981  2.531606  2.470671\n",
       "All        0.421301  11.242332  2.590690  2.331836"
      ]
     },
     "execution_count": null,
     "metadata": {},
     "output_type": "execute_result"
    }
   ],
   "source": [
    "pd.pivot_table(gt_tps, index='tree_type', values='length', aggfunc=['min', 'max', 'mean', 'median'], margins=True)"
   ]
  },
  {
   "cell_type": "code",
   "execution_count": null,
   "id": "4c5a3754",
   "metadata": {},
   "outputs": [
    {
     "data": {
      "text/plain": [
       "<AxesSubplot:title={'center':'Distribution of groundwood length in meters'}, ylabel='Frequency'>"
      ]
     },
     "execution_count": null,
     "metadata": {},
     "output_type": "execute_result"
    },
    {
     "data": {
      "image/png": "[encoded data removed]",
      "text/plain": [
       "<Figure size 720x432 with 1 Axes>"
      ]
     },
     "metadata": {
      "needs_background": "light"
     },
     "output_type": "display_data"
    }
   ],
   "source": [
    "gt_tps[gt_tps.tree_type =='Fallen'].plot(kind='hist', y='length', bins=50, grid=True, \n",
    "                                   title='Distribution of groundwood length in meters',\n",
    "                                   figsize=(10,6))"
   ]
  },
  {
   "cell_type": "code",
   "execution_count": null,
   "id": "08c80b65",
   "metadata": {},
   "outputs": [
    {
     "data": {
      "text/plain": [
       "<AxesSubplot:title={'center':'Distribution of uprightwood maximum canopy diameter, in meters'}, ylabel='Frequency'>"
      ]
     },
     "execution_count": null,
     "metadata": {},
     "output_type": "execute_result"
    },
    {
     "data": {
      "image/png": "[encoded data removed]",
      "text/plain": [
       "<Figure size 720x432 with 1 Axes>"
      ]
     },
     "metadata": {
      "needs_background": "light"
     },
     "output_type": "display_data"
    }
   ],
   "source": [
    "gt_tps[gt_tps.tree_type =='Standing'].plot(kind='hist', y='length', bins=20, grid=True, \n",
    "                                     title='Distribution of uprightwood maximum canopy diameter, in meters',\n",
    "                                     figsize=(10,6))"
   ]
  },
  {
   "cell_type": "markdown",
   "id": "d36e830a",
   "metadata": {},
   "source": [
    "# Detections (TP/FP) -comparison"
   ]
  },
  {
   "cell_type": "code",
   "execution_count": null,
   "id": "d0fe7ca3",
   "metadata": {},
   "outputs": [],
   "source": [
    "gts = gpd.read_file(data_path/'dts.geojson')"
   ]
  },
  {
   "cell_type": "code",
   "execution_count": null,
   "id": "29623a95",
   "metadata": {},
   "outputs": [],
   "source": [
    "fps = gts[gts.det_type == 'FP'].copy()\n",
    "dt_tps = gts[gts.det_type == 'TP'].copy()"
   ]
  },
  {
   "cell_type": "markdown",
   "id": "2fb66074",
   "metadata": {},
   "source": [
    "## False positives"
   ]
  },
  {
   "cell_type": "code",
   "execution_count": null,
   "id": "0c02b865",
   "metadata": {},
   "outputs": [],
   "source": [
    "fps['geometry'] = fps.apply(lambda row: fix_multipolys(row.geometry) if row.geometry.type == 'MultiPolygon' \n",
    "                                        else Polygon(row.geometry.exterior), axis=1)\n",
    "fps['area'] = fps.geometry.area\n",
    "fps['pixel_area'] = fps.area / 0.04**2\n",
    "fps['bbox_area'] = fps.apply(lambda row: box(*row.geometry.bounds).area, axis=1)\n",
    "fps['bbox_x_px'] = fps.apply(lambda row: (row.geometry.bounds[2] - row.geometry.bounds[0]) / 0.04, axis=1)\n",
    "fps['bbox_y_px'] = fps.apply(lambda row: (row.geometry.bounds[3] - row.geometry.bounds[1]) / 0.04, axis=1)\n",
    "fps['bbox_pixel_area'] = fps.bbox_area / 0.04**2\n",
    "fps['bbox_aspect_ratio'] = fps.bbox_x_px / fps.bbox_y_px\n",
    "fps['length'] = fps.apply(lambda row: get_len(row.geometry), axis=1)"
   ]
  },
  {
   "cell_type": "code",
   "execution_count": null,
   "id": "cc515b38",
   "metadata": {},
   "outputs": [
    {
     "data": {
      "text/html": [
       "<div>\n",
       "<style scoped>\n",
       "    .dataframe tbody tr th:only-of-type {\n",
       "        vertical-align: middle;\n",
       "    }\n",
       "\n",
       "    .dataframe tbody tr th {\n",
       "        vertical-align: top;\n",
       "    }\n",
       "\n",
       "    .dataframe thead tr th {\n",
       "        text-align: left;\n",
       "    }\n",
       "\n",
       "    .dataframe thead tr:last-of-type th {\n",
       "        text-align: right;\n",
       "    }\n",
       "</style>\n",
       "<table border=\"1\" class=\"dataframe\">\n",
       "  <thead>\n",
       "    <tr>\n",
       "      <th></th>\n",
       "      <th>min</th>\n",
       "      <th>max</th>\n",
       "      <th>mean</th>\n",
       "      <th>median</th>\n",
       "    </tr>\n",
       "    <tr>\n",
       "      <th></th>\n",
       "      <th>area</th>\n",
       "      <th>area</th>\n",
       "      <th>area</th>\n",
       "      <th>area</th>\n",
       "    </tr>\n",
       "    <tr>\n",
       "      <th>tree_type</th>\n",
       "      <th></th>\n",
       "      <th></th>\n",
       "      <th></th>\n",
       "      <th></th>\n",
       "    </tr>\n",
       "  </thead>\n",
       "  <tbody>\n",
       "    <tr>\n",
       "      <th>Fallen</th>\n",
       "      <td>0.002462</td>\n",
       "      <td>2.392145</td>\n",
       "      <td>0.401751</td>\n",
       "      <td>0.286961</td>\n",
       "    </tr>\n",
       "    <tr>\n",
       "      <th>Standing</th>\n",
       "      <td>0.489904</td>\n",
       "      <td>7.797723</td>\n",
       "      <td>2.931410</td>\n",
       "      <td>2.236554</td>\n",
       "    </tr>\n",
       "    <tr>\n",
       "      <th>All</th>\n",
       "      <td>0.002462</td>\n",
       "      <td>7.797723</td>\n",
       "      <td>0.850045</td>\n",
       "      <td>0.349304</td>\n",
       "    </tr>\n",
       "  </tbody>\n",
       "</table>\n",
       "</div>"
      ],
      "text/plain": [
       "                min       max      mean    median\n",
       "               area      area      area      area\n",
       "tree_type                                        \n",
       "Fallen     0.002462  2.392145  0.401751  0.286961\n",
       "Standing   0.489904  7.797723  2.931410  2.236554\n",
       "All        0.002462  7.797723  0.850045  0.349304"
      ]
     },
     "execution_count": null,
     "metadata": {},
     "output_type": "execute_result"
    }
   ],
   "source": [
    "pd.pivot_table(fps, index='tree_type', values='area', aggfunc=['min', 'max', 'mean', 'median'], margins=True)"
   ]
  },
  {
   "cell_type": "code",
   "execution_count": null,
   "id": "accfad13",
   "metadata": {},
   "outputs": [
    {
     "data": {
      "text/html": [
       "<div>\n",
       "<style scoped>\n",
       "    .dataframe tbody tr th:only-of-type {\n",
       "        vertical-align: middle;\n",
       "    }\n",
       "\n",
       "    .dataframe tbody tr th {\n",
       "        vertical-align: top;\n",
       "    }\n",
       "\n",
       "    .dataframe thead tr th {\n",
       "        text-align: left;\n",
       "    }\n",
       "\n",
       "    .dataframe thead tr:last-of-type th {\n",
       "        text-align: right;\n",
       "    }\n",
       "</style>\n",
       "<table border=\"1\" class=\"dataframe\">\n",
       "  <thead>\n",
       "    <tr>\n",
       "      <th></th>\n",
       "      <th>min</th>\n",
       "      <th>max</th>\n",
       "      <th>mean</th>\n",
       "      <th>median</th>\n",
       "    </tr>\n",
       "    <tr>\n",
       "      <th></th>\n",
       "      <th>pixel_area</th>\n",
       "      <th>pixel_area</th>\n",
       "      <th>pixel_area</th>\n",
       "      <th>pixel_area</th>\n",
       "    </tr>\n",
       "    <tr>\n",
       "      <th>tree_type</th>\n",
       "      <th></th>\n",
       "      <th></th>\n",
       "      <th></th>\n",
       "      <th></th>\n",
       "    </tr>\n",
       "  </thead>\n",
       "  <tbody>\n",
       "    <tr>\n",
       "      <th>Fallen</th>\n",
       "      <td>1.538687</td>\n",
       "      <td>1495.090589</td>\n",
       "      <td>251.094601</td>\n",
       "      <td>179.350777</td>\n",
       "    </tr>\n",
       "    <tr>\n",
       "      <th>Standing</th>\n",
       "      <td>306.190272</td>\n",
       "      <td>4873.577088</td>\n",
       "      <td>1832.131158</td>\n",
       "      <td>1397.846079</td>\n",
       "    </tr>\n",
       "    <tr>\n",
       "      <th>All</th>\n",
       "      <td>1.538687</td>\n",
       "      <td>4873.577088</td>\n",
       "      <td>531.278295</td>\n",
       "      <td>218.315163</td>\n",
       "    </tr>\n",
       "  </tbody>\n",
       "</table>\n",
       "</div>"
      ],
      "text/plain": [
       "                  min          max         mean       median\n",
       "           pixel_area   pixel_area   pixel_area   pixel_area\n",
       "tree_type                                                   \n",
       "Fallen       1.538687  1495.090589   251.094601   179.350777\n",
       "Standing   306.190272  4873.577088  1832.131158  1397.846079\n",
       "All          1.538687  4873.577088   531.278295   218.315163"
      ]
     },
     "execution_count": null,
     "metadata": {},
     "output_type": "execute_result"
    }
   ],
   "source": [
    "pd.pivot_table(fps, index='tree_type', values='pixel_area', aggfunc=['min', 'max', 'mean', 'median'], margins=True)"
   ]
  },
  {
   "cell_type": "code",
   "execution_count": null,
   "id": "5ecaf7a1",
   "metadata": {},
   "outputs": [
    {
     "data": {
      "text/html": [
       "<div>\n",
       "<style scoped>\n",
       "    .dataframe tbody tr th:only-of-type {\n",
       "        vertical-align: middle;\n",
       "    }\n",
       "\n",
       "    .dataframe tbody tr th {\n",
       "        vertical-align: top;\n",
       "    }\n",
       "\n",
       "    .dataframe thead tr th {\n",
       "        text-align: left;\n",
       "    }\n",
       "\n",
       "    .dataframe thead tr:last-of-type th {\n",
       "        text-align: right;\n",
       "    }\n",
       "</style>\n",
       "<table border=\"1\" class=\"dataframe\">\n",
       "  <thead>\n",
       "    <tr>\n",
       "      <th></th>\n",
       "      <th>min</th>\n",
       "      <th>max</th>\n",
       "      <th>mean</th>\n",
       "      <th>median</th>\n",
       "    </tr>\n",
       "    <tr>\n",
       "      <th></th>\n",
       "      <th>bbox_pixel_area</th>\n",
       "      <th>bbox_pixel_area</th>\n",
       "      <th>bbox_pixel_area</th>\n",
       "      <th>bbox_pixel_area</th>\n",
       "    </tr>\n",
       "    <tr>\n",
       "      <th>tree_type</th>\n",
       "      <th></th>\n",
       "      <th></th>\n",
       "      <th></th>\n",
       "      <th></th>\n",
       "    </tr>\n",
       "  </thead>\n",
       "  <tbody>\n",
       "    <tr>\n",
       "      <th>Fallen</th>\n",
       "      <td>2.051582</td>\n",
       "      <td>14460.577724</td>\n",
       "      <td>1460.173479</td>\n",
       "      <td>586.035795</td>\n",
       "    </tr>\n",
       "    <tr>\n",
       "      <th>Standing</th>\n",
       "      <td>374.926864</td>\n",
       "      <td>8096.295174</td>\n",
       "      <td>2684.245548</td>\n",
       "      <td>2120.570847</td>\n",
       "    </tr>\n",
       "    <tr>\n",
       "      <th>All</th>\n",
       "      <td>2.051582</td>\n",
       "      <td>14460.577724</td>\n",
       "      <td>1677.097643</td>\n",
       "      <td>835.442279</td>\n",
       "    </tr>\n",
       "  </tbody>\n",
       "</table>\n",
       "</div>"
      ],
      "text/plain": [
       "                      min             max            mean          median\n",
       "          bbox_pixel_area bbox_pixel_area bbox_pixel_area bbox_pixel_area\n",
       "tree_type                                                                \n",
       "Fallen           2.051582    14460.577724     1460.173479      586.035795\n",
       "Standing       374.926864     8096.295174     2684.245548     2120.570847\n",
       "All              2.051582    14460.577724     1677.097643      835.442279"
      ]
     },
     "execution_count": null,
     "metadata": {},
     "output_type": "execute_result"
    }
   ],
   "source": [
    "pd.pivot_table(fps, index='tree_type', values='bbox_pixel_area', aggfunc=['min', 'max', 'mean', 'median'], margins=True)"
   ]
  },
  {
   "cell_type": "code",
   "execution_count": null,
   "id": "7a4fa0f2",
   "metadata": {},
   "outputs": [
    {
     "data": {
      "text/html": [
       "<div>\n",
       "<style scoped>\n",
       "    .dataframe tbody tr th:only-of-type {\n",
       "        vertical-align: middle;\n",
       "    }\n",
       "\n",
       "    .dataframe tbody tr th {\n",
       "        vertical-align: top;\n",
       "    }\n",
       "\n",
       "    .dataframe thead tr th {\n",
       "        text-align: left;\n",
       "    }\n",
       "\n",
       "    .dataframe thead tr:last-of-type th {\n",
       "        text-align: right;\n",
       "    }\n",
       "</style>\n",
       "<table border=\"1\" class=\"dataframe\">\n",
       "  <thead>\n",
       "    <tr>\n",
       "      <th></th>\n",
       "      <th>min</th>\n",
       "      <th>max</th>\n",
       "      <th>mean</th>\n",
       "      <th>median</th>\n",
       "    </tr>\n",
       "    <tr>\n",
       "      <th></th>\n",
       "      <th>bbox_aspect_ratio</th>\n",
       "      <th>bbox_aspect_ratio</th>\n",
       "      <th>bbox_aspect_ratio</th>\n",
       "      <th>bbox_aspect_ratio</th>\n",
       "    </tr>\n",
       "    <tr>\n",
       "      <th>tree_type</th>\n",
       "      <th></th>\n",
       "      <th></th>\n",
       "      <th></th>\n",
       "      <th></th>\n",
       "    </tr>\n",
       "  </thead>\n",
       "  <tbody>\n",
       "    <tr>\n",
       "      <th>Fallen</th>\n",
       "      <td>0.053191</td>\n",
       "      <td>15.500000</td>\n",
       "      <td>1.769868</td>\n",
       "      <td>1.148148</td>\n",
       "    </tr>\n",
       "    <tr>\n",
       "      <th>Standing</th>\n",
       "      <td>0.186441</td>\n",
       "      <td>3.733333</td>\n",
       "      <td>1.056961</td>\n",
       "      <td>1.022543</td>\n",
       "    </tr>\n",
       "    <tr>\n",
       "      <th>All</th>\n",
       "      <td>0.053191</td>\n",
       "      <td>15.500000</td>\n",
       "      <td>1.643530</td>\n",
       "      <td>1.100000</td>\n",
       "    </tr>\n",
       "  </tbody>\n",
       "</table>\n",
       "</div>"
      ],
      "text/plain": [
       "                        min               max              mean  \\\n",
       "          bbox_aspect_ratio bbox_aspect_ratio bbox_aspect_ratio   \n",
       "tree_type                                                         \n",
       "Fallen             0.053191         15.500000          1.769868   \n",
       "Standing           0.186441          3.733333          1.056961   \n",
       "All                0.053191         15.500000          1.643530   \n",
       "\n",
       "                     median  \n",
       "          bbox_aspect_ratio  \n",
       "tree_type                    \n",
       "Fallen             1.148148  \n",
       "Standing           1.022543  \n",
       "All                1.100000  "
      ]
     },
     "execution_count": null,
     "metadata": {},
     "output_type": "execute_result"
    }
   ],
   "source": [
    "pd.pivot_table(fps, index='tree_type', values='bbox_aspect_ratio', aggfunc=['min', 'max', 'mean', 'median'], margins=True)"
   ]
  },
  {
   "cell_type": "code",
   "execution_count": null,
   "id": "6074de2b",
   "metadata": {},
   "outputs": [
    {
     "data": {
      "text/html": [
       "<div>\n",
       "<style scoped>\n",
       "    .dataframe tbody tr th:only-of-type {\n",
       "        vertical-align: middle;\n",
       "    }\n",
       "\n",
       "    .dataframe tbody tr th {\n",
       "        vertical-align: top;\n",
       "    }\n",
       "\n",
       "    .dataframe thead tr th {\n",
       "        text-align: left;\n",
       "    }\n",
       "\n",
       "    .dataframe thead tr:last-of-type th {\n",
       "        text-align: right;\n",
       "    }\n",
       "</style>\n",
       "<table border=\"1\" class=\"dataframe\">\n",
       "  <thead>\n",
       "    <tr>\n",
       "      <th></th>\n",
       "      <th>min</th>\n",
       "      <th>max</th>\n",
       "      <th>mean</th>\n",
       "      <th>median</th>\n",
       "    </tr>\n",
       "    <tr>\n",
       "      <th></th>\n",
       "      <th>bbox_x_px</th>\n",
       "      <th>bbox_x_px</th>\n",
       "      <th>bbox_x_px</th>\n",
       "      <th>bbox_x_px</th>\n",
       "    </tr>\n",
       "    <tr>\n",
       "      <th>tree_type</th>\n",
       "      <th></th>\n",
       "      <th></th>\n",
       "      <th></th>\n",
       "      <th></th>\n",
       "    </tr>\n",
       "  </thead>\n",
       "  <tbody>\n",
       "    <tr>\n",
       "      <th>Fallen</th>\n",
       "      <td>2.025627</td>\n",
       "      <td>211.962802</td>\n",
       "      <td>37.259041</td>\n",
       "      <td>31.045057</td>\n",
       "    </tr>\n",
       "    <tr>\n",
       "      <th>Standing</th>\n",
       "      <td>10.921267</td>\n",
       "      <td>116.448345</td>\n",
       "      <td>49.131500</td>\n",
       "      <td>47.313600</td>\n",
       "    </tr>\n",
       "    <tr>\n",
       "      <th>All</th>\n",
       "      <td>2.025627</td>\n",
       "      <td>211.962802</td>\n",
       "      <td>39.363021</td>\n",
       "      <td>33.544626</td>\n",
       "    </tr>\n",
       "  </tbody>\n",
       "</table>\n",
       "</div>"
      ],
      "text/plain": [
       "                 min         max       mean     median\n",
       "           bbox_x_px   bbox_x_px  bbox_x_px  bbox_x_px\n",
       "tree_type                                             \n",
       "Fallen      2.025627  211.962802  37.259041  31.045057\n",
       "Standing   10.921267  116.448345  49.131500  47.313600\n",
       "All         2.025627  211.962802  39.363021  33.544626"
      ]
     },
     "execution_count": null,
     "metadata": {},
     "output_type": "execute_result"
    }
   ],
   "source": [
    "pd.pivot_table(fps, index='tree_type', values='bbox_x_px', aggfunc=['min', 'max', 'mean', 'median'], margins=True)"
   ]
  },
  {
   "cell_type": "code",
   "execution_count": null,
   "id": "46d3ec51",
   "metadata": {},
   "outputs": [
    {
     "data": {
      "text/plain": [
       "<AxesSubplot:title={'center':'Distribution of bounding box width, in pixels'}, ylabel='Frequency'>"
      ]
     },
     "execution_count": null,
     "metadata": {},
     "output_type": "execute_result"
    },
    {
     "data": {
      "image/png": "[encoded data removed]",
      "text/plain": [
       "<Figure size 720x432 with 1 Axes>"
      ]
     },
     "metadata": {
      "needs_background": "light"
     },
     "output_type": "display_data"
    }
   ],
   "source": [
    "fps.plot(kind='hist', y='bbox_x_px', bins=100, grid=True, \n",
    "         title='Distribution of bounding box width, in pixels',\n",
    "         figsize=(10,6))"
   ]
  },
  {
   "cell_type": "code",
   "execution_count": null,
   "id": "e95906ec",
   "metadata": {},
   "outputs": [
    {
     "data": {
      "text/html": [
       "<div>\n",
       "<style scoped>\n",
       "    .dataframe tbody tr th:only-of-type {\n",
       "        vertical-align: middle;\n",
       "    }\n",
       "\n",
       "    .dataframe tbody tr th {\n",
       "        vertical-align: top;\n",
       "    }\n",
       "\n",
       "    .dataframe thead tr th {\n",
       "        text-align: left;\n",
       "    }\n",
       "\n",
       "    .dataframe thead tr:last-of-type th {\n",
       "        text-align: right;\n",
       "    }\n",
       "</style>\n",
       "<table border=\"1\" class=\"dataframe\">\n",
       "  <thead>\n",
       "    <tr>\n",
       "      <th></th>\n",
       "      <th>min</th>\n",
       "      <th>max</th>\n",
       "      <th>mean</th>\n",
       "      <th>median</th>\n",
       "    </tr>\n",
       "    <tr>\n",
       "      <th></th>\n",
       "      <th>bbox_y_px</th>\n",
       "      <th>bbox_y_px</th>\n",
       "      <th>bbox_y_px</th>\n",
       "      <th>bbox_y_px</th>\n",
       "    </tr>\n",
       "    <tr>\n",
       "      <th>tree_type</th>\n",
       "      <th></th>\n",
       "      <th></th>\n",
       "      <th></th>\n",
       "      <th></th>\n",
       "    </tr>\n",
       "  </thead>\n",
       "  <tbody>\n",
       "    <tr>\n",
       "      <th>Fallen</th>\n",
       "      <td>1.012813</td>\n",
       "      <td>256.241810</td>\n",
       "      <td>32.80067</td>\n",
       "      <td>25.692461</td>\n",
       "    </tr>\n",
       "    <tr>\n",
       "      <th>Standing</th>\n",
       "      <td>14.892637</td>\n",
       "      <td>115.616074</td>\n",
       "      <td>50.40706</td>\n",
       "      <td>49.906434</td>\n",
       "    </tr>\n",
       "    <tr>\n",
       "      <th>All</th>\n",
       "      <td>1.012813</td>\n",
       "      <td>256.241810</td>\n",
       "      <td>35.92079</td>\n",
       "      <td>30.298372</td>\n",
       "    </tr>\n",
       "  </tbody>\n",
       "</table>\n",
       "</div>"
      ],
      "text/plain": [
       "                 min         max      mean     median\n",
       "           bbox_y_px   bbox_y_px bbox_y_px  bbox_y_px\n",
       "tree_type                                            \n",
       "Fallen      1.012813  256.241810  32.80067  25.692461\n",
       "Standing   14.892637  115.616074  50.40706  49.906434\n",
       "All         1.012813  256.241810  35.92079  30.298372"
      ]
     },
     "execution_count": null,
     "metadata": {},
     "output_type": "execute_result"
    }
   ],
   "source": [
    "pd.pivot_table(fps, index='tree_type', values='bbox_y_px', aggfunc=['min', 'max', 'mean', 'median'], margins=True)"
   ]
  },
  {
   "cell_type": "code",
   "execution_count": null,
   "id": "6bc4d1e8",
   "metadata": {},
   "outputs": [
    {
     "data": {
      "text/plain": [
       "<AxesSubplot:title={'center':'Distribution of bounding box width, in pixels'}, ylabel='Frequency'>"
      ]
     },
     "execution_count": null,
     "metadata": {},
     "output_type": "execute_result"
    },
    {
     "data": {
      "image/png": "[encoded data removed]",
      "text/plain": [
       "<Figure size 720x432 with 1 Axes>"
      ]
     },
     "metadata": {
      "needs_background": "light"
     },
     "output_type": "display_data"
    }
   ],
   "source": [
    "fps.plot(kind='hist', y='bbox_y_px', bins=100, grid=True, \n",
    "         title='Distribution of bounding box width, in pixels',\n",
    "         figsize=(10,6))"
   ]
  },
  {
   "cell_type": "code",
   "execution_count": null,
   "id": "0e5fcc83",
   "metadata": {},
   "outputs": [
    {
     "data": {
      "text/html": [
       "<div>\n",
       "<style scoped>\n",
       "    .dataframe tbody tr th:only-of-type {\n",
       "        vertical-align: middle;\n",
       "    }\n",
       "\n",
       "    .dataframe tbody tr th {\n",
       "        vertical-align: top;\n",
       "    }\n",
       "\n",
       "    .dataframe thead tr th {\n",
       "        text-align: left;\n",
       "    }\n",
       "\n",
       "    .dataframe thead tr:last-of-type th {\n",
       "        text-align: right;\n",
       "    }\n",
       "</style>\n",
       "<table border=\"1\" class=\"dataframe\">\n",
       "  <thead>\n",
       "    <tr>\n",
       "      <th></th>\n",
       "      <th>min</th>\n",
       "      <th>max</th>\n",
       "      <th>mean</th>\n",
       "      <th>median</th>\n",
       "    </tr>\n",
       "    <tr>\n",
       "      <th></th>\n",
       "      <th>length</th>\n",
       "      <th>length</th>\n",
       "      <th>length</th>\n",
       "      <th>length</th>\n",
       "    </tr>\n",
       "    <tr>\n",
       "      <th>tree_type</th>\n",
       "      <th></th>\n",
       "      <th></th>\n",
       "      <th></th>\n",
       "      <th></th>\n",
       "    </tr>\n",
       "  </thead>\n",
       "  <tbody>\n",
       "    <tr>\n",
       "      <th>Fallen</th>\n",
       "      <td>0.081025</td>\n",
       "      <td>10.370546</td>\n",
       "      <td>2.090956</td>\n",
       "      <td>1.662951</td>\n",
       "    </tr>\n",
       "    <tr>\n",
       "      <th>Standing</th>\n",
       "      <td>0.873701</td>\n",
       "      <td>4.710142</td>\n",
       "      <td>2.244893</td>\n",
       "      <td>2.226144</td>\n",
       "    </tr>\n",
       "    <tr>\n",
       "      <th>All</th>\n",
       "      <td>0.081025</td>\n",
       "      <td>10.370546</td>\n",
       "      <td>2.118236</td>\n",
       "      <td>1.745642</td>\n",
       "    </tr>\n",
       "  </tbody>\n",
       "</table>\n",
       "</div>"
      ],
      "text/plain": [
       "                min        max      mean    median\n",
       "             length     length    length    length\n",
       "tree_type                                         \n",
       "Fallen     0.081025  10.370546  2.090956  1.662951\n",
       "Standing   0.873701   4.710142  2.244893  2.226144\n",
       "All        0.081025  10.370546  2.118236  1.745642"
      ]
     },
     "execution_count": null,
     "metadata": {},
     "output_type": "execute_result"
    }
   ],
   "source": [
    "pd.pivot_table(fps, index='tree_type', values='length', aggfunc=['min', 'max', 'mean', 'median'], margins=True)"
   ]
  },
  {
   "cell_type": "code",
   "execution_count": null,
   "id": "d24bc34c",
   "metadata": {},
   "outputs": [
    {
     "data": {
      "text/plain": [
       "<AxesSubplot:title={'center':'Distribution of groundwood length in meters'}, ylabel='Frequency'>"
      ]
     },
     "execution_count": null,
     "metadata": {},
     "output_type": "execute_result"
    },
    {
     "data": {
      "image/png": "[encoded data removed]",
      "text/plain": [
       "<Figure size 720x432 with 1 Axes>"
      ]
     },
     "metadata": {
      "needs_background": "light"
     },
     "output_type": "display_data"
    }
   ],
   "source": [
    "fps[fps.tree_type =='Fallen'].plot(kind='hist', y='length', bins=100, grid=True, \n",
    "                                   title='Distribution of groundwood length in meters',\n",
    "                                   figsize=(10,6))"
   ]
  },
  {
   "cell_type": "code",
   "execution_count": null,
   "id": "633b9a70",
   "metadata": {},
   "outputs": [
    {
     "data": {
      "text/plain": [
       "<AxesSubplot:title={'center':'Distribution of uprightwood maximum canopy diameter, in meters'}, ylabel='Frequency'>"
      ]
     },
     "execution_count": null,
     "metadata": {},
     "output_type": "execute_result"
    },
    {
     "data": {
      "image/png": "[encoded data removed]",
      "text/plain": [
       "<Figure size 720x432 with 1 Axes>"
      ]
     },
     "metadata": {
      "needs_background": "light"
     },
     "output_type": "display_data"
    }
   ],
   "source": [
    "fps[fps.tree_type =='Standing'].plot(kind='hist', y='length', bins=10, grid=True, \n",
    "                                     title='Distribution of uprightwood maximum canopy diameter, in meters',\n",
    "                                     figsize=(10,6))"
   ]
  },
  {
   "cell_type": "markdown",
   "id": "7b9ff60b",
   "metadata": {},
   "source": [
    "## True positives"
   ]
  },
  {
   "cell_type": "code",
   "execution_count": null,
   "id": "61a0c058",
   "metadata": {},
   "outputs": [],
   "source": [
    "dt_tps['geometry'] = dt_tps.apply(lambda row: fix_multipolys(row.geometry) if row.geometry.type == 'MultiPolygon' \n",
    "                                        else Polygon(row.geometry.exterior), axis=1)\n",
    "dt_tps['area'] = dt_tps.geometry.area\n",
    "dt_tps['pixel_area'] = dt_tps.area / 0.04**2\n",
    "dt_tps['bbox_area'] = dt_tps.apply(lambda row: box(*row.geometry.bounds).area, axis=1)\n",
    "dt_tps['bbox_x_px'] = dt_tps.apply(lambda row: (row.geometry.bounds[2] - row.geometry.bounds[0]) / 0.04, axis=1)\n",
    "dt_tps['bbox_y_px'] = dt_tps.apply(lambda row: (row.geometry.bounds[3] - row.geometry.bounds[1]) / 0.04, axis=1)\n",
    "dt_tps['bbox_pixel_area'] = dt_tps.bbox_area / 0.04**2\n",
    "dt_tps['bbox_aspect_ratio'] = dt_tps.bbox_x_px / dt_tps.bbox_y_px\n",
    "dt_tps['length'] = dt_tps.apply(lambda row: get_len(row.geometry), axis=1)"
   ]
  },
  {
   "cell_type": "code",
   "execution_count": null,
   "id": "8abbbb10",
   "metadata": {},
   "outputs": [
    {
     "data": {
      "text/html": [
       "<div>\n",
       "<style scoped>\n",
       "    .dataframe tbody tr th:only-of-type {\n",
       "        vertical-align: middle;\n",
       "    }\n",
       "\n",
       "    .dataframe tbody tr th {\n",
       "        vertical-align: top;\n",
       "    }\n",
       "\n",
       "    .dataframe thead tr th {\n",
       "        text-align: left;\n",
       "    }\n",
       "\n",
       "    .dataframe thead tr:last-of-type th {\n",
       "        text-align: right;\n",
       "    }\n",
       "</style>\n",
       "<table border=\"1\" class=\"dataframe\">\n",
       "  <thead>\n",
       "    <tr>\n",
       "      <th></th>\n",
       "      <th>min</th>\n",
       "      <th>max</th>\n",
       "      <th>mean</th>\n",
       "      <th>median</th>\n",
       "    </tr>\n",
       "    <tr>\n",
       "      <th></th>\n",
       "      <th>area</th>\n",
       "      <th>area</th>\n",
       "      <th>area</th>\n",
       "      <th>area</th>\n",
       "    </tr>\n",
       "    <tr>\n",
       "      <th>tree_type</th>\n",
       "      <th></th>\n",
       "      <th></th>\n",
       "      <th></th>\n",
       "      <th></th>\n",
       "    </tr>\n",
       "  </thead>\n",
       "  <tbody>\n",
       "    <tr>\n",
       "      <th>Fallen</th>\n",
       "      <td>0.063260</td>\n",
       "      <td>3.32087</td>\n",
       "      <td>0.477906</td>\n",
       "      <td>0.401855</td>\n",
       "    </tr>\n",
       "    <tr>\n",
       "      <th>Standing</th>\n",
       "      <td>0.540797</td>\n",
       "      <td>11.20246</td>\n",
       "      <td>3.782048</td>\n",
       "      <td>3.034464</td>\n",
       "    </tr>\n",
       "    <tr>\n",
       "      <th>All</th>\n",
       "      <td>0.063260</td>\n",
       "      <td>11.20246</td>\n",
       "      <td>0.896151</td>\n",
       "      <td>0.449677</td>\n",
       "    </tr>\n",
       "  </tbody>\n",
       "</table>\n",
       "</div>"
      ],
      "text/plain": [
       "                min       max      mean    median\n",
       "               area      area      area      area\n",
       "tree_type                                        \n",
       "Fallen     0.063260   3.32087  0.477906  0.401855\n",
       "Standing   0.540797  11.20246  3.782048  3.034464\n",
       "All        0.063260  11.20246  0.896151  0.449677"
      ]
     },
     "execution_count": null,
     "metadata": {},
     "output_type": "execute_result"
    }
   ],
   "source": [
    "pd.pivot_table(dt_tps, index='tree_type', values='area', aggfunc=['min', 'max', 'mean', 'median'], margins=True)"
   ]
  },
  {
   "cell_type": "code",
   "execution_count": null,
   "id": "78a29b9c",
   "metadata": {},
   "outputs": [
    {
     "data": {
      "text/html": [
       "<div>\n",
       "<style scoped>\n",
       "    .dataframe tbody tr th:only-of-type {\n",
       "        vertical-align: middle;\n",
       "    }\n",
       "\n",
       "    .dataframe tbody tr th {\n",
       "        vertical-align: top;\n",
       "    }\n",
       "\n",
       "    .dataframe thead tr th {\n",
       "        text-align: left;\n",
       "    }\n",
       "\n",
       "    .dataframe thead tr:last-of-type th {\n",
       "        text-align: right;\n",
       "    }\n",
       "</style>\n",
       "<table border=\"1\" class=\"dataframe\">\n",
       "  <thead>\n",
       "    <tr>\n",
       "      <th></th>\n",
       "      <th>min</th>\n",
       "      <th>max</th>\n",
       "      <th>mean</th>\n",
       "      <th>median</th>\n",
       "    </tr>\n",
       "    <tr>\n",
       "      <th></th>\n",
       "      <th>pixel_area</th>\n",
       "      <th>pixel_area</th>\n",
       "      <th>pixel_area</th>\n",
       "      <th>pixel_area</th>\n",
       "    </tr>\n",
       "    <tr>\n",
       "      <th>tree_type</th>\n",
       "      <th></th>\n",
       "      <th></th>\n",
       "      <th></th>\n",
       "      <th></th>\n",
       "    </tr>\n",
       "  </thead>\n",
       "  <tbody>\n",
       "    <tr>\n",
       "      <th>Fallen</th>\n",
       "      <td>39.537392</td>\n",
       "      <td>2075.543440</td>\n",
       "      <td>298.690991</td>\n",
       "      <td>251.159624</td>\n",
       "    </tr>\n",
       "    <tr>\n",
       "      <th>Standing</th>\n",
       "      <td>337.998181</td>\n",
       "      <td>7001.537437</td>\n",
       "      <td>2363.779696</td>\n",
       "      <td>1896.539867</td>\n",
       "    </tr>\n",
       "    <tr>\n",
       "      <th>All</th>\n",
       "      <td>39.537392</td>\n",
       "      <td>7001.537437</td>\n",
       "      <td>560.094624</td>\n",
       "      <td>281.048212</td>\n",
       "    </tr>\n",
       "  </tbody>\n",
       "</table>\n",
       "</div>"
      ],
      "text/plain": [
       "                  min          max         mean       median\n",
       "           pixel_area   pixel_area   pixel_area   pixel_area\n",
       "tree_type                                                   \n",
       "Fallen      39.537392  2075.543440   298.690991   251.159624\n",
       "Standing   337.998181  7001.537437  2363.779696  1896.539867\n",
       "All         39.537392  7001.537437   560.094624   281.048212"
      ]
     },
     "execution_count": null,
     "metadata": {},
     "output_type": "execute_result"
    }
   ],
   "source": [
    "pd.pivot_table(dt_tps, index='tree_type', values='pixel_area', aggfunc=['min', 'max', 'mean', 'median'], margins=True)"
   ]
  },
  {
   "cell_type": "code",
   "execution_count": null,
   "id": "622a4267",
   "metadata": {},
   "outputs": [
    {
     "data": {
      "text/html": [
       "<div>\n",
       "<style scoped>\n",
       "    .dataframe tbody tr th:only-of-type {\n",
       "        vertical-align: middle;\n",
       "    }\n",
       "\n",
       "    .dataframe tbody tr th {\n",
       "        vertical-align: top;\n",
       "    }\n",
       "\n",
       "    .dataframe thead tr th {\n",
       "        text-align: left;\n",
       "    }\n",
       "\n",
       "    .dataframe thead tr:last-of-type th {\n",
       "        text-align: right;\n",
       "    }\n",
       "</style>\n",
       "<table border=\"1\" class=\"dataframe\">\n",
       "  <thead>\n",
       "    <tr>\n",
       "      <th></th>\n",
       "      <th>min</th>\n",
       "      <th>max</th>\n",
       "      <th>mean</th>\n",
       "      <th>median</th>\n",
       "    </tr>\n",
       "    <tr>\n",
       "      <th></th>\n",
       "      <th>bbox_pixel_area</th>\n",
       "      <th>bbox_pixel_area</th>\n",
       "      <th>bbox_pixel_area</th>\n",
       "      <th>bbox_pixel_area</th>\n",
       "    </tr>\n",
       "    <tr>\n",
       "      <th>tree_type</th>\n",
       "      <th></th>\n",
       "      <th></th>\n",
       "      <th></th>\n",
       "      <th></th>\n",
       "    </tr>\n",
       "  </thead>\n",
       "  <tbody>\n",
       "    <tr>\n",
       "      <th>Fallen</th>\n",
       "      <td>61.884613</td>\n",
       "      <td>20993.870534</td>\n",
       "      <td>1619.928932</td>\n",
       "      <td>1025.936236</td>\n",
       "    </tr>\n",
       "    <tr>\n",
       "      <th>Standing</th>\n",
       "      <td>473.915507</td>\n",
       "      <td>10556.304907</td>\n",
       "      <td>3432.256956</td>\n",
       "      <td>2826.570312</td>\n",
       "    </tr>\n",
       "    <tr>\n",
       "      <th>All</th>\n",
       "      <td>61.884613</td>\n",
       "      <td>20993.870534</td>\n",
       "      <td>1849.337543</td>\n",
       "      <td>1199.765964</td>\n",
       "    </tr>\n",
       "  </tbody>\n",
       "</table>\n",
       "</div>"
      ],
      "text/plain": [
       "                      min             max            mean          median\n",
       "          bbox_pixel_area bbox_pixel_area bbox_pixel_area bbox_pixel_area\n",
       "tree_type                                                                \n",
       "Fallen          61.884613    20993.870534     1619.928932     1025.936236\n",
       "Standing       473.915507    10556.304907     3432.256956     2826.570312\n",
       "All             61.884613    20993.870534     1849.337543     1199.765964"
      ]
     },
     "execution_count": null,
     "metadata": {},
     "output_type": "execute_result"
    }
   ],
   "source": [
    "pd.pivot_table(dt_tps, index='tree_type', values='bbox_pixel_area', aggfunc=['min', 'max', 'mean', 'median'], margins=True)"
   ]
  },
  {
   "cell_type": "code",
   "execution_count": null,
   "id": "e383546c",
   "metadata": {},
   "outputs": [
    {
     "data": {
      "text/html": [
       "<div>\n",
       "<style scoped>\n",
       "    .dataframe tbody tr th:only-of-type {\n",
       "        vertical-align: middle;\n",
       "    }\n",
       "\n",
       "    .dataframe tbody tr th {\n",
       "        vertical-align: top;\n",
       "    }\n",
       "\n",
       "    .dataframe thead tr th {\n",
       "        text-align: left;\n",
       "    }\n",
       "\n",
       "    .dataframe thead tr:last-of-type th {\n",
       "        text-align: right;\n",
       "    }\n",
       "</style>\n",
       "<table border=\"1\" class=\"dataframe\">\n",
       "  <thead>\n",
       "    <tr>\n",
       "      <th></th>\n",
       "      <th>min</th>\n",
       "      <th>max</th>\n",
       "      <th>mean</th>\n",
       "      <th>median</th>\n",
       "    </tr>\n",
       "    <tr>\n",
       "      <th></th>\n",
       "      <th>bbox_aspect_ratio</th>\n",
       "      <th>bbox_aspect_ratio</th>\n",
       "      <th>bbox_aspect_ratio</th>\n",
       "      <th>bbox_aspect_ratio</th>\n",
       "    </tr>\n",
       "    <tr>\n",
       "      <th>tree_type</th>\n",
       "      <th></th>\n",
       "      <th></th>\n",
       "      <th></th>\n",
       "      <th></th>\n",
       "    </tr>\n",
       "  </thead>\n",
       "  <tbody>\n",
       "    <tr>\n",
       "      <th>Fallen</th>\n",
       "      <td>0.052632</td>\n",
       "      <td>23.666667</td>\n",
       "      <td>1.904946</td>\n",
       "      <td>1.096774</td>\n",
       "    </tr>\n",
       "    <tr>\n",
       "      <th>Standing</th>\n",
       "      <td>0.566372</td>\n",
       "      <td>2.000000</td>\n",
       "      <td>1.055034</td>\n",
       "      <td>1.028820</td>\n",
       "    </tr>\n",
       "    <tr>\n",
       "      <th>All</th>\n",
       "      <td>0.052632</td>\n",
       "      <td>23.666667</td>\n",
       "      <td>1.797362</td>\n",
       "      <td>1.068182</td>\n",
       "    </tr>\n",
       "  </tbody>\n",
       "</table>\n",
       "</div>"
      ],
      "text/plain": [
       "                        min               max              mean  \\\n",
       "          bbox_aspect_ratio bbox_aspect_ratio bbox_aspect_ratio   \n",
       "tree_type                                                         \n",
       "Fallen             0.052632         23.666667          1.904946   \n",
       "Standing           0.566372          2.000000          1.055034   \n",
       "All                0.052632         23.666667          1.797362   \n",
       "\n",
       "                     median  \n",
       "          bbox_aspect_ratio  \n",
       "tree_type                    \n",
       "Fallen             1.096774  \n",
       "Standing           1.028820  \n",
       "All                1.068182  "
      ]
     },
     "execution_count": null,
     "metadata": {},
     "output_type": "execute_result"
    }
   ],
   "source": [
    "pd.pivot_table(dt_tps, index='tree_type', values='bbox_aspect_ratio', aggfunc=['min', 'max', 'mean', 'median'], margins=True)"
   ]
  },
  {
   "cell_type": "code",
   "execution_count": null,
   "id": "2fd5dbdb",
   "metadata": {},
   "outputs": [
    {
     "data": {
      "text/html": [
       "<div>\n",
       "<style scoped>\n",
       "    .dataframe tbody tr th:only-of-type {\n",
       "        vertical-align: middle;\n",
       "    }\n",
       "\n",
       "    .dataframe tbody tr th {\n",
       "        vertical-align: top;\n",
       "    }\n",
       "\n",
       "    .dataframe thead tr th {\n",
       "        text-align: left;\n",
       "    }\n",
       "\n",
       "    .dataframe thead tr:last-of-type th {\n",
       "        text-align: right;\n",
       "    }\n",
       "</style>\n",
       "<table border=\"1\" class=\"dataframe\">\n",
       "  <thead>\n",
       "    <tr>\n",
       "      <th></th>\n",
       "      <th>min</th>\n",
       "      <th>max</th>\n",
       "      <th>mean</th>\n",
       "      <th>median</th>\n",
       "    </tr>\n",
       "    <tr>\n",
       "      <th></th>\n",
       "      <th>bbox_x_px</th>\n",
       "      <th>bbox_x_px</th>\n",
       "      <th>bbox_x_px</th>\n",
       "      <th>bbox_x_px</th>\n",
       "    </tr>\n",
       "    <tr>\n",
       "      <th>tree_type</th>\n",
       "      <th></th>\n",
       "      <th></th>\n",
       "      <th></th>\n",
       "      <th></th>\n",
       "    </tr>\n",
       "  </thead>\n",
       "  <tbody>\n",
       "    <tr>\n",
       "      <th>Fallen</th>\n",
       "      <td>4.964212</td>\n",
       "      <td>246.113675</td>\n",
       "      <td>43.266063</td>\n",
       "      <td>35.708796</td>\n",
       "    </tr>\n",
       "    <tr>\n",
       "      <th>Standing</th>\n",
       "      <td>21.269083</td>\n",
       "      <td>103.727098</td>\n",
       "      <td>56.611802</td>\n",
       "      <td>54.256296</td>\n",
       "    </tr>\n",
       "    <tr>\n",
       "      <th>All</th>\n",
       "      <td>4.964212</td>\n",
       "      <td>246.113675</td>\n",
       "      <td>44.955397</td>\n",
       "      <td>38.486912</td>\n",
       "    </tr>\n",
       "  </tbody>\n",
       "</table>\n",
       "</div>"
      ],
      "text/plain": [
       "                 min         max       mean     median\n",
       "           bbox_x_px   bbox_x_px  bbox_x_px  bbox_x_px\n",
       "tree_type                                             \n",
       "Fallen      4.964212  246.113675  43.266063  35.708796\n",
       "Standing   21.269083  103.727098  56.611802  54.256296\n",
       "All         4.964212  246.113675  44.955397  38.486912"
      ]
     },
     "execution_count": null,
     "metadata": {},
     "output_type": "execute_result"
    }
   ],
   "source": [
    "pd.pivot_table(dt_tps, index='tree_type', values='bbox_x_px', aggfunc=['min', 'max', 'mean', 'median'], margins=True)"
   ]
  },
  {
   "cell_type": "code",
   "execution_count": null,
   "id": "79787251",
   "metadata": {},
   "outputs": [
    {
     "data": {
      "text/plain": [
       "<AxesSubplot:title={'center':'Distribution of bounding box width, in pixels'}, ylabel='Frequency'>"
      ]
     },
     "execution_count": null,
     "metadata": {},
     "output_type": "execute_result"
    },
    {
     "data": {
      "image/png": "[encoded data removed]",
      "text/plain": [
       "<Figure size 720x432 with 1 Axes>"
      ]
     },
     "metadata": {
      "needs_background": "light"
     },
     "output_type": "display_data"
    }
   ],
   "source": [
    "dt_tps.plot(kind='hist', y='bbox_x_px', bins=100, grid=True, \n",
    "         title='Distribution of bounding box width, in pixels',\n",
    "         figsize=(10,6))"
   ]
  },
  {
   "cell_type": "code",
   "execution_count": null,
   "id": "5a4eac58",
   "metadata": {},
   "outputs": [
    {
     "data": {
      "text/html": [
       "<div>\n",
       "<style scoped>\n",
       "    .dataframe tbody tr th:only-of-type {\n",
       "        vertical-align: middle;\n",
       "    }\n",
       "\n",
       "    .dataframe tbody tr th {\n",
       "        vertical-align: top;\n",
       "    }\n",
       "\n",
       "    .dataframe thead tr th {\n",
       "        text-align: left;\n",
       "    }\n",
       "\n",
       "    .dataframe thead tr:last-of-type th {\n",
       "        text-align: right;\n",
       "    }\n",
       "</style>\n",
       "<table border=\"1\" class=\"dataframe\">\n",
       "  <thead>\n",
       "    <tr>\n",
       "      <th></th>\n",
       "      <th>min</th>\n",
       "      <th>max</th>\n",
       "      <th>mean</th>\n",
       "      <th>median</th>\n",
       "    </tr>\n",
       "    <tr>\n",
       "      <th></th>\n",
       "      <th>bbox_y_px</th>\n",
       "      <th>bbox_y_px</th>\n",
       "      <th>bbox_y_px</th>\n",
       "      <th>bbox_y_px</th>\n",
       "    </tr>\n",
       "    <tr>\n",
       "      <th>tree_type</th>\n",
       "      <th></th>\n",
       "      <th></th>\n",
       "      <th></th>\n",
       "      <th></th>\n",
       "    </tr>\n",
       "  </thead>\n",
       "  <tbody>\n",
       "    <tr>\n",
       "      <th>Fallen</th>\n",
       "      <td>4.964212</td>\n",
       "      <td>181.293613</td>\n",
       "      <td>38.342342</td>\n",
       "      <td>32.410031</td>\n",
       "    </tr>\n",
       "    <tr>\n",
       "      <th>Standing</th>\n",
       "      <td>21.528266</td>\n",
       "      <td>122.275573</td>\n",
       "      <td>55.120959</td>\n",
       "      <td>53.350633</td>\n",
       "    </tr>\n",
       "    <tr>\n",
       "      <th>All</th>\n",
       "      <td>4.964212</td>\n",
       "      <td>181.293613</td>\n",
       "      <td>40.466217</td>\n",
       "      <td>34.626711</td>\n",
       "    </tr>\n",
       "  </tbody>\n",
       "</table>\n",
       "</div>"
      ],
      "text/plain": [
       "                 min         max       mean     median\n",
       "           bbox_y_px   bbox_y_px  bbox_y_px  bbox_y_px\n",
       "tree_type                                             \n",
       "Fallen      4.964212  181.293613  38.342342  32.410031\n",
       "Standing   21.528266  122.275573  55.120959  53.350633\n",
       "All         4.964212  181.293613  40.466217  34.626711"
      ]
     },
     "execution_count": null,
     "metadata": {},
     "output_type": "execute_result"
    }
   ],
   "source": [
    "pd.pivot_table(dt_tps, index='tree_type', values='bbox_y_px', aggfunc=['min', 'max', 'mean', 'median'], margins=True)"
   ]
  },
  {
   "cell_type": "code",
   "execution_count": null,
   "id": "f8727db6",
   "metadata": {},
   "outputs": [
    {
     "data": {
      "text/plain": [
       "<AxesSubplot:title={'center':'Distribution of bounding box width, in pixels'}, ylabel='Frequency'>"
      ]
     },
     "execution_count": null,
     "metadata": {},
     "output_type": "execute_result"
    },
    {
     "data": {
      "image/png": "[encoded data removed]",
      "text/plain": [
       "<Figure size 720x432 with 1 Axes>"
      ]
     },
     "metadata": {
      "needs_background": "light"
     },
     "output_type": "display_data"
    }
   ],
   "source": [
    "dt_tps.plot(kind='hist', y='bbox_y_px', bins=100, grid=True, \n",
    "         title='Distribution of bounding box width, in pixels',\n",
    "         figsize=(10,6))"
   ]
  },
  {
   "cell_type": "code",
   "execution_count": null,
   "id": "e0f47384",
   "metadata": {},
   "outputs": [
    {
     "data": {
      "text/html": [
       "<div>\n",
       "<style scoped>\n",
       "    .dataframe tbody tr th:only-of-type {\n",
       "        vertical-align: middle;\n",
       "    }\n",
       "\n",
       "    .dataframe tbody tr th {\n",
       "        vertical-align: top;\n",
       "    }\n",
       "\n",
       "    .dataframe thead tr th {\n",
       "        text-align: left;\n",
       "    }\n",
       "\n",
       "    .dataframe thead tr:last-of-type th {\n",
       "        text-align: right;\n",
       "    }\n",
       "</style>\n",
       "<table border=\"1\" class=\"dataframe\">\n",
       "  <thead>\n",
       "    <tr>\n",
       "      <th></th>\n",
       "      <th>min</th>\n",
       "      <th>max</th>\n",
       "      <th>mean</th>\n",
       "      <th>median</th>\n",
       "    </tr>\n",
       "    <tr>\n",
       "      <th></th>\n",
       "      <th>length</th>\n",
       "      <th>length</th>\n",
       "      <th>length</th>\n",
       "      <th>length</th>\n",
       "    </tr>\n",
       "    <tr>\n",
       "      <th>tree_type</th>\n",
       "      <th></th>\n",
       "      <th></th>\n",
       "      <th></th>\n",
       "      <th></th>\n",
       "    </tr>\n",
       "  </thead>\n",
       "  <tbody>\n",
       "    <tr>\n",
       "      <th>Fallen</th>\n",
       "      <td>0.440451</td>\n",
       "      <td>9.858085</td>\n",
       "      <td>2.488886</td>\n",
       "      <td>2.229147</td>\n",
       "    </tr>\n",
       "    <tr>\n",
       "      <th>Standing</th>\n",
       "      <td>0.887629</td>\n",
       "      <td>4.891023</td>\n",
       "      <td>2.396259</td>\n",
       "      <td>2.305788</td>\n",
       "    </tr>\n",
       "    <tr>\n",
       "      <th>All</th>\n",
       "      <td>0.440451</td>\n",
       "      <td>9.858085</td>\n",
       "      <td>2.477161</td>\n",
       "      <td>2.243942</td>\n",
       "    </tr>\n",
       "  </tbody>\n",
       "</table>\n",
       "</div>"
      ],
      "text/plain": [
       "                min       max      mean    median\n",
       "             length    length    length    length\n",
       "tree_type                                        \n",
       "Fallen     0.440451  9.858085  2.488886  2.229147\n",
       "Standing   0.887629  4.891023  2.396259  2.305788\n",
       "All        0.440451  9.858085  2.477161  2.243942"
      ]
     },
     "execution_count": null,
     "metadata": {},
     "output_type": "execute_result"
    }
   ],
   "source": [
    "pd.pivot_table(dt_tps, index='tree_type', values='length', aggfunc=['min', 'max', 'mean', 'median'], margins=True)"
   ]
  },
  {
   "cell_type": "code",
   "execution_count": null,
   "id": "b65f2996",
   "metadata": {},
   "outputs": [
    {
     "data": {
      "text/plain": [
       "<AxesSubplot:title={'center':'Distribution of groundwood length in meters'}, ylabel='Frequency'>"
      ]
     },
     "execution_count": null,
     "metadata": {},
     "output_type": "execute_result"
    },
    {
     "data": {
      "image/png": "[encoded data removed]",
      "text/plain": [
       "<Figure size 720x432 with 1 Axes>"
      ]
     },
     "metadata": {
      "needs_background": "light"
     },
     "output_type": "display_data"
    }
   ],
   "source": [
    "dt_tps[dt_tps.tree_type =='Fallen'].plot(kind='hist', y='length', bins=50, grid=True, \n",
    "                                   title='Distribution of groundwood length in meters',\n",
    "                                   figsize=(10,6))"
   ]
  },
  {
   "cell_type": "code",
   "execution_count": null,
   "id": "15a7397c",
   "metadata": {},
   "outputs": [
    {
     "data": {
      "text/plain": [
       "<AxesSubplot:title={'center':'Distribution of uprightwood maximum canopy diameter, in meters'}, ylabel='Frequency'>"
      ]
     },
     "execution_count": null,
     "metadata": {},
     "output_type": "execute_result"
    },
    {
     "data": {
      "image/png": "[encoded data removed]",
      "text/plain": [
       "<Figure size 720x432 with 1 Axes>"
      ]
     },
     "metadata": {
      "needs_background": "light"
     },
     "output_type": "display_data"
    }
   ],
   "source": [
    "dt_tps[dt_tps.tree_type =='Standing'].plot(kind='hist', y='length', bins=20, grid=True, \n",
    "                                     title='Distribution of uprightwood maximum canopy diameter, in meters',\n",
    "                                     figsize=(10,6))"
   ]
  }
 ],
 "metadata": {
  "kernelspec": {
   "display_name": "Python 3",
   "language": "python",
   "name": "python3"
  }
 },
 "nbformat": 4,
 "nbformat_minor": 5
}

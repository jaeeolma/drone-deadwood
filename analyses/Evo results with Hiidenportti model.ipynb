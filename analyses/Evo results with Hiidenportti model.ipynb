{
 "cells": [
  {
   "cell_type": "code",
   "execution_count": 1,
   "id": "6b4073c8",
   "metadata": {
    "ExecuteTime": {
     "end_time": "2021-10-15T08:00:25.468113Z",
     "start_time": "2021-10-15T08:00:23.024146Z"
    }
   },
   "outputs": [],
   "source": [
    "from pathlib import Path\n",
    "from drone_detector.tiling import *\n",
    "import os, sys\n",
    "import geopandas as gpd\n",
    "\n",
    "import matplotlib.pyplot as plt\n",
    "\n",
    "from drone_detector.predict import predict_instance_masks"
   ]
  },
  {
   "cell_type": "code",
   "execution_count": 2,
   "id": "3fee40ef",
   "metadata": {
    "ExecuteTime": {
     "end_time": "2021-10-15T08:06:02.126039Z",
     "start_time": "2021-10-15T08:01:08.953883Z"
    }
   },
   "outputs": [
    {
     "name": "stdout",
     "output_type": "stream",
     "text": [
      "Reading and tiling ../data/sudenpesankangas/results/raster_tiles/area.tif to 550x550 tiles with overlap of 225px\n"
     ]
    },
    {
     "data": {
      "application/vnd.jupyter.widget-view+json": {
       "model_id": "2740fcb104c548a49a0773945dbd2e0b",
       "version_major": 2,
       "version_minor": 0
      },
      "text/plain": [
       "0it [00:00, ?it/s]"
      ]
     },
     "metadata": {},
     "output_type": "display_data"
    },
    {
     "name": "stdout",
     "output_type": "stream",
     "text": [
      "Loading model\n",
      "Starting predictions\n"
     ]
    },
    {
     "data": {
      "application/vnd.jupyter.widget-view+json": {
       "model_id": "279a8394948a4fcf9874345689d83a78",
       "version_major": 2,
       "version_minor": 0
      },
      "text/plain": [
       "  0%|          | 0/756 [00:00<?, ?it/s]"
      ]
     },
     "metadata": {},
     "output_type": "display_data"
    },
    {
     "data": {
      "application/vnd.jupyter.widget-view+json": {
       "model_id": "ec55cb285606455591373f8ff5a899a2",
       "version_major": 2,
       "version_minor": 0
      },
      "text/plain": [
       "  0%|          | 0/48 [00:00<?, ?it/s]"
      ]
     },
     "metadata": {},
     "output_type": "display_data"
    },
    {
     "data": {
      "application/vnd.jupyter.widget-view+json": {
       "model_id": "e6fa79296bb946fba1f5a162cdced349",
       "version_major": 2,
       "version_minor": 0
      },
      "text/plain": [
       "0it [00:00, ?it/s]"
      ]
     },
     "metadata": {},
     "output_type": "display_data"
    },
    {
     "data": {
      "application/vnd.jupyter.widget-view+json": {
       "model_id": "88dfbc1f811949be94d501c40f4846ba",
       "version_major": 2,
       "version_minor": 0
      },
      "text/plain": [
       "0it [00:00, ?it/s]"
      ]
     },
     "metadata": {},
     "output_type": "display_data"
    },
    {
     "data": {
      "application/vnd.jupyter.widget-view+json": {
       "model_id": "02eaf78126664a9c8d49a12f454b32a6",
       "version_major": 2,
       "version_minor": 0
      },
      "text/plain": [
       "0it [00:00, ?it/s]"
      ]
     },
     "metadata": {},
     "output_type": "display_data"
    },
    {
     "name": "stderr",
     "output_type": "stream",
     "text": [
      "/scratch/mayrajan/drone_detector/drone_detector/coco.py:43: VisibleDeprecationWarning: Creating an ndarray from ragged nested sequences (which is a list-or-tuple of lists-or-tuples-or ndarrays with different lengths or shapes) is deprecated. If you meant to do this, you must specify 'dtype=object' when creating the ndarray\n",
      "  contours = np.subtract(contours, 1)\n"
     ]
    },
    {
     "data": {
      "application/vnd.jupyter.widget-view+json": {
       "model_id": "61c010bc76ca4f70be93beda4b9d4f29",
       "version_major": 2,
       "version_minor": 0
      },
      "text/plain": [
       "  0%|          | 0/756 [00:00<?, ?it/s]"
      ]
     },
     "metadata": {},
     "output_type": "display_data"
    },
    {
     "data": {
      "application/vnd.jupyter.widget-view+json": {
       "model_id": "c71f53c54d834e24ad3a2ff3451b7231",
       "version_major": 2,
       "version_minor": 0
      },
      "text/plain": [
       "  0%|          | 0/699 [00:00<?, ?it/s]"
      ]
     },
     "metadata": {},
     "output_type": "display_data"
    },
    {
     "name": "stdout",
     "output_type": "stream",
     "text": [
      "5999 polygons before non-max suppression\n",
      "5999 polygons after non-max suppression\n",
      "Removing intermediate files\n"
     ]
    }
   ],
   "source": [
    "outfile_name = f'../data/sudenpesankangas/results/predicted_vectors/area.geojson'\n",
    "path_to_image = '../data/sudenpesankangas/results/raster_tiles/area.tif'\n",
    "predict_instance_masks('hiidenportti_models/hiidenportti_resnext50_5cm_buffer.pth', \n",
    "                       path_to_image,\n",
    "                       outfile_name,\n",
    "                       processing_dir='temp',\n",
    "                       tile_size=550,\n",
    "                       tile_overlap=225,\n",
    "                       num_classes=2,\n",
    "                       smooth_preds=True,\n",
    "                       use_tta=False,\n",
    "                       custom_anchors=False)"
   ]
  },
  {
   "cell_type": "code",
   "execution_count": 3,
   "id": "87aceed5",
   "metadata": {
    "ExecuteTime": {
     "end_time": "2021-10-15T08:08:50.057438Z",
     "start_time": "2021-10-15T08:08:49.521068Z"
    }
   },
   "outputs": [
    {
     "data": {
      "text/html": [
       "<div>\n",
       "<style scoped>\n",
       "    .dataframe tbody tr th:only-of-type {\n",
       "        vertical-align: middle;\n",
       "    }\n",
       "\n",
       "    .dataframe tbody tr th {\n",
       "        vertical-align: top;\n",
       "    }\n",
       "\n",
       "    .dataframe thead th {\n",
       "        text-align: right;\n",
       "    }\n",
       "</style>\n",
       "<table border=\"1\" class=\"dataframe\">\n",
       "  <thead>\n",
       "    <tr style=\"text-align: right;\">\n",
       "      <th></th>\n",
       "      <th>label</th>\n",
       "      <th>label_id</th>\n",
       "      <th>geometry</th>\n",
       "    </tr>\n",
       "  </thead>\n",
       "  <tbody>\n",
       "    <tr>\n",
       "      <th>0</th>\n",
       "      <td>Standing</td>\n",
       "      <td>2</td>\n",
       "      <td>POLYGON ((402339.987 6787745.603, 402340.852 6787746.968, 402342.433 6787747.583, 402344.834 6787745.284, 402345.016 6787743.885, 402344.265 6787743.453, 402344.311 6787742.997, 402342.888 6787742.349, 402342.263 6787742.429, 402341.978 6787743.100, 402341.204 6787742.895, 402341.364 6787743.737, 402341.216 6787743.726, 402339.987 6787745.603))</td>\n",
       "    </tr>\n",
       "    <tr>\n",
       "      <th>1</th>\n",
       "      <td>Standing</td>\n",
       "      <td>2</td>\n",
       "      <td>POLYGON ((402347.018 6787745.284, 402347.462 6787746.001, 402348.190 6787746.308, 402349.715 6787745.751, 402349.305 6787744.533, 402349.294 6787743.896, 402348.782 6787743.692, 402347.951 6787743.999, 402347.542 6787744.295, 402347.018 6787745.284))</td>\n",
       "    </tr>\n",
       "    <tr>\n",
       "      <th>2</th>\n",
       "      <td>Standing</td>\n",
       "      <td>2</td>\n",
       "      <td>POLYGON ((402344.015 6787739.277, 402343.036 6787739.482, 402342.490 6787740.642, 402342.672 6787742.008, 402343.469 6787742.417, 402345.152 6787741.939, 402345.562 6787740.688, 402344.015 6787739.277))</td>\n",
       "    </tr>\n",
       "    <tr>\n",
       "      <th>3</th>\n",
       "      <td>Standing</td>\n",
       "      <td>2</td>\n",
       "      <td>POLYGON ((402354.337 6787747.219, 402354.678 6787747.105, 402355.475 6787746.104, 402355.668 6787744.556, 402354.394 6787744.602, 402353.814 6787745.102, 402353.097 6787745.626, 402353.290 6787746.422, 402354.337 6787747.219))</td>\n",
       "    </tr>\n",
       "    <tr>\n",
       "      <th>4</th>\n",
       "      <td>Standing</td>\n",
       "      <td>2</td>\n",
       "      <td>POLYGON ((402355.213 6787738.037, 402354.485 6787738.492, 402354.098 6787740.995, 402354.371 6787741.996, 402355.532 6787742.884, 402356.760 6787741.609, 402357.693 6787740.426, 402357.420 6787739.402, 402355.213 6787738.037))</td>\n",
       "    </tr>\n",
       "  </tbody>\n",
       "</table>\n",
       "</div>"
      ],
      "text/plain": [
       "      label  label_id  \\\n",
       "0  Standing         2   \n",
       "1  Standing         2   \n",
       "2  Standing         2   \n",
       "3  Standing         2   \n",
       "4  Standing         2   \n",
       "\n",
       "                                                                                                                                                                                                                                                                                                                                                     geometry  \n",
       "0  POLYGON ((402339.987 6787745.603, 402340.852 6787746.968, 402342.433 6787747.583, 402344.834 6787745.284, 402345.016 6787743.885, 402344.265 6787743.453, 402344.311 6787742.997, 402342.888 6787742.349, 402342.263 6787742.429, 402341.978 6787743.100, 402341.204 6787742.895, 402341.364 6787743.737, 402341.216 6787743.726, 402339.987 6787745.603))  \n",
       "1                                                                                                  POLYGON ((402347.018 6787745.284, 402347.462 6787746.001, 402348.190 6787746.308, 402349.715 6787745.751, 402349.305 6787744.533, 402349.294 6787743.896, 402348.782 6787743.692, 402347.951 6787743.999, 402347.542 6787744.295, 402347.018 6787745.284))  \n",
       "2                                                                                                                                                  POLYGON ((402344.015 6787739.277, 402343.036 6787739.482, 402342.490 6787740.642, 402342.672 6787742.008, 402343.469 6787742.417, 402345.152 6787741.939, 402345.562 6787740.688, 402344.015 6787739.277))  \n",
       "3                                                                                                                          POLYGON ((402354.337 6787747.219, 402354.678 6787747.105, 402355.475 6787746.104, 402355.668 6787744.556, 402354.394 6787744.602, 402353.814 6787745.102, 402353.097 6787745.626, 402353.290 6787746.422, 402354.337 6787747.219))  \n",
       "4                                                                                                                          POLYGON ((402355.213 6787738.037, 402354.485 6787738.492, 402354.098 6787740.995, 402354.371 6787741.996, 402355.532 6787742.884, 402356.760 6787741.609, 402357.693 6787740.426, 402357.420 6787739.402, 402355.213 6787738.037))  "
      ]
     },
     "execution_count": 3,
     "metadata": {},
     "output_type": "execute_result"
    }
   ],
   "source": [
    "ground_truth = gpd.read_file('../../deadwood/data/both_qgis.shp')\n",
    "ground_truth.head()"
   ]
  },
  {
   "cell_type": "code",
   "execution_count": 4,
   "id": "52a3accd",
   "metadata": {
    "ExecuteTime": {
     "end_time": "2021-10-15T08:08:53.754313Z",
     "start_time": "2021-10-15T08:08:50.530726Z"
    }
   },
   "outputs": [
    {
     "data": {
      "text/html": [
       "<div>\n",
       "<style scoped>\n",
       "    .dataframe tbody tr th:only-of-type {\n",
       "        vertical-align: middle;\n",
       "    }\n",
       "\n",
       "    .dataframe tbody tr th {\n",
       "        vertical-align: top;\n",
       "    }\n",
       "\n",
       "    .dataframe thead th {\n",
       "        text-align: right;\n",
       "    }\n",
       "</style>\n",
       "<table border=\"1\" class=\"dataframe\">\n",
       "  <thead>\n",
       "    <tr style=\"text-align: right;\">\n",
       "      <th></th>\n",
       "      <th>label</th>\n",
       "      <th>score</th>\n",
       "      <th>geometry</th>\n",
       "    </tr>\n",
       "  </thead>\n",
       "  <tbody>\n",
       "    <tr>\n",
       "      <th>0</th>\n",
       "      <td>1</td>\n",
       "      <td>0.973001</td>\n",
       "      <td>POLYGON ((402381.775 6787869.893, 402381.727 6787869.893, 402381.678 6787869.893, 402381.630 6787869.893, 402381.581 6787869.893, 402381.533 6787869.893, 402381.484 6787869.893, 402381.436 6787869.893, 402381.387 6787869.893, 402381.339 6787869.893, 402381.290 6787869.893, 402381.242 6787869.893, 402381.193 6787869.893, 402381.169 6787869.917, 402381.144 6787869.941, 402381.096 6787869.941, 402381.047 6787869.941, 402380.999 6787869.941, 402380.950 6787869.941, 402380.926 6787869.965, 402380.902 6787869.990, 402380.853 6787869.990, 402380.805 6787869.990, 402380.756 6787869.990, 402380.708...</td>\n",
       "    </tr>\n",
       "    <tr>\n",
       "      <th>1</th>\n",
       "      <td>2</td>\n",
       "      <td>0.964591</td>\n",
       "      <td>POLYGON ((402388.275 6787880.855, 402388.227 6787880.855, 402388.178 6787880.855, 402388.130 6787880.855, 402388.105 6787880.879, 402388.081 6787880.904, 402388.032 6787880.904, 402387.984 6787880.904, 402387.935 6787880.904, 402387.911 6787880.928, 402387.887 6787880.952, 402387.838 6787880.952, 402387.814 6787880.976, 402387.790 6787881.001, 402387.741 6787881.001, 402387.693 6787881.001, 402387.669 6787881.025, 402387.644 6787881.049, 402387.596 6787881.049, 402387.547 6787881.049, 402387.499 6787881.049, 402387.475 6787881.073, 402387.450 6787881.098, 402387.402 6787881.098, 402387.353...</td>\n",
       "    </tr>\n",
       "    <tr>\n",
       "      <th>2</th>\n",
       "      <td>2</td>\n",
       "      <td>0.952402</td>\n",
       "      <td>POLYGON ((402373.189 6787868.874, 402373.141 6787868.874, 402373.092 6787868.874, 402373.044 6787868.874, 402373.020 6787868.898, 402373.020 6787868.947, 402373.044 6787868.971, 402373.068 6787868.995, 402373.092 6787869.019, 402373.117 6787869.044, 402373.141 6787869.068, 402373.189 6787869.068, 402373.214 6787869.092, 402373.238 6787869.116, 402373.262 6787869.141, 402373.286 6787869.165, 402373.311 6787869.189, 402373.335 6787869.213, 402373.383 6787869.213, 402373.408 6787869.238, 402373.432 6787869.262, 402373.480 6787869.262, 402373.505 6787869.286, 402373.529 6787869.310, 402373.577...</td>\n",
       "    </tr>\n",
       "    <tr>\n",
       "      <th>3</th>\n",
       "      <td>1</td>\n",
       "      <td>0.950823</td>\n",
       "      <td>POLYGON ((402383.909 6787863.587, 402383.861 6787863.587, 402383.812 6787863.587, 402383.764 6787863.587, 402383.715 6787863.587, 402383.667 6787863.587, 402383.618 6787863.587, 402383.570 6787863.587, 402383.521 6787863.587, 402383.473 6787863.587, 402383.424 6787863.587, 402383.376 6787863.587, 402383.327 6787863.587, 402383.279 6787863.587, 402383.230 6787863.587, 402383.182 6787863.587, 402383.158 6787863.611, 402383.158 6787863.659, 402383.158 6787863.708, 402383.158 6787863.756, 402383.158 6787863.805, 402383.158 6787863.853, 402383.158 6787863.902, 402383.158 6787863.950, 402383.158...</td>\n",
       "    </tr>\n",
       "    <tr>\n",
       "      <th>4</th>\n",
       "      <td>2</td>\n",
       "      <td>0.937007</td>\n",
       "      <td>POLYGON ((402390.797 6787865.284, 402390.773 6787865.309, 402390.749 6787865.333, 402390.700 6787865.333, 402390.652 6787865.333, 402390.603 6787865.333, 402390.579 6787865.357, 402390.555 6787865.381, 402390.506 6787865.381, 402390.482 6787865.406, 402390.458 6787865.430, 402390.434 6787865.454, 402390.409 6787865.478, 402390.361 6787865.478, 402390.337 6787865.503, 402390.312 6787865.527, 402390.264 6787865.527, 402390.240 6787865.551, 402390.215 6787865.575, 402390.191 6787865.600, 402390.167 6787865.624, 402390.118 6787865.624, 402390.094 6787865.648, 402390.070 6787865.672, 402390.046...</td>\n",
       "    </tr>\n",
       "  </tbody>\n",
       "</table>\n",
       "</div>"
      ],
      "text/plain": [
       "   label     score  \\\n",
       "0      1  0.973001   \n",
       "1      2  0.964591   \n",
       "2      2  0.952402   \n",
       "3      1  0.950823   \n",
       "4      2  0.937007   \n",
       "\n",
       "                                                                                                                                                                                                                                                                                                                                                                                                                                                                                                                                                                                                                  geometry  \n",
       "0  POLYGON ((402381.775 6787869.893, 402381.727 6787869.893, 402381.678 6787869.893, 402381.630 6787869.893, 402381.581 6787869.893, 402381.533 6787869.893, 402381.484 6787869.893, 402381.436 6787869.893, 402381.387 6787869.893, 402381.339 6787869.893, 402381.290 6787869.893, 402381.242 6787869.893, 402381.193 6787869.893, 402381.169 6787869.917, 402381.144 6787869.941, 402381.096 6787869.941, 402381.047 6787869.941, 402380.999 6787869.941, 402380.950 6787869.941, 402380.926 6787869.965, 402380.902 6787869.990, 402380.853 6787869.990, 402380.805 6787869.990, 402380.756 6787869.990, 402380.708...  \n",
       "1  POLYGON ((402388.275 6787880.855, 402388.227 6787880.855, 402388.178 6787880.855, 402388.130 6787880.855, 402388.105 6787880.879, 402388.081 6787880.904, 402388.032 6787880.904, 402387.984 6787880.904, 402387.935 6787880.904, 402387.911 6787880.928, 402387.887 6787880.952, 402387.838 6787880.952, 402387.814 6787880.976, 402387.790 6787881.001, 402387.741 6787881.001, 402387.693 6787881.001, 402387.669 6787881.025, 402387.644 6787881.049, 402387.596 6787881.049, 402387.547 6787881.049, 402387.499 6787881.049, 402387.475 6787881.073, 402387.450 6787881.098, 402387.402 6787881.098, 402387.353...  \n",
       "2  POLYGON ((402373.189 6787868.874, 402373.141 6787868.874, 402373.092 6787868.874, 402373.044 6787868.874, 402373.020 6787868.898, 402373.020 6787868.947, 402373.044 6787868.971, 402373.068 6787868.995, 402373.092 6787869.019, 402373.117 6787869.044, 402373.141 6787869.068, 402373.189 6787869.068, 402373.214 6787869.092, 402373.238 6787869.116, 402373.262 6787869.141, 402373.286 6787869.165, 402373.311 6787869.189, 402373.335 6787869.213, 402373.383 6787869.213, 402373.408 6787869.238, 402373.432 6787869.262, 402373.480 6787869.262, 402373.505 6787869.286, 402373.529 6787869.310, 402373.577...  \n",
       "3  POLYGON ((402383.909 6787863.587, 402383.861 6787863.587, 402383.812 6787863.587, 402383.764 6787863.587, 402383.715 6787863.587, 402383.667 6787863.587, 402383.618 6787863.587, 402383.570 6787863.587, 402383.521 6787863.587, 402383.473 6787863.587, 402383.424 6787863.587, 402383.376 6787863.587, 402383.327 6787863.587, 402383.279 6787863.587, 402383.230 6787863.587, 402383.182 6787863.587, 402383.158 6787863.611, 402383.158 6787863.659, 402383.158 6787863.708, 402383.158 6787863.756, 402383.158 6787863.805, 402383.158 6787863.853, 402383.158 6787863.902, 402383.158 6787863.950, 402383.158...  \n",
       "4  POLYGON ((402390.797 6787865.284, 402390.773 6787865.309, 402390.749 6787865.333, 402390.700 6787865.333, 402390.652 6787865.333, 402390.603 6787865.333, 402390.579 6787865.357, 402390.555 6787865.381, 402390.506 6787865.381, 402390.482 6787865.406, 402390.458 6787865.430, 402390.434 6787865.454, 402390.409 6787865.478, 402390.361 6787865.478, 402390.337 6787865.503, 402390.312 6787865.527, 402390.264 6787865.527, 402390.240 6787865.551, 402390.215 6787865.575, 402390.191 6787865.600, 402390.167 6787865.624, 402390.118 6787865.624, 402390.094 6787865.648, 402390.070 6787865.672, 402390.046...  "
      ]
     },
     "execution_count": 4,
     "metadata": {},
     "output_type": "execute_result"
    }
   ],
   "source": [
    "results = gpd.read_file(outfile_name)\n",
    "results.head()"
   ]
  },
  {
   "cell_type": "code",
   "execution_count": 5,
   "id": "99eccaea",
   "metadata": {
    "ExecuteTime": {
     "end_time": "2021-10-15T08:09:01.636406Z",
     "start_time": "2021-10-15T08:09:01.570742Z"
    }
   },
   "outputs": [],
   "source": [
    "results['class_id'] = results.apply(lambda row: 'Fallen' if row.label == 2 else 'Standing', axis=1)\n",
    "ground_truth['label_id'] = ground_truth.apply(lambda row: 1 if row.label == 'Standing' else 2, axis=1)"
   ]
  },
  {
   "cell_type": "code",
   "execution_count": 6,
   "id": "6301476f",
   "metadata": {
    "ExecuteTime": {
     "end_time": "2021-10-15T08:09:02.165165Z",
     "start_time": "2021-10-15T08:09:02.162832Z"
    }
   },
   "outputs": [],
   "source": [
    "ground_truth.rename(columns={'tree_type': 'class_id'}, inplace=True)"
   ]
  },
  {
   "cell_type": "code",
   "execution_count": 7,
   "id": "308f6001",
   "metadata": {
    "ExecuteTime": {
     "end_time": "2021-10-15T08:09:03.669443Z",
     "start_time": "2021-10-15T08:09:03.667522Z"
    }
   },
   "outputs": [],
   "source": [
    "from shapely.geometry import box"
   ]
  },
  {
   "cell_type": "code",
   "execution_count": 8,
   "id": "f90ee34a",
   "metadata": {
    "ExecuteTime": {
     "end_time": "2021-10-15T08:09:05.901271Z",
     "start_time": "2021-10-15T08:09:04.418374Z"
    }
   },
   "outputs": [
    {
     "data": {
      "text/plain": [
       "((5999, 4), (1544, 3))"
      ]
     },
     "execution_count": 8,
     "metadata": {},
     "output_type": "execute_result"
    }
   ],
   "source": [
    "results = gpd.clip(results, box(*ground_truth.total_bounds), keep_geom_type=True)\n",
    "ground_truth = gpd.clip(ground_truth, box(*results.total_bounds), keep_geom_type=True)\n",
    "results.shape, ground_truth.shape"
   ]
  },
  {
   "cell_type": "code",
   "execution_count": 17,
   "id": "d6870c11",
   "metadata": {
    "ExecuteTime": {
     "end_time": "2021-10-15T05:54:01.197138Z",
     "start_time": "2021-10-15T05:54:01.185933Z"
    }
   },
   "outputs": [],
   "source": [
    "import rasterio as rio\n",
    "import rasterio.mask as rio_mask"
   ]
  },
  {
   "cell_type": "code",
   "execution_count": 26,
   "id": "137b229d",
   "metadata": {
    "ExecuteTime": {
     "end_time": "2021-10-15T06:02:30.247759Z",
     "start_time": "2021-10-15T06:02:27.743212Z"
    }
   },
   "outputs": [],
   "source": [
    "shapes = [box(*ground_truth.total_bounds)]\n",
    "with rio.open(path_to_image) as src:\n",
    "    out_im, out_tfm = rio_mask.mask(src, shapes, crop=True)\n",
    "    out_meta = src.meta\n",
    "    \n",
    "out_meta.update({\"driver\": \"GTiff\",\n",
    "                 \"height\": out_im.shape[1],\n",
    "                 \"width\": out_im.shape[2],\n",
    "                 \"transform\": out_tfm})\n",
    "\n",
    "with rio.open(\"../data/sudenpesankangas/results/raster_tiles/area.tif\", \"w\", **out_meta) as dest:\n",
    "    dest.write(out_im)"
   ]
  },
  {
   "cell_type": "code",
   "execution_count": 9,
   "id": "25e173b9",
   "metadata": {
    "ExecuteTime": {
     "end_time": "2021-10-15T08:09:22.167295Z",
     "start_time": "2021-10-15T08:09:13.865808Z"
    }
   },
   "outputs": [],
   "source": [
    "ground_truth.to_file('../data/sudenpesankangas/results/vector_tiles/area.geojson', driver='GeoJSON')\n",
    "results.to_file('../data/sudenpesankangas/results/predicted_vectors/area.geojson', driver='GeoJSON')"
   ]
  },
  {
   "cell_type": "markdown",
   "id": "dca91acc",
   "metadata": {},
   "source": [
    "# No NMS"
   ]
  },
  {
   "cell_type": "code",
   "execution_count": 10,
   "id": "d1cf9576",
   "metadata": {
    "ExecuteTime": {
     "end_time": "2021-10-15T08:09:24.518094Z",
     "start_time": "2021-10-15T08:09:24.516264Z"
    }
   },
   "outputs": [],
   "source": [
    "from drone_detector.metrics import *"
   ]
  },
  {
   "cell_type": "code",
   "execution_count": 14,
   "id": "7493e446",
   "metadata": {
    "ExecuteTime": {
     "end_time": "2021-10-15T08:09:58.519201Z",
     "start_time": "2021-10-15T08:09:52.316496Z"
    }
   },
   "outputs": [
    {
     "data": {
      "text/plain": [
       "label\n",
       "Fallen      0.374544\n",
       "Standing    0.650349\n",
       "dtype: float64"
      ]
     },
     "execution_count": 14,
     "metadata": {},
     "output_type": "execute_result"
    }
   ],
   "source": [
    "gt_dis = ground_truth.dissolve(by='label')\n",
    "res_dis = results.dissolve(by='class_id')\n",
    "poly_IoU(gt_dis, res_dis)"
   ]
  },
  {
   "cell_type": "code",
   "execution_count": 15,
   "id": "c4450801",
   "metadata": {
    "ExecuteTime": {
     "end_time": "2021-10-15T08:10:00.487663Z",
     "start_time": "2021-10-15T08:10:00.485340Z"
    }
   },
   "outputs": [],
   "source": [
    "deadwood_categories = [{'supercategory': 'deadwood', 'id':1, 'name':'Standing'},\n",
    "                       {'supercategory': 'deadwood', 'id':2, 'name':'Fallen'}]\n",
    "\n",
    "raw_coco_eval = GisCOCOeval('../data/sudenpesankangas/results/raw', '../data/sudenpesankangas/results/raw', \n",
    "                            None, None, deadwood_categories)"
   ]
  },
  {
   "cell_type": "code",
   "execution_count": 16,
   "id": "a4025486",
   "metadata": {
    "ExecuteTime": {
     "end_time": "2021-10-15T08:10:08.256993Z",
     "start_time": "2021-10-15T08:10:00.930669Z"
    }
   },
   "outputs": [
    {
     "data": {
      "application/vnd.jupyter.widget-view+json": {
       "model_id": "712db4e805734c2196ad134c6a0b6262",
       "version_major": 2,
       "version_minor": 0
      },
      "text/plain": [
       "  0%|          | 0/1 [00:00<?, ?it/s]"
      ]
     },
     "metadata": {},
     "output_type": "display_data"
    },
    {
     "data": {
      "application/vnd.jupyter.widget-view+json": {
       "model_id": "90b47b23966f484da5eef6fcce6ec17a",
       "version_major": 2,
       "version_minor": 0
      },
      "text/plain": [
       "  0%|          | 0/1 [00:00<?, ?it/s]"
      ]
     },
     "metadata": {},
     "output_type": "display_data"
    }
   ],
   "source": [
    "raw_coco_eval.prepare_data(gt_label_col='label')"
   ]
  },
  {
   "cell_type": "code",
   "execution_count": 17,
   "id": "f8671ea2",
   "metadata": {
    "ExecuteTime": {
     "end_time": "2021-10-15T08:10:15.787251Z",
     "start_time": "2021-10-15T08:10:15.708932Z"
    }
   },
   "outputs": [
    {
     "name": "stdout",
     "output_type": "stream",
     "text": [
      "loading annotations into memory...\n",
      "Done (t=0.01s)\n",
      "creating index...\n",
      "index created!\n",
      "Loading and preparing results...\n",
      "DONE (t=0.06s)\n",
      "creating index...\n",
      "index created!\n"
     ]
    }
   ],
   "source": [
    "raw_coco_eval.prepare_eval()"
   ]
  },
  {
   "cell_type": "code",
   "execution_count": 18,
   "id": "fbc77c62",
   "metadata": {
    "ExecuteTime": {
     "end_time": "2021-10-15T08:10:16.405997Z",
     "start_time": "2021-10-15T08:10:16.404120Z"
    }
   },
   "outputs": [],
   "source": [
    "raw_coco_eval.coco_eval.params.maxDets = (100, 10000)"
   ]
  },
  {
   "cell_type": "code",
   "execution_count": 19,
   "id": "8fb586c2",
   "metadata": {
    "ExecuteTime": {
     "end_time": "2021-10-15T08:13:55.139557Z",
     "start_time": "2021-10-15T08:10:18.653123Z"
    }
   },
   "outputs": [
    {
     "name": "stdout",
     "output_type": "stream",
     "text": [
      "\n",
      "Evaluating for category Standing\n",
      "Running per image evaluation...\n",
      "Evaluate annotation type *segm*\n",
      "DONE (t=14.48s).\n",
      "Accumulating evaluation results...\n",
      "DONE (t=0.01s).\n",
      " Average Precision  (AP) @[ IoU=0.50:0.95 | area=   all | maxDets=10000 ] = 0.237\n",
      " Average Precision  (AP) @[ IoU=0.50      | area=   all | maxDets=10000 ] = 0.472\n",
      " Average Precision  (AP) @[ IoU=0.75      | area=   all | maxDets=10000 ] = 0.195\n",
      " Average Precision  (AP) @[ IoU=0.50:0.95 | area= small | maxDets=10000 ] = 0.044\n",
      " Average Precision  (AP) @[ IoU=0.50:0.95 | area=medium | maxDets=10000 ] = 0.258\n",
      " Average Precision  (AP) @[ IoU=0.50:0.95 | area= large | maxDets=10000 ] = 0.476\n",
      " Average Recall     (AR) @[ IoU=0.50:0.95 | area=   all | maxDets=100 ] = 0.065\n",
      " Average Recall     (AR) @[ IoU=0.50:0.95 | area= small | maxDets=100 ] = 0.000\n",
      " Average Recall     (AR) @[ IoU=0.50:0.95 | area=medium | maxDets=100 ] = 0.066\n",
      " Average Recall     (AR) @[ IoU=0.50:0.95 | area= large | maxDets=100 ] = 0.187\n",
      "\n",
      "Evaluating for category Fallen\n",
      "Running per image evaluation...\n",
      "Evaluate annotation type *segm*\n",
      "DONE (t=92.95s).\n",
      "Accumulating evaluation results...\n",
      "DONE (t=0.02s).\n",
      " Average Precision  (AP) @[ IoU=0.50:0.95 | area=   all | maxDets=10000 ] = 0.013\n",
      " Average Precision  (AP) @[ IoU=0.50      | area=   all | maxDets=10000 ] = 0.054\n",
      " Average Precision  (AP) @[ IoU=0.75      | area=   all | maxDets=10000 ] = 0.003\n",
      " Average Precision  (AP) @[ IoU=0.50:0.95 | area= small | maxDets=10000 ] = 0.014\n",
      " Average Precision  (AP) @[ IoU=0.50:0.95 | area=medium | maxDets=10000 ] = 0.022\n",
      " Average Precision  (AP) @[ IoU=0.50:0.95 | area= large | maxDets=10000 ] = -1.000\n",
      " Average Recall     (AR) @[ IoU=0.50:0.95 | area=   all | maxDets=100 ] = 0.009\n",
      " Average Recall     (AR) @[ IoU=0.50:0.95 | area= small | maxDets=100 ] = 0.013\n",
      " Average Recall     (AR) @[ IoU=0.50:0.95 | area=medium | maxDets=100 ] = 0.004\n",
      " Average Recall     (AR) @[ IoU=0.50:0.95 | area= large | maxDets=100 ] = -1.000\n",
      "\n",
      "Evaluating for full data...\n",
      "Running per image evaluation...\n",
      "Evaluate annotation type *segm*\n",
      "DONE (t=108.99s).\n",
      "Accumulating evaluation results...\n",
      "DONE (t=0.03s).\n",
      " Average Precision  (AP) @[ IoU=0.50:0.95 | area=   all | maxDets=10000 ] = 0.125\n",
      " Average Precision  (AP) @[ IoU=0.50      | area=   all | maxDets=10000 ] = 0.263\n",
      " Average Precision  (AP) @[ IoU=0.75      | area=   all | maxDets=10000 ] = 0.099\n",
      " Average Precision  (AP) @[ IoU=0.50:0.95 | area= small | maxDets=10000 ] = 0.029\n",
      " Average Precision  (AP) @[ IoU=0.50:0.95 | area=medium | maxDets=10000 ] = 0.140\n",
      " Average Precision  (AP) @[ IoU=0.50:0.95 | area= large | maxDets=10000 ] = 0.476\n",
      " Average Recall     (AR) @[ IoU=0.50:0.95 | area=   all | maxDets=100 ] = 0.037\n",
      " Average Recall     (AR) @[ IoU=0.50:0.95 | area= small | maxDets=100 ] = 0.006\n",
      " Average Recall     (AR) @[ IoU=0.50:0.95 | area=medium | maxDets=100 ] = 0.035\n",
      " Average Recall     (AR) @[ IoU=0.50:0.95 | area= large | maxDets=100 ] = 0.187\n"
     ]
    }
   ],
   "source": [
    "raw_coco_eval.evaluate()"
   ]
  },
  {
   "cell_type": "markdown",
   "id": "7db1eeb2",
   "metadata": {},
   "source": [
    "# NMS"
   ]
  },
  {
   "cell_type": "code",
   "execution_count": 20,
   "id": "2d2a0804",
   "metadata": {
    "ExecuteTime": {
     "end_time": "2021-10-15T08:13:58.232672Z",
     "start_time": "2021-10-15T08:13:58.230749Z"
    }
   },
   "outputs": [],
   "source": [
    "from drone_detector.postproc import *\n",
    "from pathlib import Path\n",
    "import os"
   ]
  },
  {
   "cell_type": "code",
   "execution_count": 21,
   "id": "02e7c3a0",
   "metadata": {
    "ExecuteTime": {
     "end_time": "2021-10-15T08:13:59.170196Z",
     "start_time": "2021-10-15T08:13:58.685800Z"
    }
   },
   "outputs": [],
   "source": [
    "raw_dir = Path('../data/sudenpesankangas/results/predicted_vectors/')\n",
    "nms_dir = Path('../data/sudenpesankangas/results/nms/predicted_vectors/')\n",
    "raw_files = os.listdir(raw_dir)"
   ]
  },
  {
   "cell_type": "code",
   "execution_count": 22,
   "id": "2b39ed5c",
   "metadata": {
    "ExecuteTime": {
     "end_time": "2021-10-15T08:14:05.745584Z",
     "start_time": "2021-10-15T08:13:59.171273Z"
    }
   },
   "outputs": [],
   "source": [
    "for r in raw_files:\n",
    "    gdf_temp = gpd.read_file(raw_dir/r)\n",
    "    gdf_nms = do_nms(gdf_temp)\n",
    "    gdf_nms.to_file(nms_dir/r, driver='GeoJSON')\n",
    "    gdf_nms = None\n",
    "    gdf_temp = None"
   ]
  },
  {
   "cell_type": "code",
   "execution_count": 23,
   "id": "51a461e6",
   "metadata": {
    "ExecuteTime": {
     "end_time": "2021-10-15T08:14:06.106134Z",
     "start_time": "2021-10-15T08:14:05.747462Z"
    }
   },
   "outputs": [],
   "source": [
    "res_nms = do_nms(results)"
   ]
  },
  {
   "cell_type": "code",
   "execution_count": 25,
   "id": "930cfe52",
   "metadata": {
    "ExecuteTime": {
     "end_time": "2021-10-15T08:14:15.956314Z",
     "start_time": "2021-10-15T08:14:13.351902Z"
    }
   },
   "outputs": [],
   "source": [
    "res_nms_dis = res_nms.dissolve(by='class_id')"
   ]
  },
  {
   "cell_type": "code",
   "execution_count": 26,
   "id": "b671466c",
   "metadata": {
    "ExecuteTime": {
     "end_time": "2021-10-15T08:14:18.614863Z",
     "start_time": "2021-10-15T08:14:17.551039Z"
    }
   },
   "outputs": [
    {
     "data": {
      "text/plain": [
       "label\n",
       "Fallen      0.344316\n",
       "Standing    0.639623\n",
       "dtype: float64"
      ]
     },
     "execution_count": 26,
     "metadata": {},
     "output_type": "execute_result"
    }
   ],
   "source": [
    "poly_IoU(gt_dis, res_nms_dis)"
   ]
  },
  {
   "cell_type": "code",
   "execution_count": 27,
   "id": "476e1fb9",
   "metadata": {
    "ExecuteTime": {
     "end_time": "2021-10-15T08:14:23.257195Z",
     "start_time": "2021-10-15T08:14:23.254914Z"
    }
   },
   "outputs": [],
   "source": [
    "deadwood_categories = [{'supercategory': 'deadwood', 'id':1, 'name':'Standing'},\n",
    "                       {'supercategory': 'deadwood', 'id':2, 'name':'Fallen'}]\n",
    "\n",
    "nms_coco_eval = GisCOCOeval('../data/sudenpesankangas/results/nms', '../data/sudenpesankangas/results/nms', \n",
    "                            None, None, deadwood_categories)"
   ]
  },
  {
   "cell_type": "code",
   "execution_count": 28,
   "id": "0f486fb3",
   "metadata": {
    "ExecuteTime": {
     "end_time": "2021-10-15T08:14:27.588011Z",
     "start_time": "2021-10-15T08:14:23.684174Z"
    }
   },
   "outputs": [
    {
     "data": {
      "application/vnd.jupyter.widget-view+json": {
       "model_id": "de9d62bec9bc4d62b4a5130132fab6d4",
       "version_major": 2,
       "version_minor": 0
      },
      "text/plain": [
       "  0%|          | 0/1 [00:00<?, ?it/s]"
      ]
     },
     "metadata": {},
     "output_type": "display_data"
    },
    {
     "data": {
      "application/vnd.jupyter.widget-view+json": {
       "model_id": "914078f72a3748b1b28f69fcef1373c3",
       "version_major": 2,
       "version_minor": 0
      },
      "text/plain": [
       "  0%|          | 0/1 [00:00<?, ?it/s]"
      ]
     },
     "metadata": {},
     "output_type": "display_data"
    }
   ],
   "source": [
    "nms_coco_eval.prepare_data(gt_label_col='label') # note to self: dont name interesting column as \"class\""
   ]
  },
  {
   "cell_type": "code",
   "execution_count": 29,
   "id": "0b45d556",
   "metadata": {
    "ExecuteTime": {
     "end_time": "2021-10-15T08:14:28.601731Z",
     "start_time": "2021-10-15T08:14:28.556646Z"
    }
   },
   "outputs": [
    {
     "name": "stdout",
     "output_type": "stream",
     "text": [
      "loading annotations into memory...\n",
      "Done (t=0.01s)\n",
      "creating index...\n",
      "index created!\n",
      "Loading and preparing results...\n",
      "DONE (t=0.03s)\n",
      "creating index...\n",
      "index created!\n"
     ]
    }
   ],
   "source": [
    "nms_coco_eval.prepare_eval()"
   ]
  },
  {
   "cell_type": "code",
   "execution_count": 30,
   "id": "129e1286",
   "metadata": {
    "ExecuteTime": {
     "end_time": "2021-10-15T08:14:29.765132Z",
     "start_time": "2021-10-15T08:14:28.789453Z"
    }
   },
   "outputs": [],
   "source": [
    "nms_coco_eval.coco_eval.params.maxDets = (1000, 10000)"
   ]
  },
  {
   "cell_type": "code",
   "execution_count": 31,
   "id": "930d064c",
   "metadata": {
    "ExecuteTime": {
     "end_time": "2021-10-15T08:16:04.880903Z",
     "start_time": "2021-10-15T08:14:29.766337Z"
    },
    "scrolled": false
   },
   "outputs": [
    {
     "name": "stdout",
     "output_type": "stream",
     "text": [
      "\n",
      "Evaluating for category Standing\n",
      "Running per image evaluation...\n",
      "Evaluate annotation type *segm*\n",
      "DONE (t=8.39s).\n",
      "Accumulating evaluation results...\n",
      "DONE (t=0.01s).\n",
      " Average Precision  (AP) @[ IoU=0.50:0.95 | area=   all | maxDets=10000 ] = 0.360\n",
      " Average Precision  (AP) @[ IoU=0.50      | area=   all | maxDets=10000 ] = 0.736\n",
      " Average Precision  (AP) @[ IoU=0.75      | area=   all | maxDets=10000 ] = 0.290\n",
      " Average Precision  (AP) @[ IoU=0.50:0.95 | area= small | maxDets=10000 ] = 0.088\n",
      " Average Precision  (AP) @[ IoU=0.50:0.95 | area=medium | maxDets=10000 ] = 0.385\n",
      " Average Precision  (AP) @[ IoU=0.50:0.95 | area= large | maxDets=10000 ] = 0.518\n",
      " Average Recall     (AR) @[ IoU=0.50:0.95 | area=   all | maxDets=1000 ] = 0.443\n",
      " Average Recall     (AR) @[ IoU=0.50:0.95 | area= small | maxDets=1000 ] = 0.279\n",
      " Average Recall     (AR) @[ IoU=0.50:0.95 | area=medium | maxDets=1000 ] = 0.453\n",
      " Average Recall     (AR) @[ IoU=0.50:0.95 | area= large | maxDets=1000 ] = 0.574\n",
      "\n",
      "Evaluating for category Fallen\n",
      "Running per image evaluation...\n",
      "Evaluate annotation type *segm*\n",
      "DONE (t=39.29s).\n",
      "Accumulating evaluation results...\n",
      "DONE (t=0.01s).\n",
      " Average Precision  (AP) @[ IoU=0.50:0.95 | area=   all | maxDets=10000 ] = 0.015\n",
      " Average Precision  (AP) @[ IoU=0.50      | area=   all | maxDets=10000 ] = 0.067\n",
      " Average Precision  (AP) @[ IoU=0.75      | area=   all | maxDets=10000 ] = 0.001\n",
      " Average Precision  (AP) @[ IoU=0.50:0.95 | area= small | maxDets=10000 ] = 0.016\n",
      " Average Precision  (AP) @[ IoU=0.50:0.95 | area=medium | maxDets=10000 ] = 0.022\n",
      " Average Precision  (AP) @[ IoU=0.50:0.95 | area= large | maxDets=10000 ] = -1.000\n",
      " Average Recall     (AR) @[ IoU=0.50:0.95 | area=   all | maxDets=1000 ] = 0.053\n",
      " Average Recall     (AR) @[ IoU=0.50:0.95 | area= small | maxDets=1000 ] = 0.072\n",
      " Average Recall     (AR) @[ IoU=0.50:0.95 | area=medium | maxDets=1000 ] = 0.031\n",
      " Average Recall     (AR) @[ IoU=0.50:0.95 | area= large | maxDets=1000 ] = -1.000\n",
      "\n",
      "Evaluating for full data...\n",
      "Running per image evaluation...\n",
      "Evaluate annotation type *segm*\n",
      "DONE (t=47.37s).\n",
      "Accumulating evaluation results...\n",
      "DONE (t=0.03s).\n",
      " Average Precision  (AP) @[ IoU=0.50:0.95 | area=   all | maxDets=10000 ] = 0.187\n",
      " Average Precision  (AP) @[ IoU=0.50      | area=   all | maxDets=10000 ] = 0.402\n",
      " Average Precision  (AP) @[ IoU=0.75      | area=   all | maxDets=10000 ] = 0.146\n",
      " Average Precision  (AP) @[ IoU=0.50:0.95 | area= small | maxDets=10000 ] = 0.052\n",
      " Average Precision  (AP) @[ IoU=0.50:0.95 | area=medium | maxDets=10000 ] = 0.204\n",
      " Average Precision  (AP) @[ IoU=0.50:0.95 | area= large | maxDets=10000 ] = 0.518\n",
      " Average Recall     (AR) @[ IoU=0.50:0.95 | area=   all | maxDets=1000 ] = 0.248\n",
      " Average Recall     (AR) @[ IoU=0.50:0.95 | area= small | maxDets=1000 ] = 0.176\n",
      " Average Recall     (AR) @[ IoU=0.50:0.95 | area=medium | maxDets=1000 ] = 0.242\n",
      " Average Recall     (AR) @[ IoU=0.50:0.95 | area= large | maxDets=1000 ] = 0.574\n"
     ]
    }
   ],
   "source": [
    "nms_coco_eval.evaluate()"
   ]
  },
  {
   "cell_type": "markdown",
   "id": "458c7e88",
   "metadata": {},
   "source": [
    "# Area-based NMS"
   ]
  },
  {
   "cell_type": "code",
   "execution_count": 32,
   "id": "6fd4053b",
   "metadata": {
    "ExecuteTime": {
     "end_time": "2021-10-15T08:16:04.884134Z",
     "start_time": "2021-10-15T08:16:04.882047Z"
    }
   },
   "outputs": [],
   "source": [
    "raw_dir = Path('../data/sudenpesankangas/results/predicted_vectors/')\n",
    "nms_area_dir = Path('../data/sudenpesankangas/results/nms_area/predicted_vectors/')\n",
    "raw_files = os.listdir(raw_dir)"
   ]
  },
  {
   "cell_type": "code",
   "execution_count": 33,
   "id": "94be1091",
   "metadata": {
    "ExecuteTime": {
     "end_time": "2021-10-15T08:16:11.728360Z",
     "start_time": "2021-10-15T08:16:04.885101Z"
    }
   },
   "outputs": [],
   "source": [
    "for r in raw_files:\n",
    "    gdf_temp = gpd.read_file(raw_dir/r)\n",
    "    gdf_nms_area = do_nms(gdf_temp, crit='area')\n",
    "    gdf_nms_area.to_file(nms_area_dir/r, driver='GeoJSON')\n",
    "    gdf_nms_area = None\n",
    "    gdf_temp = None"
   ]
  },
  {
   "cell_type": "code",
   "execution_count": 35,
   "id": "a0b39215",
   "metadata": {
    "ExecuteTime": {
     "end_time": "2021-10-15T08:16:19.387203Z",
     "start_time": "2021-10-15T08:16:19.030477Z"
    }
   },
   "outputs": [],
   "source": [
    "res_nms_area = do_nms(results)"
   ]
  },
  {
   "cell_type": "code",
   "execution_count": 39,
   "id": "67563ba2",
   "metadata": {
    "ExecuteTime": {
     "end_time": "2021-10-15T08:16:39.756561Z",
     "start_time": "2021-10-15T08:16:37.110446Z"
    }
   },
   "outputs": [],
   "source": [
    "res_nms_area_dis = res_nms_area.dissolve(by='class_id')"
   ]
  },
  {
   "cell_type": "code",
   "execution_count": 40,
   "id": "6ba07511",
   "metadata": {
    "ExecuteTime": {
     "end_time": "2021-10-15T08:16:40.830298Z",
     "start_time": "2021-10-15T08:16:39.757865Z"
    }
   },
   "outputs": [
    {
     "data": {
      "text/plain": [
       "label\n",
       "Fallen      0.344316\n",
       "Standing    0.639623\n",
       "dtype: float64"
      ]
     },
     "execution_count": 40,
     "metadata": {},
     "output_type": "execute_result"
    }
   ],
   "source": [
    "poly_IoU(gt_dis, res_nms_area_dis)"
   ]
  },
  {
   "cell_type": "code",
   "execution_count": 41,
   "id": "ae84b627",
   "metadata": {
    "ExecuteTime": {
     "end_time": "2021-10-15T08:16:40.833505Z",
     "start_time": "2021-10-15T08:16:40.831412Z"
    }
   },
   "outputs": [],
   "source": [
    "deadwood_categories = [{'supercategory': 'deadwood', 'id':1, 'name':'Standing'},\n",
    "                       {'supercategory': 'deadwood', 'id':2, 'name':'Fallen'}]\n",
    "\n",
    "nms_area_coco_eval = GisCOCOeval('../data/sudenpesankangas/results/nms_area', '../data/sudenpesankangas/results/nms_area', \n",
    "                            None, None, deadwood_categories)"
   ]
  },
  {
   "cell_type": "code",
   "execution_count": 43,
   "id": "11b97379",
   "metadata": {
    "ExecuteTime": {
     "end_time": "2021-10-15T08:16:49.368294Z",
     "start_time": "2021-10-15T08:16:45.946469Z"
    }
   },
   "outputs": [
    {
     "data": {
      "application/vnd.jupyter.widget-view+json": {
       "model_id": "62f348a21b204486970fefaa5807e3fc",
       "version_major": 2,
       "version_minor": 0
      },
      "text/plain": [
       "  0%|          | 0/1 [00:00<?, ?it/s]"
      ]
     },
     "metadata": {},
     "output_type": "display_data"
    },
    {
     "data": {
      "application/vnd.jupyter.widget-view+json": {
       "model_id": "80499b8f63b344d186853d3d92abccb1",
       "version_major": 2,
       "version_minor": 0
      },
      "text/plain": [
       "  0%|          | 0/1 [00:00<?, ?it/s]"
      ]
     },
     "metadata": {},
     "output_type": "display_data"
    }
   ],
   "source": [
    "nms_area_coco_eval.prepare_data(gt_label_col='label') # note to self: dont name interesting column as \"class\""
   ]
  },
  {
   "cell_type": "code",
   "execution_count": 44,
   "id": "2cf7d62a",
   "metadata": {
    "ExecuteTime": {
     "end_time": "2021-10-15T08:16:49.414226Z",
     "start_time": "2021-10-15T08:16:49.370122Z"
    }
   },
   "outputs": [
    {
     "name": "stdout",
     "output_type": "stream",
     "text": [
      "loading annotations into memory...\n",
      "Done (t=0.01s)\n",
      "creating index...\n",
      "index created!\n",
      "Loading and preparing results...\n",
      "DONE (t=0.03s)\n",
      "creating index...\n",
      "index created!\n"
     ]
    }
   ],
   "source": [
    "nms_area_coco_eval.prepare_eval()"
   ]
  },
  {
   "cell_type": "code",
   "execution_count": 45,
   "id": "94c72f4b",
   "metadata": {
    "ExecuteTime": {
     "end_time": "2021-10-15T08:16:49.421383Z",
     "start_time": "2021-10-15T08:16:49.415343Z"
    }
   },
   "outputs": [],
   "source": [
    "nms_area_coco_eval.coco_eval.params.maxDets = (1000, 10000)"
   ]
  },
  {
   "cell_type": "code",
   "execution_count": 46,
   "id": "5e55f69e",
   "metadata": {
    "ExecuteTime": {
     "end_time": "2021-10-15T08:18:10.439491Z",
     "start_time": "2021-10-15T08:16:49.422430Z"
    },
    "scrolled": false
   },
   "outputs": [
    {
     "name": "stdout",
     "output_type": "stream",
     "text": [
      "\n",
      "Evaluating for category Standing\n",
      "Running per image evaluation...\n",
      "Evaluate annotation type *segm*\n",
      "DONE (t=8.00s).\n",
      "Accumulating evaluation results...\n",
      "DONE (t=0.01s).\n",
      " Average Precision  (AP) @[ IoU=0.50:0.95 | area=   all | maxDets=10000 ] = 0.370\n",
      " Average Precision  (AP) @[ IoU=0.50      | area=   all | maxDets=10000 ] = 0.745\n",
      " Average Precision  (AP) @[ IoU=0.75      | area=   all | maxDets=10000 ] = 0.297\n",
      " Average Precision  (AP) @[ IoU=0.50:0.95 | area= small | maxDets=10000 ] = 0.154\n",
      " Average Precision  (AP) @[ IoU=0.50:0.95 | area=medium | maxDets=10000 ] = 0.382\n",
      " Average Precision  (AP) @[ IoU=0.50:0.95 | area= large | maxDets=10000 ] = 0.518\n",
      " Average Recall     (AR) @[ IoU=0.50:0.95 | area=   all | maxDets=1000 ] = 0.439\n",
      " Average Recall     (AR) @[ IoU=0.50:0.95 | area= small | maxDets=1000 ] = 0.281\n",
      " Average Recall     (AR) @[ IoU=0.50:0.95 | area=medium | maxDets=1000 ] = 0.448\n",
      " Average Recall     (AR) @[ IoU=0.50:0.95 | area= large | maxDets=1000 ] = 0.574\n",
      "\n",
      "Evaluating for category Fallen\n",
      "Running per image evaluation...\n",
      "Evaluate annotation type *segm*\n",
      "DONE (t=32.56s).\n",
      "Accumulating evaluation results...\n",
      "DONE (t=0.01s).\n",
      " Average Precision  (AP) @[ IoU=0.50:0.95 | area=   all | maxDets=10000 ] = 0.019\n",
      " Average Precision  (AP) @[ IoU=0.50      | area=   all | maxDets=10000 ] = 0.085\n",
      " Average Precision  (AP) @[ IoU=0.75      | area=   all | maxDets=10000 ] = 0.002\n",
      " Average Precision  (AP) @[ IoU=0.50:0.95 | area= small | maxDets=10000 ] = 0.021\n",
      " Average Precision  (AP) @[ IoU=0.50:0.95 | area=medium | maxDets=10000 ] = 0.024\n",
      " Average Precision  (AP) @[ IoU=0.50:0.95 | area= large | maxDets=10000 ] = -1.000\n",
      " Average Recall     (AR) @[ IoU=0.50:0.95 | area=   all | maxDets=1000 ] = 0.057\n",
      " Average Recall     (AR) @[ IoU=0.50:0.95 | area= small | maxDets=1000 ] = 0.074\n",
      " Average Recall     (AR) @[ IoU=0.50:0.95 | area=medium | maxDets=1000 ] = 0.037\n",
      " Average Recall     (AR) @[ IoU=0.50:0.95 | area= large | maxDets=1000 ] = -1.000\n",
      "\n",
      "Evaluating for full data...\n",
      "Running per image evaluation...\n",
      "Evaluate annotation type *segm*\n",
      "DONE (t=40.40s).\n",
      "Accumulating evaluation results...\n",
      "DONE (t=0.02s).\n",
      " Average Precision  (AP) @[ IoU=0.50:0.95 | area=   all | maxDets=10000 ] = 0.195\n",
      " Average Precision  (AP) @[ IoU=0.50      | area=   all | maxDets=10000 ] = 0.415\n",
      " Average Precision  (AP) @[ IoU=0.75      | area=   all | maxDets=10000 ] = 0.149\n",
      " Average Precision  (AP) @[ IoU=0.50:0.95 | area= small | maxDets=10000 ] = 0.087\n",
      " Average Precision  (AP) @[ IoU=0.50:0.95 | area=medium | maxDets=10000 ] = 0.203\n",
      " Average Precision  (AP) @[ IoU=0.50:0.95 | area= large | maxDets=10000 ] = 0.518\n",
      " Average Recall     (AR) @[ IoU=0.50:0.95 | area=   all | maxDets=1000 ] = 0.248\n",
      " Average Recall     (AR) @[ IoU=0.50:0.95 | area= small | maxDets=1000 ] = 0.178\n",
      " Average Recall     (AR) @[ IoU=0.50:0.95 | area=medium | maxDets=1000 ] = 0.242\n",
      " Average Recall     (AR) @[ IoU=0.50:0.95 | area= large | maxDets=1000 ] = 0.574\n"
     ]
    }
   ],
   "source": [
    "nms_area_coco_eval.evaluate()"
   ]
  },
  {
   "cell_type": "code",
   "execution_count": null,
   "id": "053acdfe",
   "metadata": {},
   "outputs": [],
   "source": []
  }
 ],
 "metadata": {
  "kernelspec": {
   "display_name": "Python 3",
   "language": "python",
   "name": "python3"
  },
  "language_info": {
   "codemirror_mode": {
    "name": "ipython",
    "version": 3
   },
   "file_extension": ".py",
   "mimetype": "text/x-python",
   "name": "python",
   "nbconvert_exporter": "python",
   "pygments_lexer": "ipython3",
   "version": "3.8.10"
  },
  "latex_envs": {
   "LaTeX_envs_menu_present": true,
   "autoclose": false,
   "autocomplete": true,
   "bibliofile": "biblio.bib",
   "cite_by": "apalike",
   "current_citInitial": 1,
   "eqLabelWithNumbers": true,
   "eqNumInitial": 1,
   "hotkeys": {
    "equation": "Ctrl-E",
    "itemize": "Ctrl-I"
   },
   "labels_anchors": false,
   "latex_user_defs": false,
   "report_style_numbering": false,
   "user_envs_cfg": false
  },
  "toc": {
   "base_numbering": 1,
   "nav_menu": {},
   "number_sections": true,
   "sideBar": true,
   "skip_h1_title": false,
   "title_cell": "Table of Contents",
   "title_sidebar": "Contents",
   "toc_cell": false,
   "toc_position": {},
   "toc_section_display": true,
   "toc_window_display": false
  }
 },
 "nbformat": 4,
 "nbformat_minor": 5
}
